{
 "cells": [
  {
   "cell_type": "code",
   "execution_count": 57,
   "id": "26721c03",
   "metadata": {},
   "outputs": [],
   "source": [
    "#importing the important packages\n",
    "\n",
    "import pandas as pd\n",
    "import numpy as np\n",
    "import matplotlib.pyplot as plt\n",
    "import seaborn as sns\n",
    "\n",
    "%matplotlib inline"
   ]
  },
  {
   "cell_type": "markdown",
   "id": "eae84ee1",
   "metadata": {},
   "source": [
    "# Part A - Please answer the following questions with all relevant assumptions, explanations and details."
   ]
  },
  {
   "cell_type": "markdown",
   "id": "c750196e",
   "metadata": {},
   "source": [
    "## 1. Please refer the table below to answer below questions:\n",
    "        \n",
    "| Planned to purchase Product A| Actually placed order for Product A - Yes | Actually placed order for Product A - No | Total |\n",
    "| :-: | :-: | :-: | :-: |\n",
    "| Yes | 400 | 100 | 500 |\n",
    "| No | 200 | 1300 | 1500 |\n",
    "| Total | 600 | 1400 | 2000 |"
   ]
  },
  {
   "cell_type": "markdown",
   "id": "443aa39c",
   "metadata": {},
   "source": [
    "### 1.A. Refer above table and find the joint probability of the people who planned to purchase and actually placed an order."
   ]
  },
  {
   "cell_type": "markdown",
   "id": "fa175d92",
   "metadata": {},
   "source": [
    "Above table is a Contingency table, thus we can find the Marginal Probability.\n",
    "\n",
    "Let, E = Event that no. of people who planned to purchase Product A actually placed an order\n",
    "    \n",
    "   P(E) = A1/N\n",
    "   \n",
    "   where, A1 = The no. of people who actually placed an order for Product A and planned to purchase = 400\n",
    "   \n",
    "   N = The total no. of observations = 2000\n",
    "   \n",
    "   Therefore, P(E) = 400/2000 = 1/5 or 0.2\n",
    "   \n",
    "   Answer - The joint probability of the people who planned to purchase and actually placed an order is **1/5** or **0.2**"
   ]
  },
  {
   "cell_type": "markdown",
   "id": "7c76483a",
   "metadata": {},
   "source": [
    "### 1.B.  Refer to the above table and find the joint probability of the people who planned to purchase and actually placed an order, given that people planned to purchase."
   ]
  },
  {
   "cell_type": "markdown",
   "id": "28e58af0",
   "metadata": {},
   "source": [
    "Let, E1 = Event that People who planned to purchase actually placed an order, given that people planned to purchase.\n",
    "\n",
    "A1 = No. of people actually placed order for Product A and planned to purchase.\n",
    "\n",
    "A2 = No. of people planned to purchase.\n",
    "    \n",
    "   P(E1) = P(A1|A2) = P(A1)/P(A2)\n",
    "   \n",
    "   Therefore, P(E1) = 400/500 = 4/5 or 0.8\n",
    "   \n",
    "   Answer - The joint probability of people who planned to purchase and actually placed an order, given that people planned to purchase, is **4/5** or **0.8**"
   ]
  },
  {
   "cell_type": "markdown",
   "id": "02e3b5b0",
   "metadata": {},
   "source": [
    "## 2. An electrical manufacturing company conducts quality checks at specified periods on the products it manufactures. Historically, the failure rate for the manufactured item is 5%. Suppose a random sample of 10 manufactured items is selected. Answer the following questions. "
   ]
  },
  {
   "cell_type": "markdown",
   "id": "7d5c16f3",
   "metadata": {},
   "source": [
    "### 2.A. Probability that none of the items are defective?"
   ]
  },
  {
   "cell_type": "markdown",
   "id": "0fce3f54",
   "metadata": {},
   "source": [
    "Since each item can either be defective or not defective, and the trials are independent,\n",
    "\n",
    "Using the **Binomial** probability mass function, we can find the probability that none of the items are defective.\n",
    "\n",
    ">$P(X=k)= {n\\choose k}p^k(1-p)^{n-k}$\n",
    "\n",
    "Where:\n",
    "\n",
    "n is the number of trials (sample size),\n",
    "\n",
    "k is the number of successes (none of the items are defective),\n",
    "\n",
    "p is the probability of success (the failure rate for the manufactured item), and\n",
    "\n",
    "${n\\choose k}$ is the number of combinations of choosing k successes out of n trials.\n",
    "\n",
    "Here:\n",
    "\n",
    "n=10 (number of items in the sample),\n",
    "\n",
    "k=0 (number of defective items, since we want none to be defective), and\n",
    "\n",
    "p=0.05 (failure rate for the manufactured item)\n",
    "\n",
    "Therefore, using the formula:\n",
    "\n",
    "$P(X=0)= {10\\choose 0}p^0(1-0.05)^{10-0}$\n",
    "\n",
    "$P(X=0)= 0.5987$\n",
    "\n",
    "Answer - The probability that none of the items are defective is approximately **0.5987** or **59.87%**."
   ]
  },
  {
   "cell_type": "markdown",
   "id": "c79ec2b0",
   "metadata": {},
   "source": [
    "Alternatively, we can use binom.pmf() to calculate this probability function which provides the probability that none of the items are defective based on the given parameters, as below."
   ]
  },
  {
   "cell_type": "code",
   "execution_count": 58,
   "id": "ecd8164e",
   "metadata": {},
   "outputs": [
    {
     "name": "stdout",
     "output_type": "stream",
     "text": [
      "Probability that none of the items are defective: 0.5987369392383789 or 59.87 %\n"
     ]
    }
   ],
   "source": [
    "from scipy.stats import binom\n",
    "\n",
    "# Parameters\n",
    "n = 10  # Total number of trials\n",
    "p = 0.05  # Probability of success (failure rate)\n",
    "\n",
    "# Therefore, the probability mass function for k = 0 (none defective)\n",
    "binom_none = binom.pmf(0, n, p)\n",
    "\n",
    "print(\"Probability that none of the items are defective:\", binom_none ,\"or\",round(binom_none*100,2),\"%\")"
   ]
  },
  {
   "cell_type": "markdown",
   "id": "f2b279b7",
   "metadata": {},
   "source": [
    "### 2.B. Probability that exactly one of the items is defective?"
   ]
  },
  {
   "cell_type": "markdown",
   "id": "2d2d3dba",
   "metadata": {},
   "source": [
    "Using the **Binomial** probability mass function, we can find the probability that exactly one of the items is defective.\n",
    "\n",
    ">$P(X=k)= {n\\choose k}p^k(1-p)^{n-k}$\n",
    "\n",
    "Here:\n",
    "\n",
    "n=10 (number of items in the sample),\n",
    "\n",
    "k=1 (number of defective items, since we want one to be defective), and\n",
    "\n",
    "p=0.05 (failure rate for the manufactured item)\n",
    "\n",
    "Therefore, using the formula:\n",
    "\n",
    "$P(X=1)= {10\\choose 1}p^1(1-0.05)^{10-1}$\n",
    "\n",
    "$P(X=1)= 0.3151$\n",
    "\n",
    "Answer - The probability that none of the items are defective is approximately **0.3151** or **31.51%**."
   ]
  },
  {
   "cell_type": "markdown",
   "id": "d2cc8650",
   "metadata": {},
   "source": [
    "Alternatively, we can use binom.pmf() function to calculate this probability function which provides the probability that exactly one of the items is defective based on the given parameters, as below."
   ]
  },
  {
   "cell_type": "code",
   "execution_count": 59,
   "id": "be18aab5",
   "metadata": {},
   "outputs": [
    {
     "name": "stdout",
     "output_type": "stream",
     "text": [
      "Probability that exactly one of the items is defective: 0.3151247048623047 or 31.51 %\n"
     ]
    }
   ],
   "source": [
    "# Parameters\n",
    "n = 10  # Total number of trials\n",
    "p = 0.05  # Probability of success (failure rate)\n",
    "\n",
    "# Calculate the probability mass function for k = 1 (exactly one defective)\n",
    "binom_one = binom.pmf(1, n, p)\n",
    "\n",
    "print(\"Probability that exactly one of the items is defective:\", binom_one ,\"or\",round(binom_one*100,2),\"%\")"
   ]
  },
  {
   "cell_type": "markdown",
   "id": "42e6475e",
   "metadata": {},
   "source": [
    "### 2.C. Probability that two or fewer of the items are defective? "
   ]
  },
  {
   "cell_type": "markdown",
   "id": "88598c45",
   "metadata": {},
   "source": [
    "To find the probability that two or fewer items are defective:\n",
    "\n",
    "We need to calculate the cumulative probability for k=0, k=1, and k=2 using the binomial CDF.\n",
    "\n",
    "Mathematically, this can be expressed as:\n",
    ">$F_X(x) = P(X\\leq x)$\n",
    "\n",
    "Here,\n",
    "\n",
    "$P(X\\leq 2)=P(X=0)+P(X=1)+P(X=2)$\n",
    "\n",
    "$P(X\\leq 2)= 0.5987+0.3151+0.0746$\n",
    "\n",
    "$P(X\\leq 2)= 0.9885$\n",
    "\n",
    "Answer - The probability that two or fewer items are defective is **0.9885** or **98.85%**"
   ]
  },
  {
   "cell_type": "markdown",
   "id": "b36e9d2e",
   "metadata": {},
   "source": [
    "Alternatively, we can use binom.cdf() function to directly compute this cumulative probability with below parameters."
   ]
  },
  {
   "cell_type": "code",
   "execution_count": 60,
   "id": "65af57ef",
   "metadata": {},
   "outputs": [
    {
     "name": "stdout",
     "output_type": "stream",
     "text": [
      "Probability that two or fewer of the items are defective: 0.9884964426207031 or 98.85 %\n"
     ]
    }
   ],
   "source": [
    "# Parameters\n",
    "n = 10  # Total number of trials\n",
    "p = 0.05  # Probability of success (failure rate)\n",
    "\n",
    "# Calculate the cumulative probability for k = 0, 1, and 2\n",
    "two_or_fewer = binom.cdf(2, n, p)\n",
    "\n",
    "print(\"Probability that two or fewer of the items are defective:\", two_or_fewer ,\"or\",round(two_or_fewer*100,2),\"%\")\n"
   ]
  },
  {
   "cell_type": "markdown",
   "id": "2d30aef9",
   "metadata": {},
   "source": [
    "### 2.D. Probability that three or more of the items are defective ?"
   ]
  },
  {
   "cell_type": "markdown",
   "id": "4c6bbdf7",
   "metadata": {},
   "source": [
    "To find the probability that three or more items are defective:\n",
    "\n",
    "We need can calculate the complement of the probability of having two or fewer defective items.\n",
    "\n",
    "Mathematically, this can be expressed as:\n",
    "\n",
    ">$P(X\\geq 3)= 1-P(X\\leq 2)$\n",
    "\n",
    "Where,\n",
    "\n",
    "$P(X\\geq 3)$ is the probability of having three or more defective items.\n",
    "\n",
    "$P(X\\leq 2)$ is the probability of having two or fewer defective items.\n",
    "\n",
    "Therefore,\n",
    "\n",
    "$P(X\\geq 3)= 1-P(X\\leq 2)$\n",
    "\n",
    "$P(X\\geq 3)= 1-0.9885$\n",
    "\n",
    "$P(X\\geq 3)= 0.0115$\n",
    "\n",
    "Answer - The probability that three or more items are defective is **0.0115** or **1.15%**"
   ]
  },
  {
   "cell_type": "markdown",
   "id": "92594688",
   "metadata": {},
   "source": [
    "Alternatively, we can use 1-binom.cdf() function to directly compute this cumulative probability with below parameters."
   ]
  },
  {
   "cell_type": "code",
   "execution_count": 61,
   "id": "2f1fdd4e",
   "metadata": {},
   "outputs": [
    {
     "name": "stdout",
     "output_type": "stream",
     "text": [
      "Probability that three or more of the items are defective: 0.01150355737929687 or 1.15 %\n"
     ]
    }
   ],
   "source": [
    "# Parameters\n",
    "n = 10  # Total number of trials\n",
    "p = 0.05  # Probability of success (failure rate)\n",
    "\n",
    "# Calculate the cumulative probability for k = 0, 1, and 2\n",
    "three_or_more = 1-binom.cdf(2, n, p)\n",
    "\n",
    "print(\"Probability that three or more of the items are defective:\", three_or_more ,\"or\",round(three_or_more*100,2),\"%\")"
   ]
  },
  {
   "cell_type": "markdown",
   "id": "c9756ae4",
   "metadata": {},
   "source": [
    "## 3. A car salesman sells on an average 3 cars per week."
   ]
  },
  {
   "cell_type": "markdown",
   "id": "193cb7db",
   "metadata": {},
   "source": [
    "### 3.A. What is Probability that in a given week he will sell some cars?"
   ]
  },
  {
   "cell_type": "markdown",
   "id": "026b19e3",
   "metadata": {},
   "source": [
    "#### Probability of selling some cars in a given week is equivalent to finding the probability of selling at least one car in a week."
   ]
  },
  {
   "cell_type": "code",
   "execution_count": 123,
   "id": "32d4a49e",
   "metadata": {},
   "outputs": [
    {
     "name": "stdout",
     "output_type": "stream",
     "text": [
      "Probability of selling some cars in a given week: 0.950212931632136 or 95.02 %\n"
     ]
    }
   ],
   "source": [
    "from scipy.stats import poisson\n",
    "\n",
    "# Average number of cars sold per week\n",
    "avg_cars = 3\n",
    "\n",
    "# Probability of selling some cars in a given week (at least 1)\n",
    "prob_some_cars = 1 - poisson.pmf(0, avg_cars)\n",
    "\n",
    "print(\"Probability of selling some cars in a given week:\", prob_some_cars,\"or\",round(prob_some_cars*100,2),\"%\")"
   ]
  },
  {
   "cell_type": "markdown",
   "id": "8ebc8ca2",
   "metadata": {},
   "source": [
    "### 3.B. What is Probability that in a given week he will sell 2 or more but less than 5 cars?"
   ]
  },
  {
   "cell_type": "markdown",
   "id": "d623ae24",
   "metadata": {},
   "source": [
    "#### Probability of selling 2 or more but less than 5 cars in a given week is equivalent to finding the probability of selling 2, 3, or 4 cars in a week."
   ]
  },
  {
   "cell_type": "code",
   "execution_count": 122,
   "id": "449499f6",
   "metadata": {},
   "outputs": [
    {
     "name": "stdout",
     "output_type": "stream",
     "text": [
      "Probability of selling 2 or more but less than 5 cars in a given week: 0.6161149710523164 or 61.61 %\n"
     ]
    }
   ],
   "source": [
    "# Average number of cars sold per week\n",
    "avg_cars = 3\n",
    "\n",
    "# Probability of selling 2 or more but less than 5 cars in a given week\n",
    "prob_2_less_5 = sum(poisson.pmf(i, avg_cars) for i in range(2, 5))\n",
    "\n",
    "print(\"Probability of selling 2 or more but less than 5 cars in a given week:\", prob_2_less_5,\"or\",round(prob_2_less_5*100,2),\"%\")"
   ]
  },
  {
   "cell_type": "markdown",
   "id": "a8305fd0",
   "metadata": {},
   "source": [
    "### 3.C. Plot the poisson distribution function for cumulative probability of cars sold per-week vs number of cars sold per week."
   ]
  },
  {
   "cell_type": "markdown",
   "id": "2e7cdf6f",
   "metadata": {},
   "source": [
    "#### Plotting the Poisson distribution function for cumulative probability of cars sold per week vs. number of cars sold per week."
   ]
  },
  {
   "cell_type": "code",
   "execution_count": 64,
   "id": "0dd0eef3",
   "metadata": {},
   "outputs": [
    {
     "data": {
      "image/png": "[encoded data removed]",
      "text/plain": [
       "<Figure size 640x480 with 1 Axes>"
      ]
     },
     "metadata": {},
     "output_type": "display_data"
    }
   ],
   "source": [
    "# Average number of cars sold per week\n",
    "average_cars = 3\n",
    "\n",
    "# Plotting the Poisson distribution function\n",
    "x = np.arange(0, 11)  \n",
    "pmf = poisson.pmf(x, average_cars)  \n",
    "\n",
    "plt.bar(x, pmf, alpha=0.5, label='Poisson PMF', color='blue')\n",
    "\n",
    "# Plotting cumulative distribution function\n",
    "cdf = poisson.cdf(x, average_cars)\n",
    "plt.plot(x, cdf, color='red', marker='o', linestyle='-', label='Cumulative Probability')\n",
    "\n",
    "plt.xlabel('Number of Cars Sold per Week')\n",
    "plt.ylabel('Probability')\n",
    "plt.title('Poisson Distribution: Cars Sold per Week')\n",
    "plt.legend()\n",
    "plt.show()"
   ]
  },
  {
   "cell_type": "markdown",
   "id": "de5251d2",
   "metadata": {},
   "source": [
    "## 4. Accuracy in understanding orders for a speech based bot at a restaurant is important for the Company X which has designed, marketed and launched the product for a contactless delivery due to the COVID-19 pandemic. Recognition accuracy that measures the percentage of orders that are taken correctly is 86.8%. Suppose that you place an order with the bot and two friends of yours independently place orders with the same bot. Answer the following questions."
   ]
  },
  {
   "cell_type": "markdown",
   "id": "b0ba7af2",
   "metadata": {},
   "source": [
    "### 4.A. What is the probability that all three orders will be recognised correctly?"
   ]
  },
  {
   "cell_type": "markdown",
   "id": "611ea947",
   "metadata": {},
   "source": [
    "#### We can use the binomial distribution:\n",
    "Each order is either recognized correctly (success) with a probability of 86.8%, or \n",
    "Not recognized correctly (failure) with a probability of (1 - 86.8%) = 13.2%."
   ]
  },
  {
   "cell_type": "markdown",
   "id": "f71e76bb",
   "metadata": {},
   "source": [
    "Probability that all three orders will be recognized correctly: We need to multiply the probability of recognition for one order by itself three times."
   ]
  },
  {
   "cell_type": "code",
   "execution_count": 65,
   "id": "d9ffeba9",
   "metadata": {},
   "outputs": [
    {
     "name": "stdout",
     "output_type": "stream",
     "text": [
      "Probability that all three orders will be recognised correctly: 0.653972032 or 65.4 %\n"
     ]
    }
   ],
   "source": [
    "# Probability of recognition (success)\n",
    "p_recognition = 0.868\n",
    "\n",
    "# Probability that all three orders will be recognised correctly\n",
    "prob_all_correct = p_recognition ** 3\n",
    "\n",
    "print(\"Probability that all three orders will be recognised correctly:\", prob_all_correct,\"or\",round(prob_all_correct*100,2),\"%\")"
   ]
  },
  {
   "cell_type": "markdown",
   "id": "904c819c",
   "metadata": {},
   "source": [
    "### 4.B. What is the probability that none of the three orders will be recognised correctly?"
   ]
  },
  {
   "cell_type": "markdown",
   "id": "19ba07d4",
   "metadata": {},
   "source": [
    "Probability that none of the three orders will be recognized correctly: We need to multiply the probability of failure for one order by itself three times."
   ]
  },
  {
   "cell_type": "code",
   "execution_count": 66,
   "id": "7f152499",
   "metadata": {},
   "outputs": [
    {
     "name": "stdout",
     "output_type": "stream",
     "text": [
      "Probability that none of the three orders will be recognised correctly: 0.0022999680000000003 or 0.23 %\n"
     ]
    }
   ],
   "source": [
    "# Probability of failure (not recognized correctly)\n",
    "p_failure = 1 - p_recognition\n",
    "\n",
    "# Probability that none of the three orders will be recognised correctly\n",
    "prob_none_correct = p_failure ** 3\n",
    "\n",
    "print(\"Probability that none of the three orders will be recognised correctly:\", prob_none_correct,\"or\",round(prob_none_correct*100,2),\"%\")"
   ]
  },
  {
   "cell_type": "markdown",
   "id": "943f4aeb",
   "metadata": {},
   "source": [
    "### 4.C. What is the probability that at least two of the three orders will be recognised correctly?"
   ]
  },
  {
   "cell_type": "markdown",
   "id": "5c0858be",
   "metadata": {},
   "source": [
    "Probability that at least two of the three orders will be recognized correctly: We need to calculate the probability of exactly two orders being recognized correctly and the probability of all three orders being recognized correctly, then add them."
   ]
  },
  {
   "cell_type": "code",
   "execution_count": 67,
   "id": "b27cdd69",
   "metadata": {},
   "outputs": [
    {
     "name": "stdout",
     "output_type": "stream",
     "text": [
      "Probability that at least two of the three orders will be recognised correctly: 0.952327936 or 95.23 %\n"
     ]
    }
   ],
   "source": [
    "# Probability of recognition (success)\n",
    "p_recognition = 0.868\n",
    "\n",
    "# Probability of failure (not recognized correctly)\n",
    "p_failure = 1 - p_recognition\n",
    "\n",
    "# Probability that at least two of the three orders will be recognised correctly\n",
    "prob_at_least_two_correct = prob_all_correct + 3 * p_recognition ** 2 * p_failure  # Probability of all correct + probability of exactly two correct\n",
    "\n",
    "print(\"Probability that at least two of the three orders will be recognised correctly:\", prob_at_least_two_correct,\"or\",round(prob_at_least_two_correct*100,2),\"%\")\n"
   ]
  },
  {
   "cell_type": "markdown",
   "id": "3a38f80b",
   "metadata": {},
   "source": [
    "## 5. Explain 1 real life industry scenario (other than the ones mentioned above) where you can use the concepts learnt in this module of Applied Statistics to get data driven business solution. "
   ]
  },
  {
   "cell_type": "markdown",
   "id": "fcf98da4",
   "metadata": {},
   "source": [
    "#### Answer: \n",
    "In the healthcare industry, applied statistics can be used to analyze patient data to identify trends and patterns, allowing hospitals to optimize resource allocation, improve patient care outcomes, and develop personalized treatment plans."
   ]
  },
  {
   "cell_type": "markdown",
   "id": "3112eff3",
   "metadata": {},
   "source": [
    "# Part B "
   ]
  },
  {
   "cell_type": "markdown",
   "id": "65757628",
   "metadata": {},
   "source": [
    "**DOMAIN**: Sports\n",
    "\n",
    "**CONTEXT**:  Company X manages the men's top professional basketball division of the American league system. The dataset contains information on all the teams that have participated in all the past tournaments. It has data about how many baskets each team scored, conceded, how many times they came within the first 2 positions, how many tournaments they have qualified, their best position in the past, etc. \n",
    "\n",
    "**PROJECT OBJECTIVE**: Company’s management wants to invest on proposals on managing some of the best teams in the league. The analytics department has been assigned with a task of creating a report on the performance shown by the teams. Some of the older teams are already in contract with competitors. Hence Company X wants to understand which teams they can approach which will be a deal win for them."
   ]
  },
  {
   "cell_type": "markdown",
   "id": "bdd75242",
   "metadata": {},
   "source": [
    "### 1.  Read the data set, clean the data and prepare final dataset to be used for analysis."
   ]
  },
  {
   "cell_type": "markdown",
   "id": "ce8ea681",
   "metadata": {},
   "source": [
    "#### Reading the dataset"
   ]
  },
  {
   "cell_type": "code",
   "execution_count": 68,
   "id": "007c05de",
   "metadata": {},
   "outputs": [
    {
     "data": {
      "text/html": [
       "<div>\n",
       "<style scoped>\n",
       "    .dataframe tbody tr th:only-of-type {\n",
       "        vertical-align: middle;\n",
       "    }\n",
       "\n",
       "    .dataframe tbody tr th {\n",
       "        vertical-align: top;\n",
       "    }\n",
       "\n",
       "    .dataframe thead th {\n",
       "        text-align: right;\n",
       "    }\n",
       "</style>\n",
       "<table border=\"1\" class=\"dataframe\">\n",
       "  <thead>\n",
       "    <tr style=\"text-align: right;\">\n",
       "      <th></th>\n",
       "      <th>Team</th>\n",
       "      <th>Tournament</th>\n",
       "      <th>Score</th>\n",
       "      <th>PlayedGames</th>\n",
       "      <th>WonGames</th>\n",
       "      <th>DrawnGames</th>\n",
       "      <th>LostGames</th>\n",
       "      <th>BasketScored</th>\n",
       "      <th>BasketGiven</th>\n",
       "      <th>TournamentChampion</th>\n",
       "      <th>Runner-up</th>\n",
       "      <th>TeamLaunch</th>\n",
       "      <th>HighestPositionHeld</th>\n",
       "    </tr>\n",
       "  </thead>\n",
       "  <tbody>\n",
       "    <tr>\n",
       "      <th>0</th>\n",
       "      <td>Team 1</td>\n",
       "      <td>86</td>\n",
       "      <td>4385</td>\n",
       "      <td>2762</td>\n",
       "      <td>1647</td>\n",
       "      <td>552</td>\n",
       "      <td>563</td>\n",
       "      <td>5947</td>\n",
       "      <td>3140</td>\n",
       "      <td>33</td>\n",
       "      <td>23</td>\n",
       "      <td>1929</td>\n",
       "      <td>1</td>\n",
       "    </tr>\n",
       "    <tr>\n",
       "      <th>1</th>\n",
       "      <td>Team 2</td>\n",
       "      <td>86</td>\n",
       "      <td>4262</td>\n",
       "      <td>2762</td>\n",
       "      <td>1581</td>\n",
       "      <td>573</td>\n",
       "      <td>608</td>\n",
       "      <td>5900</td>\n",
       "      <td>3114</td>\n",
       "      <td>25</td>\n",
       "      <td>25</td>\n",
       "      <td>1929</td>\n",
       "      <td>1</td>\n",
       "    </tr>\n",
       "    <tr>\n",
       "      <th>2</th>\n",
       "      <td>Team 3</td>\n",
       "      <td>80</td>\n",
       "      <td>3442</td>\n",
       "      <td>2614</td>\n",
       "      <td>1241</td>\n",
       "      <td>598</td>\n",
       "      <td>775</td>\n",
       "      <td>4534</td>\n",
       "      <td>3309</td>\n",
       "      <td>10</td>\n",
       "      <td>8</td>\n",
       "      <td>1929</td>\n",
       "      <td>1</td>\n",
       "    </tr>\n",
       "    <tr>\n",
       "      <th>3</th>\n",
       "      <td>Team 4</td>\n",
       "      <td>82</td>\n",
       "      <td>3386</td>\n",
       "      <td>2664</td>\n",
       "      <td>1187</td>\n",
       "      <td>616</td>\n",
       "      <td>861</td>\n",
       "      <td>4398</td>\n",
       "      <td>3469</td>\n",
       "      <td>6</td>\n",
       "      <td>6</td>\n",
       "      <td>1931to32</td>\n",
       "      <td>1</td>\n",
       "    </tr>\n",
       "    <tr>\n",
       "      <th>4</th>\n",
       "      <td>Team 5</td>\n",
       "      <td>86</td>\n",
       "      <td>3368</td>\n",
       "      <td>2762</td>\n",
       "      <td>1209</td>\n",
       "      <td>633</td>\n",
       "      <td>920</td>\n",
       "      <td>4631</td>\n",
       "      <td>3700</td>\n",
       "      <td>8</td>\n",
       "      <td>7</td>\n",
       "      <td>1929</td>\n",
       "      <td>1</td>\n",
       "    </tr>\n",
       "  </tbody>\n",
       "</table>\n",
       "</div>"
      ],
      "text/plain": [
       "     Team  Tournament Score PlayedGames WonGames DrawnGames LostGames  \\\n",
       "0  Team 1          86  4385        2762     1647        552       563   \n",
       "1  Team 2          86  4262        2762     1581        573       608   \n",
       "2  Team 3          80  3442        2614     1241        598       775   \n",
       "3  Team 4          82  3386        2664     1187        616       861   \n",
       "4  Team 5          86  3368        2762     1209        633       920   \n",
       "\n",
       "  BasketScored BasketGiven TournamentChampion Runner-up TeamLaunch  \\\n",
       "0         5947        3140                 33        23       1929   \n",
       "1         5900        3114                 25        25       1929   \n",
       "2         4534        3309                 10         8       1929   \n",
       "3         4398        3469                  6         6   1931to32   \n",
       "4         4631        3700                  8         7       1929   \n",
       "\n",
       "   HighestPositionHeld  \n",
       "0                    1  \n",
       "1                    1  \n",
       "2                    1  \n",
       "3                    1  \n",
       "4                    1  "
      ]
     },
     "execution_count": 68,
     "metadata": {},
     "output_type": "execute_result"
    }
   ],
   "source": [
    "df = pd.read_csv(\"DS+-+Part2+-+Basketball.csv\")\n",
    "df.head()"
   ]
  },
  {
   "cell_type": "markdown",
   "id": "3f903c55",
   "metadata": {},
   "source": [
    "#### Checking shape of the dataset"
   ]
  },
  {
   "cell_type": "code",
   "execution_count": 69,
   "id": "81d03f5c",
   "metadata": {
    "scrolled": true
   },
   "outputs": [
    {
     "data": {
      "text/plain": [
       "(61, 13)"
      ]
     },
     "execution_count": 69,
     "metadata": {},
     "output_type": "execute_result"
    }
   ],
   "source": [
    "df.shape"
   ]
  },
  {
   "cell_type": "markdown",
   "id": "dc7c0a53",
   "metadata": {},
   "source": [
    "The dataset has 61 rows and 13 columns"
   ]
  },
  {
   "cell_type": "markdown",
   "id": "d56aa37d",
   "metadata": {},
   "source": [
    "#### Checking the datatypes of the columns"
   ]
  },
  {
   "cell_type": "code",
   "execution_count": 70,
   "id": "0c47b2ee",
   "metadata": {},
   "outputs": [
    {
     "name": "stdout",
     "output_type": "stream",
     "text": [
      "<class 'pandas.core.frame.DataFrame'>\n",
      "RangeIndex: 61 entries, 0 to 60\n",
      "Data columns (total 13 columns):\n",
      " #   Column               Non-Null Count  Dtype \n",
      "---  ------               --------------  ----- \n",
      " 0   Team                 61 non-null     object\n",
      " 1   Tournament           61 non-null     int64 \n",
      " 2   Score                61 non-null     object\n",
      " 3   PlayedGames          61 non-null     object\n",
      " 4   WonGames             61 non-null     object\n",
      " 5   DrawnGames           61 non-null     object\n",
      " 6   LostGames            61 non-null     object\n",
      " 7   BasketScored         61 non-null     object\n",
      " 8   BasketGiven          61 non-null     object\n",
      " 9   TournamentChampion   61 non-null     object\n",
      " 10  Runner-up            61 non-null     object\n",
      " 11  TeamLaunch           61 non-null     object\n",
      " 12  HighestPositionHeld  61 non-null     int64 \n",
      "dtypes: int64(2), object(11)\n",
      "memory usage: 6.3+ KB\n"
     ]
    }
   ],
   "source": [
    "df.info()"
   ]
  },
  {
   "cell_type": "markdown",
   "id": "0138ee7f",
   "metadata": {},
   "source": [
    "Columns - Score, PlayedGames, WonGames, DrawnGames, LostGames, BasketScored, TournamentChampion, and Runner-up should be numerical datatype but are read as object data type.\n",
    "\n",
    "Let us check the count of each datatypes in each column, starting with 'Score'."
   ]
  },
  {
   "cell_type": "code",
   "execution_count": 71,
   "id": "0ad80f36",
   "metadata": {},
   "outputs": [
    {
     "data": {
      "text/plain": [
       "Score\n",
       "<class 'str'>    61\n",
       "Name: count, dtype: int64"
      ]
     },
     "execution_count": 71,
     "metadata": {},
     "output_type": "execute_result"
    }
   ],
   "source": [
    "df['Score'].apply(type).value_counts()"
   ]
  },
  {
   "cell_type": "code",
   "execution_count": 72,
   "id": "ce0f6012",
   "metadata": {},
   "outputs": [
    {
     "data": {
      "text/plain": [
       "array(['4385', '4262', '3442', '3386', '3368', '2819', '2792', '2573',\n",
       "       '2109', '1884', '1814', '1789', '1471', '1416', '1389', '1351',\n",
       "       '1314', '1174', '1148', '1020', '970', '667', '662', '606', '553',\n",
       "       '538', '510', '445', '421', '416', '375', '353', '343', '293',\n",
       "       '285', '277', '242', '230', '190', '188', '168', '150', '148',\n",
       "       '132', '107', '96', '91', '83', '81', '76', '71', '56', '52', '42',\n",
       "       '40', '35', '34', '22', '19', '14', '-'], dtype=object)"
      ]
     },
     "execution_count": 72,
     "metadata": {},
     "output_type": "execute_result"
    }
   ],
   "source": [
    "df['Score'].unique()"
   ]
  },
  {
   "cell_type": "code",
   "execution_count": 73,
   "id": "ec0fc065",
   "metadata": {},
   "outputs": [],
   "source": [
    "#replacing '-' with NaN\n",
    "df['Score'] = df['Score'].replace(['-'],np.nan)\n",
    "\n",
    "#changing its datatype to int\n",
    "df['Score'] = df['Score'].astype(float)"
   ]
  },
  {
   "cell_type": "code",
   "execution_count": 74,
   "id": "39b31338",
   "metadata": {},
   "outputs": [
    {
     "data": {
      "text/plain": [
       "Score\n",
       "<class 'float'>    61\n",
       "Name: count, dtype: int64"
      ]
     },
     "execution_count": 74,
     "metadata": {},
     "output_type": "execute_result"
    }
   ],
   "source": [
    "#verifying the datatype\n",
    "df['Score'].apply(type).value_counts()"
   ]
  },
  {
   "cell_type": "code",
   "execution_count": 75,
   "id": "cfcee23e",
   "metadata": {
    "scrolled": true
   },
   "outputs": [
    {
     "data": {
      "text/plain": [
       "array(['2762', '2614', '2664', '2408', '2626', '2302', '1986', '1728',\n",
       "       '1530', '1698', '1466', '1428', '1458', '1318', '1255', '1192',\n",
       "       '988', '1096', '646', '742', '652', '678', '456', '628', '494',\n",
       "       '586', '380', '402', '423', '426', '448', '346', '334', '270',\n",
       "       '228', '282', '160', '186', '204', '180', '152', '114', '130',\n",
       "       '116', '80', '108', '90', '72', '68', '54', '38', '30', '-'],\n",
       "      dtype=object)"
      ]
     },
     "execution_count": 75,
     "metadata": {},
     "output_type": "execute_result"
    }
   ],
   "source": [
    "df['PlayedGames'].unique()"
   ]
  },
  {
   "cell_type": "markdown",
   "id": "456c0eb3",
   "metadata": {},
   "source": [
    "As each column that was initially read as incorrect datatype 'object' because of '-' being present in them, we can now infer that we could have also done this replacement to NaN while loading the data. Therefore let's reload the data with this treatment."
   ]
  },
  {
   "cell_type": "code",
   "execution_count": 76,
   "id": "78a4884c",
   "metadata": {},
   "outputs": [
    {
     "data": {
      "text/html": [
       "<div>\n",
       "<style scoped>\n",
       "    .dataframe tbody tr th:only-of-type {\n",
       "        vertical-align: middle;\n",
       "    }\n",
       "\n",
       "    .dataframe tbody tr th {\n",
       "        vertical-align: top;\n",
       "    }\n",
       "\n",
       "    .dataframe thead th {\n",
       "        text-align: right;\n",
       "    }\n",
       "</style>\n",
       "<table border=\"1\" class=\"dataframe\">\n",
       "  <thead>\n",
       "    <tr style=\"text-align: right;\">\n",
       "      <th></th>\n",
       "      <th>Team</th>\n",
       "      <th>Tournament</th>\n",
       "      <th>Score</th>\n",
       "      <th>PlayedGames</th>\n",
       "      <th>WonGames</th>\n",
       "      <th>DrawnGames</th>\n",
       "      <th>LostGames</th>\n",
       "      <th>BasketScored</th>\n",
       "      <th>BasketGiven</th>\n",
       "      <th>TournamentChampion</th>\n",
       "      <th>Runner-up</th>\n",
       "      <th>TeamLaunch</th>\n",
       "      <th>HighestPositionHeld</th>\n",
       "    </tr>\n",
       "  </thead>\n",
       "  <tbody>\n",
       "    <tr>\n",
       "      <th>0</th>\n",
       "      <td>Team 1</td>\n",
       "      <td>86</td>\n",
       "      <td>4385.0</td>\n",
       "      <td>2762.0</td>\n",
       "      <td>1647.0</td>\n",
       "      <td>552.0</td>\n",
       "      <td>563.0</td>\n",
       "      <td>5947.0</td>\n",
       "      <td>3140.0</td>\n",
       "      <td>33.0</td>\n",
       "      <td>23.0</td>\n",
       "      <td>1929</td>\n",
       "      <td>1</td>\n",
       "    </tr>\n",
       "    <tr>\n",
       "      <th>1</th>\n",
       "      <td>Team 2</td>\n",
       "      <td>86</td>\n",
       "      <td>4262.0</td>\n",
       "      <td>2762.0</td>\n",
       "      <td>1581.0</td>\n",
       "      <td>573.0</td>\n",
       "      <td>608.0</td>\n",
       "      <td>5900.0</td>\n",
       "      <td>3114.0</td>\n",
       "      <td>25.0</td>\n",
       "      <td>25.0</td>\n",
       "      <td>1929</td>\n",
       "      <td>1</td>\n",
       "    </tr>\n",
       "    <tr>\n",
       "      <th>2</th>\n",
       "      <td>Team 3</td>\n",
       "      <td>80</td>\n",
       "      <td>3442.0</td>\n",
       "      <td>2614.0</td>\n",
       "      <td>1241.0</td>\n",
       "      <td>598.0</td>\n",
       "      <td>775.0</td>\n",
       "      <td>4534.0</td>\n",
       "      <td>3309.0</td>\n",
       "      <td>10.0</td>\n",
       "      <td>8.0</td>\n",
       "      <td>1929</td>\n",
       "      <td>1</td>\n",
       "    </tr>\n",
       "    <tr>\n",
       "      <th>3</th>\n",
       "      <td>Team 4</td>\n",
       "      <td>82</td>\n",
       "      <td>3386.0</td>\n",
       "      <td>2664.0</td>\n",
       "      <td>1187.0</td>\n",
       "      <td>616.0</td>\n",
       "      <td>861.0</td>\n",
       "      <td>4398.0</td>\n",
       "      <td>3469.0</td>\n",
       "      <td>6.0</td>\n",
       "      <td>6.0</td>\n",
       "      <td>1931to32</td>\n",
       "      <td>1</td>\n",
       "    </tr>\n",
       "    <tr>\n",
       "      <th>4</th>\n",
       "      <td>Team 5</td>\n",
       "      <td>86</td>\n",
       "      <td>3368.0</td>\n",
       "      <td>2762.0</td>\n",
       "      <td>1209.0</td>\n",
       "      <td>633.0</td>\n",
       "      <td>920.0</td>\n",
       "      <td>4631.0</td>\n",
       "      <td>3700.0</td>\n",
       "      <td>8.0</td>\n",
       "      <td>7.0</td>\n",
       "      <td>1929</td>\n",
       "      <td>1</td>\n",
       "    </tr>\n",
       "  </tbody>\n",
       "</table>\n",
       "</div>"
      ],
      "text/plain": [
       "     Team  Tournament   Score  PlayedGames  WonGames  DrawnGames  LostGames  \\\n",
       "0  Team 1          86  4385.0       2762.0    1647.0       552.0      563.0   \n",
       "1  Team 2          86  4262.0       2762.0    1581.0       573.0      608.0   \n",
       "2  Team 3          80  3442.0       2614.0    1241.0       598.0      775.0   \n",
       "3  Team 4          82  3386.0       2664.0    1187.0       616.0      861.0   \n",
       "4  Team 5          86  3368.0       2762.0    1209.0       633.0      920.0   \n",
       "\n",
       "   BasketScored  BasketGiven  TournamentChampion  Runner-up TeamLaunch  \\\n",
       "0        5947.0       3140.0                33.0       23.0       1929   \n",
       "1        5900.0       3114.0                25.0       25.0       1929   \n",
       "2        4534.0       3309.0                10.0        8.0       1929   \n",
       "3        4398.0       3469.0                 6.0        6.0   1931to32   \n",
       "4        4631.0       3700.0                 8.0        7.0       1929   \n",
       "\n",
       "   HighestPositionHeld  \n",
       "0                    1  \n",
       "1                    1  \n",
       "2                    1  \n",
       "3                    1  \n",
       "4                    1  "
      ]
     },
     "execution_count": 76,
     "metadata": {},
     "output_type": "execute_result"
    }
   ],
   "source": [
    "data = pd.read_csv('DS+-+Part2+-+Basketball.csv',na_values=['-'])\n",
    "data.head()"
   ]
  },
  {
   "cell_type": "markdown",
   "id": "d02a98b4",
   "metadata": {},
   "source": [
    "#### Checking TeamLaunch column"
   ]
  },
  {
   "cell_type": "code",
   "execution_count": 77,
   "id": "3a8e45fa",
   "metadata": {},
   "outputs": [
    {
     "data": {
      "text/plain": [
       "array(['1929', '1931to32', '1934-35', '1939-40', '1932-33', '1941to42',\n",
       "       '1948-49', '1944_45', '1935-36', '1949_50', '1933to34', '1960-61',\n",
       "       '1951-52', '1998-99', '1941-42', '1977-78', '1959-60', '2004to05',\n",
       "       '1961-62', '1940-41', '1930-31', '1963-64', '1974-75', '1943-44',\n",
       "       '1987-88', '1991_92', '2007-08', '1962-63', '1994-95', '1978-79',\n",
       "       '1971-72', '1999to00', '2014-15', '1990-91', '1947-48', '1996-97',\n",
       "       '1995-96', '1945-46', '1953-54', '1979-80', '1950-51', '2016_17',\n",
       "       '2009-10', '1956-57', '1951~52', '1955-56', '2017~18'],\n",
       "      dtype=object)"
      ]
     },
     "execution_count": 77,
     "metadata": {},
     "output_type": "execute_result"
    }
   ],
   "source": [
    "data['TeamLaunch'].unique()"
   ]
  },
  {
   "cell_type": "markdown",
   "id": "36a5a4e7",
   "metadata": {},
   "source": [
    "As we can notice a lot of inconsistencies in the data points of this column, let us extract the start year from each. This would also help us understand the chronological aspect of team establishment years."
   ]
  },
  {
   "cell_type": "code",
   "execution_count": 78,
   "id": "22d37b11",
   "metadata": {},
   "outputs": [
    {
     "data": {
      "text/plain": [
       "array(['1929', '1931', '1934', '1939', '1932', '1941', '1948', '1944',\n",
       "       '1935', '1949', '1933', '1960', '1951', '1998', '1977', '1959',\n",
       "       '2004', '1961', '1940', '1930', '1963', '1974', '1943', '1987',\n",
       "       '1991', '2007', '1962', '1994', '1978', '1971', '1999', '2014',\n",
       "       '1990', '1947', '1996', '1995', '1945', '1953', '1979', '1950',\n",
       "       '2016', '2009', '1956', '1955', '2017'], dtype=object)"
      ]
     },
     "execution_count": 78,
     "metadata": {},
     "output_type": "execute_result"
    }
   ],
   "source": [
    "data['TeamLaunch'] = data['TeamLaunch'].str.extract(r'(\\d{4})', expand=False)\n",
    "data['TeamLaunch'].unique()"
   ]
  },
  {
   "cell_type": "code",
   "execution_count": 79,
   "id": "53d6b38b",
   "metadata": {},
   "outputs": [
    {
     "data": {
      "text/plain": [
       "TeamLaunch\n",
       "<class 'int'>    61\n",
       "Name: count, dtype: int64"
      ]
     },
     "execution_count": 79,
     "metadata": {},
     "output_type": "execute_result"
    }
   ],
   "source": [
    "data['TeamLaunch'].apply(type).value_counts()\n",
    "\n",
    "#converting the datatype of TeamLaunch column\n",
    "data['TeamLaunch'] = data['TeamLaunch'].astype('int64')\n",
    "data['TeamLaunch'].apply(type).value_counts()"
   ]
  },
  {
   "cell_type": "code",
   "execution_count": 80,
   "id": "39164d5c",
   "metadata": {},
   "outputs": [
    {
     "name": "stdout",
     "output_type": "stream",
     "text": [
      "<class 'pandas.core.frame.DataFrame'>\n",
      "RangeIndex: 61 entries, 0 to 60\n",
      "Data columns (total 13 columns):\n",
      " #   Column               Non-Null Count  Dtype  \n",
      "---  ------               --------------  -----  \n",
      " 0   Team                 61 non-null     object \n",
      " 1   Tournament           61 non-null     int64  \n",
      " 2   Score                60 non-null     float64\n",
      " 3   PlayedGames          60 non-null     float64\n",
      " 4   WonGames             60 non-null     float64\n",
      " 5   DrawnGames           60 non-null     float64\n",
      " 6   LostGames            60 non-null     float64\n",
      " 7   BasketScored         60 non-null     float64\n",
      " 8   BasketGiven          60 non-null     float64\n",
      " 9   TournamentChampion   9 non-null      float64\n",
      " 10  Runner-up            13 non-null     float64\n",
      " 11  TeamLaunch           61 non-null     int64  \n",
      " 12  HighestPositionHeld  61 non-null     int64  \n",
      "dtypes: float64(9), int64(3), object(1)\n",
      "memory usage: 6.3+ KB\n"
     ]
    }
   ],
   "source": [
    "data.info()"
   ]
  },
  {
   "cell_type": "markdown",
   "id": "d920b90c",
   "metadata": {},
   "source": [
    "#### Checking for missing values"
   ]
  },
  {
   "cell_type": "code",
   "execution_count": 81,
   "id": "671b2602",
   "metadata": {},
   "outputs": [
    {
     "data": {
      "text/plain": [
       "Team                    0\n",
       "Tournament              0\n",
       "Score                   1\n",
       "PlayedGames             1\n",
       "WonGames                1\n",
       "DrawnGames              1\n",
       "LostGames               1\n",
       "BasketScored            1\n",
       "BasketGiven             1\n",
       "TournamentChampion     52\n",
       "Runner-up              48\n",
       "TeamLaunch              0\n",
       "HighestPositionHeld     0\n",
       "dtype: int64"
      ]
     },
     "execution_count": 81,
     "metadata": {},
     "output_type": "execute_result"
    }
   ],
   "source": [
    "data.isnull().sum()"
   ]
  },
  {
   "cell_type": "markdown",
   "id": "7f9ed84a",
   "metadata": {},
   "source": [
    "There are 9 columns with missing values."
   ]
  },
  {
   "cell_type": "code",
   "execution_count": 82,
   "id": "d6c73d32",
   "metadata": {},
   "outputs": [
    {
     "data": {
      "text/html": [
       "<div>\n",
       "<style scoped>\n",
       "    .dataframe tbody tr th:only-of-type {\n",
       "        vertical-align: middle;\n",
       "    }\n",
       "\n",
       "    .dataframe tbody tr th {\n",
       "        vertical-align: top;\n",
       "    }\n",
       "\n",
       "    .dataframe thead th {\n",
       "        text-align: right;\n",
       "    }\n",
       "</style>\n",
       "<table border=\"1\" class=\"dataframe\">\n",
       "  <thead>\n",
       "    <tr style=\"text-align: right;\">\n",
       "      <th></th>\n",
       "      <th>Team</th>\n",
       "      <th>Tournament</th>\n",
       "      <th>Score</th>\n",
       "      <th>PlayedGames</th>\n",
       "      <th>WonGames</th>\n",
       "      <th>DrawnGames</th>\n",
       "      <th>LostGames</th>\n",
       "      <th>BasketScored</th>\n",
       "      <th>BasketGiven</th>\n",
       "      <th>TournamentChampion</th>\n",
       "      <th>Runner-up</th>\n",
       "      <th>TeamLaunch</th>\n",
       "      <th>HighestPositionHeld</th>\n",
       "    </tr>\n",
       "  </thead>\n",
       "  <tbody>\n",
       "    <tr>\n",
       "      <th>60</th>\n",
       "      <td>Team 61</td>\n",
       "      <td>1</td>\n",
       "      <td>NaN</td>\n",
       "      <td>NaN</td>\n",
       "      <td>NaN</td>\n",
       "      <td>NaN</td>\n",
       "      <td>NaN</td>\n",
       "      <td>NaN</td>\n",
       "      <td>NaN</td>\n",
       "      <td>NaN</td>\n",
       "      <td>NaN</td>\n",
       "      <td>2017</td>\n",
       "      <td>9</td>\n",
       "    </tr>\n",
       "  </tbody>\n",
       "</table>\n",
       "</div>"
      ],
      "text/plain": [
       "       Team  Tournament  Score  PlayedGames  WonGames  DrawnGames  LostGames  \\\n",
       "60  Team 61           1    NaN          NaN       NaN         NaN        NaN   \n",
       "\n",
       "    BasketScored  BasketGiven  TournamentChampion  Runner-up  TeamLaunch  \\\n",
       "60           NaN          NaN                 NaN        NaN        2017   \n",
       "\n",
       "    HighestPositionHeld  \n",
       "60                    9  "
      ]
     },
     "execution_count": 82,
     "metadata": {},
     "output_type": "execute_result"
    }
   ],
   "source": [
    "data.tail(1)"
   ]
  },
  {
   "cell_type": "markdown",
   "id": "4acf750d",
   "metadata": {},
   "source": [
    "Since the null value of all columns are in the same row, we can drop this row."
   ]
  },
  {
   "cell_type": "code",
   "execution_count": 83,
   "id": "e84c399f",
   "metadata": {},
   "outputs": [],
   "source": [
    "data.drop(data[data['Team'] == 'Team 61'].index, inplace=True)"
   ]
  },
  {
   "cell_type": "markdown",
   "id": "94b7988c",
   "metadata": {},
   "source": [
    "#### Checking for duplicate entires in the dataset"
   ]
  },
  {
   "cell_type": "code",
   "execution_count": 84,
   "id": "b32491a3",
   "metadata": {},
   "outputs": [
    {
     "data": {
      "text/plain": [
       "0"
      ]
     },
     "execution_count": 84,
     "metadata": {},
     "output_type": "execute_result"
    }
   ],
   "source": [
    "data.duplicated().sum()"
   ]
  },
  {
   "cell_type": "markdown",
   "id": "9a7db9be",
   "metadata": {},
   "source": [
    "There are no duplicate entries in the dataset."
   ]
  },
  {
   "cell_type": "code",
   "execution_count": 85,
   "id": "73838424",
   "metadata": {
    "scrolled": true
   },
   "outputs": [
    {
     "data": {
      "text/html": [
       "<div>\n",
       "<style scoped>\n",
       "    .dataframe tbody tr th:only-of-type {\n",
       "        vertical-align: middle;\n",
       "    }\n",
       "\n",
       "    .dataframe tbody tr th {\n",
       "        vertical-align: top;\n",
       "    }\n",
       "\n",
       "    .dataframe thead th {\n",
       "        text-align: right;\n",
       "    }\n",
       "</style>\n",
       "<table border=\"1\" class=\"dataframe\">\n",
       "  <thead>\n",
       "    <tr style=\"text-align: right;\">\n",
       "      <th></th>\n",
       "      <th>count</th>\n",
       "      <th>mean</th>\n",
       "      <th>std</th>\n",
       "      <th>min</th>\n",
       "      <th>25%</th>\n",
       "      <th>50%</th>\n",
       "      <th>75%</th>\n",
       "      <th>max</th>\n",
       "    </tr>\n",
       "  </thead>\n",
       "  <tbody>\n",
       "    <tr>\n",
       "      <th>Tournament</th>\n",
       "      <td>60.0</td>\n",
       "      <td>24.383333</td>\n",
       "      <td>26.884620</td>\n",
       "      <td>1.0</td>\n",
       "      <td>4.00</td>\n",
       "      <td>12.0</td>\n",
       "      <td>39.00</td>\n",
       "      <td>86.0</td>\n",
       "    </tr>\n",
       "    <tr>\n",
       "      <th>Score</th>\n",
       "      <td>60.0</td>\n",
       "      <td>916.450000</td>\n",
       "      <td>1138.342899</td>\n",
       "      <td>14.0</td>\n",
       "      <td>104.25</td>\n",
       "      <td>395.5</td>\n",
       "      <td>1360.50</td>\n",
       "      <td>4385.0</td>\n",
       "    </tr>\n",
       "    <tr>\n",
       "      <th>PlayedGames</th>\n",
       "      <td>60.0</td>\n",
       "      <td>810.100000</td>\n",
       "      <td>877.465393</td>\n",
       "      <td>30.0</td>\n",
       "      <td>115.50</td>\n",
       "      <td>424.5</td>\n",
       "      <td>1345.50</td>\n",
       "      <td>2762.0</td>\n",
       "    </tr>\n",
       "    <tr>\n",
       "      <th>WonGames</th>\n",
       "      <td>60.0</td>\n",
       "      <td>309.033333</td>\n",
       "      <td>408.481395</td>\n",
       "      <td>5.0</td>\n",
       "      <td>34.75</td>\n",
       "      <td>124.0</td>\n",
       "      <td>432.75</td>\n",
       "      <td>1647.0</td>\n",
       "    </tr>\n",
       "    <tr>\n",
       "      <th>DrawnGames</th>\n",
       "      <td>60.0</td>\n",
       "      <td>192.083333</td>\n",
       "      <td>201.985508</td>\n",
       "      <td>4.0</td>\n",
       "      <td>26.25</td>\n",
       "      <td>98.5</td>\n",
       "      <td>331.50</td>\n",
       "      <td>633.0</td>\n",
       "    </tr>\n",
       "    <tr>\n",
       "      <th>LostGames</th>\n",
       "      <td>60.0</td>\n",
       "      <td>308.816667</td>\n",
       "      <td>294.508639</td>\n",
       "      <td>15.0</td>\n",
       "      <td>62.75</td>\n",
       "      <td>197.5</td>\n",
       "      <td>563.50</td>\n",
       "      <td>1070.0</td>\n",
       "    </tr>\n",
       "    <tr>\n",
       "      <th>BasketScored</th>\n",
       "      <td>60.0</td>\n",
       "      <td>1159.350000</td>\n",
       "      <td>1512.063948</td>\n",
       "      <td>34.0</td>\n",
       "      <td>154.50</td>\n",
       "      <td>444.0</td>\n",
       "      <td>1669.75</td>\n",
       "      <td>5947.0</td>\n",
       "    </tr>\n",
       "    <tr>\n",
       "      <th>BasketGiven</th>\n",
       "      <td>60.0</td>\n",
       "      <td>1159.233333</td>\n",
       "      <td>1163.946914</td>\n",
       "      <td>55.0</td>\n",
       "      <td>236.00</td>\n",
       "      <td>632.5</td>\n",
       "      <td>2001.25</td>\n",
       "      <td>3889.0</td>\n",
       "    </tr>\n",
       "    <tr>\n",
       "      <th>TournamentChampion</th>\n",
       "      <td>9.0</td>\n",
       "      <td>9.666667</td>\n",
       "      <td>11.618950</td>\n",
       "      <td>1.0</td>\n",
       "      <td>1.00</td>\n",
       "      <td>6.0</td>\n",
       "      <td>10.00</td>\n",
       "      <td>33.0</td>\n",
       "    </tr>\n",
       "    <tr>\n",
       "      <th>Runner-up</th>\n",
       "      <td>13.0</td>\n",
       "      <td>6.615385</td>\n",
       "      <td>8.109033</td>\n",
       "      <td>1.0</td>\n",
       "      <td>1.00</td>\n",
       "      <td>4.0</td>\n",
       "      <td>7.00</td>\n",
       "      <td>25.0</td>\n",
       "    </tr>\n",
       "    <tr>\n",
       "      <th>TeamLaunch</th>\n",
       "      <td>60.0</td>\n",
       "      <td>1957.950000</td>\n",
       "      <td>26.646732</td>\n",
       "      <td>1929.0</td>\n",
       "      <td>1934.75</td>\n",
       "      <td>1950.5</td>\n",
       "      <td>1977.25</td>\n",
       "      <td>2016.0</td>\n",
       "    </tr>\n",
       "    <tr>\n",
       "      <th>HighestPositionHeld</th>\n",
       "      <td>60.0</td>\n",
       "      <td>7.050000</td>\n",
       "      <td>5.315232</td>\n",
       "      <td>1.0</td>\n",
       "      <td>3.00</td>\n",
       "      <td>6.0</td>\n",
       "      <td>10.00</td>\n",
       "      <td>20.0</td>\n",
       "    </tr>\n",
       "  </tbody>\n",
       "</table>\n",
       "</div>"
      ],
      "text/plain": [
       "                     count         mean          std     min      25%     50%  \\\n",
       "Tournament            60.0    24.383333    26.884620     1.0     4.00    12.0   \n",
       "Score                 60.0   916.450000  1138.342899    14.0   104.25   395.5   \n",
       "PlayedGames           60.0   810.100000   877.465393    30.0   115.50   424.5   \n",
       "WonGames              60.0   309.033333   408.481395     5.0    34.75   124.0   \n",
       "DrawnGames            60.0   192.083333   201.985508     4.0    26.25    98.5   \n",
       "LostGames             60.0   308.816667   294.508639    15.0    62.75   197.5   \n",
       "BasketScored          60.0  1159.350000  1512.063948    34.0   154.50   444.0   \n",
       "BasketGiven           60.0  1159.233333  1163.946914    55.0   236.00   632.5   \n",
       "TournamentChampion     9.0     9.666667    11.618950     1.0     1.00     6.0   \n",
       "Runner-up             13.0     6.615385     8.109033     1.0     1.00     4.0   \n",
       "TeamLaunch            60.0  1957.950000    26.646732  1929.0  1934.75  1950.5   \n",
       "HighestPositionHeld   60.0     7.050000     5.315232     1.0     3.00     6.0   \n",
       "\n",
       "                         75%     max  \n",
       "Tournament             39.00    86.0  \n",
       "Score                1360.50  4385.0  \n",
       "PlayedGames          1345.50  2762.0  \n",
       "WonGames              432.75  1647.0  \n",
       "DrawnGames            331.50   633.0  \n",
       "LostGames             563.50  1070.0  \n",
       "BasketScored         1669.75  5947.0  \n",
       "BasketGiven          2001.25  3889.0  \n",
       "TournamentChampion     10.00    33.0  \n",
       "Runner-up               7.00    25.0  \n",
       "TeamLaunch           1977.25  2016.0  \n",
       "HighestPositionHeld    10.00    20.0  "
      ]
     },
     "execution_count": 85,
     "metadata": {},
     "output_type": "execute_result"
    }
   ],
   "source": [
    "#statistical summary\n",
    "data.describe().T"
   ]
  },
  {
   "cell_type": "markdown",
   "id": "66dc72dc",
   "metadata": {},
   "source": [
    "**Observations:**\n",
    "* `Tournament`: The mean number of tournaments played is 24, with a wide range from 1 to 86. The majority of teams have participated in fewer tournaments, as observed by the 25th percentile at 4 and the median at 12.\n",
    "* `Score`: The mean score is 916.45, with a wide range from 14 to 4385. The distribution is likely skewed to the right, since we see a large standard deviation of 1138.34.\n",
    "* `PlayedGames`: Teams have played an average of 810 games, ranging from 30 to 2762. Similar to the number of tournaments, most teams have played fewer games, with the 25th percentile at 115 and the median at 424.5.\n",
    "* `WonGames`: The average number of games won is 309, with a range from 5 to 1647. The distribution is likely skewed, with some teams having won significantly more games than others.\n",
    "* `DrawnGames`: Teams have an average of 192 drawn games, ranging from 4 to 633. The distribution appears to be more evenly spread compared to won games.\n",
    "* `LostGames`: On average, teams have lost 309 games, with a range from 15 to 1070. The distribution is likely skewed, similar to the number of games won.\n",
    "* `BasketScored`: The mean number of baskets scored is 1159.35, ranging from 34 to 5947. The distribution is likely skewed, with some teams scoring significantly more baskets than others.\n",
    "* `BasketGiven`: Teams have, on average, given away 1159.23 baskets, ranging from 55 to 3889. The distribution is likely skewed, similar to the number of baskets scored.\n",
    "* `TournamentChampion`: On average, teams have won 9.67 tournament championships, with a range from 1 to 33. However, since this statistic is based on only 9 counts, it may not be representative of the entire dataset.\n",
    "* `Runner-up`: On average, teams have been runners-up 6.62 times, with a range from 1 to 25. Like tournament championships, this statistic is based on only 13 data points.\n",
    "* `TeamLaunch` : Majority of teams in the dataset were launched between the early 20th century and the late 1970s, with a few outliers launched more recently.\n",
    "* `HighestPositionHeld`: The average highest position held by teams is 7.08, with a range from 1 to 20. This indicates that, on average, teams have achieved a relatively high position in tournaments."
   ]
  },
  {
   "cell_type": "code",
   "execution_count": 86,
   "id": "f2bfa5e4",
   "metadata": {},
   "outputs": [
    {
     "data": {
      "text/plain": [
       "array(['Team 1', 'Team 2', 'Team 3', 'Team 4', 'Team 5', 'Team 6',\n",
       "       'Team 7', 'Team 8', 'Team 9', 'Team 10', 'Team 11', 'Team 12',\n",
       "       'Team 13', 'Team 14', 'Team 15', 'Team 16', 'Team 17', 'Team 18',\n",
       "       'Team 19', 'Team 20', 'Team 21', 'Team 22', 'Team 23', 'Team 24',\n",
       "       'Team 25', 'Team 26', 'Team 27', 'Team 28', 'Team 29', 'Team 30',\n",
       "       'Team 31', 'Team 32', 'Team 33', 'Team 34', 'Team 35', 'Team 36',\n",
       "       'Team 37', 'Team 38', 'Team 39', 'Team 40', 'Team 41', 'Team 42',\n",
       "       'Team 43', 'Team 44', 'Team 45', 'Team 46', 'Team 47', 'Team 48',\n",
       "       'Team 49', 'Team 50', 'Team 51', 'Team 52', 'Team 53', 'Team 54',\n",
       "       'Team 55', 'Team 56', 'Team 57', 'Team 58', 'Team 59', 'Team 60'],\n",
       "      dtype=object)"
      ]
     },
     "execution_count": 86,
     "metadata": {},
     "output_type": "execute_result"
    }
   ],
   "source": [
    "# checking to see if categorical data Team has any anomaly\n",
    "data['Team'].unique()"
   ]
  },
  {
   "cell_type": "markdown",
   "id": "160b3c18",
   "metadata": {},
   "source": [
    "### 2. Perform detailed statistical analysis and EDA using univariate, bi-variate and multivariate EDA techniques to get data driven insights on recommending which teams they can approach which will be a deal win for them. Also as a data and statistics expert you have to develop a detailed performance report using this data. "
   ]
  },
  {
   "cell_type": "markdown",
   "id": "27c21265",
   "metadata": {},
   "source": [
    "### Univariate Analysis"
   ]
  },
  {
   "cell_type": "markdown",
   "id": "ebbc2358",
   "metadata": {},
   "source": [
    "#### Performing Univariate analysis to understand the distribution of scores across teams."
   ]
  },
  {
   "cell_type": "code",
   "execution_count": 87,
   "id": "b42be2a1",
   "metadata": {
    "scrolled": false
   },
   "outputs": [
    {
     "data": {
      "image/png": "[encoded data removed]",
      "text/plain": [
       "<Figure size 300x200 with 1 Axes>"
      ]
     },
     "metadata": {},
     "output_type": "display_data"
    }
   ],
   "source": [
    "plt.figure(figsize=(3, 2))\n",
    "sns.histplot(data['Score'], bins=10, kde=True)\n",
    "plt.title('Score Distribution Across Teams')\n",
    "plt.xlabel('Score')\n",
    "plt.ylabel('Frequency')\n",
    "plt.show()"
   ]
  },
  {
   "cell_type": "markdown",
   "id": "dccb34bd",
   "metadata": {},
   "source": [
    "**Observation**: Teams have scored mostly low (less than 400) on an average."
   ]
  },
  {
   "cell_type": "markdown",
   "id": "c17e48bc",
   "metadata": {},
   "source": [
    "#### Performing Univariate analysis to compare the number of tournament matches played by each team."
   ]
  },
  {
   "cell_type": "code",
   "execution_count": 88,
   "id": "5085a78d",
   "metadata": {},
   "outputs": [
    {
     "data": {
      "image/png": "[encoded data removed]",
      "text/plain": [
       "<Figure size 1500x800 with 1 Axes>"
      ]
     },
     "metadata": {},
     "output_type": "display_data"
    }
   ],
   "source": [
    "plt.figure(figsize=(15, 8))\n",
    "sns.barplot(data=data, x='Team', y='Tournament', palette='viridis')\n",
    "plt.title('Tournament Matches Played by Team')\n",
    "plt.xlabel('Team')\n",
    "plt.ylabel('Tournament Matches Played')\n",
    "plt.xticks(rotation=90)\n",
    "plt.show()"
   ]
  },
  {
   "cell_type": "markdown",
   "id": "681e260a",
   "metadata": {},
   "source": [
    "**Observation**: Team 1, Team 2 and Team 5 played the most tournament matches."
   ]
  },
  {
   "cell_type": "markdown",
   "id": "7bf93e22",
   "metadata": {},
   "source": [
    "#### Performing Univariate Analysis to compare the average scores of different teams."
   ]
  },
  {
   "cell_type": "code",
   "execution_count": 89,
   "id": "1553d29f",
   "metadata": {},
   "outputs": [
    {
     "data": {
      "image/png": "[encoded data removed]",
      "text/plain": [
       "<Figure size 1500x800 with 1 Axes>"
      ]
     },
     "metadata": {},
     "output_type": "display_data"
    }
   ],
   "source": [
    "plt.figure(figsize=(15, 8))\n",
    "sns.barplot(data=df, x='Team', y='Score', palette='magma')\n",
    "plt.title('Average Score by Team')\n",
    "plt.xlabel('Team')\n",
    "plt.ylabel('Average Score')\n",
    "plt.xticks(rotation=90)\n",
    "plt.show()"
   ]
  },
  {
   "cell_type": "markdown",
   "id": "d85f76ee",
   "metadata": {},
   "source": [
    "**Observation**: Teams having top scorers are teams 1-5. With Team 1 with highest score."
   ]
  },
  {
   "cell_type": "markdown",
   "id": "675f0825",
   "metadata": {},
   "source": [
    "#### Performing Univariate Analysis to visualize the number of lost matches and baskets given by each team."
   ]
  },
  {
   "cell_type": "code",
   "execution_count": 90,
   "id": "ac2b8b90",
   "metadata": {},
   "outputs": [
    {
     "data": {
      "image/png": "[encoded data removed]",
      "text/plain": [
       "<Figure size 1500x800 with 1 Axes>"
      ]
     },
     "metadata": {},
     "output_type": "display_data"
    }
   ],
   "source": [
    "plt.figure(figsize=(15, 8))\n",
    "data['LostGames_BasketGiven'] = data['LostGames'] + data['BasketGiven']\n",
    "sns.barplot(data=data, x='Team', y='LostGames_BasketGiven', palette='crest')\n",
    "plt.title('Lost Matches + Baskets Given by Team')\n",
    "plt.xlabel('Team')\n",
    "plt.ylabel('Lost Matches + Baskets Given')\n",
    "plt.xticks(rotation=90)\n",
    "plt.show()"
   ]
  },
  {
   "cell_type": "markdown",
   "id": "45f8b2be",
   "metadata": {},
   "source": [
    "**Observation**: Teams having the least favorable performances are teams 56-60."
   ]
  },
  {
   "cell_type": "markdown",
   "id": "f93bf5a4",
   "metadata": {},
   "source": [
    "#### Performing Univariate Analysis to visualize the distribution of team launch years and identify the teams with better experience."
   ]
  },
  {
   "cell_type": "code",
   "execution_count": 91,
   "id": "f7b16093",
   "metadata": {},
   "outputs": [
    {
     "data": {
      "image/png": "[encoded data removed]",
      "text/plain": [
       "<Figure size 500x500 with 1 Axes>"
      ]
     },
     "metadata": {},
     "output_type": "display_data"
    }
   ],
   "source": [
    "plt.figure(figsize=(5,5))\n",
    "sns.boxplot(data=data, y='TeamLaunch', palette='husl')\n",
    "plt.title('Team Launch Year Distribution')\n",
    "plt.ylabel('Team Launch Year')\n",
    "plt.show()"
   ]
  },
  {
   "cell_type": "markdown",
   "id": "8f595a5e",
   "metadata": {},
   "source": [
    "**Observation**: Teams with matured experiences lie between year 1935-1980(approx.)."
   ]
  },
  {
   "cell_type": "code",
   "execution_count": 92,
   "id": "405cc1ed",
   "metadata": {},
   "outputs": [
    {
     "name": "stdout",
     "output_type": "stream",
     "text": [
      "Teams with matured experience (launched between 1935 and 1980):\n",
      "8      Team 9\n",
      "10    Team 11\n",
      "11    Team 12\n",
      "12    Team 13\n",
      "14    Team 15\n",
      "15    Team 16\n",
      "16    Team 17\n",
      "18    Team 19\n",
      "19    Team 20\n",
      "21    Team 22\n",
      "22    Team 23\n",
      "23    Team 24\n",
      "25    Team 26\n",
      "26    Team 27\n",
      "27    Team 28\n",
      "29    Team 30\n",
      "30    Team 31\n",
      "31    Team 32\n",
      "32    Team 33\n",
      "34    Team 35\n",
      "37    Team 38\n",
      "39    Team 40\n",
      "40    Team 41\n",
      "41    Team 42\n",
      "46    Team 47\n",
      "49    Team 50\n",
      "50    Team 51\n",
      "52    Team 53\n",
      "54    Team 55\n",
      "57    Team 58\n",
      "58    Team 59\n",
      "59    Team 60\n",
      "Name: Team, dtype: object\n"
     ]
    }
   ],
   "source": [
    "mature_teams = data[(data['TeamLaunch'] >= 1935) & (data['TeamLaunch'] <= 1980)]\n",
    "\n",
    "print(\"Teams with matured experience (launched between 1935 and 1980):\")\n",
    "print(mature_teams['Team'])"
   ]
  },
  {
   "cell_type": "markdown",
   "id": "d1f51885",
   "metadata": {},
   "source": [
    "#### Performing Univariate Analysis to visualize the number of times each team appeared as a runner-up."
   ]
  },
  {
   "cell_type": "code",
   "execution_count": 124,
   "id": "e37b6088",
   "metadata": {},
   "outputs": [
    {
     "data": {
      "image/png": "[encoded data removed]",
      "text/plain": [
       "<Figure size 2000x1500 with 1 Axes>"
      ]
     },
     "metadata": {},
     "output_type": "display_data"
    }
   ],
   "source": [
    "plt.figure(figsize=(20, 15))\n",
    "sns.barplot(data=data, x='Team', y='Runner-up', palette='pastel')\n",
    "plt.title('Runner-up Appearances by Team')\n",
    "plt.xlabel('Team')\n",
    "plt.ylabel('Number of Runner-up Appearances')\n",
    "plt.xticks(rotation=90)\n",
    "plt.show()"
   ]
  },
  {
   "cell_type": "markdown",
   "id": "eb718a8f",
   "metadata": {},
   "source": [
    "**Observation**: Teams 1 and 2 have a strong and consistent performance but may lack the final push to secure the title."
   ]
  },
  {
   "cell_type": "markdown",
   "id": "a9340ffa",
   "metadata": {},
   "source": [
    "### Bivariate Analysis"
   ]
  },
  {
   "cell_type": "markdown",
   "id": "ac6f46e5",
   "metadata": {},
   "source": [
    "#### Performing Bivariate Analysis to compare the positions of teams on the leaderboard with the number of matches played."
   ]
  },
  {
   "cell_type": "code",
   "execution_count": 94,
   "id": "f751e576",
   "metadata": {
    "scrolled": false
   },
   "outputs": [
    {
     "data": {
      "image/png": "[encoded data removed]",
      "text/plain": [
       "<Figure size 1500x800 with 1 Axes>"
      ]
     },
     "metadata": {},
     "output_type": "display_data"
    }
   ],
   "source": [
    "plt.figure(figsize=(15, 8))\n",
    "sns.barplot(data=data, x='PlayedGames', y='HighestPositionHeld')\n",
    "plt.title('Team Positions vs. Matches Played')\n",
    "plt.xlabel('Matches Played')\n",
    "plt.ylabel('Highest Position Held')\n",
    "plt.xticks(rotation=90)\n",
    "plt.show()"
   ]
  },
  {
   "cell_type": "markdown",
   "id": "63241e93",
   "metadata": {},
   "source": [
    "**Observations**: The Error bars could indicate variability of performance across different teams. It implies that teams with similar numbers of matches played may achieve different highest positions in tournaments, indicating inconsistency or fluctuation in performance."
   ]
  },
  {
   "cell_type": "markdown",
   "id": "58c034e1",
   "metadata": {},
   "source": [
    "#### Multivariate Analysis"
   ]
  },
  {
   "cell_type": "code",
   "execution_count": 95,
   "id": "c86938dc",
   "metadata": {},
   "outputs": [
    {
     "data": {
      "image/png": "[encoded data removed]",
      "text/plain": [
       "<Figure size 1000x800 with 2 Axes>"
      ]
     },
     "metadata": {},
     "output_type": "display_data"
    }
   ],
   "source": [
    "data_without_team = data.drop(columns=['Team','LostGames_BasketGiven'])\n",
    "\n",
    "correlation_matrix = data_without_team.corr()\n",
    "\n",
    "# Plot heatmap\n",
    "plt.figure(figsize=(10, 8))\n",
    "sns.heatmap(correlation_matrix, annot=True, cmap='YlGnBu', fmt=\".2f\", linewidths=.5)\n",
    "plt.title('Correlation Matrix')\n",
    "plt.show()"
   ]
  },
  {
   "cell_type": "markdown",
   "id": "55187461",
   "metadata": {},
   "source": [
    "There is a **strong positive correlation** between PlayedGames and Tournament, Score and Tournament, PlayedGames and Score, WonGames and Tournament, WonGames and Score, WonGames and PlayedGames, DrawnGames and Tournament, DrawnGames and Score, DrawnGames and PlayedGames, DrawnGames and WonGames, LostGames and Tournament, LostGames and PlayedGames, LostGames and DrawnGames, BasketScored and Tournament, BasketScored and Score, BasketScored and PlayedGames, BasketScored and WonGames, BasketScored and DrawnGames, BasketGiven and Tournament, BasketGiven and Score, BasketGiven and PlayedGames, BasketGiven and WonGames, BasketGiven and DrawnGames, BasketGiven and LostGames, BasketGiven and BasketScored.\n",
    "\n",
    "Or, we can say that Tournament, Score, PlayedGames, WonGames, DrawnGames, LostGames, BasketScored, and BasketGiven are all having strong positive relationship. For example, as the number of games played (PlayedGames) increases, the tournament participation (Tournament) tends to increase as well. Similarly, higher scores (Score) are associated with more games played and higher tournament participation. This pattern repeats across various combinations of performance metrics, indicating consistent associations between these variables."
   ]
  },
  {
   "cell_type": "markdown",
   "id": "5a0f432e",
   "metadata": {},
   "source": [
    "There is **little to no linear relationship** between the number of tournament championships won by a team and the highest position held by that team in tournaments."
   ]
  },
  {
   "cell_type": "code",
   "execution_count": 96,
   "id": "727921b9",
   "metadata": {},
   "outputs": [
    {
     "data": {
      "image/png": "[encoded data removed]",
      "text/plain": [
       "<Figure size 400x400 with 1 Axes>"
      ]
     },
     "metadata": {},
     "output_type": "display_data"
    }
   ],
   "source": [
    "plt.figure(figsize=(4,4))\n",
    "sns.barplot(data=data, x='TournamentChampion', y='HighestPositionHeld', palette='rocket')\n",
    "plt.title('TournamentChampion vs. HighestPositionHeld')\n",
    "plt.xlabel('HighestPositionHeld')\n",
    "plt.ylabel('TournamentChampion')\n",
    "plt.show()"
   ]
  },
  {
   "cell_type": "markdown",
   "id": "7ea07263",
   "metadata": {},
   "source": [
    "There is a **strong negative correlation** between TeamLaunch and Tournament, TeamLaunch and BasketGiven, HighestPositionHeld and Tournament, HighestPositionHeld and Score, HighestPositionHeld and PlayedGames, HighestPositionHeld and WonGames, HighestPositionHeld and DrawnGames, HighestPositionHeld and LostGames, HighestPositionHeld and BasketScored, HighestPositionHeld and BasketGiven."
   ]
  },
  {
   "cell_type": "markdown",
   "id": "3559607e",
   "metadata": {},
   "source": [
    "#### Performance Report"
   ]
  },
  {
   "cell_type": "code",
   "execution_count": 97,
   "id": "16061c91",
   "metadata": {},
   "outputs": [
    {
     "name": "stdout",
     "output_type": "stream",
     "text": [
      "Performance Report:\n",
      "\n",
      "Top Performing Team: Team 1\n",
      "Oldest Team: Team 1\n",
      "Team with Highest Goals: Team 1\n",
      "Team with Lowest Performance: Team 60\n",
      "Average Win-Loss Ratio: 0.767614733903857\n",
      "Average Goal Difference: 0.11666666666666667\n",
      "Average Highest Position Held: 7.05\n",
      "Average Win-Loss Ratio Against Top Teams: 2.37567297156976\n"
     ]
    }
   ],
   "source": [
    "top_performing_team = data[data['Score'] == data['Score'].max()]['Team'].values[0]\n",
    "oldest_team = data[data['TeamLaunch'] == data['TeamLaunch'].min()]['Team'].values[0]\n",
    "team_highest_goals = data[data['BasketScored'] == data['BasketScored'].max()]['Team'].values[0]\n",
    "team_lowest_performance = data[data['Score'] == data['Score'].min()]['Team'].values[0]\n",
    "\n",
    "data['Win-Loss Ratio'] = data['WonGames'] / data['LostGames']\n",
    "data['Goal Difference'] = data['BasketScored'] - data['BasketGiven']\n",
    "\n",
    "# Calculating Rank based on Score\n",
    "data['Rank'] = data['Score'].rank(ascending=False)\n",
    "\n",
    "average_highest_position = data['HighestPositionHeld'].mean()\n",
    "top_teams_performance = data[data['Rank'] <= 3]  # Assuming 'Rank' column indicates team ranking\n",
    "top_teams_win_loss_ratio = top_teams_performance['Win-Loss Ratio'].mean()\n",
    "\n",
    "print(\"Performance Report:\\n\")\n",
    "print(\"Top Performing Team:\", top_performing_team)\n",
    "print(\"Oldest Team:\", oldest_team)\n",
    "print(\"Team with Highest Goals:\", team_highest_goals)\n",
    "print(\"Team with Lowest Performance:\", team_lowest_performance)\n",
    "print(\"Average Win-Loss Ratio:\", data['Win-Loss Ratio'].mean())\n",
    "print(\"Average Goal Difference:\", data['Goal Difference'].mean())\n",
    "print(\"Average Highest Position Held:\", average_highest_position)\n",
    "print(\"Average Win-Loss Ratio Against Top Teams:\", top_teams_win_loss_ratio)\n"
   ]
  },
  {
   "cell_type": "markdown",
   "id": "9cfe166f",
   "metadata": {},
   "source": [
    "## 3. Please include any improvements or suggestions to the association management on quality, quantity, variety, velocity, veracity etc. on the data points collected by the association to perform a better data analysis in future. At-least 1 suggestion for each point."
   ]
  },
  {
   "cell_type": "markdown",
   "id": "8b247ab1",
   "metadata": {},
   "source": [
    "### Improvements or suggestions:-"
   ]
  },
  {
   "cell_type": "markdown",
   "id": "eb56b353",
   "metadata": {},
   "source": [
    "#### Quality:\n",
    "\n",
    "**Improve Data Accuracy**: Ensure accurate and reliable data collection methods to minimize errors and inconsistencies. For example, verify the correctness of tournament outcomes and match statistics to avoid discrepancies in performance metrics.\n",
    "\n",
    "**Data Validation**: Implement data validation checks to identify and correct any incomplete entries. For instance, validate team launch dates to ensure they fall within plausible ranges and are not outliers.\n",
    "\n",
    "#### Quantity:\n",
    "\n",
    "**Expand Data Coverage**: Increase the breadth and depth of data collection by including additional relevant variables or capturing data from a larger sample size. For example, gather more detailed player statistics, such as individual goal scorers and assist counts, to provide a more comprehensive analysis of team performance.\n",
    "\n",
    "#### Variety:\n",
    "\n",
    "**Diversify Data Sources**: Incorporate data from multiple sources, such as official tournament records, team websites, and reputable sports databases, to enrich the dataset with diverse perspectives and reduce reliance on single data streams. This can provide a more holistic view of team performance and mitigate the risk of bias or incomplete information.\n",
    "\n",
    "**Include Contextual Information**: Supplement quantitative data with qualitative insights and contextual information, such as match reports, player interviews, to provide deeper insights into the factors influencing team performance.\n",
    "\n",
    "#### Velocity:\n",
    "\n",
    "**Real-time Data Updates**: Implement systems for real-time data updates to capture the latest match results, player statistics, and tournament standings promptly. This enables timely analysis and decision-making.\n",
    "\n",
    "**Automated Data Collection**: Utilize automated data collection tools and APIs to streamline the data acquisition process and reduce manual effort. This ensures data freshness and minimizes delays in data availability for analysis.\n",
    "\n",
    "#### Veracity:\n",
    "\n",
    "**Data Quality Assurance**: Establish robust data quality assurance processes to ensure data integrity, consistency, and trustworthiness. Conduct regular audits and validations to identify and address any data quality issues.\n",
    "\n",
    "**Transparency and Documentation**: Maintain clear documentation of data collection processing steps, and quality control measures to enhance transparency and accountability. This fosters confidence in the accuracy and reliability of the data among stakeholders."
   ]
  },
  {
   "cell_type": "markdown",
   "id": "fdcd68c9",
   "metadata": {},
   "source": [
    "# Part C"
   ]
  },
  {
   "cell_type": "markdown",
   "id": "99dde8eb",
   "metadata": {},
   "source": [
    "**DOMAIN**: Startup ecosystem \n",
    "\n",
    "**CONTEXT**:  Company X is a EU online publisher focusing on the startups industry. The company specifically reports on the business related to technology news, analysis of emerging trends and profiling of new tech businesses and products. Their event i.e. Startup Battlefield is the world’s pre-eminent startup competition. Startup Battlefield features 15-30 top early stage startups pitching top judges in front of a vast live audience, present in person and online. \n",
    "\n",
    "**DATA DESCRIPTION**: CompanyX_EU.csv - Each row in the dataset is a Start-up company and the columns describe the company.  \n",
    "\n",
    "**PROJECT OBJECTIVE**: Analyse the data of the various companies from the given dataset and perform the tasks that are specified in the below steps. Draw insights from the various attributes that are present in the dataset, plot distributions, state hypotheses and draw conclusions from the dataset."
   ]
  },
  {
   "cell_type": "markdown",
   "id": "571df62d",
   "metadata": {},
   "source": [
    "## 1. Read the CSV file. "
   ]
  },
  {
   "cell_type": "code",
   "execution_count": 98,
   "id": "6b9c4cb0",
   "metadata": {},
   "outputs": [
    {
     "data": {
      "text/html": [
       "<div>\n",
       "<style scoped>\n",
       "    .dataframe tbody tr th:only-of-type {\n",
       "        vertical-align: middle;\n",
       "    }\n",
       "\n",
       "    .dataframe tbody tr th {\n",
       "        vertical-align: top;\n",
       "    }\n",
       "\n",
       "    .dataframe thead th {\n",
       "        text-align: right;\n",
       "    }\n",
       "</style>\n",
       "<table border=\"1\" class=\"dataframe\">\n",
       "  <thead>\n",
       "    <tr style=\"text-align: right;\">\n",
       "      <th></th>\n",
       "      <th>Startup</th>\n",
       "      <th>Product</th>\n",
       "      <th>Funding</th>\n",
       "      <th>Event</th>\n",
       "      <th>Result</th>\n",
       "      <th>OperatingState</th>\n",
       "    </tr>\n",
       "  </thead>\n",
       "  <tbody>\n",
       "    <tr>\n",
       "      <th>0</th>\n",
       "      <td>2600Hz</td>\n",
       "      <td>2600hz.com</td>\n",
       "      <td>NaN</td>\n",
       "      <td>Disrupt SF 2013</td>\n",
       "      <td>Contestant</td>\n",
       "      <td>Operating</td>\n",
       "    </tr>\n",
       "    <tr>\n",
       "      <th>1</th>\n",
       "      <td>3DLT</td>\n",
       "      <td>3dlt.com</td>\n",
       "      <td>$630K</td>\n",
       "      <td>Disrupt NYC 2013</td>\n",
       "      <td>Contestant</td>\n",
       "      <td>Closed</td>\n",
       "    </tr>\n",
       "    <tr>\n",
       "      <th>2</th>\n",
       "      <td>3DPrinterOS</td>\n",
       "      <td>3dprinteros.com</td>\n",
       "      <td>NaN</td>\n",
       "      <td>Disrupt SF 2016</td>\n",
       "      <td>Contestant</td>\n",
       "      <td>Operating</td>\n",
       "    </tr>\n",
       "    <tr>\n",
       "      <th>3</th>\n",
       "      <td>3Dprintler</td>\n",
       "      <td>3dprintler.com</td>\n",
       "      <td>$1M</td>\n",
       "      <td>Disrupt NY 2016</td>\n",
       "      <td>Audience choice</td>\n",
       "      <td>Operating</td>\n",
       "    </tr>\n",
       "    <tr>\n",
       "      <th>4</th>\n",
       "      <td>42 Technologies</td>\n",
       "      <td>42technologies.com</td>\n",
       "      <td>NaN</td>\n",
       "      <td>Disrupt NYC 2013</td>\n",
       "      <td>Contestant</td>\n",
       "      <td>Operating</td>\n",
       "    </tr>\n",
       "  </tbody>\n",
       "</table>\n",
       "</div>"
      ],
      "text/plain": [
       "           Startup             Product Funding             Event  \\\n",
       "0           2600Hz          2600hz.com     NaN   Disrupt SF 2013   \n",
       "1             3DLT            3dlt.com   $630K  Disrupt NYC 2013   \n",
       "2      3DPrinterOS     3dprinteros.com     NaN   Disrupt SF 2016   \n",
       "3       3Dprintler      3dprintler.com     $1M   Disrupt NY 2016   \n",
       "4  42 Technologies  42technologies.com     NaN  Disrupt NYC 2013   \n",
       "\n",
       "            Result OperatingState  \n",
       "0       Contestant      Operating  \n",
       "1       Contestant         Closed  \n",
       "2       Contestant      Operating  \n",
       "3  Audience choice      Operating  \n",
       "4       Contestant      Operating  "
      ]
     },
     "execution_count": 98,
     "metadata": {},
     "output_type": "execute_result"
    }
   ],
   "source": [
    "data1 = pd.read_csv('DS+-+Part3+-+CompanyX_EU.csv')\n",
    "data1.head()"
   ]
  },
  {
   "cell_type": "markdown",
   "id": "79f7f602",
   "metadata": {},
   "source": [
    "## 2. Data Exploration:"
   ]
  },
  {
   "cell_type": "markdown",
   "id": "cf45f6d7",
   "metadata": {},
   "source": [
    "### A. Check the datatypes of each attribute. "
   ]
  },
  {
   "cell_type": "code",
   "execution_count": 99,
   "id": "5d62be14",
   "metadata": {},
   "outputs": [
    {
     "name": "stdout",
     "output_type": "stream",
     "text": [
      "Startup           object\n",
      "Product           object\n",
      "Funding           object\n",
      "Event             object\n",
      "Result            object\n",
      "OperatingState    object\n",
      "dtype: object\n"
     ]
    }
   ],
   "source": [
    "print(data1.dtypes)"
   ]
  },
  {
   "cell_type": "code",
   "execution_count": 100,
   "id": "60ad3c03",
   "metadata": {},
   "outputs": [
    {
     "name": "stdout",
     "output_type": "stream",
     "text": [
      "<class 'pandas.core.frame.DataFrame'>\n",
      "RangeIndex: 662 entries, 0 to 661\n",
      "Data columns (total 6 columns):\n",
      " #   Column          Non-Null Count  Dtype \n",
      "---  ------          --------------  ----- \n",
      " 0   Startup         662 non-null    object\n",
      " 1   Product         656 non-null    object\n",
      " 2   Funding         448 non-null    object\n",
      " 3   Event           662 non-null    object\n",
      " 4   Result          662 non-null    object\n",
      " 5   OperatingState  662 non-null    object\n",
      "dtypes: object(6)\n",
      "memory usage: 31.2+ KB\n"
     ]
    }
   ],
   "source": [
    "data1.info()"
   ]
  },
  {
   "cell_type": "markdown",
   "id": "11a6b9c9",
   "metadata": {},
   "source": [
    "### B. Check for null values in the attributes. "
   ]
  },
  {
   "cell_type": "code",
   "execution_count": 118,
   "id": "e3445c3c",
   "metadata": {},
   "outputs": [
    {
     "name": "stdout",
     "output_type": "stream",
     "text": [
      "Startup             0\n",
      "Product             0\n",
      "Funding             0\n",
      "Event               0\n",
      "Result              0\n",
      "OperatingState      0\n",
      "Funds_in_million    0\n",
      "dtype: int64\n"
     ]
    }
   ],
   "source": [
    "print(data1.isnull().sum())"
   ]
  },
  {
   "cell_type": "markdown",
   "id": "10c66268",
   "metadata": {},
   "source": [
    "## 3. Data preprocessing & visualisation: "
   ]
  },
  {
   "cell_type": "markdown",
   "id": "4eb14438",
   "metadata": {},
   "source": [
    "### A. Drop the null values."
   ]
  },
  {
   "cell_type": "code",
   "execution_count": 120,
   "id": "ab29cb4d",
   "metadata": {},
   "outputs": [
    {
     "name": "stdout",
     "output_type": "stream",
     "text": [
      "Startup             0\n",
      "Product             0\n",
      "Funding             0\n",
      "Event               0\n",
      "Result              0\n",
      "OperatingState      0\n",
      "Funds_in_million    0\n",
      "dtype: int64\n"
     ]
    }
   ],
   "source": [
    "data1.dropna(inplace=True)\n",
    "print(data1.isnull().sum())"
   ]
  },
  {
   "cell_type": "markdown",
   "id": "3adc89d8",
   "metadata": {},
   "source": [
    "### B. Convert the 'Funding' feature to a numerical value."
   ]
  },
  {
   "cell_type": "code",
   "execution_count": 121,
   "id": "91567266",
   "metadata": {},
   "outputs": [
    {
     "data": {
      "text/plain": [
       "1        0.63\n",
       "3        1.00\n",
       "5       19.30\n",
       "6       29.00\n",
       "10       1.80\n",
       "        ...  \n",
       "657      8.00\n",
       "658      1.00\n",
       "659    223.00\n",
       "660      3.40\n",
       "661     31.50\n",
       "Name: Funds_in_million, Length: 446, dtype: float64"
      ]
     },
     "execution_count": 121,
     "metadata": {},
     "output_type": "execute_result"
    }
   ],
   "source": [
    "data1['Funds_in_million'] = data1['Funding'].apply(lambda x: float(x[1:-1])/1000 if x[-1] == 'K' else (float(x[1:-1])*1000 if x[-1] == 'B' else float(x[1:-1])))\n",
    "data1['Funds_in_million']"
   ]
  },
  {
   "cell_type": "markdown",
   "id": "4b3a4f94",
   "metadata": {},
   "source": [
    "### C. Plot box plot for funds in million."
   ]
  },
  {
   "cell_type": "code",
   "execution_count": 104,
   "id": "8a27900f",
   "metadata": {},
   "outputs": [
    {
     "data": {
      "image/png": "[encoded data removed]",
      "text/plain": [
       "<Figure size 1500x800 with 1 Axes>"
      ]
     },
     "metadata": {},
     "output_type": "display_data"
    }
   ],
   "source": [
    "plt.figure(figsize=(15,8))\n",
    "plt.boxplot(data1['Funds_in_million'])\n",
    "plt.title('Box Plot of Funds Raised (in million)')\n",
    "plt.ylabel('Funds Raised (in million)')\n",
    "plt.show()"
   ]
  },
  {
   "cell_type": "markdown",
   "id": "48e3fdaf",
   "metadata": {},
   "source": [
    "### D. Check the number of outliers greater than the upper fence."
   ]
  },
  {
   "cell_type": "code",
   "execution_count": 105,
   "id": "4e384c12",
   "metadata": {},
   "outputs": [
    {
     "name": "stdout",
     "output_type": "stream",
     "text": [
      "Number of outliers greater than the upper fence: 60\n"
     ]
    }
   ],
   "source": [
    "Q1 = data1['Funds_in_million'].quantile(0.25)\n",
    "Q3 = data1['Funds_in_million'].quantile(0.75)\n",
    "IQR = Q3 - Q1\n",
    "\n",
    "upper_fence = Q3 + 1.5 * IQR\n",
    "outliers = data1[data1['Funds_in_million'] > upper_fence]\n",
    "print(\"Number of outliers greater than the upper fence:\", len(outliers))"
   ]
  },
  {
   "cell_type": "markdown",
   "id": "1c6a026c",
   "metadata": {},
   "source": [
    "### E. Check frequency of the OperatingState feature classes."
   ]
  },
  {
   "cell_type": "code",
   "execution_count": 106,
   "id": "999607ea",
   "metadata": {},
   "outputs": [
    {
     "data": {
      "text/plain": [
       "OperatingState\n",
       "Operating    319\n",
       "Acquired      66\n",
       "Closed        57\n",
       "Ipo            4\n",
       "Name: count, dtype: int64"
      ]
     },
     "execution_count": 106,
     "metadata": {},
     "output_type": "execute_result"
    }
   ],
   "source": [
    "data1['OperatingState'].value_counts()"
   ]
  },
  {
   "cell_type": "markdown",
   "id": "51fa3911",
   "metadata": {},
   "source": [
    "## 4. Statistical Analysis:"
   ]
  },
  {
   "cell_type": "markdown",
   "id": "926b7edc",
   "metadata": {},
   "source": [
    "### A. Is there any significant difference between Funds raised by companies that are still operating vs companies that closed down?"
   ]
  },
  {
   "cell_type": "markdown",
   "id": "b9bbe662",
   "metadata": {},
   "source": [
    "First let us check if the assumptions of the t-test are met. These assumptions include:\n",
    "\n",
    "*Normality*: The data should be approximately normally distributed within each group.\n",
    "\n",
    "*Homogeneity of variances*: The variances of the two groups should be approximately equal.\n",
    "\n",
    "*Statistical Test*: Two-sample t-test"
   ]
  },
  {
   "cell_type": "code",
   "execution_count": 108,
   "id": "dcf555cd",
   "metadata": {},
   "outputs": [
    {
     "name": "stdout",
     "output_type": "stream",
     "text": [
      "t-statistic: 1.1382924515740138\n",
      "p-value: 0.25572701885629406\n",
      "Fail to reject null hypothesis: There is no significant difference between funds raised by operating and closed companies.\n"
     ]
    }
   ],
   "source": [
    "import scipy.stats as stats\n",
    "# Separate the data into two groups: Operating and Closed\n",
    "operating_funds = data1[data1['OperatingState'] == 'Operating']['Funds_in_million']\n",
    "closed_funds = data1[data1['OperatingState'] == 'Closed']['Funds_in_million']\n",
    "\n",
    "# Perform two-sample t-test\n",
    "t_statistic, p_value = stats.ttest_ind(operating_funds, closed_funds, equal_var=True)\n",
    "\n",
    "print(\"t-statistic:\", t_statistic)\n",
    "print(\"p-value:\", p_value)\n",
    "\n",
    "# Interpret the results\n",
    "alpha = 0.05\n",
    "if p_value < alpha:\n",
    "    print(\"Reject null hypothesis: There is a significant difference between funds raised by operating and closed companies.\")\n",
    "else:\n",
    "    print(\"Fail to reject null hypothesis: There is no significant difference between funds raised by operating and closed companies.\")"
   ]
  },
  {
   "cell_type": "markdown",
   "id": "d1a74562",
   "metadata": {},
   "source": [
    "### B. Write the null hypothesis and alternative hypothesis."
   ]
  },
  {
   "cell_type": "markdown",
   "id": "8e01903c",
   "metadata": {},
   "source": [
    "**Null Hypothesis (H0):** There is no significant difference between the funds raised by companies that are still operating and companies that have closed down.\n",
    "\n",
    "**Alternative Hypothesis (H1):** There is a significant difference between the funds raised by companies that are still operating and companies that have closed down."
   ]
  },
  {
   "cell_type": "markdown",
   "id": "eab88326",
   "metadata": {},
   "source": [
    "### C. Test for significance and conclusion"
   ]
  },
  {
   "cell_type": "markdown",
   "id": "d9fe0762",
   "metadata": {},
   "source": [
    "We can perform a two-sample t-test to compare the means of funds raised between operating and closed companies. We'll use a significance level of α = 0.05."
   ]
  },
  {
   "cell_type": "code",
   "execution_count": 109,
   "id": "632beee9",
   "metadata": {},
   "outputs": [
    {
     "name": "stdout",
     "output_type": "stream",
     "text": [
      "t-statistic: 1.1382924515740138\n",
      "p-value: 0.25572701885629406\n",
      "Fail to reject null hypothesis: There is no significant difference between funds raised by operating and closed companies.\n"
     ]
    }
   ],
   "source": [
    "import scipy.stats as stats\n",
    "# Separate the data into two groups: Operating and Closed\n",
    "operating_funds = data1[data1['OperatingState'] == 'Operating']['Funds_in_million']\n",
    "closed_funds = data1[data1['OperatingState'] == 'Closed']['Funds_in_million']\n",
    "\n",
    "# Perform two-sample t-test\n",
    "t_statistic, p_value = stats.ttest_ind(operating_funds, closed_funds, equal_var=True)\n",
    "\n",
    "print(\"t-statistic:\", t_statistic)\n",
    "print(\"p-value:\", p_value)\n",
    "\n",
    "# Interpret the results\n",
    "alpha = 0.05\n",
    "if p_value < alpha:\n",
    "    print(\"Reject null hypothesis: There is a significant difference between funds raised by operating and closed companies.\")\n",
    "else:\n",
    "    print(\"Fail to reject null hypothesis: There is no significant difference between funds raised by operating and closed companies.\")"
   ]
  },
  {
   "cell_type": "markdown",
   "id": "a552aef7",
   "metadata": {},
   "source": [
    "### D. Make a copy of the original data frame."
   ]
  },
  {
   "cell_type": "code",
   "execution_count": 110,
   "id": "37a6af1e",
   "metadata": {},
   "outputs": [
    {
     "data": {
      "text/html": [
       "<div>\n",
       "<style scoped>\n",
       "    .dataframe tbody tr th:only-of-type {\n",
       "        vertical-align: middle;\n",
       "    }\n",
       "\n",
       "    .dataframe tbody tr th {\n",
       "        vertical-align: top;\n",
       "    }\n",
       "\n",
       "    .dataframe thead th {\n",
       "        text-align: right;\n",
       "    }\n",
       "</style>\n",
       "<table border=\"1\" class=\"dataframe\">\n",
       "  <thead>\n",
       "    <tr style=\"text-align: right;\">\n",
       "      <th></th>\n",
       "      <th>Startup</th>\n",
       "      <th>Product</th>\n",
       "      <th>Funding</th>\n",
       "      <th>Event</th>\n",
       "      <th>Result</th>\n",
       "      <th>OperatingState</th>\n",
       "      <th>Funds_in_million</th>\n",
       "    </tr>\n",
       "  </thead>\n",
       "  <tbody>\n",
       "    <tr>\n",
       "      <th>1</th>\n",
       "      <td>3DLT</td>\n",
       "      <td>3dlt.com</td>\n",
       "      <td>$630K</td>\n",
       "      <td>Disrupt NYC 2013</td>\n",
       "      <td>Contestant</td>\n",
       "      <td>Closed</td>\n",
       "      <td>0.63</td>\n",
       "    </tr>\n",
       "    <tr>\n",
       "      <th>3</th>\n",
       "      <td>3Dprintler</td>\n",
       "      <td>3dprintler.com</td>\n",
       "      <td>$1M</td>\n",
       "      <td>Disrupt NY 2016</td>\n",
       "      <td>Audience choice</td>\n",
       "      <td>Operating</td>\n",
       "      <td>1.00</td>\n",
       "    </tr>\n",
       "    <tr>\n",
       "      <th>5</th>\n",
       "      <td>5to1</td>\n",
       "      <td>5to1.com</td>\n",
       "      <td>$19.3M</td>\n",
       "      <td>TC50 2009</td>\n",
       "      <td>Contestant</td>\n",
       "      <td>Acquired</td>\n",
       "      <td>19.30</td>\n",
       "    </tr>\n",
       "    <tr>\n",
       "      <th>6</th>\n",
       "      <td>8 Securities</td>\n",
       "      <td>8securities.com</td>\n",
       "      <td>$29M</td>\n",
       "      <td>Disrupt Beijing 2011</td>\n",
       "      <td>Finalist</td>\n",
       "      <td>Operating</td>\n",
       "      <td>29.00</td>\n",
       "    </tr>\n",
       "    <tr>\n",
       "      <th>10</th>\n",
       "      <td>AdhereTech</td>\n",
       "      <td>adheretech.com</td>\n",
       "      <td>$1.8M</td>\n",
       "      <td>Hardware Battlefield 2014</td>\n",
       "      <td>Contestant</td>\n",
       "      <td>Operating</td>\n",
       "      <td>1.80</td>\n",
       "    </tr>\n",
       "  </tbody>\n",
       "</table>\n",
       "</div>"
      ],
      "text/plain": [
       "         Startup          Product Funding                      Event  \\\n",
       "1           3DLT         3dlt.com   $630K           Disrupt NYC 2013   \n",
       "3     3Dprintler   3dprintler.com     $1M            Disrupt NY 2016   \n",
       "5           5to1         5to1.com  $19.3M                  TC50 2009   \n",
       "6   8 Securities  8securities.com    $29M       Disrupt Beijing 2011   \n",
       "10    AdhereTech   adheretech.com   $1.8M  Hardware Battlefield 2014   \n",
       "\n",
       "             Result OperatingState  Funds_in_million  \n",
       "1        Contestant         Closed              0.63  \n",
       "3   Audience choice      Operating              1.00  \n",
       "5        Contestant       Acquired             19.30  \n",
       "6          Finalist      Operating             29.00  \n",
       "10       Contestant      Operating              1.80  "
      ]
     },
     "execution_count": 110,
     "metadata": {},
     "output_type": "execute_result"
    }
   ],
   "source": [
    "data_copy = data1.copy()\n",
    "data_copy.head()"
   ]
  },
  {
   "cell_type": "markdown",
   "id": "4697b9e9",
   "metadata": {},
   "source": [
    "### E. Check frequency distribution of Result variables."
   ]
  },
  {
   "cell_type": "code",
   "execution_count": 111,
   "id": "35cf70a7",
   "metadata": {},
   "outputs": [
    {
     "name": "stdout",
     "output_type": "stream",
     "text": [
      "Result\n",
      "Contestant         312\n",
      "Finalist            65\n",
      "Audience choice     25\n",
      "Winner              25\n",
      "Runner up           19\n",
      "Name: count, dtype: int64\n"
     ]
    }
   ],
   "source": [
    "print(data_copy['Result'].value_counts())"
   ]
  },
  {
   "cell_type": "markdown",
   "id": "c8f8e277",
   "metadata": {},
   "source": [
    "### F. Calculate the percentage of winners that are still operating and the percentage of contestants that are still operating."
   ]
  },
  {
   "cell_type": "code",
   "execution_count": 113,
   "id": "a37f16b6",
   "metadata": {},
   "outputs": [
    {
     "name": "stdout",
     "output_type": "stream",
     "text": [
      "Percentage of winners still operating: 72.0\n",
      "Percentage of contestants still operating: 68.58974358974359\n"
     ]
    }
   ],
   "source": [
    "winners_operating = data_copy[(data_copy['Result'] == 'Winner') & (data_copy['OperatingState'] == 'Operating')]\n",
    "contestants_operating = data_copy[(data_copy['Result'] == 'Contestant') & (data_copy['OperatingState'] == 'Operating')]\n",
    "\n",
    "percentage_winners_operating = len(winners_operating) / len(data_copy[data_copy['Result'] == 'Winner']) * 100\n",
    "percentage_contestants_operating = len(contestants_operating) / len(data_copy[data_copy['Result'] == 'Contestant']) * 100\n",
    "\n",
    "print(\"Percentage of winners still operating:\", percentage_winners_operating)\n",
    "print(\"Percentage of contestants still operating:\", percentage_contestants_operating)"
   ]
  },
  {
   "cell_type": "markdown",
   "id": "ce77d2c1",
   "metadata": {},
   "source": [
    "### G. Write your hypothesis comparing the proportion of companies that are operating between winners and contestants:"
   ]
  },
  {
   "cell_type": "markdown",
   "id": "8c340f60",
   "metadata": {},
   "source": [
    "**Null Hypothesis (H0):** There is no significant difference in the proportion of companies that are operating between winners and contestants.\n",
    "\n",
    "**Alternative Hypothesis (H1):** There is a significant difference in the proportion of companies that are operating between winners and contestants."
   ]
  },
  {
   "cell_type": "markdown",
   "id": "3ab77a30",
   "metadata": {},
   "source": [
    "We can perform a chi-square test of independence to determine if there is a significant association between the variables 'Result' (Winners vs. Contestants) and 'OperatingState' (Operating vs. Not Operating)."
   ]
  },
  {
   "cell_type": "markdown",
   "id": "8c5fc9b8",
   "metadata": {},
   "source": [
    "### H. Test for significance and conclusion"
   ]
  },
  {
   "cell_type": "code",
   "execution_count": 115,
   "id": "35169a35",
   "metadata": {},
   "outputs": [
    {
     "name": "stdout",
     "output_type": "stream",
     "text": [
      "Chi-square test statistic: 23.19776873509632\n",
      "p-value: 0.02609310570721727\n",
      "Reject null hypothesis: There is a significant difference in the proportion of companies operating between winners and contestants.\n"
     ]
    }
   ],
   "source": [
    "from scipy.stats import chi2_contingency\n",
    "\n",
    "# Creating a contingency table\n",
    "contingency_table = pd.crosstab(data_copy['Result'], data_copy['OperatingState'])\n",
    "\n",
    "# Perform chi-square test of independence\n",
    "chi2_stat, p_val, dof, expected = chi2_contingency(contingency_table)\n",
    "\n",
    "print(\"Chi-square test statistic:\", chi2_stat)\n",
    "print(\"p-value:\", p_val)\n",
    "\n",
    "# Interpret the results\n",
    "alpha = 0.05\n",
    "if p_val < alpha:\n",
    "    print(\"Reject null hypothesis: There is a significant difference in the proportion of companies operating between winners and contestants.\")\n",
    "else:\n",
    "    print(\"Fail to reject null hypothesis: There is no significant difference in the proportion of companies operating between winners and contestants.\")\n"
   ]
  },
  {
   "cell_type": "markdown",
   "id": "110cd001",
   "metadata": {},
   "source": [
    "### I. Select only the Event that has ‘disrupt’ keyword from 2013 onwards."
   ]
  },
  {
   "cell_type": "code",
   "execution_count": 116,
   "id": "e328bc49",
   "metadata": {},
   "outputs": [
    {
     "name": "stderr",
     "output_type": "stream",
     "text": [
      "C:\\Users\\janne\\AppData\\Local\\Temp\\ipykernel_20456\\1586243344.py:5: SettingWithCopyWarning: \n",
      "A value is trying to be set on a copy of a slice from a DataFrame.\n",
      "Try using .loc[row_indexer,col_indexer] = value instead\n",
      "\n",
      "See the caveats in the documentation: https://pandas.pydata.org/pandas-docs/stable/user_guide/indexing.html#returning-a-view-versus-a-copy\n",
      "  disrupt_events.loc[:, 'Year'] = disrupt_events['Event'].str.extract(r'(\\d{4})').astype(float)\n"
     ]
    },
    {
     "data": {
      "text/html": [
       "<div>\n",
       "<style scoped>\n",
       "    .dataframe tbody tr th:only-of-type {\n",
       "        vertical-align: middle;\n",
       "    }\n",
       "\n",
       "    .dataframe tbody tr th {\n",
       "        vertical-align: top;\n",
       "    }\n",
       "\n",
       "    .dataframe thead th {\n",
       "        text-align: right;\n",
       "    }\n",
       "</style>\n",
       "<table border=\"1\" class=\"dataframe\">\n",
       "  <thead>\n",
       "    <tr style=\"text-align: right;\">\n",
       "      <th></th>\n",
       "      <th>Startup</th>\n",
       "      <th>Product</th>\n",
       "      <th>Funding</th>\n",
       "      <th>Event</th>\n",
       "      <th>Result</th>\n",
       "      <th>OperatingState</th>\n",
       "      <th>Funds_in_million</th>\n",
       "      <th>Year</th>\n",
       "    </tr>\n",
       "  </thead>\n",
       "  <tbody>\n",
       "    <tr>\n",
       "      <th>1</th>\n",
       "      <td>3DLT</td>\n",
       "      <td>3dlt.com</td>\n",
       "      <td>$630K</td>\n",
       "      <td>Disrupt NYC 2013</td>\n",
       "      <td>Contestant</td>\n",
       "      <td>Closed</td>\n",
       "      <td>0.630</td>\n",
       "      <td>2013.0</td>\n",
       "    </tr>\n",
       "    <tr>\n",
       "      <th>3</th>\n",
       "      <td>3Dprintler</td>\n",
       "      <td>3dprintler.com</td>\n",
       "      <td>$1M</td>\n",
       "      <td>Disrupt NY 2016</td>\n",
       "      <td>Audience choice</td>\n",
       "      <td>Operating</td>\n",
       "      <td>1.000</td>\n",
       "      <td>2016.0</td>\n",
       "    </tr>\n",
       "    <tr>\n",
       "      <th>13</th>\n",
       "      <td>Agrilyst</td>\n",
       "      <td>agrilyst.com</td>\n",
       "      <td>$1M</td>\n",
       "      <td>Disrupt SF 2015</td>\n",
       "      <td>Winner</td>\n",
       "      <td>Operating</td>\n",
       "      <td>1.000</td>\n",
       "      <td>2015.0</td>\n",
       "    </tr>\n",
       "    <tr>\n",
       "      <th>14</th>\n",
       "      <td>Aiden</td>\n",
       "      <td>aiden.ai</td>\n",
       "      <td>$750K</td>\n",
       "      <td>Disrupt London 2016</td>\n",
       "      <td>Contestant</td>\n",
       "      <td>Operating</td>\n",
       "      <td>0.750</td>\n",
       "      <td>2016.0</td>\n",
       "    </tr>\n",
       "    <tr>\n",
       "      <th>16</th>\n",
       "      <td>Aircall</td>\n",
       "      <td>aircall.io</td>\n",
       "      <td>$11.6M</td>\n",
       "      <td>Disrupt SF 2015</td>\n",
       "      <td>Contestant</td>\n",
       "      <td>Operating</td>\n",
       "      <td>11.600</td>\n",
       "      <td>2015.0</td>\n",
       "    </tr>\n",
       "    <tr>\n",
       "      <th>...</th>\n",
       "      <td>...</td>\n",
       "      <td>...</td>\n",
       "      <td>...</td>\n",
       "      <td>...</td>\n",
       "      <td>...</td>\n",
       "      <td>...</td>\n",
       "      <td>...</td>\n",
       "      <td>...</td>\n",
       "    </tr>\n",
       "    <tr>\n",
       "      <th>641</th>\n",
       "      <td>Workspot</td>\n",
       "      <td>workspot.com</td>\n",
       "      <td>$15.8M</td>\n",
       "      <td>Disrupt NYC 2013</td>\n",
       "      <td>Contestant</td>\n",
       "      <td>Operating</td>\n",
       "      <td>15.800</td>\n",
       "      <td>2013.0</td>\n",
       "    </tr>\n",
       "    <tr>\n",
       "      <th>642</th>\n",
       "      <td>Xendo</td>\n",
       "      <td>xendo.com</td>\n",
       "      <td>$28K</td>\n",
       "      <td>Disrupt SF 2014</td>\n",
       "      <td>Contestant</td>\n",
       "      <td>Acquired</td>\n",
       "      <td>0.028</td>\n",
       "      <td>2014.0</td>\n",
       "    </tr>\n",
       "    <tr>\n",
       "      <th>646</th>\n",
       "      <td>YayPay Inc</td>\n",
       "      <td>yaypay.com</td>\n",
       "      <td>$900K</td>\n",
       "      <td>Disrupt London 2015</td>\n",
       "      <td>Contestant</td>\n",
       "      <td>Operating</td>\n",
       "      <td>0.900</td>\n",
       "      <td>2015.0</td>\n",
       "    </tr>\n",
       "    <tr>\n",
       "      <th>656</th>\n",
       "      <td>Zenefits</td>\n",
       "      <td>zenefits.com</td>\n",
       "      <td>$583.6M</td>\n",
       "      <td>Disrupt NYC 2013</td>\n",
       "      <td>Finalist</td>\n",
       "      <td>Operating</td>\n",
       "      <td>583.600</td>\n",
       "      <td>2013.0</td>\n",
       "    </tr>\n",
       "    <tr>\n",
       "      <th>660</th>\n",
       "      <td>Zula</td>\n",
       "      <td>zulaapp.com</td>\n",
       "      <td>$3.4M</td>\n",
       "      <td>Disrupt SF 2013</td>\n",
       "      <td>Audience choice</td>\n",
       "      <td>Operating</td>\n",
       "      <td>3.400</td>\n",
       "      <td>2013.0</td>\n",
       "    </tr>\n",
       "  </tbody>\n",
       "</table>\n",
       "<p>193 rows × 8 columns</p>\n",
       "</div>"
      ],
      "text/plain": [
       "        Startup         Product  Funding                Event  \\\n",
       "1          3DLT        3dlt.com    $630K     Disrupt NYC 2013   \n",
       "3    3Dprintler  3dprintler.com      $1M      Disrupt NY 2016   \n",
       "13     Agrilyst    agrilyst.com      $1M      Disrupt SF 2015   \n",
       "14        Aiden        aiden.ai    $750K  Disrupt London 2016   \n",
       "16      Aircall      aircall.io   $11.6M      Disrupt SF 2015   \n",
       "..          ...             ...      ...                  ...   \n",
       "641    Workspot    workspot.com   $15.8M     Disrupt NYC 2013   \n",
       "642       Xendo       xendo.com     $28K      Disrupt SF 2014   \n",
       "646  YayPay Inc      yaypay.com    $900K  Disrupt London 2015   \n",
       "656    Zenefits    zenefits.com  $583.6M     Disrupt NYC 2013   \n",
       "660        Zula     zulaapp.com    $3.4M      Disrupt SF 2013   \n",
       "\n",
       "              Result OperatingState  Funds_in_million    Year  \n",
       "1         Contestant         Closed             0.630  2013.0  \n",
       "3    Audience choice      Operating             1.000  2016.0  \n",
       "13            Winner      Operating             1.000  2015.0  \n",
       "14        Contestant      Operating             0.750  2016.0  \n",
       "16        Contestant      Operating            11.600  2015.0  \n",
       "..               ...            ...               ...     ...  \n",
       "641       Contestant      Operating            15.800  2013.0  \n",
       "642       Contestant       Acquired             0.028  2014.0  \n",
       "646       Contestant      Operating             0.900  2015.0  \n",
       "656         Finalist      Operating           583.600  2013.0  \n",
       "660  Audience choice      Operating             3.400  2013.0  \n",
       "\n",
       "[193 rows x 8 columns]"
      ]
     },
     "execution_count": 116,
     "metadata": {},
     "output_type": "execute_result"
    }
   ],
   "source": [
    "# Filter events that contain 'disrupt' keyword and extract year\n",
    "disrupt_events = data_copy[data_copy['Event'].str.contains('disrupt', case=False)]\n",
    "\n",
    "# Extract year using .loc and regular expression\n",
    "disrupt_events.loc[:, 'Year'] = disrupt_events['Event'].str.extract(r'(\\d{4})').astype(float)\n",
    "\n",
    "# Select events from 2013 onwards\n",
    "disrupt_events = disrupt_events[disrupt_events['Year'] >= 2013]\n",
    "disrupt_events"
   ]
  }
 ],
 "metadata": {
  "kernelspec": {
   "display_name": "Python 3 (ipykernel)",
   "language": "python",
   "name": "python3"
  },
  "language_info": {
   "codemirror_mode": {
    "name": "ipython",
    "version": 3
   },
   "file_extension": ".py",
   "mimetype": "text/x-python",
   "name": "python",
   "nbconvert_exporter": "python",
   "pygments_lexer": "ipython3",
   "version": "3.11.5"
  }
 },
 "nbformat": 4,
 "nbformat_minor": 5
}
