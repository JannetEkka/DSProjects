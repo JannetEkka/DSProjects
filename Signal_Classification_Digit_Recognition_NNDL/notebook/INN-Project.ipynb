{
 "cells": [
  {
   "cell_type": "code",
   "execution_count": 1,
   "metadata": {
    "colab": {
     "base_uri": "https://localhost:8080/"
    },
    "executionInfo": {
     "elapsed": 3736,
     "status": "ok",
     "timestamp": 1725774125584,
     "user": {
      "displayName": "Jannet Akanksha Ekka",
      "userId": "04295694532301703575"
     },
     "user_tz": -330
    },
    "id": "Dcz-y8l4jQf1",
    "outputId": "51d82607-6881-48d1-834b-aa9f1eb96c4f"
   },
   "outputs": [
    {
     "name": "stdout",
     "output_type": "stream",
     "text": [
      "Drive already mounted at /content/drive; to attempt to forcibly remount, call drive.mount(\"/content/drive\", force_remount=True).\n"
     ]
    }
   ],
   "source": [
    "from google.colab import drive\n",
    "drive.mount('/content/drive')"
   ]
  },
  {
   "cell_type": "markdown",
   "metadata": {
    "id": "-PCGP3OyiT6_"
   },
   "source": [
    "# Part A\n",
    "\n",
    "* **DOMAIN** : Electronics and Telecommunication\n",
    "* **CONTEXT**: A communications equipment manufacturing company has a product which is responsible for emitting informative signals.\n",
    "Company wants to build a machine learning model which can help the company to predict the equipment’s signal quality using various\n",
    "parameters.\n",
    "\n",
    "* **DATA DESCRIPTION**: The data set contains information on various signal tests performed:\n",
    "1. *Parameters*: Various measurable signal parameters.\n",
    "2. *Signal_Strength*: Final signal strength or quality\n",
    "* **PROJECT OBJECTIV**E: To build a classifier which can use the given parameters to determine the signal strength or quality."
   ]
  },
  {
   "cell_type": "markdown",
   "metadata": {
    "id": "jqvGDNUIi9-C"
   },
   "source": [
    "# Steps and tasks:\n",
    "\n",
    "1. Data import and Understanding:\n",
    "\n",
    "A. Read the ‘Signal.csv’ as DataFrame and import required libraries"
   ]
  },
  {
   "cell_type": "code",
   "execution_count": 2,
   "metadata": {
    "executionInfo": {
     "elapsed": 14393,
     "status": "ok",
     "timestamp": 1725774139975,
     "user": {
      "displayName": "Jannet Akanksha Ekka",
      "userId": "04295694532301703575"
     },
     "user_tz": -330
    },
    "id": "sGgWg7rrpUpe"
   },
   "outputs": [],
   "source": [
    "import pandas as pd\n",
    "import numpy as np\n",
    "import matplotlib.pyplot as plt\n",
    "import seaborn as sns\n",
    "from sklearn.model_selection import train_test_split\n",
    "from sklearn.preprocessing import StandardScaler, LabelEncoder\n",
    "from tensorflow.keras.utils import to_categorical\n",
    "from tensorflow.keras import layers, models, optimizers, regularizers\n",
    "import tensorflow as tf\n",
    "from keras.callbacks import EarlyStopping"
   ]
  },
  {
   "cell_type": "code",
   "execution_count": 3,
   "metadata": {
    "colab": {
     "base_uri": "https://localhost:8080/",
     "height": 206
    },
    "executionInfo": {
     "elapsed": 1003,
     "status": "ok",
     "timestamp": 1725774140975,
     "user": {
      "displayName": "Jannet Akanksha Ekka",
      "userId": "04295694532301703575"
     },
     "user_tz": -330
    },
    "id": "zaD8O0DBjDfV",
    "outputId": "a8421acf-ba5b-45bd-f06a-a51d84603919"
   },
   "outputs": [
    {
     "data": {
      "application/vnd.google.colaboratory.intrinsic+json": {
       "summary": "{\n  \"name\": \"df\",\n  \"rows\": 1599,\n  \"fields\": [\n    {\n      \"column\": \"Parameter 1\",\n      \"properties\": {\n        \"dtype\": \"number\",\n        \"std\": 1.7410963181276953,\n        \"min\": 4.6,\n        \"max\": 15.9,\n        \"num_unique_values\": 96,\n        \"samples\": [\n          5.3,\n          12.7,\n          12.6\n        ],\n        \"semantic_type\": \"\",\n        \"description\": \"\"\n      }\n    },\n    {\n      \"column\": \"Parameter 2\",\n      \"properties\": {\n        \"dtype\": \"number\",\n        \"std\": 0.17905970415353537,\n        \"min\": 0.12,\n        \"max\": 1.58,\n        \"num_unique_values\": 143,\n        \"samples\": [\n          1.025,\n          0.4,\n          0.87\n        ],\n        \"semantic_type\": \"\",\n        \"description\": \"\"\n      }\n    },\n    {\n      \"column\": \"Parameter 3\",\n      \"properties\": {\n        \"dtype\": \"number\",\n        \"std\": 0.19480113740531857,\n        \"min\": 0.0,\n        \"max\": 1.0,\n        \"num_unique_values\": 80,\n        \"samples\": [\n          0.37,\n          0.0,\n          0.09\n        ],\n        \"semantic_type\": \"\",\n        \"description\": \"\"\n      }\n    },\n    {\n      \"column\": \"Parameter 4\",\n      \"properties\": {\n        \"dtype\": \"number\",\n        \"std\": 1.4099280595072798,\n        \"min\": 0.9,\n        \"max\": 15.5,\n        \"num_unique_values\": 91,\n        \"samples\": [\n          11.0,\n          3.0,\n          15.5\n        ],\n        \"semantic_type\": \"\",\n        \"description\": \"\"\n      }\n    },\n    {\n      \"column\": \"Parameter 5\",\n      \"properties\": {\n        \"dtype\": \"number\",\n        \"std\": 0.0470653020100901,\n        \"min\": 0.012,\n        \"max\": 0.611,\n        \"num_unique_values\": 153,\n        \"samples\": [\n          0.096,\n          0.343,\n          0.159\n        ],\n        \"semantic_type\": \"\",\n        \"description\": \"\"\n      }\n    },\n    {\n      \"column\": \"Parameter 6\",\n      \"properties\": {\n        \"dtype\": \"number\",\n        \"std\": 10.460156969809725,\n        \"min\": 1.0,\n        \"max\": 72.0,\n        \"num_unique_values\": 60,\n        \"samples\": [\n          11.0,\n          9.0,\n          32.0\n        ],\n        \"semantic_type\": \"\",\n        \"description\": \"\"\n      }\n    },\n    {\n      \"column\": \"Parameter 7\",\n      \"properties\": {\n        \"dtype\": \"number\",\n        \"std\": 32.895324478299074,\n        \"min\": 6.0,\n        \"max\": 289.0,\n        \"num_unique_values\": 144,\n        \"samples\": [\n          68.0,\n          35.0,\n          101.0\n        ],\n        \"semantic_type\": \"\",\n        \"description\": \"\"\n      }\n    },\n    {\n      \"column\": \"Parameter 8\",\n      \"properties\": {\n        \"dtype\": \"number\",\n        \"std\": 0.0018873339538425554,\n        \"min\": 0.99007,\n        \"max\": 1.00369,\n        \"num_unique_values\": 436,\n        \"samples\": [\n          0.99974,\n          1.0001,\n          0.99471\n        ],\n        \"semantic_type\": \"\",\n        \"description\": \"\"\n      }\n    },\n    {\n      \"column\": \"Parameter 9\",\n      \"properties\": {\n        \"dtype\": \"number\",\n        \"std\": 0.15438646490354277,\n        \"min\": 2.74,\n        \"max\": 4.01,\n        \"num_unique_values\": 89,\n        \"samples\": [\n          3.07,\n          3.0,\n          3.15\n        ],\n        \"semantic_type\": \"\",\n        \"description\": \"\"\n      }\n    },\n    {\n      \"column\": \"Parameter 10\",\n      \"properties\": {\n        \"dtype\": \"number\",\n        \"std\": 0.16950697959010996,\n        \"min\": 0.33,\n        \"max\": 2.0,\n        \"num_unique_values\": 96,\n        \"samples\": [\n          1.07,\n          1.04,\n          1.18\n        ],\n        \"semantic_type\": \"\",\n        \"description\": \"\"\n      }\n    },\n    {\n      \"column\": \"Parameter 11\",\n      \"properties\": {\n        \"dtype\": \"number\",\n        \"std\": 1.0656675818563988,\n        \"min\": 8.4,\n        \"max\": 14.9,\n        \"num_unique_values\": 65,\n        \"samples\": [\n          8.5,\n          9.95,\n          9.4\n        ],\n        \"semantic_type\": \"\",\n        \"description\": \"\"\n      }\n    },\n    {\n      \"column\": \"Signal_Strength\",\n      \"properties\": {\n        \"dtype\": \"number\",\n        \"std\": 0,\n        \"min\": 3,\n        \"max\": 8,\n        \"num_unique_values\": 6,\n        \"samples\": [\n          5,\n          6,\n          3\n        ],\n        \"semantic_type\": \"\",\n        \"description\": \"\"\n      }\n    }\n  ]\n}",
       "type": "dataframe",
       "variable_name": "df"
      },
      "text/html": [
       "\n",
       "  <div id=\"df-866a5d9c-7b71-43ae-919c-c5c6ba08e15a\" class=\"colab-df-container\">\n",
       "    <div>\n",
       "<style scoped>\n",
       "    .dataframe tbody tr th:only-of-type {\n",
       "        vertical-align: middle;\n",
       "    }\n",
       "\n",
       "    .dataframe tbody tr th {\n",
       "        vertical-align: top;\n",
       "    }\n",
       "\n",
       "    .dataframe thead th {\n",
       "        text-align: right;\n",
       "    }\n",
       "</style>\n",
       "<table border=\"1\" class=\"dataframe\">\n",
       "  <thead>\n",
       "    <tr style=\"text-align: right;\">\n",
       "      <th></th>\n",
       "      <th>Parameter 1</th>\n",
       "      <th>Parameter 2</th>\n",
       "      <th>Parameter 3</th>\n",
       "      <th>Parameter 4</th>\n",
       "      <th>Parameter 5</th>\n",
       "      <th>Parameter 6</th>\n",
       "      <th>Parameter 7</th>\n",
       "      <th>Parameter 8</th>\n",
       "      <th>Parameter 9</th>\n",
       "      <th>Parameter 10</th>\n",
       "      <th>Parameter 11</th>\n",
       "      <th>Signal_Strength</th>\n",
       "    </tr>\n",
       "  </thead>\n",
       "  <tbody>\n",
       "    <tr>\n",
       "      <th>0</th>\n",
       "      <td>7.4</td>\n",
       "      <td>0.70</td>\n",
       "      <td>0.00</td>\n",
       "      <td>1.9</td>\n",
       "      <td>0.076</td>\n",
       "      <td>11.0</td>\n",
       "      <td>34.0</td>\n",
       "      <td>0.9978</td>\n",
       "      <td>3.51</td>\n",
       "      <td>0.56</td>\n",
       "      <td>9.4</td>\n",
       "      <td>5</td>\n",
       "    </tr>\n",
       "    <tr>\n",
       "      <th>1</th>\n",
       "      <td>7.8</td>\n",
       "      <td>0.88</td>\n",
       "      <td>0.00</td>\n",
       "      <td>2.6</td>\n",
       "      <td>0.098</td>\n",
       "      <td>25.0</td>\n",
       "      <td>67.0</td>\n",
       "      <td>0.9968</td>\n",
       "      <td>3.20</td>\n",
       "      <td>0.68</td>\n",
       "      <td>9.8</td>\n",
       "      <td>5</td>\n",
       "    </tr>\n",
       "    <tr>\n",
       "      <th>2</th>\n",
       "      <td>7.8</td>\n",
       "      <td>0.76</td>\n",
       "      <td>0.04</td>\n",
       "      <td>2.3</td>\n",
       "      <td>0.092</td>\n",
       "      <td>15.0</td>\n",
       "      <td>54.0</td>\n",
       "      <td>0.9970</td>\n",
       "      <td>3.26</td>\n",
       "      <td>0.65</td>\n",
       "      <td>9.8</td>\n",
       "      <td>5</td>\n",
       "    </tr>\n",
       "    <tr>\n",
       "      <th>3</th>\n",
       "      <td>11.2</td>\n",
       "      <td>0.28</td>\n",
       "      <td>0.56</td>\n",
       "      <td>1.9</td>\n",
       "      <td>0.075</td>\n",
       "      <td>17.0</td>\n",
       "      <td>60.0</td>\n",
       "      <td>0.9980</td>\n",
       "      <td>3.16</td>\n",
       "      <td>0.58</td>\n",
       "      <td>9.8</td>\n",
       "      <td>6</td>\n",
       "    </tr>\n",
       "    <tr>\n",
       "      <th>4</th>\n",
       "      <td>7.4</td>\n",
       "      <td>0.70</td>\n",
       "      <td>0.00</td>\n",
       "      <td>1.9</td>\n",
       "      <td>0.076</td>\n",
       "      <td>11.0</td>\n",
       "      <td>34.0</td>\n",
       "      <td>0.9978</td>\n",
       "      <td>3.51</td>\n",
       "      <td>0.56</td>\n",
       "      <td>9.4</td>\n",
       "      <td>5</td>\n",
       "    </tr>\n",
       "  </tbody>\n",
       "</table>\n",
       "</div>\n",
       "    <div class=\"colab-df-buttons\">\n",
       "\n",
       "  <div class=\"colab-df-container\">\n",
       "    <button class=\"colab-df-convert\" onclick=\"convertToInteractive('df-866a5d9c-7b71-43ae-919c-c5c6ba08e15a')\"\n",
       "            title=\"Convert this dataframe to an interactive table.\"\n",
       "            style=\"display:none;\">\n",
       "\n",
       "  <svg xmlns=\"http://www.w3.org/2000/svg\" height=\"24px\" viewBox=\"0 -960 960 960\">\n",
       "    <path d=\"M120-120v-720h720v720H120Zm60-500h600v-160H180v160Zm220 220h160v-160H400v160Zm0 220h160v-160H400v160ZM180-400h160v-160H180v160Zm440 0h160v-160H620v160ZM180-180h160v-160H180v160Zm440 0h160v-160H620v160Z\"/>\n",
       "  </svg>\n",
       "    </button>\n",
       "\n",
       "  <style>\n",
       "    .colab-df-container {\n",
       "      display:flex;\n",
       "      gap: 12px;\n",
       "    }\n",
       "\n",
       "    .colab-df-convert {\n",
       "      background-color: #E8F0FE;\n",
       "      border: none;\n",
       "      border-radius: 50%;\n",
       "      cursor: pointer;\n",
       "      display: none;\n",
       "      fill: #1967D2;\n",
       "      height: 32px;\n",
       "      padding: 0 0 0 0;\n",
       "      width: 32px;\n",
       "    }\n",
       "\n",
       "    .colab-df-convert:hover {\n",
       "      background-color: #E2EBFA;\n",
       "      box-shadow: 0px 1px 2px rgba(60, 64, 67, 0.3), 0px 1px 3px 1px rgba(60, 64, 67, 0.15);\n",
       "      fill: #174EA6;\n",
       "    }\n",
       "\n",
       "    .colab-df-buttons div {\n",
       "      margin-bottom: 4px;\n",
       "    }\n",
       "\n",
       "    [theme=dark] .colab-df-convert {\n",
       "      background-color: #3B4455;\n",
       "      fill: #D2E3FC;\n",
       "    }\n",
       "\n",
       "    [theme=dark] .colab-df-convert:hover {\n",
       "      background-color: #434B5C;\n",
       "      box-shadow: 0px 1px 3px 1px rgba(0, 0, 0, 0.15);\n",
       "      filter: drop-shadow(0px 1px 2px rgba(0, 0, 0, 0.3));\n",
       "      fill: #FFFFFF;\n",
       "    }\n",
       "  </style>\n",
       "\n",
       "    <script>\n",
       "      const buttonEl =\n",
       "        document.querySelector('#df-866a5d9c-7b71-43ae-919c-c5c6ba08e15a button.colab-df-convert');\n",
       "      buttonEl.style.display =\n",
       "        google.colab.kernel.accessAllowed ? 'block' : 'none';\n",
       "\n",
       "      async function convertToInteractive(key) {\n",
       "        const element = document.querySelector('#df-866a5d9c-7b71-43ae-919c-c5c6ba08e15a');\n",
       "        const dataTable =\n",
       "          await google.colab.kernel.invokeFunction('convertToInteractive',\n",
       "                                                    [key], {});\n",
       "        if (!dataTable) return;\n",
       "\n",
       "        const docLinkHtml = 'Like what you see? Visit the ' +\n",
       "          '<a target=\"_blank\" href=https://colab.research.google.com/notebooks/data_table.ipynb>data table notebook</a>'\n",
       "          + ' to learn more about interactive tables.';\n",
       "        element.innerHTML = '';\n",
       "        dataTable['output_type'] = 'display_data';\n",
       "        await google.colab.output.renderOutput(dataTable, element);\n",
       "        const docLink = document.createElement('div');\n",
       "        docLink.innerHTML = docLinkHtml;\n",
       "        element.appendChild(docLink);\n",
       "      }\n",
       "    </script>\n",
       "  </div>\n",
       "\n",
       "\n",
       "<div id=\"df-8eda8501-ec5f-4f48-b838-43c8df045c1b\">\n",
       "  <button class=\"colab-df-quickchart\" onclick=\"quickchart('df-8eda8501-ec5f-4f48-b838-43c8df045c1b')\"\n",
       "            title=\"Suggest charts\"\n",
       "            style=\"display:none;\">\n",
       "\n",
       "<svg xmlns=\"http://www.w3.org/2000/svg\" height=\"24px\"viewBox=\"0 0 24 24\"\n",
       "     width=\"24px\">\n",
       "    <g>\n",
       "        <path d=\"M19 3H5c-1.1 0-2 .9-2 2v14c0 1.1.9 2 2 2h14c1.1 0 2-.9 2-2V5c0-1.1-.9-2-2-2zM9 17H7v-7h2v7zm4 0h-2V7h2v10zm4 0h-2v-4h2v4z\"/>\n",
       "    </g>\n",
       "</svg>\n",
       "  </button>\n",
       "\n",
       "<style>\n",
       "  .colab-df-quickchart {\n",
       "      --bg-color: #E8F0FE;\n",
       "      --fill-color: #1967D2;\n",
       "      --hover-bg-color: #E2EBFA;\n",
       "      --hover-fill-color: #174EA6;\n",
       "      --disabled-fill-color: #AAA;\n",
       "      --disabled-bg-color: #DDD;\n",
       "  }\n",
       "\n",
       "  [theme=dark] .colab-df-quickchart {\n",
       "      --bg-color: #3B4455;\n",
       "      --fill-color: #D2E3FC;\n",
       "      --hover-bg-color: #434B5C;\n",
       "      --hover-fill-color: #FFFFFF;\n",
       "      --disabled-bg-color: #3B4455;\n",
       "      --disabled-fill-color: #666;\n",
       "  }\n",
       "\n",
       "  .colab-df-quickchart {\n",
       "    background-color: var(--bg-color);\n",
       "    border: none;\n",
       "    border-radius: 50%;\n",
       "    cursor: pointer;\n",
       "    display: none;\n",
       "    fill: var(--fill-color);\n",
       "    height: 32px;\n",
       "    padding: 0;\n",
       "    width: 32px;\n",
       "  }\n",
       "\n",
       "  .colab-df-quickchart:hover {\n",
       "    background-color: var(--hover-bg-color);\n",
       "    box-shadow: 0 1px 2px rgba(60, 64, 67, 0.3), 0 1px 3px 1px rgba(60, 64, 67, 0.15);\n",
       "    fill: var(--button-hover-fill-color);\n",
       "  }\n",
       "\n",
       "  .colab-df-quickchart-complete:disabled,\n",
       "  .colab-df-quickchart-complete:disabled:hover {\n",
       "    background-color: var(--disabled-bg-color);\n",
       "    fill: var(--disabled-fill-color);\n",
       "    box-shadow: none;\n",
       "  }\n",
       "\n",
       "  .colab-df-spinner {\n",
       "    border: 2px solid var(--fill-color);\n",
       "    border-color: transparent;\n",
       "    border-bottom-color: var(--fill-color);\n",
       "    animation:\n",
       "      spin 1s steps(1) infinite;\n",
       "  }\n",
       "\n",
       "  @keyframes spin {\n",
       "    0% {\n",
       "      border-color: transparent;\n",
       "      border-bottom-color: var(--fill-color);\n",
       "      border-left-color: var(--fill-color);\n",
       "    }\n",
       "    20% {\n",
       "      border-color: transparent;\n",
       "      border-left-color: var(--fill-color);\n",
       "      border-top-color: var(--fill-color);\n",
       "    }\n",
       "    30% {\n",
       "      border-color: transparent;\n",
       "      border-left-color: var(--fill-color);\n",
       "      border-top-color: var(--fill-color);\n",
       "      border-right-color: var(--fill-color);\n",
       "    }\n",
       "    40% {\n",
       "      border-color: transparent;\n",
       "      border-right-color: var(--fill-color);\n",
       "      border-top-color: var(--fill-color);\n",
       "    }\n",
       "    60% {\n",
       "      border-color: transparent;\n",
       "      border-right-color: var(--fill-color);\n",
       "    }\n",
       "    80% {\n",
       "      border-color: transparent;\n",
       "      border-right-color: var(--fill-color);\n",
       "      border-bottom-color: var(--fill-color);\n",
       "    }\n",
       "    90% {\n",
       "      border-color: transparent;\n",
       "      border-bottom-color: var(--fill-color);\n",
       "    }\n",
       "  }\n",
       "</style>\n",
       "\n",
       "  <script>\n",
       "    async function quickchart(key) {\n",
       "      const quickchartButtonEl =\n",
       "        document.querySelector('#' + key + ' button');\n",
       "      quickchartButtonEl.disabled = true;  // To prevent multiple clicks.\n",
       "      quickchartButtonEl.classList.add('colab-df-spinner');\n",
       "      try {\n",
       "        const charts = await google.colab.kernel.invokeFunction(\n",
       "            'suggestCharts', [key], {});\n",
       "      } catch (error) {\n",
       "        console.error('Error during call to suggestCharts:', error);\n",
       "      }\n",
       "      quickchartButtonEl.classList.remove('colab-df-spinner');\n",
       "      quickchartButtonEl.classList.add('colab-df-quickchart-complete');\n",
       "    }\n",
       "    (() => {\n",
       "      let quickchartButtonEl =\n",
       "        document.querySelector('#df-8eda8501-ec5f-4f48-b838-43c8df045c1b button');\n",
       "      quickchartButtonEl.style.display =\n",
       "        google.colab.kernel.accessAllowed ? 'block' : 'none';\n",
       "    })();\n",
       "  </script>\n",
       "</div>\n",
       "\n",
       "    </div>\n",
       "  </div>\n"
      ],
      "text/plain": [
       "   Parameter 1  Parameter 2  Parameter 3  Parameter 4  Parameter 5  \\\n",
       "0          7.4         0.70         0.00          1.9        0.076   \n",
       "1          7.8         0.88         0.00          2.6        0.098   \n",
       "2          7.8         0.76         0.04          2.3        0.092   \n",
       "3         11.2         0.28         0.56          1.9        0.075   \n",
       "4          7.4         0.70         0.00          1.9        0.076   \n",
       "\n",
       "   Parameter 6  Parameter 7  Parameter 8  Parameter 9  Parameter 10  \\\n",
       "0         11.0         34.0       0.9978         3.51          0.56   \n",
       "1         25.0         67.0       0.9968         3.20          0.68   \n",
       "2         15.0         54.0       0.9970         3.26          0.65   \n",
       "3         17.0         60.0       0.9980         3.16          0.58   \n",
       "4         11.0         34.0       0.9978         3.51          0.56   \n",
       "\n",
       "   Parameter 11  Signal_Strength  \n",
       "0           9.4                5  \n",
       "1           9.8                5  \n",
       "2           9.8                5  \n",
       "3           9.8                6  \n",
       "4           9.4                5  "
      ]
     },
     "execution_count": 3,
     "metadata": {},
     "output_type": "execute_result"
    }
   ],
   "source": [
    "df = pd.read_csv('/content/drive/MyDrive/Colab Notebooks/INN Project/Signal.csv')\n",
    "df.head()"
   ]
  },
  {
   "cell_type": "markdown",
   "metadata": {
    "id": "KgdWjM1JltFa"
   },
   "source": [
    "B. Check for missing values and print percentage for each attribute."
   ]
  },
  {
   "cell_type": "code",
   "execution_count": 4,
   "metadata": {
    "colab": {
     "base_uri": "https://localhost:8080/",
     "height": 460
    },
    "executionInfo": {
     "elapsed": 12,
     "status": "ok",
     "timestamp": 1725774140976,
     "user": {
      "displayName": "Jannet Akanksha Ekka",
      "userId": "04295694532301703575"
     },
     "user_tz": -330
    },
    "id": "olipIPpmluku",
    "outputId": "536f68c4-a036-4d77-ee2a-171e7dfb1492"
   },
   "outputs": [
    {
     "data": {
      "text/html": [
       "<div>\n",
       "<style scoped>\n",
       "    .dataframe tbody tr th:only-of-type {\n",
       "        vertical-align: middle;\n",
       "    }\n",
       "\n",
       "    .dataframe tbody tr th {\n",
       "        vertical-align: top;\n",
       "    }\n",
       "\n",
       "    .dataframe thead th {\n",
       "        text-align: right;\n",
       "    }\n",
       "</style>\n",
       "<table border=\"1\" class=\"dataframe\">\n",
       "  <thead>\n",
       "    <tr style=\"text-align: right;\">\n",
       "      <th></th>\n",
       "      <th>0</th>\n",
       "    </tr>\n",
       "  </thead>\n",
       "  <tbody>\n",
       "    <tr>\n",
       "      <th>Parameter 1</th>\n",
       "      <td>0</td>\n",
       "    </tr>\n",
       "    <tr>\n",
       "      <th>Parameter 2</th>\n",
       "      <td>0</td>\n",
       "    </tr>\n",
       "    <tr>\n",
       "      <th>Parameter 3</th>\n",
       "      <td>0</td>\n",
       "    </tr>\n",
       "    <tr>\n",
       "      <th>Parameter 4</th>\n",
       "      <td>0</td>\n",
       "    </tr>\n",
       "    <tr>\n",
       "      <th>Parameter 5</th>\n",
       "      <td>0</td>\n",
       "    </tr>\n",
       "    <tr>\n",
       "      <th>Parameter 6</th>\n",
       "      <td>0</td>\n",
       "    </tr>\n",
       "    <tr>\n",
       "      <th>Parameter 7</th>\n",
       "      <td>0</td>\n",
       "    </tr>\n",
       "    <tr>\n",
       "      <th>Parameter 8</th>\n",
       "      <td>0</td>\n",
       "    </tr>\n",
       "    <tr>\n",
       "      <th>Parameter 9</th>\n",
       "      <td>0</td>\n",
       "    </tr>\n",
       "    <tr>\n",
       "      <th>Parameter 10</th>\n",
       "      <td>0</td>\n",
       "    </tr>\n",
       "    <tr>\n",
       "      <th>Parameter 11</th>\n",
       "      <td>0</td>\n",
       "    </tr>\n",
       "    <tr>\n",
       "      <th>Signal_Strength</th>\n",
       "      <td>0</td>\n",
       "    </tr>\n",
       "  </tbody>\n",
       "</table>\n",
       "</div><br><label><b>dtype:</b> int64</label>"
      ],
      "text/plain": [
       "Parameter 1        0\n",
       "Parameter 2        0\n",
       "Parameter 3        0\n",
       "Parameter 4        0\n",
       "Parameter 5        0\n",
       "Parameter 6        0\n",
       "Parameter 7        0\n",
       "Parameter 8        0\n",
       "Parameter 9        0\n",
       "Parameter 10       0\n",
       "Parameter 11       0\n",
       "Signal_Strength    0\n",
       "dtype: int64"
      ]
     },
     "execution_count": 4,
     "metadata": {},
     "output_type": "execute_result"
    }
   ],
   "source": [
    "df.isnull().sum()"
   ]
  },
  {
   "cell_type": "markdown",
   "metadata": {
    "id": "0f9za1CimA49"
   },
   "source": [
    "There are no missing values in the dataset."
   ]
  },
  {
   "cell_type": "markdown",
   "metadata": {
    "id": "qNS79BLYmI2x"
   },
   "source": [
    "C. Check for presence of duplicate records in the dataset and impute with appropriate method."
   ]
  },
  {
   "cell_type": "code",
   "execution_count": 5,
   "metadata": {
    "colab": {
     "base_uri": "https://localhost:8080/"
    },
    "executionInfo": {
     "elapsed": 11,
     "status": "ok",
     "timestamp": 1725774140976,
     "user": {
      "displayName": "Jannet Akanksha Ekka",
      "userId": "04295694532301703575"
     },
     "user_tz": -330
    },
    "id": "lLm9c_UBo75B",
    "outputId": "36f997cc-5159-4517-f06d-e9baf5f79a4f"
   },
   "outputs": [
    {
     "data": {
      "text/plain": [
       "(1599, 12)"
      ]
     },
     "execution_count": 5,
     "metadata": {},
     "output_type": "execute_result"
    }
   ],
   "source": [
    "df.shape"
   ]
  },
  {
   "cell_type": "code",
   "execution_count": 6,
   "metadata": {
    "colab": {
     "base_uri": "https://localhost:8080/"
    },
    "executionInfo": {
     "elapsed": 9,
     "status": "ok",
     "timestamp": 1725774140976,
     "user": {
      "displayName": "Jannet Akanksha Ekka",
      "userId": "04295694532301703575"
     },
     "user_tz": -330
    },
    "id": "fdJ9wB5MmNQd",
    "outputId": "324959d1-c731-476d-c566-e116aa4d97dd"
   },
   "outputs": [
    {
     "data": {
      "text/plain": [
       "240"
      ]
     },
     "execution_count": 6,
     "metadata": {},
     "output_type": "execute_result"
    }
   ],
   "source": [
    "df.duplicated().sum()"
   ]
  },
  {
   "cell_type": "code",
   "execution_count": 7,
   "metadata": {
    "executionInfo": {
     "elapsed": 8,
     "status": "ok",
     "timestamp": 1725774140976,
     "user": {
      "displayName": "Jannet Akanksha Ekka",
      "userId": "04295694532301703575"
     },
     "user_tz": -330
    },
    "id": "nhUK1xyCmTBm"
   },
   "outputs": [],
   "source": [
    "df.drop_duplicates(inplace=True)"
   ]
  },
  {
   "cell_type": "code",
   "execution_count": 8,
   "metadata": {
    "colab": {
     "base_uri": "https://localhost:8080/"
    },
    "executionInfo": {
     "elapsed": 8,
     "status": "ok",
     "timestamp": 1725774140976,
     "user": {
      "displayName": "Jannet Akanksha Ekka",
      "userId": "04295694532301703575"
     },
     "user_tz": -330
    },
    "id": "dsYf__7Solpr",
    "outputId": "dc199373-d974-48b0-deae-6a1e2b4048a1"
   },
   "outputs": [
    {
     "data": {
      "text/plain": [
       "0"
      ]
     },
     "execution_count": 8,
     "metadata": {},
     "output_type": "execute_result"
    }
   ],
   "source": [
    "df.duplicated().sum()"
   ]
  },
  {
   "cell_type": "code",
   "execution_count": 9,
   "metadata": {
    "colab": {
     "base_uri": "https://localhost:8080/"
    },
    "executionInfo": {
     "elapsed": 7,
     "status": "ok",
     "timestamp": 1725774140976,
     "user": {
      "displayName": "Jannet Akanksha Ekka",
      "userId": "04295694532301703575"
     },
     "user_tz": -330
    },
    "id": "8LSpF5Oyo2dm",
    "outputId": "cda5f6e1-6a66-4c8a-9bba-b37daaea3d3a"
   },
   "outputs": [
    {
     "data": {
      "text/plain": [
       "(1359, 12)"
      ]
     },
     "execution_count": 9,
     "metadata": {},
     "output_type": "execute_result"
    }
   ],
   "source": [
    "df.shape"
   ]
  },
  {
   "cell_type": "markdown",
   "metadata": {
    "id": "byQLqq2WpA5B"
   },
   "source": [
    "D. Visualise distribution of the target variable."
   ]
  },
  {
   "cell_type": "code",
   "execution_count": 10,
   "metadata": {
    "colab": {
     "base_uri": "https://localhost:8080/",
     "height": 467
    },
    "executionInfo": {
     "elapsed": 940,
     "status": "ok",
     "timestamp": 1725774141910,
     "user": {
      "displayName": "Jannet Akanksha Ekka",
      "userId": "04295694532301703575"
     },
     "user_tz": -330
    },
    "id": "1naVgBoko4-o",
    "outputId": "fcd314c7-bc0e-4ebe-d1b1-10bfe15f1582"
   },
   "outputs": [
    {
     "data": {
      "image/png": "[encoded data removed]",
      "text/plain": [
       "<Figure size 1000x500 with 1 Axes>"
      ]
     },
     "metadata": {},
     "output_type": "display_data"
    }
   ],
   "source": [
    "target = df['Signal_Strength']\n",
    "plt.figure(figsize=(10, 5))\n",
    "sns.countplot(x=target)\n",
    "plt.show()"
   ]
  },
  {
   "cell_type": "markdown",
   "metadata": {
    "id": "zH2QTI97ppyN"
   },
   "source": [
    "E. Share insights from the initial data analysis (at least 2)."
   ]
  },
  {
   "cell_type": "code",
   "execution_count": 11,
   "metadata": {
    "colab": {
     "base_uri": "https://localhost:8080/",
     "height": 425
    },
    "executionInfo": {
     "elapsed": 23,
     "status": "ok",
     "timestamp": 1725774141911,
     "user": {
      "displayName": "Jannet Akanksha Ekka",
      "userId": "04295694532301703575"
     },
     "user_tz": -330
    },
    "id": "vrQHVyzBpMfQ",
    "outputId": "26839c77-e363-42ee-cad0-b497adb8e39a"
   },
   "outputs": [
    {
     "data": {
      "application/vnd.google.colaboratory.intrinsic+json": {
       "summary": "{\n  \"name\": \"df\",\n  \"rows\": 12,\n  \"fields\": [\n    {\n      \"column\": \"count\",\n      \"properties\": {\n        \"dtype\": \"number\",\n        \"std\": 0.0,\n        \"min\": 1359.0,\n        \"max\": 1359.0,\n        \"num_unique_values\": 1,\n        \"samples\": [\n          1359.0\n        ],\n        \"semantic_type\": \"\",\n        \"description\": \"\"\n      }\n    },\n    {\n      \"column\": \"mean\",\n      \"properties\": {\n        \"dtype\": \"number\",\n        \"std\": 13.192468524799624,\n        \"min\": 0.08812362030905077,\n        \"max\": 46.82597498160412,\n        \"num_unique_values\": 12,\n        \"samples\": [\n          10.432315428013245\n        ],\n        \"semantic_type\": \"\",\n        \"description\": \"\"\n      }\n    },\n    {\n      \"column\": \"std\",\n      \"properties\": {\n        \"dtype\": \"number\",\n        \"std\": 9.662753817035775,\n        \"min\": 0.0018689171325591413,\n        \"max\": 33.40894570661652,\n        \"num_unique_values\": 12,\n        \"samples\": [\n          1.082065449949784\n        ],\n        \"semantic_type\": \"\",\n        \"description\": \"\"\n      }\n    },\n    {\n      \"column\": \"min\",\n      \"properties\": {\n        \"dtype\": \"number\",\n        \"std\": 2.7199194985495714,\n        \"min\": 0.0,\n        \"max\": 8.4,\n        \"num_unique_values\": 12,\n        \"samples\": [\n          8.4\n        ],\n        \"semantic_type\": \"\",\n        \"description\": \"\"\n      }\n    },\n    {\n      \"column\": \"25%\",\n      \"properties\": {\n        \"dtype\": \"number\",\n        \"std\": 6.292677105873769,\n        \"min\": 0.07,\n        \"max\": 22.0,\n        \"num_unique_values\": 12,\n        \"samples\": [\n          9.5\n        ],\n        \"semantic_type\": \"\",\n        \"description\": \"\"\n      }\n    },\n    {\n      \"column\": \"50%\",\n      \"properties\": {\n        \"dtype\": \"number\",\n        \"std\": 10.748224969095498,\n        \"min\": 0.079,\n        \"max\": 38.0,\n        \"num_unique_values\": 12,\n        \"samples\": [\n          10.2\n        ],\n        \"semantic_type\": \"\",\n        \"description\": \"\"\n      }\n    },\n    {\n      \"column\": \"75%\",\n      \"properties\": {\n        \"dtype\": \"number\",\n        \"std\": 17.813350691230458,\n        \"min\": 0.091,\n        \"max\": 63.0,\n        \"num_unique_values\": 12,\n        \"samples\": [\n          11.1\n        ],\n        \"semantic_type\": \"\",\n        \"description\": \"\"\n      }\n    },\n    {\n      \"column\": \"max\",\n      \"properties\": {\n        \"dtype\": \"number\",\n        \"std\": 82.25303187574917,\n        \"min\": 0.611,\n        \"max\": 289.0,\n        \"num_unique_values\": 12,\n        \"samples\": [\n          14.9\n        ],\n        \"semantic_type\": \"\",\n        \"description\": \"\"\n      }\n    }\n  ]\n}",
       "type": "dataframe"
      },
      "text/html": [
       "\n",
       "  <div id=\"df-ddbb1690-f13c-4c25-a394-1f3e024edbc3\" class=\"colab-df-container\">\n",
       "    <div>\n",
       "<style scoped>\n",
       "    .dataframe tbody tr th:only-of-type {\n",
       "        vertical-align: middle;\n",
       "    }\n",
       "\n",
       "    .dataframe tbody tr th {\n",
       "        vertical-align: top;\n",
       "    }\n",
       "\n",
       "    .dataframe thead th {\n",
       "        text-align: right;\n",
       "    }\n",
       "</style>\n",
       "<table border=\"1\" class=\"dataframe\">\n",
       "  <thead>\n",
       "    <tr style=\"text-align: right;\">\n",
       "      <th></th>\n",
       "      <th>count</th>\n",
       "      <th>mean</th>\n",
       "      <th>std</th>\n",
       "      <th>min</th>\n",
       "      <th>25%</th>\n",
       "      <th>50%</th>\n",
       "      <th>75%</th>\n",
       "      <th>max</th>\n",
       "    </tr>\n",
       "  </thead>\n",
       "  <tbody>\n",
       "    <tr>\n",
       "      <th>Parameter 1</th>\n",
       "      <td>1359.0</td>\n",
       "      <td>8.310596</td>\n",
       "      <td>1.736990</td>\n",
       "      <td>4.60000</td>\n",
       "      <td>7.1000</td>\n",
       "      <td>7.9000</td>\n",
       "      <td>9.20000</td>\n",
       "      <td>15.90000</td>\n",
       "    </tr>\n",
       "    <tr>\n",
       "      <th>Parameter 2</th>\n",
       "      <td>1359.0</td>\n",
       "      <td>0.529478</td>\n",
       "      <td>0.183031</td>\n",
       "      <td>0.12000</td>\n",
       "      <td>0.3900</td>\n",
       "      <td>0.5200</td>\n",
       "      <td>0.64000</td>\n",
       "      <td>1.58000</td>\n",
       "    </tr>\n",
       "    <tr>\n",
       "      <th>Parameter 3</th>\n",
       "      <td>1359.0</td>\n",
       "      <td>0.272333</td>\n",
       "      <td>0.195537</td>\n",
       "      <td>0.00000</td>\n",
       "      <td>0.0900</td>\n",
       "      <td>0.2600</td>\n",
       "      <td>0.43000</td>\n",
       "      <td>1.00000</td>\n",
       "    </tr>\n",
       "    <tr>\n",
       "      <th>Parameter 4</th>\n",
       "      <td>1359.0</td>\n",
       "      <td>2.523400</td>\n",
       "      <td>1.352314</td>\n",
       "      <td>0.90000</td>\n",
       "      <td>1.9000</td>\n",
       "      <td>2.2000</td>\n",
       "      <td>2.60000</td>\n",
       "      <td>15.50000</td>\n",
       "    </tr>\n",
       "    <tr>\n",
       "      <th>Parameter 5</th>\n",
       "      <td>1359.0</td>\n",
       "      <td>0.088124</td>\n",
       "      <td>0.049377</td>\n",
       "      <td>0.01200</td>\n",
       "      <td>0.0700</td>\n",
       "      <td>0.0790</td>\n",
       "      <td>0.09100</td>\n",
       "      <td>0.61100</td>\n",
       "    </tr>\n",
       "    <tr>\n",
       "      <th>Parameter 6</th>\n",
       "      <td>1359.0</td>\n",
       "      <td>15.893304</td>\n",
       "      <td>10.447270</td>\n",
       "      <td>1.00000</td>\n",
       "      <td>7.0000</td>\n",
       "      <td>14.0000</td>\n",
       "      <td>21.00000</td>\n",
       "      <td>72.00000</td>\n",
       "    </tr>\n",
       "    <tr>\n",
       "      <th>Parameter 7</th>\n",
       "      <td>1359.0</td>\n",
       "      <td>46.825975</td>\n",
       "      <td>33.408946</td>\n",
       "      <td>6.00000</td>\n",
       "      <td>22.0000</td>\n",
       "      <td>38.0000</td>\n",
       "      <td>63.00000</td>\n",
       "      <td>289.00000</td>\n",
       "    </tr>\n",
       "    <tr>\n",
       "      <th>Parameter 8</th>\n",
       "      <td>1359.0</td>\n",
       "      <td>0.996709</td>\n",
       "      <td>0.001869</td>\n",
       "      <td>0.99007</td>\n",
       "      <td>0.9956</td>\n",
       "      <td>0.9967</td>\n",
       "      <td>0.99782</td>\n",
       "      <td>1.00369</td>\n",
       "    </tr>\n",
       "    <tr>\n",
       "      <th>Parameter 9</th>\n",
       "      <td>1359.0</td>\n",
       "      <td>3.309787</td>\n",
       "      <td>0.155036</td>\n",
       "      <td>2.74000</td>\n",
       "      <td>3.2100</td>\n",
       "      <td>3.3100</td>\n",
       "      <td>3.40000</td>\n",
       "      <td>4.01000</td>\n",
       "    </tr>\n",
       "    <tr>\n",
       "      <th>Parameter 10</th>\n",
       "      <td>1359.0</td>\n",
       "      <td>0.658705</td>\n",
       "      <td>0.170667</td>\n",
       "      <td>0.33000</td>\n",
       "      <td>0.5500</td>\n",
       "      <td>0.6200</td>\n",
       "      <td>0.73000</td>\n",
       "      <td>2.00000</td>\n",
       "    </tr>\n",
       "    <tr>\n",
       "      <th>Parameter 11</th>\n",
       "      <td>1359.0</td>\n",
       "      <td>10.432315</td>\n",
       "      <td>1.082065</td>\n",
       "      <td>8.40000</td>\n",
       "      <td>9.5000</td>\n",
       "      <td>10.2000</td>\n",
       "      <td>11.10000</td>\n",
       "      <td>14.90000</td>\n",
       "    </tr>\n",
       "    <tr>\n",
       "      <th>Signal_Strength</th>\n",
       "      <td>1359.0</td>\n",
       "      <td>5.623252</td>\n",
       "      <td>0.823578</td>\n",
       "      <td>3.00000</td>\n",
       "      <td>5.0000</td>\n",
       "      <td>6.0000</td>\n",
       "      <td>6.00000</td>\n",
       "      <td>8.00000</td>\n",
       "    </tr>\n",
       "  </tbody>\n",
       "</table>\n",
       "</div>\n",
       "    <div class=\"colab-df-buttons\">\n",
       "\n",
       "  <div class=\"colab-df-container\">\n",
       "    <button class=\"colab-df-convert\" onclick=\"convertToInteractive('df-ddbb1690-f13c-4c25-a394-1f3e024edbc3')\"\n",
       "            title=\"Convert this dataframe to an interactive table.\"\n",
       "            style=\"display:none;\">\n",
       "\n",
       "  <svg xmlns=\"http://www.w3.org/2000/svg\" height=\"24px\" viewBox=\"0 -960 960 960\">\n",
       "    <path d=\"M120-120v-720h720v720H120Zm60-500h600v-160H180v160Zm220 220h160v-160H400v160Zm0 220h160v-160H400v160ZM180-400h160v-160H180v160Zm440 0h160v-160H620v160ZM180-180h160v-160H180v160Zm440 0h160v-160H620v160Z\"/>\n",
       "  </svg>\n",
       "    </button>\n",
       "\n",
       "  <style>\n",
       "    .colab-df-container {\n",
       "      display:flex;\n",
       "      gap: 12px;\n",
       "    }\n",
       "\n",
       "    .colab-df-convert {\n",
       "      background-color: #E8F0FE;\n",
       "      border: none;\n",
       "      border-radius: 50%;\n",
       "      cursor: pointer;\n",
       "      display: none;\n",
       "      fill: #1967D2;\n",
       "      height: 32px;\n",
       "      padding: 0 0 0 0;\n",
       "      width: 32px;\n",
       "    }\n",
       "\n",
       "    .colab-df-convert:hover {\n",
       "      background-color: #E2EBFA;\n",
       "      box-shadow: 0px 1px 2px rgba(60, 64, 67, 0.3), 0px 1px 3px 1px rgba(60, 64, 67, 0.15);\n",
       "      fill: #174EA6;\n",
       "    }\n",
       "\n",
       "    .colab-df-buttons div {\n",
       "      margin-bottom: 4px;\n",
       "    }\n",
       "\n",
       "    [theme=dark] .colab-df-convert {\n",
       "      background-color: #3B4455;\n",
       "      fill: #D2E3FC;\n",
       "    }\n",
       "\n",
       "    [theme=dark] .colab-df-convert:hover {\n",
       "      background-color: #434B5C;\n",
       "      box-shadow: 0px 1px 3px 1px rgba(0, 0, 0, 0.15);\n",
       "      filter: drop-shadow(0px 1px 2px rgba(0, 0, 0, 0.3));\n",
       "      fill: #FFFFFF;\n",
       "    }\n",
       "  </style>\n",
       "\n",
       "    <script>\n",
       "      const buttonEl =\n",
       "        document.querySelector('#df-ddbb1690-f13c-4c25-a394-1f3e024edbc3 button.colab-df-convert');\n",
       "      buttonEl.style.display =\n",
       "        google.colab.kernel.accessAllowed ? 'block' : 'none';\n",
       "\n",
       "      async function convertToInteractive(key) {\n",
       "        const element = document.querySelector('#df-ddbb1690-f13c-4c25-a394-1f3e024edbc3');\n",
       "        const dataTable =\n",
       "          await google.colab.kernel.invokeFunction('convertToInteractive',\n",
       "                                                    [key], {});\n",
       "        if (!dataTable) return;\n",
       "\n",
       "        const docLinkHtml = 'Like what you see? Visit the ' +\n",
       "          '<a target=\"_blank\" href=https://colab.research.google.com/notebooks/data_table.ipynb>data table notebook</a>'\n",
       "          + ' to learn more about interactive tables.';\n",
       "        element.innerHTML = '';\n",
       "        dataTable['output_type'] = 'display_data';\n",
       "        await google.colab.output.renderOutput(dataTable, element);\n",
       "        const docLink = document.createElement('div');\n",
       "        docLink.innerHTML = docLinkHtml;\n",
       "        element.appendChild(docLink);\n",
       "      }\n",
       "    </script>\n",
       "  </div>\n",
       "\n",
       "\n",
       "<div id=\"df-f7389d99-0383-4a5c-acc4-f656bb42e509\">\n",
       "  <button class=\"colab-df-quickchart\" onclick=\"quickchart('df-f7389d99-0383-4a5c-acc4-f656bb42e509')\"\n",
       "            title=\"Suggest charts\"\n",
       "            style=\"display:none;\">\n",
       "\n",
       "<svg xmlns=\"http://www.w3.org/2000/svg\" height=\"24px\"viewBox=\"0 0 24 24\"\n",
       "     width=\"24px\">\n",
       "    <g>\n",
       "        <path d=\"M19 3H5c-1.1 0-2 .9-2 2v14c0 1.1.9 2 2 2h14c1.1 0 2-.9 2-2V5c0-1.1-.9-2-2-2zM9 17H7v-7h2v7zm4 0h-2V7h2v10zm4 0h-2v-4h2v4z\"/>\n",
       "    </g>\n",
       "</svg>\n",
       "  </button>\n",
       "\n",
       "<style>\n",
       "  .colab-df-quickchart {\n",
       "      --bg-color: #E8F0FE;\n",
       "      --fill-color: #1967D2;\n",
       "      --hover-bg-color: #E2EBFA;\n",
       "      --hover-fill-color: #174EA6;\n",
       "      --disabled-fill-color: #AAA;\n",
       "      --disabled-bg-color: #DDD;\n",
       "  }\n",
       "\n",
       "  [theme=dark] .colab-df-quickchart {\n",
       "      --bg-color: #3B4455;\n",
       "      --fill-color: #D2E3FC;\n",
       "      --hover-bg-color: #434B5C;\n",
       "      --hover-fill-color: #FFFFFF;\n",
       "      --disabled-bg-color: #3B4455;\n",
       "      --disabled-fill-color: #666;\n",
       "  }\n",
       "\n",
       "  .colab-df-quickchart {\n",
       "    background-color: var(--bg-color);\n",
       "    border: none;\n",
       "    border-radius: 50%;\n",
       "    cursor: pointer;\n",
       "    display: none;\n",
       "    fill: var(--fill-color);\n",
       "    height: 32px;\n",
       "    padding: 0;\n",
       "    width: 32px;\n",
       "  }\n",
       "\n",
       "  .colab-df-quickchart:hover {\n",
       "    background-color: var(--hover-bg-color);\n",
       "    box-shadow: 0 1px 2px rgba(60, 64, 67, 0.3), 0 1px 3px 1px rgba(60, 64, 67, 0.15);\n",
       "    fill: var(--button-hover-fill-color);\n",
       "  }\n",
       "\n",
       "  .colab-df-quickchart-complete:disabled,\n",
       "  .colab-df-quickchart-complete:disabled:hover {\n",
       "    background-color: var(--disabled-bg-color);\n",
       "    fill: var(--disabled-fill-color);\n",
       "    box-shadow: none;\n",
       "  }\n",
       "\n",
       "  .colab-df-spinner {\n",
       "    border: 2px solid var(--fill-color);\n",
       "    border-color: transparent;\n",
       "    border-bottom-color: var(--fill-color);\n",
       "    animation:\n",
       "      spin 1s steps(1) infinite;\n",
       "  }\n",
       "\n",
       "  @keyframes spin {\n",
       "    0% {\n",
       "      border-color: transparent;\n",
       "      border-bottom-color: var(--fill-color);\n",
       "      border-left-color: var(--fill-color);\n",
       "    }\n",
       "    20% {\n",
       "      border-color: transparent;\n",
       "      border-left-color: var(--fill-color);\n",
       "      border-top-color: var(--fill-color);\n",
       "    }\n",
       "    30% {\n",
       "      border-color: transparent;\n",
       "      border-left-color: var(--fill-color);\n",
       "      border-top-color: var(--fill-color);\n",
       "      border-right-color: var(--fill-color);\n",
       "    }\n",
       "    40% {\n",
       "      border-color: transparent;\n",
       "      border-right-color: var(--fill-color);\n",
       "      border-top-color: var(--fill-color);\n",
       "    }\n",
       "    60% {\n",
       "      border-color: transparent;\n",
       "      border-right-color: var(--fill-color);\n",
       "    }\n",
       "    80% {\n",
       "      border-color: transparent;\n",
       "      border-right-color: var(--fill-color);\n",
       "      border-bottom-color: var(--fill-color);\n",
       "    }\n",
       "    90% {\n",
       "      border-color: transparent;\n",
       "      border-bottom-color: var(--fill-color);\n",
       "    }\n",
       "  }\n",
       "</style>\n",
       "\n",
       "  <script>\n",
       "    async function quickchart(key) {\n",
       "      const quickchartButtonEl =\n",
       "        document.querySelector('#' + key + ' button');\n",
       "      quickchartButtonEl.disabled = true;  // To prevent multiple clicks.\n",
       "      quickchartButtonEl.classList.add('colab-df-spinner');\n",
       "      try {\n",
       "        const charts = await google.colab.kernel.invokeFunction(\n",
       "            'suggestCharts', [key], {});\n",
       "      } catch (error) {\n",
       "        console.error('Error during call to suggestCharts:', error);\n",
       "      }\n",
       "      quickchartButtonEl.classList.remove('colab-df-spinner');\n",
       "      quickchartButtonEl.classList.add('colab-df-quickchart-complete');\n",
       "    }\n",
       "    (() => {\n",
       "      let quickchartButtonEl =\n",
       "        document.querySelector('#df-f7389d99-0383-4a5c-acc4-f656bb42e509 button');\n",
       "      quickchartButtonEl.style.display =\n",
       "        google.colab.kernel.accessAllowed ? 'block' : 'none';\n",
       "    })();\n",
       "  </script>\n",
       "</div>\n",
       "\n",
       "    </div>\n",
       "  </div>\n"
      ],
      "text/plain": [
       "                  count       mean        std      min      25%      50%  \\\n",
       "Parameter 1      1359.0   8.310596   1.736990  4.60000   7.1000   7.9000   \n",
       "Parameter 2      1359.0   0.529478   0.183031  0.12000   0.3900   0.5200   \n",
       "Parameter 3      1359.0   0.272333   0.195537  0.00000   0.0900   0.2600   \n",
       "Parameter 4      1359.0   2.523400   1.352314  0.90000   1.9000   2.2000   \n",
       "Parameter 5      1359.0   0.088124   0.049377  0.01200   0.0700   0.0790   \n",
       "Parameter 6      1359.0  15.893304  10.447270  1.00000   7.0000  14.0000   \n",
       "Parameter 7      1359.0  46.825975  33.408946  6.00000  22.0000  38.0000   \n",
       "Parameter 8      1359.0   0.996709   0.001869  0.99007   0.9956   0.9967   \n",
       "Parameter 9      1359.0   3.309787   0.155036  2.74000   3.2100   3.3100   \n",
       "Parameter 10     1359.0   0.658705   0.170667  0.33000   0.5500   0.6200   \n",
       "Parameter 11     1359.0  10.432315   1.082065  8.40000   9.5000  10.2000   \n",
       "Signal_Strength  1359.0   5.623252   0.823578  3.00000   5.0000   6.0000   \n",
       "\n",
       "                      75%        max  \n",
       "Parameter 1       9.20000   15.90000  \n",
       "Parameter 2       0.64000    1.58000  \n",
       "Parameter 3       0.43000    1.00000  \n",
       "Parameter 4       2.60000   15.50000  \n",
       "Parameter 5       0.09100    0.61100  \n",
       "Parameter 6      21.00000   72.00000  \n",
       "Parameter 7      63.00000  289.00000  \n",
       "Parameter 8       0.99782    1.00369  \n",
       "Parameter 9       3.40000    4.01000  \n",
       "Parameter 10      0.73000    2.00000  \n",
       "Parameter 11     11.10000   14.90000  \n",
       "Signal_Strength   6.00000    8.00000  "
      ]
     },
     "execution_count": 11,
     "metadata": {},
     "output_type": "execute_result"
    }
   ],
   "source": [
    "df.describe().T"
   ]
  },
  {
   "cell_type": "markdown",
   "metadata": {
    "id": "sw5SNElep2uu"
   },
   "source": [
    "Insights:\n",
    "\n",
    "1. Parameters 1, 4, 6 7 and 10 have potential outliers.\n",
    "2. Parameters 2, 5, 8, 9 and 10 show relatively low variance."
   ]
  },
  {
   "cell_type": "code",
   "execution_count": 12,
   "metadata": {
    "colab": {
     "base_uri": "https://localhost:8080/"
    },
    "executionInfo": {
     "elapsed": 22,
     "status": "ok",
     "timestamp": 1725774141911,
     "user": {
      "displayName": "Jannet Akanksha Ekka",
      "userId": "04295694532301703575"
     },
     "user_tz": -330
    },
    "id": "3a7cCS3Cpu_P",
    "outputId": "dab2d200-0bc5-4295-c605-f945eacb1ccf"
   },
   "outputs": [
    {
     "name": "stdout",
     "output_type": "stream",
     "text": [
      "Parameter 1 - Lower bound: 3.95, Upper bound: 12.349999999999998\n",
      "Outliers in Parameter 1: 41 rows\n",
      "Parameter 2 - Lower bound: 0.015000000000000013, Upper bound: 1.0150000000000001\n",
      "Outliers in Parameter 2: 19 rows\n",
      "Parameter 3 - Lower bound: -0.42000000000000004, Upper bound: 0.94\n",
      "Outliers in Parameter 3: 1 rows\n",
      "Parameter 4 - Lower bound: 0.8499999999999996, Upper bound: 3.6500000000000004\n",
      "Outliers in Parameter 4: 126 rows\n",
      "Parameter 5 - Lower bound: 0.03850000000000002, Upper bound: 0.12249999999999998\n",
      "Outliers in Parameter 5: 87 rows\n",
      "Parameter 6 - Lower bound: -14.0, Upper bound: 42.0\n",
      "Outliers in Parameter 6: 26 rows\n",
      "Parameter 7 - Lower bound: -39.5, Upper bound: 124.5\n",
      "Outliers in Parameter 7: 45 rows\n",
      "Parameter 8 - Lower bound: 0.99227, Upper bound: 1.00115\n",
      "Outliers in Parameter 8: 35 rows\n",
      "Parameter 9 - Lower bound: 2.925, Upper bound: 3.6849999999999996\n",
      "Outliers in Parameter 9: 28 rows\n",
      "Parameter 10 - Lower bound: 0.28000000000000014, Upper bound: 0.9999999999999999\n",
      "Outliers in Parameter 10: 55 rows\n",
      "Parameter 11 - Lower bound: 7.1000000000000005, Upper bound: 13.5\n",
      "Outliers in Parameter 11: 12 rows\n"
     ]
    }
   ],
   "source": [
    "def detect_outliers_iqr(df, column):\n",
    "    Q1 = df[column].quantile(0.25)\n",
    "    Q3 = df[column].quantile(0.75)\n",
    "    IQR = Q3 - Q1\n",
    "    lower_bound = Q1 - 1.5 * IQR\n",
    "    upper_bound = Q3 + 1.5 * IQR\n",
    "    return lower_bound, upper_bound\n",
    "\n",
    "outlier_columns = ['Parameter 1', 'Parameter 2', 'Parameter 3', 'Parameter 4', 'Parameter 5', 'Parameter 6', 'Parameter 7', 'Parameter 8',\n",
    "                   'Parameter 9', 'Parameter 10', 'Parameter 11']\n",
    "for column in outlier_columns:\n",
    "    lower, upper = detect_outliers_iqr(df, column)\n",
    "    print(f\"{column} - Lower bound: {lower}, Upper bound: {upper}\")\n",
    "    outliers = df[(df[column] < lower) | (df[column] > upper)]\n",
    "    print(f\"Outliers in {column}: {len(outliers)} rows\")\n"
   ]
  },
  {
   "cell_type": "code",
   "execution_count": 13,
   "metadata": {
    "colab": {
     "base_uri": "https://localhost:8080/"
    },
    "executionInfo": {
     "elapsed": 19,
     "status": "ok",
     "timestamp": 1725774141911,
     "user": {
      "displayName": "Jannet Akanksha Ekka",
      "userId": "04295694532301703575"
     },
     "user_tz": -330
    },
    "id": "ZEA_K6k58IuX",
    "outputId": "ca609139-f559-4d93-ef97-e23dcb370881"
   },
   "outputs": [
    {
     "name": "stdout",
     "output_type": "stream",
     "text": [
      "Outliers have been capped.\n"
     ]
    }
   ],
   "source": [
    "def cap_outliers(df, column):\n",
    "    Q1 = df[column].quantile(0.25)\n",
    "    Q3 = df[column].quantile(0.75)\n",
    "    IQR = Q3 - Q1\n",
    "    lower_bound = Q1 - 1.5 * IQR\n",
    "    upper_bound = Q3 + 1.5 * IQR\n",
    "\n",
    "    # Apply capping\n",
    "    df[column] = df[column].apply(lambda x: upper_bound if x > upper_bound else lower_bound if x < lower_bound else x)\n",
    "\n",
    "outlier_columns = ['Parameter 1', 'Parameter 2', 'Parameter 3', 'Parameter 4', 'Parameter 5',\n",
    "                   'Parameter 6', 'Parameter 7', 'Parameter 8', 'Parameter 9', 'Parameter 10', 'Parameter 11']\n",
    "\n",
    "# Apply the capping function to all columns\n",
    "for column in outlier_columns:\n",
    "    cap_outliers(df, column)\n",
    "\n",
    "print(\"Outliers have been capped.\")"
   ]
  },
  {
   "cell_type": "code",
   "execution_count": 14,
   "metadata": {
    "colab": {
     "base_uri": "https://localhost:8080/"
    },
    "executionInfo": {
     "elapsed": 17,
     "status": "ok",
     "timestamp": 1725774141911,
     "user": {
      "displayName": "Jannet Akanksha Ekka",
      "userId": "04295694532301703575"
     },
     "user_tz": -330
    },
    "id": "bnwArfi5YFbC",
    "outputId": "99b38200-b469-4b9f-d927-52e408a56165"
   },
   "outputs": [
    {
     "data": {
      "text/plain": [
       "(1359, 12)"
      ]
     },
     "execution_count": 14,
     "metadata": {},
     "output_type": "execute_result"
    }
   ],
   "source": [
    "df.shape"
   ]
  },
  {
   "cell_type": "markdown",
   "metadata": {
    "id": "OUNRCAPh8_Np"
   },
   "source": [
    "# 2. Data preprocessing\n",
    "A. Split the data into X & Y."
   ]
  },
  {
   "cell_type": "code",
   "execution_count": 15,
   "metadata": {
    "executionInfo": {
     "elapsed": 16,
     "status": "ok",
     "timestamp": 1725774141911,
     "user": {
      "displayName": "Jannet Akanksha Ekka",
      "userId": "04295694532301703575"
     },
     "user_tz": -330
    },
    "id": "rcFK47Bt84P3"
   },
   "outputs": [],
   "source": [
    "X = df.drop('Signal_Strength', axis=1)\n",
    "y = df['Signal_Strength']"
   ]
  },
  {
   "cell_type": "markdown",
   "metadata": {
    "id": "in_DviU79hkX"
   },
   "source": [
    "B. Split the data into train & test with 70:30 proportion."
   ]
  },
  {
   "cell_type": "code",
   "execution_count": 16,
   "metadata": {
    "executionInfo": {
     "elapsed": 16,
     "status": "ok",
     "timestamp": 1725774141912,
     "user": {
      "displayName": "Jannet Akanksha Ekka",
      "userId": "04295694532301703575"
     },
     "user_tz": -330
    },
    "id": "8tOCH3719KqI"
   },
   "outputs": [],
   "source": [
    "X_train, X_test, y_train, y_test = train_test_split(X, y, test_size=0.3, random_state=42)"
   ]
  },
  {
   "cell_type": "markdown",
   "metadata": {
    "id": "rx_lh69H998L"
   },
   "source": [
    "C. Print shape of all the 4 variables and verify if train and test data is in sync"
   ]
  },
  {
   "cell_type": "code",
   "execution_count": 17,
   "metadata": {
    "colab": {
     "base_uri": "https://localhost:8080/"
    },
    "executionInfo": {
     "elapsed": 14,
     "status": "ok",
     "timestamp": 1725774141912,
     "user": {
      "displayName": "Jannet Akanksha Ekka",
      "userId": "04295694532301703575"
     },
     "user_tz": -330
    },
    "id": "oyCfDfLP96ra",
    "outputId": "158effdc-a2a8-4215-986a-c98370774b9e"
   },
   "outputs": [
    {
     "name": "stdout",
     "output_type": "stream",
     "text": [
      "Shape of X_train: (951, 11)\n",
      "Shape of X_test: (408, 11)\n",
      "Shape of y_train: (951,)\n",
      "Shape of y_test: (408,)\n"
     ]
    }
   ],
   "source": [
    "print(\"Shape of X_train:\", X_train.shape)\n",
    "print(\"Shape of X_test:\", X_test.shape)\n",
    "print(\"Shape of y_train:\", y_train.shape)\n",
    "print(\"Shape of y_test:\", y_test.shape)"
   ]
  },
  {
   "cell_type": "markdown",
   "metadata": {
    "id": "AZM_BJTc-S9G"
   },
   "source": [
    "D. Normalise the train and test data with appropriate method."
   ]
  },
  {
   "cell_type": "code",
   "execution_count": 18,
   "metadata": {
    "colab": {
     "base_uri": "https://localhost:8080/"
    },
    "executionInfo": {
     "elapsed": 13,
     "status": "ok",
     "timestamp": 1725774141912,
     "user": {
      "displayName": "Jannet Akanksha Ekka",
      "userId": "04295694532301703575"
     },
     "user_tz": -330
    },
    "id": "n4NHCr6I-DWv",
    "outputId": "75150679-c5b5-4b39-fcd3-9d8ce51b3d6c"
   },
   "outputs": [
    {
     "name": "stdout",
     "output_type": "stream",
     "text": [
      "(951, 11)\n",
      "(408, 11)\n"
     ]
    }
   ],
   "source": [
    "scaler = StandardScaler()\n",
    "X_train_scaled = scaler.fit_transform(X_train)\n",
    "X_test_scaled = scaler.transform(X_test)\n",
    "\n",
    "print(X_train_scaled.shape)\n",
    "print(X_test_scaled.shape)"
   ]
  },
  {
   "cell_type": "markdown",
   "metadata": {
    "id": "vY3J6r3s_BtU"
   },
   "source": [
    "E. Transform Labels into format acceptable by Neural Network"
   ]
  },
  {
   "cell_type": "code",
   "execution_count": 19,
   "metadata": {
    "executionInfo": {
     "elapsed": 11,
     "status": "ok",
     "timestamp": 1725774141912,
     "user": {
      "displayName": "Jannet Akanksha Ekka",
      "userId": "04295694532301703575"
     },
     "user_tz": -330
    },
    "id": "gfOlKWN1-5h7"
   },
   "outputs": [],
   "source": [
    "label_encoder = LabelEncoder()\n",
    "Y_train_encoded = to_categorical(label_encoder.fit_transform(y_train))\n",
    "Y_test_encoded = to_categorical(label_encoder.transform(y_test))"
   ]
  },
  {
   "cell_type": "markdown",
   "metadata": {
    "id": "b0_d-KNSAwlU"
   },
   "source": [
    "# 3. Model Training & Evaluation using Neural Network\n",
    "A. Design a Neural Network to train a classifier."
   ]
  },
  {
   "cell_type": "code",
   "execution_count": 20,
   "metadata": {
    "colab": {
     "base_uri": "https://localhost:8080/"
    },
    "executionInfo": {
     "elapsed": 598,
     "status": "ok",
     "timestamp": 1725774142500,
     "user": {
      "displayName": "Jannet Akanksha Ekka",
      "userId": "04295694532301703575"
     },
     "user_tz": -330
    },
    "id": "K7QNB8Gp__Sw",
    "outputId": "45151519-3d68-4f7f-8bdf-110fe9ffbef2"
   },
   "outputs": [
    {
     "name": "stderr",
     "output_type": "stream",
     "text": [
      "/usr/local/lib/python3.10/dist-packages/keras/src/layers/core/dense.py:87: UserWarning: Do not pass an `input_shape`/`input_dim` argument to a layer. When using Sequential models, prefer using an `Input(shape)` object as the first layer in the model instead.\n",
      "  super().__init__(activity_regularizer=activity_regularizer, **kwargs)\n"
     ]
    }
   ],
   "source": [
    "model = models.Sequential()\n",
    "# model.add(layers.Dense(64, activation='relu'))\n",
    "# model.add(layers.Dense(32, activation='relu'))\n",
    "model.add(layers.Dense(16, activation='relu', input_shape=(X_train_scaled.shape[1],)))\n",
    "model.add(layers.Dense(8, activation='relu'))\n",
    "model.add(layers.Dense(6, activation='softmax'))"
   ]
  },
  {
   "cell_type": "markdown",
   "metadata": {
    "id": "oeuCIwbQG01Z"
   },
   "source": [
    "B. Train the classifier using previously designed Architecture"
   ]
  },
  {
   "cell_type": "code",
   "execution_count": 21,
   "metadata": {
    "colab": {
     "base_uri": "https://localhost:8080/"
    },
    "collapsed": true,
    "executionInfo": {
     "elapsed": 53056,
     "status": "ok",
     "timestamp": 1725774195551,
     "user": {
      "displayName": "Jannet Akanksha Ekka",
      "userId": "04295694532301703575"
     },
     "user_tz": -330
    },
    "id": "m6-X2Qg4BnQG",
    "outputId": "cfb31e9c-db47-4109-80d9-b955328d9ecb"
   },
   "outputs": [
    {
     "name": "stdout",
     "output_type": "stream",
     "text": [
      "Epoch 1/100\n",
      "\u001b[1m60/60\u001b[0m \u001b[32m━━━━━━━━━━━━━━━━━━━━\u001b[0m\u001b[37m\u001b[0m \u001b[1m6s\u001b[0m 26ms/step - accuracy: 0.3300 - loss: 1.7159 - val_accuracy: 0.3897 - val_loss: 1.4736\n",
      "Epoch 2/100\n",
      "\u001b[1m60/60\u001b[0m \u001b[32m━━━━━━━━━━━━━━━━━━━━\u001b[0m\u001b[37m\u001b[0m \u001b[1m1s\u001b[0m 7ms/step - accuracy: 0.3648 - loss: 1.4403 - val_accuracy: 0.4289 - val_loss: 1.2884\n",
      "Epoch 3/100\n",
      "\u001b[1m60/60\u001b[0m \u001b[32m━━━━━━━━━━━━━━━━━━━━\u001b[0m\u001b[37m\u001b[0m \u001b[1m1s\u001b[0m 13ms/step - accuracy: 0.4634 - loss: 1.2753 - val_accuracy: 0.5490 - val_loss: 1.1599\n",
      "Epoch 4/100\n",
      "\u001b[1m60/60\u001b[0m \u001b[32m━━━━━━━━━━━━━━━━━━━━\u001b[0m\u001b[37m\u001b[0m \u001b[1m1s\u001b[0m 7ms/step - accuracy: 0.5241 - loss: 1.1887 - val_accuracy: 0.5858 - val_loss: 1.0736\n",
      "Epoch 5/100\n",
      "\u001b[1m60/60\u001b[0m \u001b[32m━━━━━━━━━━━━━━━━━━━━\u001b[0m\u001b[37m\u001b[0m \u001b[1m1s\u001b[0m 6ms/step - accuracy: 0.5833 - loss: 1.0996 - val_accuracy: 0.6029 - val_loss: 1.0236\n",
      "Epoch 6/100\n",
      "\u001b[1m60/60\u001b[0m \u001b[32m━━━━━━━━━━━━━━━━━━━━\u001b[0m\u001b[37m\u001b[0m \u001b[1m1s\u001b[0m 5ms/step - accuracy: 0.5619 - loss: 1.0844 - val_accuracy: 0.6127 - val_loss: 0.9928\n",
      "Epoch 7/100\n",
      "\u001b[1m60/60\u001b[0m \u001b[32m━━━━━━━━━━━━━━━━━━━━\u001b[0m\u001b[37m\u001b[0m \u001b[1m0s\u001b[0m 5ms/step - accuracy: 0.5910 - loss: 1.0299 - val_accuracy: 0.6078 - val_loss: 0.9731\n",
      "Epoch 8/100\n",
      "\u001b[1m60/60\u001b[0m \u001b[32m━━━━━━━━━━━━━━━━━━━━\u001b[0m\u001b[37m\u001b[0m \u001b[1m1s\u001b[0m 8ms/step - accuracy: 0.5973 - loss: 0.9956 - val_accuracy: 0.6103 - val_loss: 0.9623\n",
      "Epoch 9/100\n",
      "\u001b[1m60/60\u001b[0m \u001b[32m━━━━━━━━━━━━━━━━━━━━\u001b[0m\u001b[37m\u001b[0m \u001b[1m1s\u001b[0m 7ms/step - accuracy: 0.6023 - loss: 0.9596 - val_accuracy: 0.6103 - val_loss: 0.9530\n",
      "Epoch 10/100\n",
      "\u001b[1m60/60\u001b[0m \u001b[32m━━━━━━━━━━━━━━━━━━━━\u001b[0m\u001b[37m\u001b[0m \u001b[1m0s\u001b[0m 5ms/step - accuracy: 0.5955 - loss: 0.9956 - val_accuracy: 0.6127 - val_loss: 0.9488\n",
      "Epoch 11/100\n",
      "\u001b[1m60/60\u001b[0m \u001b[32m━━━━━━━━━━━━━━━━━━━━\u001b[0m\u001b[37m\u001b[0m \u001b[1m1s\u001b[0m 7ms/step - accuracy: 0.5870 - loss: 0.9542 - val_accuracy: 0.6201 - val_loss: 0.9448\n",
      "Epoch 12/100\n",
      "\u001b[1m60/60\u001b[0m \u001b[32m━━━━━━━━━━━━━━━━━━━━\u001b[0m\u001b[37m\u001b[0m \u001b[1m0s\u001b[0m 4ms/step - accuracy: 0.6161 - loss: 0.9511 - val_accuracy: 0.6176 - val_loss: 0.9403\n",
      "Epoch 13/100\n",
      "\u001b[1m60/60\u001b[0m \u001b[32m━━━━━━━━━━━━━━━━━━━━\u001b[0m\u001b[37m\u001b[0m \u001b[1m0s\u001b[0m 2ms/step - accuracy: 0.6072 - loss: 0.9501 - val_accuracy: 0.6127 - val_loss: 0.9383\n",
      "Epoch 14/100\n",
      "\u001b[1m60/60\u001b[0m \u001b[32m━━━━━━━━━━━━━━━━━━━━\u001b[0m\u001b[37m\u001b[0m \u001b[1m0s\u001b[0m 3ms/step - accuracy: 0.5822 - loss: 0.9698 - val_accuracy: 0.6127 - val_loss: 0.9376\n",
      "Epoch 15/100\n",
      "\u001b[1m60/60\u001b[0m \u001b[32m━━━━━━━━━━━━━━━━━━━━\u001b[0m\u001b[37m\u001b[0m \u001b[1m0s\u001b[0m 2ms/step - accuracy: 0.5905 - loss: 0.9576 - val_accuracy: 0.6078 - val_loss: 0.9352\n",
      "Epoch 16/100\n",
      "\u001b[1m60/60\u001b[0m \u001b[32m━━━━━━━━━━━━━━━━━━━━\u001b[0m\u001b[37m\u001b[0m \u001b[1m0s\u001b[0m 3ms/step - accuracy: 0.6016 - loss: 0.9565 - val_accuracy: 0.6152 - val_loss: 0.9336\n",
      "Epoch 17/100\n",
      "\u001b[1m60/60\u001b[0m \u001b[32m━━━━━━━━━━━━━━━━━━━━\u001b[0m\u001b[37m\u001b[0m \u001b[1m0s\u001b[0m 3ms/step - accuracy: 0.5882 - loss: 0.9560 - val_accuracy: 0.6225 - val_loss: 0.9332\n",
      "Epoch 18/100\n",
      "\u001b[1m60/60\u001b[0m \u001b[32m━━━━━━━━━━━━━━━━━━━━\u001b[0m\u001b[37m\u001b[0m \u001b[1m0s\u001b[0m 2ms/step - accuracy: 0.6057 - loss: 0.9100 - val_accuracy: 0.6176 - val_loss: 0.9333\n",
      "Epoch 19/100\n",
      "\u001b[1m60/60\u001b[0m \u001b[32m━━━━━━━━━━━━━━━━━━━━\u001b[0m\u001b[37m\u001b[0m \u001b[1m0s\u001b[0m 2ms/step - accuracy: 0.5837 - loss: 0.9395 - val_accuracy: 0.6176 - val_loss: 0.9335\n",
      "Epoch 20/100\n",
      "\u001b[1m60/60\u001b[0m \u001b[32m━━━━━━━━━━━━━━━━━━━━\u001b[0m\u001b[37m\u001b[0m \u001b[1m0s\u001b[0m 3ms/step - accuracy: 0.5731 - loss: 0.9462 - val_accuracy: 0.6176 - val_loss: 0.9328\n",
      "Epoch 21/100\n",
      "\u001b[1m60/60\u001b[0m \u001b[32m━━━━━━━━━━━━━━━━━━━━\u001b[0m\u001b[37m\u001b[0m \u001b[1m0s\u001b[0m 3ms/step - accuracy: 0.5841 - loss: 0.9324 - val_accuracy: 0.6225 - val_loss: 0.9317\n",
      "Epoch 22/100\n",
      "\u001b[1m60/60\u001b[0m \u001b[32m━━━━━━━━━━━━━━━━━━━━\u001b[0m\u001b[37m\u001b[0m \u001b[1m0s\u001b[0m 3ms/step - accuracy: 0.5994 - loss: 0.9365 - val_accuracy: 0.6176 - val_loss: 0.9316\n",
      "Epoch 23/100\n",
      "\u001b[1m60/60\u001b[0m \u001b[32m━━━━━━━━━━━━━━━━━━━━\u001b[0m\u001b[37m\u001b[0m \u001b[1m0s\u001b[0m 2ms/step - accuracy: 0.5942 - loss: 0.9082 - val_accuracy: 0.6152 - val_loss: 0.9311\n",
      "Epoch 24/100\n",
      "\u001b[1m60/60\u001b[0m \u001b[32m━━━━━━━━━━━━━━━━━━━━\u001b[0m\u001b[37m\u001b[0m \u001b[1m0s\u001b[0m 3ms/step - accuracy: 0.5804 - loss: 0.9394 - val_accuracy: 0.6275 - val_loss: 0.9314\n",
      "Epoch 25/100\n",
      "\u001b[1m60/60\u001b[0m \u001b[32m━━━━━━━━━━━━━━━━━━━━\u001b[0m\u001b[37m\u001b[0m \u001b[1m0s\u001b[0m 2ms/step - accuracy: 0.5827 - loss: 0.9072 - val_accuracy: 0.6176 - val_loss: 0.9324\n",
      "Epoch 26/100\n",
      "\u001b[1m60/60\u001b[0m \u001b[32m━━━━━━━━━━━━━━━━━━━━\u001b[0m\u001b[37m\u001b[0m \u001b[1m0s\u001b[0m 2ms/step - accuracy: 0.5943 - loss: 0.8946 - val_accuracy: 0.6176 - val_loss: 0.9331\n",
      "Epoch 27/100\n",
      "\u001b[1m60/60\u001b[0m \u001b[32m━━━━━━━━━━━━━━━━━━━━\u001b[0m\u001b[37m\u001b[0m \u001b[1m0s\u001b[0m 2ms/step - accuracy: 0.5905 - loss: 0.9258 - val_accuracy: 0.6127 - val_loss: 0.9338\n",
      "Epoch 28/100\n",
      "\u001b[1m60/60\u001b[0m \u001b[32m━━━━━━━━━━━━━━━━━━━━\u001b[0m\u001b[37m\u001b[0m \u001b[1m1s\u001b[0m 8ms/step - accuracy: 0.5939 - loss: 0.9060 - val_accuracy: 0.6127 - val_loss: 0.9319\n",
      "Epoch 29/100\n",
      "\u001b[1m60/60\u001b[0m \u001b[32m━━━━━━━━━━━━━━━━━━━━\u001b[0m\u001b[37m\u001b[0m \u001b[1m1s\u001b[0m 11ms/step - accuracy: 0.6235 - loss: 0.8813 - val_accuracy: 0.6176 - val_loss: 0.9330\n",
      "Epoch 30/100\n",
      "\u001b[1m60/60\u001b[0m \u001b[32m━━━━━━━━━━━━━━━━━━━━\u001b[0m\u001b[37m\u001b[0m \u001b[1m1s\u001b[0m 9ms/step - accuracy: 0.5744 - loss: 0.9061 - val_accuracy: 0.6201 - val_loss: 0.9333\n",
      "Epoch 31/100\n",
      "\u001b[1m60/60\u001b[0m \u001b[32m━━━━━━━━━━━━━━━━━━━━\u001b[0m\u001b[37m\u001b[0m \u001b[1m1s\u001b[0m 12ms/step - accuracy: 0.5950 - loss: 0.9143 - val_accuracy: 0.6078 - val_loss: 0.9338\n",
      "Epoch 32/100\n",
      "\u001b[1m60/60\u001b[0m \u001b[32m━━━━━━━━━━━━━━━━━━━━\u001b[0m\u001b[37m\u001b[0m \u001b[1m1s\u001b[0m 11ms/step - accuracy: 0.5912 - loss: 0.9189 - val_accuracy: 0.6103 - val_loss: 0.9335\n",
      "Epoch 33/100\n",
      "\u001b[1m60/60\u001b[0m \u001b[32m━━━━━━━━━━━━━━━━━━━━\u001b[0m\u001b[37m\u001b[0m \u001b[1m1s\u001b[0m 14ms/step - accuracy: 0.5807 - loss: 0.9007 - val_accuracy: 0.6152 - val_loss: 0.9338\n",
      "Epoch 34/100\n",
      "\u001b[1m60/60\u001b[0m \u001b[32m━━━━━━━━━━━━━━━━━━━━\u001b[0m\u001b[37m\u001b[0m \u001b[1m0s\u001b[0m 3ms/step - accuracy: 0.5961 - loss: 0.8642 - val_accuracy: 0.6152 - val_loss: 0.9345\n",
      "Epoch 35/100\n",
      "\u001b[1m60/60\u001b[0m \u001b[32m━━━━━━━━━━━━━━━━━━━━\u001b[0m\u001b[37m\u001b[0m \u001b[1m1s\u001b[0m 10ms/step - accuracy: 0.5794 - loss: 0.8937 - val_accuracy: 0.6127 - val_loss: 0.9359\n",
      "Epoch 36/100\n",
      "\u001b[1m60/60\u001b[0m \u001b[32m━━━━━━━━━━━━━━━━━━━━\u001b[0m\u001b[37m\u001b[0m \u001b[1m0s\u001b[0m 3ms/step - accuracy: 0.5960 - loss: 0.8795 - val_accuracy: 0.6054 - val_loss: 0.9353\n",
      "Epoch 37/100\n",
      "\u001b[1m60/60\u001b[0m \u001b[32m━━━━━━━━━━━━━━━━━━━━\u001b[0m\u001b[37m\u001b[0m \u001b[1m1s\u001b[0m 8ms/step - accuracy: 0.5967 - loss: 0.9192 - val_accuracy: 0.6176 - val_loss: 0.9358\n",
      "Epoch 38/100\n",
      "\u001b[1m60/60\u001b[0m \u001b[32m━━━━━━━━━━━━━━━━━━━━\u001b[0m\u001b[37m\u001b[0m \u001b[1m1s\u001b[0m 9ms/step - accuracy: 0.6167 - loss: 0.8892 - val_accuracy: 0.6103 - val_loss: 0.9352\n",
      "Epoch 39/100\n",
      "\u001b[1m60/60\u001b[0m \u001b[32m━━━━━━━━━━━━━━━━━━━━\u001b[0m\u001b[37m\u001b[0m \u001b[1m1s\u001b[0m 5ms/step - accuracy: 0.6101 - loss: 0.8673 - val_accuracy: 0.6078 - val_loss: 0.9375\n",
      "Epoch 40/100\n",
      "\u001b[1m60/60\u001b[0m \u001b[32m━━━━━━━━━━━━━━━━━━━━\u001b[0m\u001b[37m\u001b[0m \u001b[1m0s\u001b[0m 6ms/step - accuracy: 0.6269 - loss: 0.8381 - val_accuracy: 0.5931 - val_loss: 0.9380\n",
      "Epoch 41/100\n",
      "\u001b[1m60/60\u001b[0m \u001b[32m━━━━━━━━━━━━━━━━━━━━\u001b[0m\u001b[37m\u001b[0m \u001b[1m1s\u001b[0m 5ms/step - accuracy: 0.5897 - loss: 0.8955 - val_accuracy: 0.6152 - val_loss: 0.9372\n",
      "Epoch 42/100\n",
      "\u001b[1m60/60\u001b[0m \u001b[32m━━━━━━━━━━━━━━━━━━━━\u001b[0m\u001b[37m\u001b[0m \u001b[1m1s\u001b[0m 6ms/step - accuracy: 0.5774 - loss: 0.8882 - val_accuracy: 0.6152 - val_loss: 0.9366\n",
      "Epoch 43/100\n",
      "\u001b[1m60/60\u001b[0m \u001b[32m━━━━━━━━━━━━━━━━━━━━\u001b[0m\u001b[37m\u001b[0m \u001b[1m0s\u001b[0m 2ms/step - accuracy: 0.5908 - loss: 0.9106 - val_accuracy: 0.6029 - val_loss: 0.9391\n",
      "Epoch 44/100\n",
      "\u001b[1m60/60\u001b[0m \u001b[32m━━━━━━━━━━━━━━━━━━━━\u001b[0m\u001b[37m\u001b[0m \u001b[1m0s\u001b[0m 5ms/step - accuracy: 0.6093 - loss: 0.8723 - val_accuracy: 0.6054 - val_loss: 0.9396\n",
      "Epoch 45/100\n",
      "\u001b[1m60/60\u001b[0m \u001b[32m━━━━━━━━━━━━━━━━━━━━\u001b[0m\u001b[37m\u001b[0m \u001b[1m1s\u001b[0m 7ms/step - accuracy: 0.5972 - loss: 0.8645 - val_accuracy: 0.6078 - val_loss: 0.9393\n",
      "Epoch 46/100\n",
      "\u001b[1m60/60\u001b[0m \u001b[32m━━━━━━━━━━━━━━━━━━━━\u001b[0m\u001b[37m\u001b[0m \u001b[1m0s\u001b[0m 3ms/step - accuracy: 0.6019 - loss: 0.8672 - val_accuracy: 0.6029 - val_loss: 0.9409\n",
      "Epoch 47/100\n",
      "\u001b[1m60/60\u001b[0m \u001b[32m━━━━━━━━━━━━━━━━━━━━\u001b[0m\u001b[37m\u001b[0m \u001b[1m0s\u001b[0m 6ms/step - accuracy: 0.5845 - loss: 0.8573 - val_accuracy: 0.5882 - val_loss: 0.9403\n",
      "Epoch 48/100\n",
      "\u001b[1m60/60\u001b[0m \u001b[32m━━━━━━━━━━━━━━━━━━━━\u001b[0m\u001b[37m\u001b[0m \u001b[1m1s\u001b[0m 4ms/step - accuracy: 0.5978 - loss: 0.8726 - val_accuracy: 0.5956 - val_loss: 0.9405\n",
      "Epoch 49/100\n",
      "\u001b[1m60/60\u001b[0m \u001b[32m━━━━━━━━━━━━━━━━━━━━\u001b[0m\u001b[37m\u001b[0m \u001b[1m0s\u001b[0m 3ms/step - accuracy: 0.6044 - loss: 0.8675 - val_accuracy: 0.5931 - val_loss: 0.9427\n",
      "Epoch 50/100\n",
      "\u001b[1m60/60\u001b[0m \u001b[32m━━━━━━━━━━━━━━━━━━━━\u001b[0m\u001b[37m\u001b[0m \u001b[1m0s\u001b[0m 3ms/step - accuracy: 0.6118 - loss: 0.8624 - val_accuracy: 0.6005 - val_loss: 0.9412\n",
      "Epoch 51/100\n",
      "\u001b[1m60/60\u001b[0m \u001b[32m━━━━━━━━━━━━━━━━━━━━\u001b[0m\u001b[37m\u001b[0m \u001b[1m0s\u001b[0m 3ms/step - accuracy: 0.6198 - loss: 0.8597 - val_accuracy: 0.5980 - val_loss: 0.9430\n",
      "Epoch 52/100\n",
      "\u001b[1m60/60\u001b[0m \u001b[32m━━━━━━━━━━━━━━━━━━━━\u001b[0m\u001b[37m\u001b[0m \u001b[1m0s\u001b[0m 2ms/step - accuracy: 0.6096 - loss: 0.8734 - val_accuracy: 0.5980 - val_loss: 0.9414\n",
      "Epoch 53/100\n",
      "\u001b[1m60/60\u001b[0m \u001b[32m━━━━━━━━━━━━━━━━━━━━\u001b[0m\u001b[37m\u001b[0m \u001b[1m1s\u001b[0m 7ms/step - accuracy: 0.5758 - loss: 0.8878 - val_accuracy: 0.5907 - val_loss: 0.9441\n",
      "Epoch 54/100\n",
      "\u001b[1m60/60\u001b[0m \u001b[32m━━━━━━━━━━━━━━━━━━━━\u001b[0m\u001b[37m\u001b[0m \u001b[1m1s\u001b[0m 12ms/step - accuracy: 0.6301 - loss: 0.8312 - val_accuracy: 0.6029 - val_loss: 0.9415\n",
      "Epoch 55/100\n",
      "\u001b[1m60/60\u001b[0m \u001b[32m━━━━━━━━━━━━━━━━━━━━\u001b[0m\u001b[37m\u001b[0m \u001b[1m1s\u001b[0m 9ms/step - accuracy: 0.5938 - loss: 0.8931 - val_accuracy: 0.5907 - val_loss: 0.9447\n",
      "Epoch 56/100\n",
      "\u001b[1m60/60\u001b[0m \u001b[32m━━━━━━━━━━━━━━━━━━━━\u001b[0m\u001b[37m\u001b[0m \u001b[1m1s\u001b[0m 8ms/step - accuracy: 0.5889 - loss: 0.8936 - val_accuracy: 0.5956 - val_loss: 0.9456\n",
      "Epoch 57/100\n",
      "\u001b[1m60/60\u001b[0m \u001b[32m━━━━━━━━━━━━━━━━━━━━\u001b[0m\u001b[37m\u001b[0m \u001b[1m1s\u001b[0m 8ms/step - accuracy: 0.6227 - loss: 0.8577 - val_accuracy: 0.5858 - val_loss: 0.9482\n",
      "Epoch 58/100\n",
      "\u001b[1m60/60\u001b[0m \u001b[32m━━━━━━━━━━━━━━━━━━━━\u001b[0m\u001b[37m\u001b[0m \u001b[1m1s\u001b[0m 8ms/step - accuracy: 0.5971 - loss: 0.8570 - val_accuracy: 0.5833 - val_loss: 0.9472\n",
      "Epoch 59/100\n",
      "\u001b[1m60/60\u001b[0m \u001b[32m━━━━━━━━━━━━━━━━━━━━\u001b[0m\u001b[37m\u001b[0m \u001b[1m1s\u001b[0m 10ms/step - accuracy: 0.6125 - loss: 0.8636 - val_accuracy: 0.5833 - val_loss: 0.9504\n",
      "Epoch 60/100\n",
      "\u001b[1m60/60\u001b[0m \u001b[32m━━━━━━━━━━━━━━━━━━━━\u001b[0m\u001b[37m\u001b[0m \u001b[1m1s\u001b[0m 5ms/step - accuracy: 0.6132 - loss: 0.8643 - val_accuracy: 0.5760 - val_loss: 0.9470\n",
      "Epoch 61/100\n",
      "\u001b[1m60/60\u001b[0m \u001b[32m━━━━━━━━━━━━━━━━━━━━\u001b[0m\u001b[37m\u001b[0m \u001b[1m0s\u001b[0m 8ms/step - accuracy: 0.6222 - loss: 0.8337 - val_accuracy: 0.5784 - val_loss: 0.9483\n",
      "Epoch 62/100\n",
      "\u001b[1m60/60\u001b[0m \u001b[32m━━━━━━━━━━━━━━━━━━━━\u001b[0m\u001b[37m\u001b[0m \u001b[1m0s\u001b[0m 2ms/step - accuracy: 0.5977 - loss: 0.8609 - val_accuracy: 0.5882 - val_loss: 0.9484\n",
      "Epoch 63/100\n",
      "\u001b[1m60/60\u001b[0m \u001b[32m━━━━━━━━━━━━━━━━━━━━\u001b[0m\u001b[37m\u001b[0m \u001b[1m0s\u001b[0m 2ms/step - accuracy: 0.5906 - loss: 0.8921 - val_accuracy: 0.5956 - val_loss: 0.9488\n",
      "Epoch 64/100\n",
      "\u001b[1m60/60\u001b[0m \u001b[32m━━━━━━━━━━━━━━━━━━━━\u001b[0m\u001b[37m\u001b[0m \u001b[1m0s\u001b[0m 3ms/step - accuracy: 0.5896 - loss: 0.8951 - val_accuracy: 0.5711 - val_loss: 0.9511\n",
      "Epoch 65/100\n",
      "\u001b[1m60/60\u001b[0m \u001b[32m━━━━━━━━━━━━━━━━━━━━\u001b[0m\u001b[37m\u001b[0m \u001b[1m0s\u001b[0m 3ms/step - accuracy: 0.6181 - loss: 0.8756 - val_accuracy: 0.5882 - val_loss: 0.9509\n",
      "Epoch 66/100\n",
      "\u001b[1m60/60\u001b[0m \u001b[32m━━━━━━━━━━━━━━━━━━━━\u001b[0m\u001b[37m\u001b[0m \u001b[1m0s\u001b[0m 3ms/step - accuracy: 0.6268 - loss: 0.8596 - val_accuracy: 0.5784 - val_loss: 0.9515\n",
      "Epoch 67/100\n",
      "\u001b[1m60/60\u001b[0m \u001b[32m━━━━━━━━━━━━━━━━━━━━\u001b[0m\u001b[37m\u001b[0m \u001b[1m0s\u001b[0m 4ms/step - accuracy: 0.6223 - loss: 0.7973 - val_accuracy: 0.5784 - val_loss: 0.9541\n",
      "Epoch 68/100\n",
      "\u001b[1m60/60\u001b[0m \u001b[32m━━━━━━━━━━━━━━━━━━━━\u001b[0m\u001b[37m\u001b[0m \u001b[1m0s\u001b[0m 2ms/step - accuracy: 0.6387 - loss: 0.8228 - val_accuracy: 0.5882 - val_loss: 0.9546\n",
      "Epoch 69/100\n",
      "\u001b[1m60/60\u001b[0m \u001b[32m━━━━━━━━━━━━━━━━━━━━\u001b[0m\u001b[37m\u001b[0m \u001b[1m0s\u001b[0m 3ms/step - accuracy: 0.5953 - loss: 0.8829 - val_accuracy: 0.5809 - val_loss: 0.9556\n",
      "Epoch 70/100\n",
      "\u001b[1m60/60\u001b[0m \u001b[32m━━━━━━━━━━━━━━━━━━━━\u001b[0m\u001b[37m\u001b[0m \u001b[1m0s\u001b[0m 2ms/step - accuracy: 0.5923 - loss: 0.8665 - val_accuracy: 0.5760 - val_loss: 0.9592\n",
      "Epoch 71/100\n",
      "\u001b[1m60/60\u001b[0m \u001b[32m━━━━━━━━━━━━━━━━━━━━\u001b[0m\u001b[37m\u001b[0m \u001b[1m0s\u001b[0m 2ms/step - accuracy: 0.6318 - loss: 0.8320 - val_accuracy: 0.5735 - val_loss: 0.9576\n",
      "Epoch 72/100\n",
      "\u001b[1m60/60\u001b[0m \u001b[32m━━━━━━━━━━━━━━━━━━━━\u001b[0m\u001b[37m\u001b[0m \u001b[1m0s\u001b[0m 2ms/step - accuracy: 0.6224 - loss: 0.8212 - val_accuracy: 0.5809 - val_loss: 0.9578\n",
      "Epoch 73/100\n",
      "\u001b[1m60/60\u001b[0m \u001b[32m━━━━━━━━━━━━━━━━━━━━\u001b[0m\u001b[37m\u001b[0m \u001b[1m0s\u001b[0m 3ms/step - accuracy: 0.6247 - loss: 0.8224 - val_accuracy: 0.5760 - val_loss: 0.9585\n",
      "Epoch 74/100\n",
      "\u001b[1m60/60\u001b[0m \u001b[32m━━━━━━━━━━━━━━━━━━━━\u001b[0m\u001b[37m\u001b[0m \u001b[1m0s\u001b[0m 2ms/step - accuracy: 0.5951 - loss: 0.8844 - val_accuracy: 0.5784 - val_loss: 0.9596\n",
      "Epoch 75/100\n",
      "\u001b[1m60/60\u001b[0m \u001b[32m━━━━━━━━━━━━━━━━━━━━\u001b[0m\u001b[37m\u001b[0m \u001b[1m0s\u001b[0m 3ms/step - accuracy: 0.6426 - loss: 0.8145 - val_accuracy: 0.5760 - val_loss: 0.9589\n",
      "Epoch 76/100\n",
      "\u001b[1m60/60\u001b[0m \u001b[32m━━━━━━━━━━━━━━━━━━━━\u001b[0m\u001b[37m\u001b[0m \u001b[1m0s\u001b[0m 3ms/step - accuracy: 0.6067 - loss: 0.8721 - val_accuracy: 0.5833 - val_loss: 0.9623\n",
      "Epoch 77/100\n",
      "\u001b[1m60/60\u001b[0m \u001b[32m━━━━━━━━━━━━━━━━━━━━\u001b[0m\u001b[37m\u001b[0m \u001b[1m0s\u001b[0m 4ms/step - accuracy: 0.6182 - loss: 0.8509 - val_accuracy: 0.5833 - val_loss: 0.9615\n",
      "Epoch 78/100\n",
      "\u001b[1m60/60\u001b[0m \u001b[32m━━━━━━━━━━━━━━━━━━━━\u001b[0m\u001b[37m\u001b[0m \u001b[1m0s\u001b[0m 2ms/step - accuracy: 0.6184 - loss: 0.8311 - val_accuracy: 0.5784 - val_loss: 0.9626\n",
      "Epoch 79/100\n",
      "\u001b[1m60/60\u001b[0m \u001b[32m━━━━━━━━━━━━━━━━━━━━\u001b[0m\u001b[37m\u001b[0m \u001b[1m0s\u001b[0m 2ms/step - accuracy: 0.6010 - loss: 0.8363 - val_accuracy: 0.5735 - val_loss: 0.9631\n",
      "Epoch 80/100\n",
      "\u001b[1m60/60\u001b[0m \u001b[32m━━━━━━━━━━━━━━━━━━━━\u001b[0m\u001b[37m\u001b[0m \u001b[1m0s\u001b[0m 3ms/step - accuracy: 0.6341 - loss: 0.8468 - val_accuracy: 0.5760 - val_loss: 0.9622\n",
      "Epoch 81/100\n",
      "\u001b[1m60/60\u001b[0m \u001b[32m━━━━━━━━━━━━━━━━━━━━\u001b[0m\u001b[37m\u001b[0m \u001b[1m0s\u001b[0m 3ms/step - accuracy: 0.6284 - loss: 0.8375 - val_accuracy: 0.5784 - val_loss: 0.9658\n",
      "Epoch 82/100\n",
      "\u001b[1m60/60\u001b[0m \u001b[32m━━━━━━━━━━━━━━━━━━━━\u001b[0m\u001b[37m\u001b[0m \u001b[1m0s\u001b[0m 2ms/step - accuracy: 0.6114 - loss: 0.8867 - val_accuracy: 0.5833 - val_loss: 0.9649\n",
      "Epoch 83/100\n",
      "\u001b[1m60/60\u001b[0m \u001b[32m━━━━━━━━━━━━━━━━━━━━\u001b[0m\u001b[37m\u001b[0m \u001b[1m0s\u001b[0m 3ms/step - accuracy: 0.6133 - loss: 0.8277 - val_accuracy: 0.5833 - val_loss: 0.9663\n",
      "Epoch 84/100\n",
      "\u001b[1m60/60\u001b[0m \u001b[32m━━━━━━━━━━━━━━━━━━━━\u001b[0m\u001b[37m\u001b[0m \u001b[1m0s\u001b[0m 3ms/step - accuracy: 0.6249 - loss: 0.8119 - val_accuracy: 0.5760 - val_loss: 0.9673\n",
      "Epoch 85/100\n",
      "\u001b[1m60/60\u001b[0m \u001b[32m━━━━━━━━━━━━━━━━━━━━\u001b[0m\u001b[37m\u001b[0m \u001b[1m0s\u001b[0m 3ms/step - accuracy: 0.6359 - loss: 0.8261 - val_accuracy: 0.5858 - val_loss: 0.9669\n",
      "Epoch 86/100\n",
      "\u001b[1m60/60\u001b[0m \u001b[32m━━━━━━━━━━━━━━━━━━━━\u001b[0m\u001b[37m\u001b[0m \u001b[1m0s\u001b[0m 3ms/step - accuracy: 0.6473 - loss: 0.7817 - val_accuracy: 0.5784 - val_loss: 0.9663\n",
      "Epoch 87/100\n",
      "\u001b[1m60/60\u001b[0m \u001b[32m━━━━━━━━━━━━━━━━━━━━\u001b[0m\u001b[37m\u001b[0m \u001b[1m0s\u001b[0m 3ms/step - accuracy: 0.6393 - loss: 0.8251 - val_accuracy: 0.5833 - val_loss: 0.9672\n",
      "Epoch 88/100\n",
      "\u001b[1m60/60\u001b[0m \u001b[32m━━━━━━━━━━━━━━━━━━━━\u001b[0m\u001b[37m\u001b[0m \u001b[1m0s\u001b[0m 3ms/step - accuracy: 0.6516 - loss: 0.8050 - val_accuracy: 0.5760 - val_loss: 0.9670\n",
      "Epoch 89/100\n",
      "\u001b[1m60/60\u001b[0m \u001b[32m━━━━━━━━━━━━━━━━━━━━\u001b[0m\u001b[37m\u001b[0m \u001b[1m0s\u001b[0m 3ms/step - accuracy: 0.6423 - loss: 0.8157 - val_accuracy: 0.5711 - val_loss: 0.9704\n",
      "Epoch 90/100\n",
      "\u001b[1m60/60\u001b[0m \u001b[32m━━━━━━━━━━━━━━━━━━━━\u001b[0m\u001b[37m\u001b[0m \u001b[1m0s\u001b[0m 2ms/step - accuracy: 0.6022 - loss: 0.8400 - val_accuracy: 0.5833 - val_loss: 0.9692\n",
      "Epoch 91/100\n",
      "\u001b[1m60/60\u001b[0m \u001b[32m━━━━━━━━━━━━━━━━━━━━\u001b[0m\u001b[37m\u001b[0m \u001b[1m0s\u001b[0m 2ms/step - accuracy: 0.6032 - loss: 0.8665 - val_accuracy: 0.5833 - val_loss: 0.9677\n",
      "Epoch 92/100\n",
      "\u001b[1m60/60\u001b[0m \u001b[32m━━━━━━━━━━━━━━━━━━━━\u001b[0m\u001b[37m\u001b[0m \u001b[1m0s\u001b[0m 5ms/step - accuracy: 0.6415 - loss: 0.8336 - val_accuracy: 0.5760 - val_loss: 0.9696\n",
      "Epoch 93/100\n",
      "\u001b[1m60/60\u001b[0m \u001b[32m━━━━━━━━━━━━━━━━━━━━\u001b[0m\u001b[37m\u001b[0m \u001b[1m1s\u001b[0m 4ms/step - accuracy: 0.6267 - loss: 0.8213 - val_accuracy: 0.5833 - val_loss: 0.9723\n",
      "Epoch 94/100\n",
      "\u001b[1m60/60\u001b[0m \u001b[32m━━━━━━━━━━━━━━━━━━━━\u001b[0m\u001b[37m\u001b[0m \u001b[1m1s\u001b[0m 4ms/step - accuracy: 0.6590 - loss: 0.8043 - val_accuracy: 0.5833 - val_loss: 0.9718\n",
      "Epoch 95/100\n",
      "\u001b[1m60/60\u001b[0m \u001b[32m━━━━━━━━━━━━━━━━━━━━\u001b[0m\u001b[37m\u001b[0m \u001b[1m0s\u001b[0m 4ms/step - accuracy: 0.6295 - loss: 0.7974 - val_accuracy: 0.5833 - val_loss: 0.9713\n",
      "Epoch 96/100\n",
      "\u001b[1m60/60\u001b[0m \u001b[32m━━━━━━━━━━━━━━━━━━━━\u001b[0m\u001b[37m\u001b[0m \u001b[1m0s\u001b[0m 4ms/step - accuracy: 0.6483 - loss: 0.8175 - val_accuracy: 0.5735 - val_loss: 0.9750\n",
      "Epoch 97/100\n",
      "\u001b[1m60/60\u001b[0m \u001b[32m━━━━━━━━━━━━━━━━━━━━\u001b[0m\u001b[37m\u001b[0m \u001b[1m0s\u001b[0m 5ms/step - accuracy: 0.6410 - loss: 0.8193 - val_accuracy: 0.5833 - val_loss: 0.9747\n",
      "Epoch 98/100\n",
      "\u001b[1m60/60\u001b[0m \u001b[32m━━━━━━━━━━━━━━━━━━━━\u001b[0m\u001b[37m\u001b[0m \u001b[1m1s\u001b[0m 5ms/step - accuracy: 0.6421 - loss: 0.7980 - val_accuracy: 0.5809 - val_loss: 0.9749\n",
      "Epoch 99/100\n",
      "\u001b[1m60/60\u001b[0m \u001b[32m━━━━━━━━━━━━━━━━━━━━\u001b[0m\u001b[37m\u001b[0m \u001b[1m1s\u001b[0m 5ms/step - accuracy: 0.6413 - loss: 0.8095 - val_accuracy: 0.5833 - val_loss: 0.9763\n",
      "Epoch 100/100\n",
      "\u001b[1m60/60\u001b[0m \u001b[32m━━━━━━━━━━━━━━━━━━━━\u001b[0m\u001b[37m\u001b[0m \u001b[1m0s\u001b[0m 2ms/step - accuracy: 0.6346 - loss: 0.8279 - val_accuracy: 0.5809 - val_loss: 0.9765\n",
      "\u001b[1m13/13\u001b[0m \u001b[32m━━━━━━━━━━━━━━━━━━━━\u001b[0m\u001b[37m\u001b[0m \u001b[1m0s\u001b[0m 2ms/step - accuracy: 0.6079 - loss: 0.9229 \n",
      "Test Accuracy: 0.5808823704719543\n"
     ]
    }
   ],
   "source": [
    "# Compile the model\n",
    "model.compile(loss=\"categorical_crossentropy\", metrics=[\"accuracy\"], optimizer=\"adam\")\n",
    "\n",
    "# Fit the model\n",
    "history = model.fit(x=X_train_scaled, y=Y_train_encoded, batch_size=16, epochs=100, validation_data=(X_test_scaled, Y_test_encoded))\n",
    "\n",
    "results = model.evaluate(X_test_scaled, Y_test_encoded)\n",
    "print(f\"Test Accuracy: {results[1]}\")"
   ]
  },
  {
   "cell_type": "markdown",
   "metadata": {
    "id": "9NlIOqpeGkRf"
   },
   "source": [
    "C. Plot 2 separate visuals\n",
    "\n",
    "i. Training Loss and Validation Loss\n",
    "\n",
    "ii. Training Accuracy and Validation Accuracy"
   ]
  },
  {
   "cell_type": "code",
   "execution_count": 22,
   "metadata": {
    "colab": {
     "base_uri": "https://localhost:8080/",
     "height": 564
    },
    "executionInfo": {
     "elapsed": 1465,
     "status": "ok",
     "timestamp": 1725774197003,
     "user": {
      "displayName": "Jannet Akanksha Ekka",
      "userId": "04295694532301703575"
     },
     "user_tz": -330
    },
    "id": "5ap90wnqEBJs",
    "outputId": "400fa3fd-6022-4100-ffb7-0ac2540e0eac"
   },
   "outputs": [
    {
     "data": {
      "image/png": "[encoded data removed]",
      "text/plain": [
       "<Figure size 1400x600 with 2 Axes>"
      ]
     },
     "metadata": {},
     "output_type": "display_data"
    }
   ],
   "source": [
    "# Plotting training and validation loss\n",
    "plt.figure(figsize=(14, 6))\n",
    "\n",
    "# Loss\n",
    "plt.subplot(1, 2, 1)\n",
    "plt.plot(history.history['loss'], label='Training Loss')\n",
    "plt.plot(history.history['val_loss'], label='Validation Loss')\n",
    "plt.title('Base Model: Training and Validation Loss')\n",
    "plt.xlabel('Epochs')\n",
    "plt.ylabel('Loss')\n",
    "plt.legend()\n",
    "\n",
    "# Accuracy\n",
    "plt.subplot(1, 2, 2)\n",
    "plt.plot(history.history['accuracy'], label='Training Accuracy')\n",
    "plt.plot(history.history['val_accuracy'], label='Validation Accuracy')\n",
    "plt.title('Base Model: Training and Validation Accuracy')\n",
    "plt.xlabel('Epochs')\n",
    "plt.ylabel('Accuracy')\n",
    "plt.legend()\n",
    "\n",
    "plt.show()"
   ]
  },
  {
   "cell_type": "markdown",
   "metadata": {
    "id": "g8h9injjJOnl"
   },
   "source": [
    "D. Design new architecture/update existing architecture in attempt to improve the performance of the model."
   ]
  },
  {
   "cell_type": "markdown",
   "metadata": {
    "id": "tFdDLr_OT0d2"
   },
   "source": [
    "# Experimenting with multiple techniques"
   ]
  },
  {
   "cell_type": "code",
   "execution_count": 23,
   "metadata": {
    "colab": {
     "base_uri": "https://localhost:8080/"
    },
    "executionInfo": {
     "elapsed": 25379,
     "status": "ok",
     "timestamp": 1725774222378,
     "user": {
      "displayName": "Jannet Akanksha Ekka",
      "userId": "04295694532301703575"
     },
     "user_tz": -330
    },
    "id": "Qa4fbcV9H8W8",
    "outputId": "0519a5af-ebd2-476f-a0d6-33d2a08f7d64",
    "scrolled": true
   },
   "outputs": [
    {
     "name": "stdout",
     "output_type": "stream",
     "text": [
      "Epoch 1/100\n"
     ]
    },
    {
     "name": "stderr",
     "output_type": "stream",
     "text": [
      "/usr/local/lib/python3.10/dist-packages/keras/src/layers/activations/leaky_relu.py:41: UserWarning: Argument `alpha` is deprecated. Use `negative_slope` instead.\n",
      "  warnings.warn(\n"
     ]
    },
    {
     "name": "stdout",
     "output_type": "stream",
     "text": [
      "\u001b[1m30/30\u001b[0m \u001b[32m━━━━━━━━━━━━━━━━━━━━\u001b[0m\u001b[37m\u001b[0m \u001b[1m3s\u001b[0m 13ms/step - accuracy: 0.1847 - loss: 2.2918 - val_accuracy: 0.1642 - val_loss: 2.1299 - learning_rate: 0.0010\n",
      "Epoch 2/100\n",
      "\u001b[1m30/30\u001b[0m \u001b[32m━━━━━━━━━━━━━━━━━━━━\u001b[0m\u001b[37m\u001b[0m \u001b[1m0s\u001b[0m 4ms/step - accuracy: 0.1981 - loss: 2.2510 - val_accuracy: 0.2794 - val_loss: 1.9682 - learning_rate: 0.0010\n",
      "Epoch 3/100\n",
      "\u001b[1m30/30\u001b[0m \u001b[32m━━━━━━━━━━━━━━━━━━━━\u001b[0m\u001b[37m\u001b[0m \u001b[1m0s\u001b[0m 4ms/step - accuracy: 0.2593 - loss: 2.1549 - val_accuracy: 0.3358 - val_loss: 1.8539 - learning_rate: 0.0010\n",
      "Epoch 4/100\n",
      "\u001b[1m30/30\u001b[0m \u001b[32m━━━━━━━━━━━━━━━━━━━━\u001b[0m\u001b[37m\u001b[0m \u001b[1m0s\u001b[0m 4ms/step - accuracy: 0.3208 - loss: 1.9551 - val_accuracy: 0.3922 - val_loss: 1.7606 - learning_rate: 0.0010\n",
      "Epoch 5/100\n",
      "\u001b[1m30/30\u001b[0m \u001b[32m━━━━━━━━━━━━━━━━━━━━\u001b[0m\u001b[37m\u001b[0m \u001b[1m0s\u001b[0m 4ms/step - accuracy: 0.3559 - loss: 1.8897 - val_accuracy: 0.4608 - val_loss: 1.6839 - learning_rate: 0.0010\n",
      "Epoch 6/100\n",
      "\u001b[1m30/30\u001b[0m \u001b[32m━━━━━━━━━━━━━━━━━━━━\u001b[0m\u001b[37m\u001b[0m \u001b[1m0s\u001b[0m 6ms/step - accuracy: 0.3786 - loss: 1.8265 - val_accuracy: 0.4926 - val_loss: 1.6156 - learning_rate: 0.0010\n",
      "Epoch 7/100\n",
      "\u001b[1m30/30\u001b[0m \u001b[32m━━━━━━━━━━━━━━━━━━━━\u001b[0m\u001b[37m\u001b[0m \u001b[1m0s\u001b[0m 4ms/step - accuracy: 0.3473 - loss: 1.8167 - val_accuracy: 0.5000 - val_loss: 1.5619 - learning_rate: 0.0010\n",
      "Epoch 8/100\n",
      "\u001b[1m30/30\u001b[0m \u001b[32m━━━━━━━━━━━━━━━━━━━━\u001b[0m\u001b[37m\u001b[0m \u001b[1m0s\u001b[0m 4ms/step - accuracy: 0.4207 - loss: 1.7001 - val_accuracy: 0.5343 - val_loss: 1.5078 - learning_rate: 0.0010\n",
      "Epoch 9/100\n",
      "\u001b[1m30/30\u001b[0m \u001b[32m━━━━━━━━━━━━━━━━━━━━\u001b[0m\u001b[37m\u001b[0m \u001b[1m0s\u001b[0m 4ms/step - accuracy: 0.4491 - loss: 1.6571 - val_accuracy: 0.5392 - val_loss: 1.4600 - learning_rate: 0.0010\n",
      "Epoch 10/100\n",
      "\u001b[1m30/30\u001b[0m \u001b[32m━━━━━━━━━━━━━━━━━━━━\u001b[0m\u001b[37m\u001b[0m \u001b[1m0s\u001b[0m 4ms/step - accuracy: 0.4226 - loss: 1.6038 - val_accuracy: 0.5588 - val_loss: 1.4186 - learning_rate: 0.0010\n",
      "Epoch 11/100\n",
      "\u001b[1m30/30\u001b[0m \u001b[32m━━━━━━━━━━━━━━━━━━━━\u001b[0m\u001b[37m\u001b[0m \u001b[1m0s\u001b[0m 4ms/step - accuracy: 0.4420 - loss: 1.5546 - val_accuracy: 0.5588 - val_loss: 1.3817 - learning_rate: 0.0010\n",
      "Epoch 12/100\n",
      "\u001b[1m30/30\u001b[0m \u001b[32m━━━━━━━━━━━━━━━━━━━━\u001b[0m\u001b[37m\u001b[0m \u001b[1m0s\u001b[0m 4ms/step - accuracy: 0.4537 - loss: 1.5304 - val_accuracy: 0.5662 - val_loss: 1.3474 - learning_rate: 0.0010\n",
      "Epoch 13/100\n",
      "\u001b[1m30/30\u001b[0m \u001b[32m━━━━━━━━━━━━━━━━━━━━\u001b[0m\u001b[37m\u001b[0m \u001b[1m0s\u001b[0m 6ms/step - accuracy: 0.4587 - loss: 1.4705 - val_accuracy: 0.5711 - val_loss: 1.3129 - learning_rate: 0.0010\n",
      "Epoch 14/100\n",
      "\u001b[1m30/30\u001b[0m \u001b[32m━━━━━━━━━━━━━━━━━━━━\u001b[0m\u001b[37m\u001b[0m \u001b[1m0s\u001b[0m 4ms/step - accuracy: 0.4376 - loss: 1.4876 - val_accuracy: 0.5613 - val_loss: 1.2872 - learning_rate: 0.0010\n",
      "Epoch 15/100\n",
      "\u001b[1m30/30\u001b[0m \u001b[32m━━━━━━━━━━━━━━━━━━━━\u001b[0m\u001b[37m\u001b[0m \u001b[1m0s\u001b[0m 4ms/step - accuracy: 0.4716 - loss: 1.4470 - val_accuracy: 0.5686 - val_loss: 1.2647 - learning_rate: 0.0010\n",
      "Epoch 16/100\n",
      "\u001b[1m30/30\u001b[0m \u001b[32m━━━━━━━━━━━━━━━━━━━━\u001b[0m\u001b[37m\u001b[0m \u001b[1m0s\u001b[0m 4ms/step - accuracy: 0.4701 - loss: 1.3865 - val_accuracy: 0.5711 - val_loss: 1.2448 - learning_rate: 0.0010\n",
      "Epoch 17/100\n",
      "\u001b[1m30/30\u001b[0m \u001b[32m━━━━━━━━━━━━━━━━━━━━\u001b[0m\u001b[37m\u001b[0m \u001b[1m0s\u001b[0m 4ms/step - accuracy: 0.4603 - loss: 1.4201 - val_accuracy: 0.5760 - val_loss: 1.2288 - learning_rate: 0.0010\n",
      "Epoch 18/100\n",
      "\u001b[1m30/30\u001b[0m \u001b[32m━━━━━━━━━━━━━━━━━━━━\u001b[0m\u001b[37m\u001b[0m \u001b[1m0s\u001b[0m 4ms/step - accuracy: 0.4838 - loss: 1.3681 - val_accuracy: 0.5760 - val_loss: 1.2140 - learning_rate: 0.0010\n",
      "Epoch 19/100\n",
      "\u001b[1m30/30\u001b[0m \u001b[32m━━━━━━━━━━━━━━━━━━━━\u001b[0m\u001b[37m\u001b[0m \u001b[1m0s\u001b[0m 4ms/step - accuracy: 0.4744 - loss: 1.3571 - val_accuracy: 0.5784 - val_loss: 1.2012 - learning_rate: 0.0010\n",
      "Epoch 20/100\n",
      "\u001b[1m30/30\u001b[0m \u001b[32m━━━━━━━━━━━━━━━━━━━━\u001b[0m\u001b[37m\u001b[0m \u001b[1m0s\u001b[0m 4ms/step - accuracy: 0.4836 - loss: 1.3058 - val_accuracy: 0.5882 - val_loss: 1.1870 - learning_rate: 0.0010\n",
      "Epoch 21/100\n",
      "\u001b[1m30/30\u001b[0m \u001b[32m━━━━━━━━━━━━━━━━━━━━\u001b[0m\u001b[37m\u001b[0m \u001b[1m0s\u001b[0m 4ms/step - accuracy: 0.4802 - loss: 1.3062 - val_accuracy: 0.5858 - val_loss: 1.1758 - learning_rate: 0.0010\n",
      "Epoch 22/100\n",
      "\u001b[1m30/30\u001b[0m \u001b[32m━━━━━━━━━━━━━━━━━━━━\u001b[0m\u001b[37m\u001b[0m \u001b[1m0s\u001b[0m 4ms/step - accuracy: 0.4750 - loss: 1.2961 - val_accuracy: 0.5784 - val_loss: 1.1659 - learning_rate: 0.0010\n",
      "Epoch 23/100\n",
      "\u001b[1m30/30\u001b[0m \u001b[32m━━━━━━━━━━━━━━━━━━━━\u001b[0m\u001b[37m\u001b[0m \u001b[1m0s\u001b[0m 5ms/step - accuracy: 0.5021 - loss: 1.2653 - val_accuracy: 0.5858 - val_loss: 1.1580 - learning_rate: 0.0010\n",
      "Epoch 24/100\n",
      "\u001b[1m30/30\u001b[0m \u001b[32m━━━━━━━━━━━━━━━━━━━━\u001b[0m\u001b[37m\u001b[0m \u001b[1m0s\u001b[0m 4ms/step - accuracy: 0.5022 - loss: 1.2795 - val_accuracy: 0.5858 - val_loss: 1.1515 - learning_rate: 0.0010\n",
      "Epoch 25/100\n",
      "\u001b[1m30/30\u001b[0m \u001b[32m━━━━━━━━━━━━━━━━━━━━\u001b[0m\u001b[37m\u001b[0m \u001b[1m0s\u001b[0m 5ms/step - accuracy: 0.5438 - loss: 1.2074 - val_accuracy: 0.5711 - val_loss: 1.1419 - learning_rate: 0.0010\n",
      "Epoch 26/100\n",
      "\u001b[1m30/30\u001b[0m \u001b[32m━━━━━━━━━━━━━━━━━━━━\u001b[0m\u001b[37m\u001b[0m \u001b[1m0s\u001b[0m 4ms/step - accuracy: 0.5078 - loss: 1.2528 - val_accuracy: 0.5882 - val_loss: 1.1356 - learning_rate: 0.0010\n",
      "Epoch 27/100\n",
      "\u001b[1m30/30\u001b[0m \u001b[32m━━━━━━━━━━━━━━━━━━━━\u001b[0m\u001b[37m\u001b[0m \u001b[1m0s\u001b[0m 4ms/step - accuracy: 0.4822 - loss: 1.2768 - val_accuracy: 0.5784 - val_loss: 1.1301 - learning_rate: 0.0010\n",
      "Epoch 28/100\n",
      "\u001b[1m30/30\u001b[0m \u001b[32m━━━━━━━━━━━━━━━━━━━━\u001b[0m\u001b[37m\u001b[0m \u001b[1m0s\u001b[0m 5ms/step - accuracy: 0.4986 - loss: 1.2303 - val_accuracy: 0.5735 - val_loss: 1.1230 - learning_rate: 0.0010\n",
      "Epoch 29/100\n",
      "\u001b[1m30/30\u001b[0m \u001b[32m━━━━━━━━━━━━━━━━━━━━\u001b[0m\u001b[37m\u001b[0m \u001b[1m0s\u001b[0m 4ms/step - accuracy: 0.5350 - loss: 1.1658 - val_accuracy: 0.5760 - val_loss: 1.1133 - learning_rate: 0.0010\n",
      "Epoch 30/100\n",
      "\u001b[1m30/30\u001b[0m \u001b[32m━━━━━━━━━━━━━━━━━━━━\u001b[0m\u001b[37m\u001b[0m \u001b[1m0s\u001b[0m 4ms/step - accuracy: 0.5190 - loss: 1.2156 - val_accuracy: 0.5833 - val_loss: 1.1106 - learning_rate: 0.0010\n",
      "Epoch 31/100\n",
      "\u001b[1m30/30\u001b[0m \u001b[32m━━━━━━━━━━━━━━━━━━━━\u001b[0m\u001b[37m\u001b[0m \u001b[1m0s\u001b[0m 4ms/step - accuracy: 0.5515 - loss: 1.1703 - val_accuracy: 0.5858 - val_loss: 1.1051 - learning_rate: 0.0010\n",
      "Epoch 32/100\n",
      "\u001b[1m30/30\u001b[0m \u001b[32m━━━━━━━━━━━━━━━━━━━━\u001b[0m\u001b[37m\u001b[0m \u001b[1m0s\u001b[0m 7ms/step - accuracy: 0.5079 - loss: 1.2149 - val_accuracy: 0.5956 - val_loss: 1.1020 - learning_rate: 0.0010\n",
      "Epoch 33/100\n",
      "\u001b[1m30/30\u001b[0m \u001b[32m━━━━━━━━━━━━━━━━━━━━\u001b[0m\u001b[37m\u001b[0m \u001b[1m0s\u001b[0m 6ms/step - accuracy: 0.5242 - loss: 1.2065 - val_accuracy: 0.5931 - val_loss: 1.0979 - learning_rate: 0.0010\n",
      "Epoch 34/100\n",
      "\u001b[1m30/30\u001b[0m \u001b[32m━━━━━━━━━━━━━━━━━━━━\u001b[0m\u001b[37m\u001b[0m \u001b[1m0s\u001b[0m 7ms/step - accuracy: 0.5315 - loss: 1.1931 - val_accuracy: 0.5907 - val_loss: 1.0927 - learning_rate: 0.0010\n",
      "Epoch 35/100\n",
      "\u001b[1m30/30\u001b[0m \u001b[32m━━━━━━━━━━━━━━━━━━━━\u001b[0m\u001b[37m\u001b[0m \u001b[1m0s\u001b[0m 7ms/step - accuracy: 0.5216 - loss: 1.1681 - val_accuracy: 0.5882 - val_loss: 1.0871 - learning_rate: 0.0010\n",
      "Epoch 36/100\n",
      "\u001b[1m30/30\u001b[0m \u001b[32m━━━━━━━━━━━━━━━━━━━━\u001b[0m\u001b[37m\u001b[0m \u001b[1m0s\u001b[0m 8ms/step - accuracy: 0.5338 - loss: 1.1581 - val_accuracy: 0.5882 - val_loss: 1.0834 - learning_rate: 0.0010\n",
      "Epoch 37/100\n",
      "\u001b[1m30/30\u001b[0m \u001b[32m━━━━━━━━━━━━━━━━━━━━\u001b[0m\u001b[37m\u001b[0m \u001b[1m0s\u001b[0m 6ms/step - accuracy: 0.5496 - loss: 1.1768 - val_accuracy: 0.5809 - val_loss: 1.0820 - learning_rate: 0.0010\n",
      "Epoch 38/100\n",
      "\u001b[1m30/30\u001b[0m \u001b[32m━━━━━━━━━━━━━━━━━━━━\u001b[0m\u001b[37m\u001b[0m \u001b[1m0s\u001b[0m 8ms/step - accuracy: 0.5415 - loss: 1.1797 - val_accuracy: 0.5956 - val_loss: 1.0785 - learning_rate: 0.0010\n",
      "Epoch 39/100\n",
      "\u001b[1m30/30\u001b[0m \u001b[32m━━━━━━━━━━━━━━━━━━━━\u001b[0m\u001b[37m\u001b[0m \u001b[1m0s\u001b[0m 6ms/step - accuracy: 0.5224 - loss: 1.1726 - val_accuracy: 0.5931 - val_loss: 1.0759 - learning_rate: 0.0010\n",
      "Epoch 40/100\n",
      "\u001b[1m30/30\u001b[0m \u001b[32m━━━━━━━━━━━━━━━━━━━━\u001b[0m\u001b[37m\u001b[0m \u001b[1m0s\u001b[0m 7ms/step - accuracy: 0.5276 - loss: 1.1633 - val_accuracy: 0.5882 - val_loss: 1.0733 - learning_rate: 0.0010\n",
      "Epoch 41/100\n",
      "\u001b[1m30/30\u001b[0m \u001b[32m━━━━━━━━━━━━━━━━━━━━\u001b[0m\u001b[37m\u001b[0m \u001b[1m0s\u001b[0m 8ms/step - accuracy: 0.5356 - loss: 1.1822 - val_accuracy: 0.5882 - val_loss: 1.0725 - learning_rate: 0.0010\n",
      "Epoch 42/100\n",
      "\u001b[1m30/30\u001b[0m \u001b[32m━━━━━━━━━━━━━━━━━━━━\u001b[0m\u001b[37m\u001b[0m \u001b[1m0s\u001b[0m 8ms/step - accuracy: 0.5377 - loss: 1.1664 - val_accuracy: 0.5882 - val_loss: 1.0708 - learning_rate: 0.0010\n",
      "Epoch 43/100\n",
      "\u001b[1m30/30\u001b[0m \u001b[32m━━━━━━━━━━━━━━━━━━━━\u001b[0m\u001b[37m\u001b[0m \u001b[1m0s\u001b[0m 8ms/step - accuracy: 0.5405 - loss: 1.1553 - val_accuracy: 0.5931 - val_loss: 1.0680 - learning_rate: 0.0010\n",
      "Epoch 44/100\n",
      "\u001b[1m30/30\u001b[0m \u001b[32m━━━━━━━━━━━━━━━━━━━━\u001b[0m\u001b[37m\u001b[0m \u001b[1m0s\u001b[0m 9ms/step - accuracy: 0.5555 - loss: 1.1401 - val_accuracy: 0.6005 - val_loss: 1.0642 - learning_rate: 0.0010\n",
      "Epoch 45/100\n",
      "\u001b[1m30/30\u001b[0m \u001b[32m━━━━━━━━━━━━━━━━━━━━\u001b[0m\u001b[37m\u001b[0m \u001b[1m0s\u001b[0m 8ms/step - accuracy: 0.5452 - loss: 1.1285 - val_accuracy: 0.5956 - val_loss: 1.0594 - learning_rate: 0.0010\n",
      "Epoch 46/100\n",
      "\u001b[1m30/30\u001b[0m \u001b[32m━━━━━━━━━━━━━━━━━━━━\u001b[0m\u001b[37m\u001b[0m \u001b[1m0s\u001b[0m 6ms/step - accuracy: 0.5416 - loss: 1.1151 - val_accuracy: 0.5956 - val_loss: 1.0570 - learning_rate: 0.0010\n",
      "Epoch 47/100\n",
      "\u001b[1m30/30\u001b[0m \u001b[32m━━━━━━━━━━━━━━━━━━━━\u001b[0m\u001b[37m\u001b[0m \u001b[1m0s\u001b[0m 4ms/step - accuracy: 0.5657 - loss: 1.1169 - val_accuracy: 0.6029 - val_loss: 1.0545 - learning_rate: 0.0010\n",
      "Epoch 48/100\n",
      "\u001b[1m30/30\u001b[0m \u001b[32m━━━━━━━━━━━━━━━━━━━━\u001b[0m\u001b[37m\u001b[0m \u001b[1m0s\u001b[0m 4ms/step - accuracy: 0.5531 - loss: 1.1231 - val_accuracy: 0.5980 - val_loss: 1.0516 - learning_rate: 0.0010\n",
      "Epoch 49/100\n",
      "\u001b[1m30/30\u001b[0m \u001b[32m━━━━━━━━━━━━━━━━━━━━\u001b[0m\u001b[37m\u001b[0m \u001b[1m0s\u001b[0m 4ms/step - accuracy: 0.5592 - loss: 1.1120 - val_accuracy: 0.5980 - val_loss: 1.0476 - learning_rate: 0.0010\n",
      "Epoch 50/100\n",
      "\u001b[1m30/30\u001b[0m \u001b[32m━━━━━━━━━━━━━━━━━━━━\u001b[0m\u001b[37m\u001b[0m \u001b[1m0s\u001b[0m 4ms/step - accuracy: 0.5425 - loss: 1.1416 - val_accuracy: 0.5907 - val_loss: 1.0455 - learning_rate: 0.0010\n",
      "Epoch 51/100\n",
      "\u001b[1m30/30\u001b[0m \u001b[32m━━━━━━━━━━━━━━━━━━━━\u001b[0m\u001b[37m\u001b[0m \u001b[1m0s\u001b[0m 4ms/step - accuracy: 0.5812 - loss: 1.1296 - val_accuracy: 0.5980 - val_loss: 1.0443 - learning_rate: 0.0010\n",
      "Epoch 52/100\n",
      "\u001b[1m30/30\u001b[0m \u001b[32m━━━━━━━━━━━━━━━━━━━━\u001b[0m\u001b[37m\u001b[0m \u001b[1m0s\u001b[0m 4ms/step - accuracy: 0.5365 - loss: 1.1365 - val_accuracy: 0.5980 - val_loss: 1.0424 - learning_rate: 0.0010\n",
      "Epoch 53/100\n",
      "\u001b[1m30/30\u001b[0m \u001b[32m━━━━━━━━━━━━━━━━━━━━\u001b[0m\u001b[37m\u001b[0m \u001b[1m0s\u001b[0m 4ms/step - accuracy: 0.5406 - loss: 1.1308 - val_accuracy: 0.5980 - val_loss: 1.0390 - learning_rate: 0.0010\n",
      "Epoch 54/100\n",
      "\u001b[1m30/30\u001b[0m \u001b[32m━━━━━━━━━━━━━━━━━━━━\u001b[0m\u001b[37m\u001b[0m \u001b[1m0s\u001b[0m 4ms/step - accuracy: 0.5598 - loss: 1.1254 - val_accuracy: 0.5956 - val_loss: 1.0354 - learning_rate: 0.0010\n",
      "Epoch 55/100\n",
      "\u001b[1m30/30\u001b[0m \u001b[32m━━━━━━━━━━━━━━━━━━━━\u001b[0m\u001b[37m\u001b[0m \u001b[1m0s\u001b[0m 4ms/step - accuracy: 0.5660 - loss: 1.0818 - val_accuracy: 0.5980 - val_loss: 1.0339 - learning_rate: 0.0010\n",
      "Epoch 56/100\n",
      "\u001b[1m30/30\u001b[0m \u001b[32m━━━━━━━━━━━━━━━━━━━━\u001b[0m\u001b[37m\u001b[0m \u001b[1m0s\u001b[0m 4ms/step - accuracy: 0.5841 - loss: 1.1054 - val_accuracy: 0.6005 - val_loss: 1.0286 - learning_rate: 0.0010\n",
      "Epoch 57/100\n",
      "\u001b[1m30/30\u001b[0m \u001b[32m━━━━━━━━━━━━━━━━━━━━\u001b[0m\u001b[37m\u001b[0m \u001b[1m0s\u001b[0m 4ms/step - accuracy: 0.5275 - loss: 1.1463 - val_accuracy: 0.6005 - val_loss: 1.0280 - learning_rate: 0.0010\n",
      "Epoch 58/100\n",
      "\u001b[1m30/30\u001b[0m \u001b[32m━━━━━━━━━━━━━━━━━━━━\u001b[0m\u001b[37m\u001b[0m \u001b[1m0s\u001b[0m 4ms/step - accuracy: 0.5531 - loss: 1.0749 - val_accuracy: 0.6029 - val_loss: 1.0265 - learning_rate: 0.0010\n",
      "Epoch 59/100\n",
      "\u001b[1m30/30\u001b[0m \u001b[32m━━━━━━━━━━━━━━━━━━━━\u001b[0m\u001b[37m\u001b[0m \u001b[1m0s\u001b[0m 4ms/step - accuracy: 0.5657 - loss: 1.0972 - val_accuracy: 0.6029 - val_loss: 1.0280 - learning_rate: 0.0010\n",
      "Epoch 60/100\n",
      "\u001b[1m30/30\u001b[0m \u001b[32m━━━━━━━━━━━━━━━━━━━━\u001b[0m\u001b[37m\u001b[0m \u001b[1m0s\u001b[0m 4ms/step - accuracy: 0.5517 - loss: 1.0878 - val_accuracy: 0.5980 - val_loss: 1.0254 - learning_rate: 0.0010\n",
      "Epoch 61/100\n",
      "\u001b[1m30/30\u001b[0m \u001b[32m━━━━━━━━━━━━━━━━━━━━\u001b[0m\u001b[37m\u001b[0m \u001b[1m0s\u001b[0m 3ms/step - accuracy: 0.5147 - loss: 1.1109 - val_accuracy: 0.6029 - val_loss: 1.0238 - learning_rate: 0.0010\n",
      "Epoch 62/100\n",
      "\u001b[1m30/30\u001b[0m \u001b[32m━━━━━━━━━━━━━━━━━━━━\u001b[0m\u001b[37m\u001b[0m \u001b[1m0s\u001b[0m 4ms/step - accuracy: 0.5150 - loss: 1.1216 - val_accuracy: 0.5980 - val_loss: 1.0220 - learning_rate: 0.0010\n",
      "Epoch 63/100\n",
      "\u001b[1m30/30\u001b[0m \u001b[32m━━━━━━━━━━━━━━━━━━━━\u001b[0m\u001b[37m\u001b[0m \u001b[1m0s\u001b[0m 4ms/step - accuracy: 0.5305 - loss: 1.1039 - val_accuracy: 0.5980 - val_loss: 1.0205 - learning_rate: 0.0010\n",
      "Epoch 64/100\n",
      "\u001b[1m30/30\u001b[0m \u001b[32m━━━━━━━━━━━━━━━━━━━━\u001b[0m\u001b[37m\u001b[0m \u001b[1m0s\u001b[0m 6ms/step - accuracy: 0.5852 - loss: 1.0791 - val_accuracy: 0.5956 - val_loss: 1.0154 - learning_rate: 0.0010\n",
      "Epoch 65/100\n",
      "\u001b[1m30/30\u001b[0m \u001b[32m━━━━━━━━━━━━━━━━━━━━\u001b[0m\u001b[37m\u001b[0m \u001b[1m0s\u001b[0m 4ms/step - accuracy: 0.5651 - loss: 1.0767 - val_accuracy: 0.5980 - val_loss: 1.0141 - learning_rate: 0.0010\n",
      "Epoch 66/100\n",
      "\u001b[1m30/30\u001b[0m \u001b[32m━━━━━━━━━━━━━━━━━━━━\u001b[0m\u001b[37m\u001b[0m \u001b[1m0s\u001b[0m 4ms/step - accuracy: 0.5830 - loss: 1.0383 - val_accuracy: 0.5931 - val_loss: 1.0139 - learning_rate: 0.0010\n",
      "Epoch 67/100\n",
      "\u001b[1m30/30\u001b[0m \u001b[32m━━━━━━━━━━━━━━━━━━━━\u001b[0m\u001b[37m\u001b[0m \u001b[1m0s\u001b[0m 4ms/step - accuracy: 0.5567 - loss: 1.0984 - val_accuracy: 0.6005 - val_loss: 1.0149 - learning_rate: 0.0010\n",
      "Epoch 68/100\n",
      "\u001b[1m30/30\u001b[0m \u001b[32m━━━━━━━━━━━━━━━━━━━━\u001b[0m\u001b[37m\u001b[0m \u001b[1m0s\u001b[0m 4ms/step - accuracy: 0.5412 - loss: 1.1084 - val_accuracy: 0.6029 - val_loss: 1.0166 - learning_rate: 0.0010\n",
      "Epoch 69/100\n",
      "\u001b[1m30/30\u001b[0m \u001b[32m━━━━━━━━━━━━━━━━━━━━\u001b[0m\u001b[37m\u001b[0m \u001b[1m0s\u001b[0m 4ms/step - accuracy: 0.5646 - loss: 1.0931 - val_accuracy: 0.6054 - val_loss: 1.0157 - learning_rate: 0.0010\n",
      "Epoch 70/100\n",
      "\u001b[1m30/30\u001b[0m \u001b[32m━━━━━━━━━━━━━━━━━━━━\u001b[0m\u001b[37m\u001b[0m \u001b[1m0s\u001b[0m 5ms/step - accuracy: 0.5644 - loss: 1.0909 - val_accuracy: 0.6005 - val_loss: 1.0101 - learning_rate: 0.0010\n",
      "Epoch 71/100\n",
      "\u001b[1m30/30\u001b[0m \u001b[32m━━━━━━━━━━━━━━━━━━━━\u001b[0m\u001b[37m\u001b[0m \u001b[1m0s\u001b[0m 4ms/step - accuracy: 0.5659 - loss: 1.1214 - val_accuracy: 0.6054 - val_loss: 1.0080 - learning_rate: 0.0010\n",
      "Epoch 72/100\n",
      "\u001b[1m30/30\u001b[0m \u001b[32m━━━━━━━━━━━━━━━━━━━━\u001b[0m\u001b[37m\u001b[0m \u001b[1m0s\u001b[0m 4ms/step - accuracy: 0.5094 - loss: 1.0928 - val_accuracy: 0.5931 - val_loss: 1.0059 - learning_rate: 0.0010\n",
      "Epoch 73/100\n",
      "\u001b[1m30/30\u001b[0m \u001b[32m━━━━━━━━━━━━━━━━━━━━\u001b[0m\u001b[37m\u001b[0m \u001b[1m0s\u001b[0m 4ms/step - accuracy: 0.5650 - loss: 1.0576 - val_accuracy: 0.5907 - val_loss: 1.0040 - learning_rate: 0.0010\n",
      "Epoch 74/100\n",
      "\u001b[1m30/30\u001b[0m \u001b[32m━━━━━━━━━━━━━━━━━━━━\u001b[0m\u001b[37m\u001b[0m \u001b[1m0s\u001b[0m 4ms/step - accuracy: 0.5484 - loss: 1.1112 - val_accuracy: 0.5956 - val_loss: 1.0043 - learning_rate: 0.0010\n",
      "Epoch 75/100\n",
      "\u001b[1m30/30\u001b[0m \u001b[32m━━━━━━━━━━━━━━━━━━━━\u001b[0m\u001b[37m\u001b[0m \u001b[1m0s\u001b[0m 9ms/step - accuracy: 0.5420 - loss: 1.0851 - val_accuracy: 0.6029 - val_loss: 1.0024 - learning_rate: 0.0010\n",
      "Epoch 76/100\n",
      "\u001b[1m30/30\u001b[0m \u001b[32m━━━━━━━━━━━━━━━━━━━━\u001b[0m\u001b[37m\u001b[0m \u001b[1m1s\u001b[0m 6ms/step - accuracy: 0.5600 - loss: 1.0728 - val_accuracy: 0.6029 - val_loss: 1.0000 - learning_rate: 0.0010\n",
      "Epoch 77/100\n",
      "\u001b[1m30/30\u001b[0m \u001b[32m━━━━━━━━━━━━━━━━━━━━\u001b[0m\u001b[37m\u001b[0m \u001b[1m0s\u001b[0m 7ms/step - accuracy: 0.5441 - loss: 1.1225 - val_accuracy: 0.6103 - val_loss: 1.0011 - learning_rate: 0.0010\n",
      "Epoch 78/100\n",
      "\u001b[1m30/30\u001b[0m \u001b[32m━━━━━━━━━━━━━━━━━━━━\u001b[0m\u001b[37m\u001b[0m \u001b[1m0s\u001b[0m 7ms/step - accuracy: 0.5616 - loss: 1.0997 - val_accuracy: 0.6054 - val_loss: 1.0005 - learning_rate: 0.0010\n",
      "Epoch 79/100\n",
      "\u001b[1m30/30\u001b[0m \u001b[32m━━━━━━━━━━━━━━━━━━━━\u001b[0m\u001b[37m\u001b[0m \u001b[1m0s\u001b[0m 7ms/step - accuracy: 0.5271 - loss: 1.0990 - val_accuracy: 0.5980 - val_loss: 1.0013 - learning_rate: 0.0010\n",
      "Epoch 80/100\n",
      "\u001b[1m30/30\u001b[0m \u001b[32m━━━━━━━━━━━━━━━━━━━━\u001b[0m\u001b[37m\u001b[0m \u001b[1m0s\u001b[0m 7ms/step - accuracy: 0.5881 - loss: 1.0341 - val_accuracy: 0.5980 - val_loss: 0.9976 - learning_rate: 0.0010\n",
      "Epoch 81/100\n",
      "\u001b[1m30/30\u001b[0m \u001b[32m━━━━━━━━━━━━━━━━━━━━\u001b[0m\u001b[37m\u001b[0m \u001b[1m0s\u001b[0m 11ms/step - accuracy: 0.5782 - loss: 1.0496 - val_accuracy: 0.6005 - val_loss: 0.9936 - learning_rate: 0.0010\n",
      "Epoch 82/100\n",
      "\u001b[1m30/30\u001b[0m \u001b[32m━━━━━━━━━━━━━━━━━━━━\u001b[0m\u001b[37m\u001b[0m \u001b[1m1s\u001b[0m 8ms/step - accuracy: 0.5899 - loss: 1.0891 - val_accuracy: 0.6054 - val_loss: 0.9959 - learning_rate: 0.0010\n",
      "Epoch 83/100\n",
      "\u001b[1m30/30\u001b[0m \u001b[32m━━━━━━━━━━━━━━━━━━━━\u001b[0m\u001b[37m\u001b[0m \u001b[1m0s\u001b[0m 7ms/step - accuracy: 0.5589 - loss: 1.0444 - val_accuracy: 0.6078 - val_loss: 0.9984 - learning_rate: 0.0010\n",
      "Epoch 84/100\n",
      "\u001b[1m30/30\u001b[0m \u001b[32m━━━━━━━━━━━━━━━━━━━━\u001b[0m\u001b[37m\u001b[0m \u001b[1m0s\u001b[0m 7ms/step - accuracy: 0.5443 - loss: 1.0802 - val_accuracy: 0.6078 - val_loss: 0.9951 - learning_rate: 0.0010\n",
      "Epoch 85/100\n",
      "\u001b[1m30/30\u001b[0m \u001b[32m━━━━━━━━━━━━━━━━━━━━\u001b[0m\u001b[37m\u001b[0m \u001b[1m0s\u001b[0m 8ms/step - accuracy: 0.5656 - loss: 1.0659 - val_accuracy: 0.6127 - val_loss: 0.9930 - learning_rate: 0.0010\n",
      "Epoch 86/100\n",
      "\u001b[1m30/30\u001b[0m \u001b[32m━━━━━━━━━━━━━━━━━━━━\u001b[0m\u001b[37m\u001b[0m \u001b[1m0s\u001b[0m 9ms/step - accuracy: 0.5567 - loss: 1.0929 - val_accuracy: 0.6127 - val_loss: 0.9960 - learning_rate: 0.0010\n",
      "Epoch 87/100\n",
      "\u001b[1m30/30\u001b[0m \u001b[32m━━━━━━━━━━━━━━━━━━━━\u001b[0m\u001b[37m\u001b[0m \u001b[1m0s\u001b[0m 3ms/step - accuracy: 0.5644 - loss: 1.0477 - val_accuracy: 0.6029 - val_loss: 0.9980 - learning_rate: 0.0010\n",
      "Epoch 88/100\n",
      "\u001b[1m30/30\u001b[0m \u001b[32m━━━━━━━━━━━━━━━━━━━━\u001b[0m\u001b[37m\u001b[0m \u001b[1m0s\u001b[0m 4ms/step - accuracy: 0.5732 - loss: 1.0303 - val_accuracy: 0.6078 - val_loss: 0.9953 - learning_rate: 0.0010\n",
      "Epoch 89/100\n",
      "\u001b[1m30/30\u001b[0m \u001b[32m━━━━━━━━━━━━━━━━━━━━\u001b[0m\u001b[37m\u001b[0m \u001b[1m0s\u001b[0m 4ms/step - accuracy: 0.5629 - loss: 1.0967 - val_accuracy: 0.6078 - val_loss: 0.9880 - learning_rate: 0.0010\n",
      "Epoch 90/100\n",
      "\u001b[1m30/30\u001b[0m \u001b[32m━━━━━━━━━━━━━━━━━━━━\u001b[0m\u001b[37m\u001b[0m \u001b[1m0s\u001b[0m 4ms/step - accuracy: 0.5628 - loss: 1.0552 - val_accuracy: 0.6054 - val_loss: 0.9836 - learning_rate: 0.0010\n",
      "Epoch 91/100\n",
      "\u001b[1m30/30\u001b[0m \u001b[32m━━━━━━━━━━━━━━━━━━━━\u001b[0m\u001b[37m\u001b[0m \u001b[1m0s\u001b[0m 7ms/step - accuracy: 0.5709 - loss: 1.0846 - val_accuracy: 0.6054 - val_loss: 0.9856 - learning_rate: 0.0010\n",
      "Epoch 92/100\n",
      "\u001b[1m30/30\u001b[0m \u001b[32m━━━━━━━━━━━━━━━━━━━━\u001b[0m\u001b[37m\u001b[0m \u001b[1m0s\u001b[0m 6ms/step - accuracy: 0.5318 - loss: 1.0592 - val_accuracy: 0.6029 - val_loss: 0.9901 - learning_rate: 0.0010\n",
      "Epoch 93/100\n",
      "\u001b[1m30/30\u001b[0m \u001b[32m━━━━━━━━━━━━━━━━━━━━\u001b[0m\u001b[37m\u001b[0m \u001b[1m0s\u001b[0m 7ms/step - accuracy: 0.5558 - loss: 1.0782 - val_accuracy: 0.6078 - val_loss: 0.9858 - learning_rate: 0.0010\n",
      "Epoch 94/100\n",
      "\u001b[1m30/30\u001b[0m \u001b[32m━━━━━━━━━━━━━━━━━━━━\u001b[0m\u001b[37m\u001b[0m \u001b[1m0s\u001b[0m 7ms/step - accuracy: 0.5572 - loss: 1.0596 - val_accuracy: 0.6029 - val_loss: 0.9898 - learning_rate: 0.0010\n",
      "Epoch 95/100\n",
      "\u001b[1m25/30\u001b[0m \u001b[32m━━━━━━━━━━━━━━━━\u001b[0m\u001b[37m━━━━\u001b[0m \u001b[1m0s\u001b[0m 4ms/step - accuracy: 0.5650 - loss: 1.0366\n",
      "Epoch 95: ReduceLROnPlateau reducing learning rate to 0.00020000000949949026.\n",
      "\u001b[1m30/30\u001b[0m \u001b[32m━━━━━━━━━━━━━━━━━━━━\u001b[0m\u001b[37m\u001b[0m \u001b[1m0s\u001b[0m 7ms/step - accuracy: 0.5655 - loss: 1.0379 - val_accuracy: 0.6054 - val_loss: 0.9864 - learning_rate: 0.0010\n",
      "Epoch 96/100\n",
      "\u001b[1m30/30\u001b[0m \u001b[32m━━━━━━━━━━━━━━━━━━━━\u001b[0m\u001b[37m\u001b[0m \u001b[1m0s\u001b[0m 5ms/step - accuracy: 0.5624 - loss: 1.0526 - val_accuracy: 0.6078 - val_loss: 0.9847 - learning_rate: 2.0000e-04\n",
      "Epoch 97/100\n",
      "\u001b[1m30/30\u001b[0m \u001b[32m━━━━━━━━━━━━━━━━━━━━\u001b[0m\u001b[37m\u001b[0m \u001b[1m0s\u001b[0m 6ms/step - accuracy: 0.5599 - loss: 1.0659 - val_accuracy: 0.6078 - val_loss: 0.9822 - learning_rate: 2.0000e-04\n",
      "Epoch 98/100\n",
      "\u001b[1m30/30\u001b[0m \u001b[32m━━━━━━━━━━━━━━━━━━━━\u001b[0m\u001b[37m\u001b[0m \u001b[1m0s\u001b[0m 7ms/step - accuracy: 0.5364 - loss: 1.0745 - val_accuracy: 0.6054 - val_loss: 0.9816 - learning_rate: 2.0000e-04\n",
      "Epoch 99/100\n",
      "\u001b[1m30/30\u001b[0m \u001b[32m━━━━━━━━━━━━━━━━━━━━\u001b[0m\u001b[37m\u001b[0m \u001b[1m0s\u001b[0m 8ms/step - accuracy: 0.5514 - loss: 1.0761 - val_accuracy: 0.6054 - val_loss: 0.9805 - learning_rate: 2.0000e-04\n",
      "Epoch 100/100\n",
      "\u001b[1m30/30\u001b[0m \u001b[32m━━━━━━━━━━━━━━━━━━━━\u001b[0m\u001b[37m\u001b[0m \u001b[1m0s\u001b[0m 8ms/step - accuracy: 0.5539 - loss: 1.0353 - val_accuracy: 0.6054 - val_loss: 0.9797 - learning_rate: 2.0000e-04\n",
      "\u001b[1m13/13\u001b[0m \u001b[32m━━━━━━━━━━━━━━━━━━━━\u001b[0m\u001b[37m\u001b[0m \u001b[1m0s\u001b[0m 3ms/step - accuracy: 0.6424 - loss: 0.9349 \n",
      "Test Accuracy: 0.6053921580314636\n"
     ]
    }
   ],
   "source": [
    "model_new = models.Sequential()\n",
    "model_new.add(layers.Dense(16, activation='relu', input_shape=(X_train_scaled.shape[1],), kernel_regularizer=regularizers.l2(0.005)))\n",
    "model_new.add(layers.Dropout(0.6))\n",
    "model_new.add(layers.BatchNormalization())\n",
    "# model_new.add(layers.Dense(8, activation='relu', kernel_regularizer=regularizers.l2(0.005)))\n",
    "# model_new.add(layers.Dropout(0.5))\n",
    "# model_new.add(layers.BatchNormalization())\n",
    "# model_new.add(layers.Dense(8, activation='relu', kernel_regularizer=regularizers.l2(0.005)))\n",
    "# model_new.add(layers.Dropout(0.5))\n",
    "# model_new.add(layers.BatchNormalization())\n",
    "model_new.add(layers.Dense(8, kernel_regularizer=regularizers.l1_l2(l1=0.001, l2=0.005)))\n",
    "model_new.add(layers.LeakyReLU(alpha=0.1))\n",
    "model_new.add(layers.Dropout(0.3))\n",
    "model_new.add(layers.BatchNormalization())\n",
    "model_new.add(layers.Dense(6, activation='softmax'))\n",
    "\n",
    "optimizer = optimizers.Adam(learning_rate=0.001)\n",
    "\n",
    "model_new.compile(loss=\"categorical_crossentropy\", metrics=[\"accuracy\"], optimizer=optimizer)\n",
    "early_stopping = EarlyStopping(monitor='val_loss', patience=10, restore_best_weights=True)\n",
    "lr_schedule = tf.keras.callbacks.ReduceLROnPlateau(monitor='val_loss', factor=0.2, patience=5, verbose=1)\n",
    "\n",
    "history_new = model_new.fit(x=X_train_scaled, y=Y_train_encoded, batch_size=32, epochs=100,\n",
    "                            validation_data=(X_test_scaled, Y_test_encoded), callbacks=[early_stopping,lr_schedule])\n",
    "\n",
    "results_new = model_new.evaluate(X_test_scaled, Y_test_encoded)\n",
    "print(f\"Test Accuracy: {results_new[1]}\")"
   ]
  },
  {
   "cell_type": "code",
   "execution_count": 24,
   "metadata": {
    "colab": {
     "base_uri": "https://localhost:8080/"
    },
    "executionInfo": {
     "elapsed": 39555,
     "status": "ok",
     "timestamp": 1725774261929,
     "user": {
      "displayName": "Jannet Akanksha Ekka",
      "userId": "04295694532301703575"
     },
     "user_tz": -330
    },
    "id": "QOzSHF-oavPW",
    "outputId": "bae78f7b-acfe-4546-98d5-9afd98d28c90",
    "scrolled": true
   },
   "outputs": [
    {
     "name": "stdout",
     "output_type": "stream",
     "text": [
      "Epoch 1/100\n",
      "\u001b[1m30/30\u001b[0m \u001b[32m━━━━━━━━━━━━━━━━━━━━\u001b[0m\u001b[37m\u001b[0m \u001b[1m4s\u001b[0m 15ms/step - accuracy: 0.1328 - loss: 2.4291 - val_accuracy: 0.1029 - val_loss: 2.0663 - learning_rate: 5.0000e-04\n",
      "Epoch 2/100\n",
      "\u001b[1m30/30\u001b[0m \u001b[32m━━━━━━━━━━━━━━━━━━━━\u001b[0m\u001b[37m\u001b[0m \u001b[1m0s\u001b[0m 4ms/step - accuracy: 0.1592 - loss: 2.2723 - val_accuracy: 0.1103 - val_loss: 2.0564 - learning_rate: 5.0000e-04\n",
      "Epoch 3/100\n",
      "\u001b[1m30/30\u001b[0m \u001b[32m━━━━━━━━━━━━━━━━━━━━\u001b[0m\u001b[37m\u001b[0m \u001b[1m0s\u001b[0m 5ms/step - accuracy: 0.1564 - loss: 2.2380 - val_accuracy: 0.1593 - val_loss: 2.0313 - learning_rate: 5.0000e-04\n",
      "Epoch 4/100\n",
      "\u001b[1m30/30\u001b[0m \u001b[32m━━━━━━━━━━━━━━━━━━━━\u001b[0m\u001b[37m\u001b[0m \u001b[1m0s\u001b[0m 4ms/step - accuracy: 0.1856 - loss: 2.1735 - val_accuracy: 0.2353 - val_loss: 1.9969 - learning_rate: 5.0000e-04\n",
      "Epoch 5/100\n",
      "\u001b[1m30/30\u001b[0m \u001b[32m━━━━━━━━━━━━━━━━━━━━\u001b[0m\u001b[37m\u001b[0m \u001b[1m0s\u001b[0m 5ms/step - accuracy: 0.1718 - loss: 2.1731 - val_accuracy: 0.2990 - val_loss: 1.9623 - learning_rate: 5.0000e-04\n",
      "Epoch 6/100\n",
      "\u001b[1m30/30\u001b[0m \u001b[32m━━━━━━━━━━━━━━━━━━━━\u001b[0m\u001b[37m\u001b[0m \u001b[1m0s\u001b[0m 8ms/step - accuracy: 0.2191 - loss: 2.0746 - val_accuracy: 0.3505 - val_loss: 1.9213 - learning_rate: 5.0000e-04\n",
      "Epoch 7/100\n",
      "\u001b[1m30/30\u001b[0m \u001b[32m━━━━━━━━━━━━━━━━━━━━\u001b[0m\u001b[37m\u001b[0m \u001b[1m0s\u001b[0m 6ms/step - accuracy: 0.2269 - loss: 2.0787 - val_accuracy: 0.3995 - val_loss: 1.8844 - learning_rate: 5.0000e-04\n",
      "Epoch 8/100\n",
      "\u001b[1m30/30\u001b[0m \u001b[32m━━━━━━━━━━━━━━━━━━━━\u001b[0m\u001b[37m\u001b[0m \u001b[1m0s\u001b[0m 7ms/step - accuracy: 0.2328 - loss: 2.0115 - val_accuracy: 0.4730 - val_loss: 1.8473 - learning_rate: 5.0000e-04\n",
      "Epoch 9/100\n",
      "\u001b[1m30/30\u001b[0m \u001b[32m━━━━━━━━━━━━━━━━━━━━\u001b[0m\u001b[37m\u001b[0m \u001b[1m0s\u001b[0m 9ms/step - accuracy: 0.2820 - loss: 1.9616 - val_accuracy: 0.5123 - val_loss: 1.8158 - learning_rate: 5.0000e-04\n",
      "Epoch 10/100\n",
      "\u001b[1m30/30\u001b[0m \u001b[32m━━━━━━━━━━━━━━━━━━━━\u001b[0m\u001b[37m\u001b[0m \u001b[1m0s\u001b[0m 7ms/step - accuracy: 0.3088 - loss: 1.9391 - val_accuracy: 0.5319 - val_loss: 1.7860 - learning_rate: 5.0000e-04\n",
      "Epoch 11/100\n",
      "\u001b[1m30/30\u001b[0m \u001b[32m━━━━━━━━━━━━━━━━━━━━\u001b[0m\u001b[37m\u001b[0m \u001b[1m0s\u001b[0m 9ms/step - accuracy: 0.2748 - loss: 1.9425 - val_accuracy: 0.5368 - val_loss: 1.7529 - learning_rate: 5.0000e-04\n",
      "Epoch 12/100\n",
      "\u001b[1m30/30\u001b[0m \u001b[32m━━━━━━━━━━━━━━━━━━━━\u001b[0m\u001b[37m\u001b[0m \u001b[1m1s\u001b[0m 9ms/step - accuracy: 0.3325 - loss: 1.8799 - val_accuracy: 0.5490 - val_loss: 1.7235 - learning_rate: 5.0000e-04\n",
      "Epoch 13/100\n",
      "\u001b[1m30/30\u001b[0m \u001b[32m━━━━━━━━━━━━━━━━━━━━\u001b[0m\u001b[37m\u001b[0m \u001b[1m1s\u001b[0m 8ms/step - accuracy: 0.3484 - loss: 1.8346 - val_accuracy: 0.5490 - val_loss: 1.6918 - learning_rate: 5.0000e-04\n",
      "Epoch 14/100\n",
      "\u001b[1m30/30\u001b[0m \u001b[32m━━━━━━━━━━━━━━━━━━━━\u001b[0m\u001b[37m\u001b[0m \u001b[1m0s\u001b[0m 7ms/step - accuracy: 0.3721 - loss: 1.8073 - val_accuracy: 0.5466 - val_loss: 1.6665 - learning_rate: 5.0000e-04\n",
      "Epoch 15/100\n",
      "\u001b[1m30/30\u001b[0m \u001b[32m━━━━━━━━━━━━━━━━━━━━\u001b[0m\u001b[37m\u001b[0m \u001b[1m0s\u001b[0m 7ms/step - accuracy: 0.3879 - loss: 1.7990 - val_accuracy: 0.5466 - val_loss: 1.6386 - learning_rate: 5.0000e-04\n",
      "Epoch 16/100\n",
      "\u001b[1m30/30\u001b[0m \u001b[32m━━━━━━━━━━━━━━━━━━━━\u001b[0m\u001b[37m\u001b[0m \u001b[1m0s\u001b[0m 4ms/step - accuracy: 0.3798 - loss: 1.7523 - val_accuracy: 0.5515 - val_loss: 1.6134 - learning_rate: 5.0000e-04\n",
      "Epoch 17/100\n",
      "\u001b[1m30/30\u001b[0m \u001b[32m━━━━━━━━━━━━━━━━━━━━\u001b[0m\u001b[37m\u001b[0m \u001b[1m0s\u001b[0m 4ms/step - accuracy: 0.3677 - loss: 1.8039 - val_accuracy: 0.5588 - val_loss: 1.5866 - learning_rate: 5.0000e-04\n",
      "Epoch 18/100\n",
      "\u001b[1m30/30\u001b[0m \u001b[32m━━━━━━━━━━━━━━━━━━━━\u001b[0m\u001b[37m\u001b[0m \u001b[1m0s\u001b[0m 4ms/step - accuracy: 0.4518 - loss: 1.6873 - val_accuracy: 0.5588 - val_loss: 1.5600 - learning_rate: 5.0000e-04\n",
      "Epoch 19/100\n",
      "\u001b[1m30/30\u001b[0m \u001b[32m━━━━━━━━━━━━━━━━━━━━\u001b[0m\u001b[37m\u001b[0m \u001b[1m0s\u001b[0m 4ms/step - accuracy: 0.4210 - loss: 1.6900 - val_accuracy: 0.5735 - val_loss: 1.5331 - learning_rate: 5.0000e-04\n",
      "Epoch 20/100\n",
      "\u001b[1m30/30\u001b[0m \u001b[32m━━━━━━━━━━━━━━━━━━━━\u001b[0m\u001b[37m\u001b[0m \u001b[1m0s\u001b[0m 7ms/step - accuracy: 0.4071 - loss: 1.6735 - val_accuracy: 0.5784 - val_loss: 1.5100 - learning_rate: 5.0000e-04\n",
      "Epoch 21/100\n",
      "\u001b[1m30/30\u001b[0m \u001b[32m━━━━━━━━━━━━━━━━━━━━\u001b[0m\u001b[37m\u001b[0m \u001b[1m0s\u001b[0m 4ms/step - accuracy: 0.4606 - loss: 1.6462 - val_accuracy: 0.5907 - val_loss: 1.4856 - learning_rate: 5.0000e-04\n",
      "Epoch 22/100\n",
      "\u001b[1m30/30\u001b[0m \u001b[32m━━━━━━━━━━━━━━━━━━━━\u001b[0m\u001b[37m\u001b[0m \u001b[1m0s\u001b[0m 4ms/step - accuracy: 0.4314 - loss: 1.6336 - val_accuracy: 0.5858 - val_loss: 1.4672 - learning_rate: 5.0000e-04\n",
      "Epoch 23/100\n",
      "\u001b[1m30/30\u001b[0m \u001b[32m━━━━━━━━━━━━━━━━━━━━\u001b[0m\u001b[37m\u001b[0m \u001b[1m0s\u001b[0m 5ms/step - accuracy: 0.4372 - loss: 1.5979 - val_accuracy: 0.5907 - val_loss: 1.4491 - learning_rate: 5.0000e-04\n",
      "Epoch 24/100\n",
      "\u001b[1m30/30\u001b[0m \u001b[32m━━━━━━━━━━━━━━━━━━━━\u001b[0m\u001b[37m\u001b[0m \u001b[1m0s\u001b[0m 4ms/step - accuracy: 0.4454 - loss: 1.5655 - val_accuracy: 0.5980 - val_loss: 1.4304 - learning_rate: 5.0000e-04\n",
      "Epoch 25/100\n",
      "\u001b[1m30/30\u001b[0m \u001b[32m━━━━━━━━━━━━━━━━━━━━\u001b[0m\u001b[37m\u001b[0m \u001b[1m0s\u001b[0m 7ms/step - accuracy: 0.4911 - loss: 1.5441 - val_accuracy: 0.6029 - val_loss: 1.4118 - learning_rate: 5.0000e-04\n",
      "Epoch 26/100\n",
      "\u001b[1m30/30\u001b[0m \u001b[32m━━━━━━━━━━━━━━━━━━━━\u001b[0m\u001b[37m\u001b[0m \u001b[1m0s\u001b[0m 8ms/step - accuracy: 0.4709 - loss: 1.5183 - val_accuracy: 0.5980 - val_loss: 1.3946 - learning_rate: 5.0000e-04\n",
      "Epoch 27/100\n",
      "\u001b[1m30/30\u001b[0m \u001b[32m━━━━━━━━━━━━━━━━━━━━\u001b[0m\u001b[37m\u001b[0m \u001b[1m0s\u001b[0m 8ms/step - accuracy: 0.4877 - loss: 1.5130 - val_accuracy: 0.6005 - val_loss: 1.3775 - learning_rate: 5.0000e-04\n",
      "Epoch 28/100\n",
      "\u001b[1m30/30\u001b[0m \u001b[32m━━━━━━━━━━━━━━━━━━━━\u001b[0m\u001b[37m\u001b[0m \u001b[1m0s\u001b[0m 7ms/step - accuracy: 0.4751 - loss: 1.4786 - val_accuracy: 0.5931 - val_loss: 1.3601 - learning_rate: 5.0000e-04\n",
      "Epoch 29/100\n",
      "\u001b[1m30/30\u001b[0m \u001b[32m━━━━━━━━━━━━━━━━━━━━\u001b[0m\u001b[37m\u001b[0m \u001b[1m0s\u001b[0m 7ms/step - accuracy: 0.4934 - loss: 1.4550 - val_accuracy: 0.5907 - val_loss: 1.3455 - learning_rate: 5.0000e-04\n",
      "Epoch 30/100\n",
      "\u001b[1m30/30\u001b[0m \u001b[32m━━━━━━━━━━━━━━━━━━━━\u001b[0m\u001b[37m\u001b[0m \u001b[1m0s\u001b[0m 8ms/step - accuracy: 0.4932 - loss: 1.4582 - val_accuracy: 0.5882 - val_loss: 1.3319 - learning_rate: 5.0000e-04\n",
      "Epoch 31/100\n",
      "\u001b[1m30/30\u001b[0m \u001b[32m━━━━━━━━━━━━━━━━━━━━\u001b[0m\u001b[37m\u001b[0m \u001b[1m0s\u001b[0m 9ms/step - accuracy: 0.4636 - loss: 1.4381 - val_accuracy: 0.5882 - val_loss: 1.3205 - learning_rate: 5.0000e-04\n",
      "Epoch 32/100\n",
      "\u001b[1m30/30\u001b[0m \u001b[32m━━━━━━━━━━━━━━━━━━━━\u001b[0m\u001b[37m\u001b[0m \u001b[1m0s\u001b[0m 8ms/step - accuracy: 0.4939 - loss: 1.4372 - val_accuracy: 0.5907 - val_loss: 1.3102 - learning_rate: 5.0000e-04\n",
      "Epoch 33/100\n",
      "\u001b[1m30/30\u001b[0m \u001b[32m━━━━━━━━━━━━━━━━━━━━\u001b[0m\u001b[37m\u001b[0m \u001b[1m0s\u001b[0m 7ms/step - accuracy: 0.4846 - loss: 1.4470 - val_accuracy: 0.5956 - val_loss: 1.2978 - learning_rate: 5.0000e-04\n",
      "Epoch 34/100\n",
      "\u001b[1m30/30\u001b[0m \u001b[32m━━━━━━━━━━━━━━━━━━━━\u001b[0m\u001b[37m\u001b[0m \u001b[1m0s\u001b[0m 9ms/step - accuracy: 0.4985 - loss: 1.4156 - val_accuracy: 0.5931 - val_loss: 1.2881 - learning_rate: 5.0000e-04\n",
      "Epoch 35/100\n",
      "\u001b[1m30/30\u001b[0m \u001b[32m━━━━━━━━━━━━━━━━━━━━\u001b[0m\u001b[37m\u001b[0m \u001b[1m0s\u001b[0m 7ms/step - accuracy: 0.5261 - loss: 1.3552 - val_accuracy: 0.5907 - val_loss: 1.2774 - learning_rate: 5.0000e-04\n",
      "Epoch 36/100\n",
      "\u001b[1m30/30\u001b[0m \u001b[32m━━━━━━━━━━━━━━━━━━━━\u001b[0m\u001b[37m\u001b[0m \u001b[1m0s\u001b[0m 8ms/step - accuracy: 0.5206 - loss: 1.3871 - val_accuracy: 0.5956 - val_loss: 1.2685 - learning_rate: 5.0000e-04\n",
      "Epoch 37/100\n",
      "\u001b[1m30/30\u001b[0m \u001b[32m━━━━━━━━━━━━━━━━━━━━\u001b[0m\u001b[37m\u001b[0m \u001b[1m0s\u001b[0m 9ms/step - accuracy: 0.4907 - loss: 1.4197 - val_accuracy: 0.5907 - val_loss: 1.2611 - learning_rate: 5.0000e-04\n",
      "Epoch 38/100\n",
      "\u001b[1m30/30\u001b[0m \u001b[32m━━━━━━━━━━━━━━━━━━━━\u001b[0m\u001b[37m\u001b[0m \u001b[1m0s\u001b[0m 4ms/step - accuracy: 0.5386 - loss: 1.3640 - val_accuracy: 0.5956 - val_loss: 1.2508 - learning_rate: 5.0000e-04\n",
      "Epoch 39/100\n",
      "\u001b[1m30/30\u001b[0m \u001b[32m━━━━━━━━━━━━━━━━━━━━\u001b[0m\u001b[37m\u001b[0m \u001b[1m0s\u001b[0m 5ms/step - accuracy: 0.5041 - loss: 1.3898 - val_accuracy: 0.5907 - val_loss: 1.2421 - learning_rate: 5.0000e-04\n",
      "Epoch 40/100\n",
      "\u001b[1m30/30\u001b[0m \u001b[32m━━━━━━━━━━━━━━━━━━━━\u001b[0m\u001b[37m\u001b[0m \u001b[1m0s\u001b[0m 4ms/step - accuracy: 0.5181 - loss: 1.3401 - val_accuracy: 0.5833 - val_loss: 1.2357 - learning_rate: 5.0000e-04\n",
      "Epoch 41/100\n",
      "\u001b[1m30/30\u001b[0m \u001b[32m━━━━━━━━━━━━━━━━━━━━\u001b[0m\u001b[37m\u001b[0m \u001b[1m0s\u001b[0m 5ms/step - accuracy: 0.5069 - loss: 1.3493 - val_accuracy: 0.5809 - val_loss: 1.2288 - learning_rate: 5.0000e-04\n",
      "Epoch 42/100\n",
      "\u001b[1m30/30\u001b[0m \u001b[32m━━━━━━━━━━━━━━━━━━━━\u001b[0m\u001b[37m\u001b[0m \u001b[1m0s\u001b[0m 4ms/step - accuracy: 0.4699 - loss: 1.3672 - val_accuracy: 0.5858 - val_loss: 1.2230 - learning_rate: 5.0000e-04\n",
      "Epoch 43/100\n",
      "\u001b[1m30/30\u001b[0m \u001b[32m━━━━━━━━━━━━━━━━━━━━\u001b[0m\u001b[37m\u001b[0m \u001b[1m0s\u001b[0m 6ms/step - accuracy: 0.4912 - loss: 1.3438 - val_accuracy: 0.5931 - val_loss: 1.2146 - learning_rate: 5.0000e-04\n",
      "Epoch 44/100\n",
      "\u001b[1m30/30\u001b[0m \u001b[32m━━━━━━━━━━━━━━━━━━━━\u001b[0m\u001b[37m\u001b[0m \u001b[1m0s\u001b[0m 4ms/step - accuracy: 0.5188 - loss: 1.3053 - val_accuracy: 0.5956 - val_loss: 1.2085 - learning_rate: 5.0000e-04\n",
      "Epoch 45/100\n",
      "\u001b[1m30/30\u001b[0m \u001b[32m━━━━━━━━━━━━━━━━━━━━\u001b[0m\u001b[37m\u001b[0m \u001b[1m0s\u001b[0m 4ms/step - accuracy: 0.4946 - loss: 1.3092 - val_accuracy: 0.5956 - val_loss: 1.2045 - learning_rate: 5.0000e-04\n",
      "Epoch 46/100\n",
      "\u001b[1m30/30\u001b[0m \u001b[32m━━━━━━━━━━━━━━━━━━━━\u001b[0m\u001b[37m\u001b[0m \u001b[1m0s\u001b[0m 4ms/step - accuracy: 0.5563 - loss: 1.3120 - val_accuracy: 0.5980 - val_loss: 1.1975 - learning_rate: 5.0000e-04\n",
      "Epoch 47/100\n",
      "\u001b[1m30/30\u001b[0m \u001b[32m━━━━━━━━━━━━━━━━━━━━\u001b[0m\u001b[37m\u001b[0m \u001b[1m0s\u001b[0m 4ms/step - accuracy: 0.5427 - loss: 1.3137 - val_accuracy: 0.6005 - val_loss: 1.1909 - learning_rate: 5.0000e-04\n",
      "Epoch 48/100\n",
      "\u001b[1m30/30\u001b[0m \u001b[32m━━━━━━━━━━━━━━━━━━━━\u001b[0m\u001b[37m\u001b[0m \u001b[1m0s\u001b[0m 4ms/step - accuracy: 0.5076 - loss: 1.3230 - val_accuracy: 0.6005 - val_loss: 1.1831 - learning_rate: 5.0000e-04\n",
      "Epoch 49/100\n",
      "\u001b[1m30/30\u001b[0m \u001b[32m━━━━━━━━━━━━━━━━━━━━\u001b[0m\u001b[37m\u001b[0m \u001b[1m0s\u001b[0m 4ms/step - accuracy: 0.5289 - loss: 1.2641 - val_accuracy: 0.6005 - val_loss: 1.1799 - learning_rate: 5.0000e-04\n",
      "Epoch 50/100\n",
      "\u001b[1m30/30\u001b[0m \u001b[32m━━━━━━━━━━━━━━━━━━━━\u001b[0m\u001b[37m\u001b[0m \u001b[1m0s\u001b[0m 5ms/step - accuracy: 0.5313 - loss: 1.2758 - val_accuracy: 0.5980 - val_loss: 1.1786 - learning_rate: 5.0000e-04\n",
      "Epoch 51/100\n",
      "\u001b[1m30/30\u001b[0m \u001b[32m━━━━━━━━━━━━━━━━━━━━\u001b[0m\u001b[37m\u001b[0m \u001b[1m0s\u001b[0m 4ms/step - accuracy: 0.5206 - loss: 1.2827 - val_accuracy: 0.5956 - val_loss: 1.1765 - learning_rate: 5.0000e-04\n",
      "Epoch 52/100\n",
      "\u001b[1m30/30\u001b[0m \u001b[32m━━━━━━━━━━━━━━━━━━━━\u001b[0m\u001b[37m\u001b[0m \u001b[1m0s\u001b[0m 4ms/step - accuracy: 0.5430 - loss: 1.2732 - val_accuracy: 0.5980 - val_loss: 1.1694 - learning_rate: 5.0000e-04\n",
      "Epoch 53/100\n",
      "\u001b[1m30/30\u001b[0m \u001b[32m━━━━━━━━━━━━━━━━━━━━\u001b[0m\u001b[37m\u001b[0m \u001b[1m0s\u001b[0m 4ms/step - accuracy: 0.5324 - loss: 1.2730 - val_accuracy: 0.6029 - val_loss: 1.1652 - learning_rate: 5.0000e-04\n",
      "Epoch 54/100\n",
      "\u001b[1m30/30\u001b[0m \u001b[32m━━━━━━━━━━━━━━━━━━━━\u001b[0m\u001b[37m\u001b[0m \u001b[1m0s\u001b[0m 4ms/step - accuracy: 0.5315 - loss: 1.2716 - val_accuracy: 0.5980 - val_loss: 1.1592 - learning_rate: 5.0000e-04\n",
      "Epoch 55/100\n",
      "\u001b[1m30/30\u001b[0m \u001b[32m━━━━━━━━━━━━━━━━━━━━\u001b[0m\u001b[37m\u001b[0m \u001b[1m0s\u001b[0m 5ms/step - accuracy: 0.5037 - loss: 1.2832 - val_accuracy: 0.6005 - val_loss: 1.1560 - learning_rate: 5.0000e-04\n",
      "Epoch 56/100\n",
      "\u001b[1m30/30\u001b[0m \u001b[32m━━━━━━━━━━━━━━━━━━━━\u001b[0m\u001b[37m\u001b[0m \u001b[1m0s\u001b[0m 4ms/step - accuracy: 0.5620 - loss: 1.2497 - val_accuracy: 0.6005 - val_loss: 1.1517 - learning_rate: 5.0000e-04\n",
      "Epoch 57/100\n",
      "\u001b[1m30/30\u001b[0m \u001b[32m━━━━━━━━━━━━━━━━━━━━\u001b[0m\u001b[37m\u001b[0m \u001b[1m0s\u001b[0m 4ms/step - accuracy: 0.5437 - loss: 1.2505 - val_accuracy: 0.5956 - val_loss: 1.1491 - learning_rate: 5.0000e-04\n",
      "Epoch 58/100\n",
      "\u001b[1m30/30\u001b[0m \u001b[32m━━━━━━━━━━━━━━━━━━━━\u001b[0m\u001b[37m\u001b[0m \u001b[1m0s\u001b[0m 4ms/step - accuracy: 0.5618 - loss: 1.2685 - val_accuracy: 0.5980 - val_loss: 1.1483 - learning_rate: 5.0000e-04\n",
      "Epoch 59/100\n",
      "\u001b[1m30/30\u001b[0m \u001b[32m━━━━━━━━━━━━━━━━━━━━\u001b[0m\u001b[37m\u001b[0m \u001b[1m0s\u001b[0m 5ms/step - accuracy: 0.5382 - loss: 1.2411 - val_accuracy: 0.5956 - val_loss: 1.1441 - learning_rate: 5.0000e-04\n",
      "Epoch 60/100\n",
      "\u001b[1m30/30\u001b[0m \u001b[32m━━━━━━━━━━━━━━━━━━━━\u001b[0m\u001b[37m\u001b[0m \u001b[1m0s\u001b[0m 4ms/step - accuracy: 0.5160 - loss: 1.2573 - val_accuracy: 0.5956 - val_loss: 1.1396 - learning_rate: 5.0000e-04\n",
      "Epoch 61/100\n",
      "\u001b[1m30/30\u001b[0m \u001b[32m━━━━━━━━━━━━━━━━━━━━\u001b[0m\u001b[37m\u001b[0m \u001b[1m1s\u001b[0m 18ms/step - accuracy: 0.5497 - loss: 1.2210 - val_accuracy: 0.5931 - val_loss: 1.1365 - learning_rate: 5.0000e-04\n",
      "Epoch 62/100\n",
      "\u001b[1m30/30\u001b[0m \u001b[32m━━━━━━━━━━━━━━━━━━━━\u001b[0m\u001b[37m\u001b[0m \u001b[1m0s\u001b[0m 6ms/step - accuracy: 0.5095 - loss: 1.2755 - val_accuracy: 0.5907 - val_loss: 1.1334 - learning_rate: 5.0000e-04\n",
      "Epoch 63/100\n",
      "\u001b[1m30/30\u001b[0m \u001b[32m━━━━━━━━━━━━━━━━━━━━\u001b[0m\u001b[37m\u001b[0m \u001b[1m0s\u001b[0m 5ms/step - accuracy: 0.5721 - loss: 1.2132 - val_accuracy: 0.5907 - val_loss: 1.1294 - learning_rate: 5.0000e-04\n",
      "Epoch 64/100\n",
      "\u001b[1m30/30\u001b[0m \u001b[32m━━━━━━━━━━━━━━━━━━━━\u001b[0m\u001b[37m\u001b[0m \u001b[1m0s\u001b[0m 4ms/step - accuracy: 0.5560 - loss: 1.1883 - val_accuracy: 0.5882 - val_loss: 1.1267 - learning_rate: 5.0000e-04\n",
      "Epoch 65/100\n",
      "\u001b[1m30/30\u001b[0m \u001b[32m━━━━━━━━━━━━━━━━━━━━\u001b[0m\u001b[37m\u001b[0m \u001b[1m0s\u001b[0m 5ms/step - accuracy: 0.5338 - loss: 1.2787 - val_accuracy: 0.5907 - val_loss: 1.1206 - learning_rate: 5.0000e-04\n",
      "Epoch 66/100\n",
      "\u001b[1m30/30\u001b[0m \u001b[32m━━━━━━━━━━━━━━━━━━━━\u001b[0m\u001b[37m\u001b[0m \u001b[1m0s\u001b[0m 4ms/step - accuracy: 0.5561 - loss: 1.1947 - val_accuracy: 0.5956 - val_loss: 1.1171 - learning_rate: 5.0000e-04\n",
      "Epoch 67/100\n",
      "\u001b[1m30/30\u001b[0m \u001b[32m━━━━━━━━━━━━━━━━━━━━\u001b[0m\u001b[37m\u001b[0m \u001b[1m0s\u001b[0m 5ms/step - accuracy: 0.5532 - loss: 1.2051 - val_accuracy: 0.5931 - val_loss: 1.1135 - learning_rate: 5.0000e-04\n",
      "Epoch 68/100\n",
      "\u001b[1m30/30\u001b[0m \u001b[32m━━━━━━━━━━━━━━━━━━━━\u001b[0m\u001b[37m\u001b[0m \u001b[1m0s\u001b[0m 5ms/step - accuracy: 0.5466 - loss: 1.1924 - val_accuracy: 0.5980 - val_loss: 1.1101 - learning_rate: 5.0000e-04\n",
      "Epoch 69/100\n",
      "\u001b[1m30/30\u001b[0m \u001b[32m━━━━━━━━━━━━━━━━━━━━\u001b[0m\u001b[37m\u001b[0m \u001b[1m0s\u001b[0m 4ms/step - accuracy: 0.5290 - loss: 1.2408 - val_accuracy: 0.5956 - val_loss: 1.1079 - learning_rate: 5.0000e-04\n",
      "Epoch 70/100\n",
      "\u001b[1m30/30\u001b[0m \u001b[32m━━━━━━━━━━━━━━━━━━━━\u001b[0m\u001b[37m\u001b[0m \u001b[1m0s\u001b[0m 5ms/step - accuracy: 0.5353 - loss: 1.1969 - val_accuracy: 0.5956 - val_loss: 1.1058 - learning_rate: 5.0000e-04\n",
      "Epoch 71/100\n",
      "\u001b[1m30/30\u001b[0m \u001b[32m━━━━━━━━━━━━━━━━━━━━\u001b[0m\u001b[37m\u001b[0m \u001b[1m0s\u001b[0m 4ms/step - accuracy: 0.5370 - loss: 1.2009 - val_accuracy: 0.5931 - val_loss: 1.1052 - learning_rate: 5.0000e-04\n",
      "Epoch 72/100\n",
      "\u001b[1m30/30\u001b[0m \u001b[32m━━━━━━━━━━━━━━━━━━━━\u001b[0m\u001b[37m\u001b[0m \u001b[1m0s\u001b[0m 4ms/step - accuracy: 0.5537 - loss: 1.1810 - val_accuracy: 0.5931 - val_loss: 1.1014 - learning_rate: 5.0000e-04\n",
      "Epoch 73/100\n",
      "\u001b[1m30/30\u001b[0m \u001b[32m━━━━━━━━━━━━━━━━━━━━\u001b[0m\u001b[37m\u001b[0m \u001b[1m0s\u001b[0m 6ms/step - accuracy: 0.5371 - loss: 1.2321 - val_accuracy: 0.6005 - val_loss: 1.0985 - learning_rate: 5.0000e-04\n",
      "Epoch 74/100\n",
      "\u001b[1m30/30\u001b[0m \u001b[32m━━━━━━━━━━━━━━━━━━━━\u001b[0m\u001b[37m\u001b[0m \u001b[1m0s\u001b[0m 4ms/step - accuracy: 0.5327 - loss: 1.1761 - val_accuracy: 0.6005 - val_loss: 1.0939 - learning_rate: 5.0000e-04\n",
      "Epoch 75/100\n",
      "\u001b[1m30/30\u001b[0m \u001b[32m━━━━━━━━━━━━━━━━━━━━\u001b[0m\u001b[37m\u001b[0m \u001b[1m0s\u001b[0m 10ms/step - accuracy: 0.5846 - loss: 1.1592 - val_accuracy: 0.6005 - val_loss: 1.0917 - learning_rate: 5.0000e-04\n",
      "Epoch 76/100\n",
      "\u001b[1m30/30\u001b[0m \u001b[32m━━━━━━━━━━━━━━━━━━━━\u001b[0m\u001b[37m\u001b[0m \u001b[1m1s\u001b[0m 11ms/step - accuracy: 0.5349 - loss: 1.1544 - val_accuracy: 0.6005 - val_loss: 1.0902 - learning_rate: 5.0000e-04\n",
      "Epoch 77/100\n",
      "\u001b[1m30/30\u001b[0m \u001b[32m━━━━━━━━━━━━━━━━━━━━\u001b[0m\u001b[37m\u001b[0m \u001b[1m1s\u001b[0m 15ms/step - accuracy: 0.5549 - loss: 1.1628 - val_accuracy: 0.5980 - val_loss: 1.0880 - learning_rate: 5.0000e-04\n",
      "Epoch 78/100\n",
      "\u001b[1m30/30\u001b[0m \u001b[32m━━━━━━━━━━━━━━━━━━━━\u001b[0m\u001b[37m\u001b[0m \u001b[1m1s\u001b[0m 19ms/step - accuracy: 0.5187 - loss: 1.2267 - val_accuracy: 0.5980 - val_loss: 1.0873 - learning_rate: 5.0000e-04\n",
      "Epoch 79/100\n",
      "\u001b[1m30/30\u001b[0m \u001b[32m━━━━━━━━━━━━━━━━━━━━\u001b[0m\u001b[37m\u001b[0m \u001b[1m1s\u001b[0m 14ms/step - accuracy: 0.5160 - loss: 1.2008 - val_accuracy: 0.6005 - val_loss: 1.0856 - learning_rate: 5.0000e-04\n",
      "Epoch 80/100\n",
      "\u001b[1m30/30\u001b[0m \u001b[32m━━━━━━━━━━━━━━━━━━━━\u001b[0m\u001b[37m\u001b[0m \u001b[1m0s\u001b[0m 8ms/step - accuracy: 0.5855 - loss: 1.1642 - val_accuracy: 0.5980 - val_loss: 1.0827 - learning_rate: 5.0000e-04\n",
      "Epoch 81/100\n",
      "\u001b[1m30/30\u001b[0m \u001b[32m━━━━━━━━━━━━━━━━━━━━\u001b[0m\u001b[37m\u001b[0m \u001b[1m1s\u001b[0m 14ms/step - accuracy: 0.5731 - loss: 1.1583 - val_accuracy: 0.5980 - val_loss: 1.0799 - learning_rate: 5.0000e-04\n",
      "Epoch 82/100\n",
      "\u001b[1m30/30\u001b[0m \u001b[32m━━━━━━━━━━━━━━━━━━━━\u001b[0m\u001b[37m\u001b[0m \u001b[1m1s\u001b[0m 17ms/step - accuracy: 0.5435 - loss: 1.1957 - val_accuracy: 0.5931 - val_loss: 1.0774 - learning_rate: 5.0000e-04\n",
      "Epoch 83/100\n",
      "\u001b[1m30/30\u001b[0m \u001b[32m━━━━━━━━━━━━━━━━━━━━\u001b[0m\u001b[37m\u001b[0m \u001b[1m0s\u001b[0m 13ms/step - accuracy: 0.5367 - loss: 1.1651 - val_accuracy: 0.5858 - val_loss: 1.0755 - learning_rate: 5.0000e-04\n",
      "Epoch 84/100\n",
      "\u001b[1m30/30\u001b[0m \u001b[32m━━━━━━━━━━━━━━━━━━━━\u001b[0m\u001b[37m\u001b[0m \u001b[1m1s\u001b[0m 19ms/step - accuracy: 0.5509 - loss: 1.1382 - val_accuracy: 0.5882 - val_loss: 1.0719 - learning_rate: 5.0000e-04\n",
      "Epoch 85/100\n",
      "\u001b[1m30/30\u001b[0m \u001b[32m━━━━━━━━━━━━━━━━━━━━\u001b[0m\u001b[37m\u001b[0m \u001b[1m1s\u001b[0m 10ms/step - accuracy: 0.5763 - loss: 1.1465 - val_accuracy: 0.5882 - val_loss: 1.0686 - learning_rate: 5.0000e-04\n",
      "Epoch 86/100\n",
      "\u001b[1m30/30\u001b[0m \u001b[32m━━━━━━━━━━━━━━━━━━━━\u001b[0m\u001b[37m\u001b[0m \u001b[1m1s\u001b[0m 11ms/step - accuracy: 0.5488 - loss: 1.1959 - val_accuracy: 0.5956 - val_loss: 1.0655 - learning_rate: 5.0000e-04\n",
      "Epoch 87/100\n",
      "\u001b[1m30/30\u001b[0m \u001b[32m━━━━━━━━━━━━━━━━━━━━\u001b[0m\u001b[37m\u001b[0m \u001b[1m1s\u001b[0m 12ms/step - accuracy: 0.5356 - loss: 1.1826 - val_accuracy: 0.5882 - val_loss: 1.0653 - learning_rate: 5.0000e-04\n",
      "Epoch 88/100\n",
      "\u001b[1m30/30\u001b[0m \u001b[32m━━━━━━━━━━━━━━━━━━━━\u001b[0m\u001b[37m\u001b[0m \u001b[1m1s\u001b[0m 16ms/step - accuracy: 0.5588 - loss: 1.1726 - val_accuracy: 0.5931 - val_loss: 1.0617 - learning_rate: 5.0000e-04\n",
      "Epoch 89/100\n",
      "\u001b[1m30/30\u001b[0m \u001b[32m━━━━━━━━━━━━━━━━━━━━\u001b[0m\u001b[37m\u001b[0m \u001b[1m0s\u001b[0m 11ms/step - accuracy: 0.5630 - loss: 1.1710 - val_accuracy: 0.5956 - val_loss: 1.0599 - learning_rate: 5.0000e-04\n",
      "Epoch 90/100\n",
      "\u001b[1m30/30\u001b[0m \u001b[32m━━━━━━━━━━━━━━━━━━━━\u001b[0m\u001b[37m\u001b[0m \u001b[1m0s\u001b[0m 11ms/step - accuracy: 0.5565 - loss: 1.1945 - val_accuracy: 0.5956 - val_loss: 1.0573 - learning_rate: 5.0000e-04\n",
      "Epoch 91/100\n",
      "\u001b[1m30/30\u001b[0m \u001b[32m━━━━━━━━━━━━━━━━━━━━\u001b[0m\u001b[37m\u001b[0m \u001b[1m0s\u001b[0m 8ms/step - accuracy: 0.5555 - loss: 1.1321 - val_accuracy: 0.6005 - val_loss: 1.0537 - learning_rate: 5.0000e-04\n",
      "Epoch 92/100\n",
      "\u001b[1m30/30\u001b[0m \u001b[32m━━━━━━━━━━━━━━━━━━━━\u001b[0m\u001b[37m\u001b[0m \u001b[1m0s\u001b[0m 15ms/step - accuracy: 0.5263 - loss: 1.1706 - val_accuracy: 0.5956 - val_loss: 1.0502 - learning_rate: 5.0000e-04\n",
      "Epoch 93/100\n",
      "\u001b[1m30/30\u001b[0m \u001b[32m━━━━━━━━━━━━━━━━━━━━\u001b[0m\u001b[37m\u001b[0m \u001b[1m0s\u001b[0m 10ms/step - accuracy: 0.5722 - loss: 1.0993 - val_accuracy: 0.5956 - val_loss: 1.0470 - learning_rate: 5.0000e-04\n",
      "Epoch 94/100\n",
      "\u001b[1m30/30\u001b[0m \u001b[32m━━━━━━━━━━━━━━━━━━━━\u001b[0m\u001b[37m\u001b[0m \u001b[1m0s\u001b[0m 5ms/step - accuracy: 0.5788 - loss: 1.0987 - val_accuracy: 0.6029 - val_loss: 1.0442 - learning_rate: 5.0000e-04\n",
      "Epoch 95/100\n",
      "\u001b[1m30/30\u001b[0m \u001b[32m━━━━━━━━━━━━━━━━━━━━\u001b[0m\u001b[37m\u001b[0m \u001b[1m0s\u001b[0m 6ms/step - accuracy: 0.5849 - loss: 1.0975 - val_accuracy: 0.6005 - val_loss: 1.0430 - learning_rate: 5.0000e-04\n",
      "Epoch 96/100\n",
      "\u001b[1m30/30\u001b[0m \u001b[32m━━━━━━━━━━━━━━━━━━━━\u001b[0m\u001b[37m\u001b[0m \u001b[1m0s\u001b[0m 6ms/step - accuracy: 0.5707 - loss: 1.1238 - val_accuracy: 0.5980 - val_loss: 1.0405 - learning_rate: 5.0000e-04\n",
      "Epoch 97/100\n",
      "\u001b[1m30/30\u001b[0m \u001b[32m━━━━━━━━━━━━━━━━━━━━\u001b[0m\u001b[37m\u001b[0m \u001b[1m0s\u001b[0m 9ms/step - accuracy: 0.5531 - loss: 1.1690 - val_accuracy: 0.5882 - val_loss: 1.0400 - learning_rate: 5.0000e-04\n",
      "Epoch 98/100\n",
      "\u001b[1m30/30\u001b[0m \u001b[32m━━━━━━━━━━━━━━━━━━━━\u001b[0m\u001b[37m\u001b[0m \u001b[1m1s\u001b[0m 12ms/step - accuracy: 0.5896 - loss: 1.1148 - val_accuracy: 0.5907 - val_loss: 1.0399 - learning_rate: 5.0000e-04\n",
      "Epoch 99/100\n",
      "\u001b[1m30/30\u001b[0m \u001b[32m━━━━━━━━━━━━━━━━━━━━\u001b[0m\u001b[37m\u001b[0m \u001b[1m0s\u001b[0m 9ms/step - accuracy: 0.5574 - loss: 1.1640 - val_accuracy: 0.5931 - val_loss: 1.0373 - learning_rate: 5.0000e-04\n",
      "Epoch 100/100\n",
      "\u001b[1m30/30\u001b[0m \u001b[32m━━━━━━━━━━━━━━━━━━━━\u001b[0m\u001b[37m\u001b[0m \u001b[1m0s\u001b[0m 10ms/step - accuracy: 0.5687 - loss: 1.0860 - val_accuracy: 0.5956 - val_loss: 1.0361 - learning_rate: 5.0000e-04\n",
      "\u001b[1m13/13\u001b[0m \u001b[32m━━━━━━━━━━━━━━━━━━━━\u001b[0m\u001b[37m\u001b[0m \u001b[1m0s\u001b[0m 3ms/step - accuracy: 0.6323 - loss: 0.9936 \n",
      "Test Accuracy: 0.5808823704719543\n"
     ]
    }
   ],
   "source": [
    "import tensorflow as tf\n",
    "from tensorflow.keras import models, layers, regularizers, optimizers\n",
    "from tensorflow.keras.callbacks import EarlyStopping, ReduceLROnPlateau\n",
    "\n",
    "# Define the model architecture\n",
    "model_try_1 = models.Sequential()\n",
    "\n",
    "# First hidden layer\n",
    "model_try_1.add(layers.Dense(32, activation='relu', input_shape=(X_train_scaled.shape[1],),\n",
    "                           kernel_regularizer=regularizers.l2(0.005)))\n",
    "model_try_1.add(layers.Dropout(0.4))  # Adjusted dropout rate\n",
    "model_try_1.add(layers.BatchNormalization())\n",
    "\n",
    "# Second hidden layer\n",
    "model_try_1.add(layers.Dense(16, activation='relu', kernel_regularizer=regularizers.l2(0.005)))\n",
    "model_try_1.add(layers.Dropout(0.4))\n",
    "model_try_1.add(layers.BatchNormalization())\n",
    "\n",
    "# Third hidden layer (optional)\n",
    "model_try_1.add(layers.Dense(8, activation='relu', kernel_regularizer=regularizers.l1_l2(l1=0.001, l2=0.005)))\n",
    "model_try_1.add(layers.LeakyReLU(alpha=0.1))\n",
    "model_try_1.add(layers.Dropout(0.3))\n",
    "model_try_1.add(layers.BatchNormalization())\n",
    "\n",
    "# Output layer\n",
    "model_try_1.add(layers.Dense(6, activation='softmax'))\n",
    "\n",
    "# Compile the model\n",
    "optimizer = optimizers.Adam(learning_rate=0.0005)  # Lowered learning rate\n",
    "model_try_1.compile(loss=\"categorical_crossentropy\", metrics=[\"accuracy\"], optimizer=optimizer)\n",
    "\n",
    "# Define early stopping and learning rate scheduler\n",
    "early_stopping = EarlyStopping(monitor='val_loss', patience=10, restore_best_weights=True)\n",
    "lr_schedule = ReduceLROnPlateau(monitor='val_loss', factor=0.2, patience=5, verbose=1)\n",
    "\n",
    "# Train the model\n",
    "history_new = model_try_1.fit(x=X_train_scaled, y=Y_train_encoded,\n",
    "                            batch_size=32, epochs=100,\n",
    "                            validation_data=(X_test_scaled, Y_test_encoded),\n",
    "                            callbacks=[early_stopping, lr_schedule])\n",
    "\n",
    "# Evaluate the model\n",
    "results_try_1 = model_try_1.evaluate(X_test_scaled, Y_test_encoded)\n",
    "print(f\"Test Accuracy: {results[1]}\")\n"
   ]
  },
  {
   "cell_type": "code",
   "execution_count": 25,
   "metadata": {
    "colab": {
     "base_uri": "https://localhost:8080/"
    },
    "executionInfo": {
     "elapsed": 28285,
     "status": "ok",
     "timestamp": 1725774290210,
     "user": {
      "displayName": "Jannet Akanksha Ekka",
      "userId": "04295694532301703575"
     },
     "user_tz": -330
    },
    "id": "DCVHLrRoUHkV",
    "outputId": "b2c05a4c-f454-410f-ff8c-ad111356b9f8",
    "scrolled": true
   },
   "outputs": [
    {
     "name": "stdout",
     "output_type": "stream",
     "text": [
      "Epoch 1/100\n",
      "\u001b[1m30/30\u001b[0m \u001b[32m━━━━━━━━━━━━━━━━━━━━\u001b[0m\u001b[37m\u001b[0m \u001b[1m6s\u001b[0m 41ms/step - accuracy: 0.1526 - loss: 2.1890 - val_accuracy: 0.2917 - val_loss: 1.8534\n",
      "Epoch 2/100\n",
      "\u001b[1m30/30\u001b[0m \u001b[32m━━━━━━━━━━━━━━━━━━━━\u001b[0m\u001b[37m\u001b[0m \u001b[1m0s\u001b[0m 12ms/step - accuracy: 0.2021 - loss: 2.0417 - val_accuracy: 0.3848 - val_loss: 1.7163\n",
      "Epoch 3/100\n",
      "\u001b[1m30/30\u001b[0m \u001b[32m━━━━━━━━━━━━━━━━━━━━\u001b[0m\u001b[37m\u001b[0m \u001b[1m0s\u001b[0m 8ms/step - accuracy: 0.2414 - loss: 1.9284 - val_accuracy: 0.4853 - val_loss: 1.6163\n",
      "Epoch 4/100\n",
      "\u001b[1m30/30\u001b[0m \u001b[32m━━━━━━━━━━━━━━━━━━━━\u001b[0m\u001b[37m\u001b[0m \u001b[1m0s\u001b[0m 6ms/step - accuracy: 0.3324 - loss: 1.7962 - val_accuracy: 0.5172 - val_loss: 1.5291\n",
      "Epoch 5/100\n",
      "\u001b[1m30/30\u001b[0m \u001b[32m━━━━━━━━━━━━━━━━━━━━\u001b[0m\u001b[37m\u001b[0m \u001b[1m0s\u001b[0m 8ms/step - accuracy: 0.3480 - loss: 1.7132 - val_accuracy: 0.5294 - val_loss: 1.4531\n",
      "Epoch 6/100\n",
      "\u001b[1m30/30\u001b[0m \u001b[32m━━━━━━━━━━━━━━━━━━━━\u001b[0m\u001b[37m\u001b[0m \u001b[1m0s\u001b[0m 8ms/step - accuracy: 0.3674 - loss: 1.6038 - val_accuracy: 0.5515 - val_loss: 1.3847\n",
      "Epoch 7/100\n",
      "\u001b[1m30/30\u001b[0m \u001b[32m━━━━━━━━━━━━━━━━━━━━\u001b[0m\u001b[37m\u001b[0m \u001b[1m0s\u001b[0m 6ms/step - accuracy: 0.4594 - loss: 1.5355 - val_accuracy: 0.5515 - val_loss: 1.3312\n",
      "Epoch 8/100\n",
      "\u001b[1m30/30\u001b[0m \u001b[32m━━━━━━━━━━━━━━━━━━━━\u001b[0m\u001b[37m\u001b[0m \u001b[1m0s\u001b[0m 9ms/step - accuracy: 0.4248 - loss: 1.4641 - val_accuracy: 0.5441 - val_loss: 1.2838\n",
      "Epoch 9/100\n",
      "\u001b[1m30/30\u001b[0m \u001b[32m━━━━━━━━━━━━━━━━━━━━\u001b[0m\u001b[37m\u001b[0m \u001b[1m1s\u001b[0m 10ms/step - accuracy: 0.4522 - loss: 1.4777 - val_accuracy: 0.5515 - val_loss: 1.2400\n",
      "Epoch 10/100\n",
      "\u001b[1m30/30\u001b[0m \u001b[32m━━━━━━━━━━━━━━━━━━━━\u001b[0m\u001b[37m\u001b[0m \u001b[1m0s\u001b[0m 4ms/step - accuracy: 0.4599 - loss: 1.3908 - val_accuracy: 0.5466 - val_loss: 1.2023\n",
      "Epoch 11/100\n",
      "\u001b[1m30/30\u001b[0m \u001b[32m━━━━━━━━━━━━━━━━━━━━\u001b[0m\u001b[37m\u001b[0m \u001b[1m0s\u001b[0m 4ms/step - accuracy: 0.4601 - loss: 1.3856 - val_accuracy: 0.5539 - val_loss: 1.1707\n",
      "Epoch 12/100\n",
      "\u001b[1m30/30\u001b[0m \u001b[32m━━━━━━━━━━━━━━━━━━━━\u001b[0m\u001b[37m\u001b[0m \u001b[1m0s\u001b[0m 3ms/step - accuracy: 0.4683 - loss: 1.3556 - val_accuracy: 0.5539 - val_loss: 1.1479\n",
      "Epoch 13/100\n",
      "\u001b[1m30/30\u001b[0m \u001b[32m━━━━━━━━━━━━━━━━━━━━\u001b[0m\u001b[37m\u001b[0m \u001b[1m0s\u001b[0m 4ms/step - accuracy: 0.5175 - loss: 1.2863 - val_accuracy: 0.5637 - val_loss: 1.1244\n",
      "Epoch 14/100\n",
      "\u001b[1m30/30\u001b[0m \u001b[32m━━━━━━━━━━━━━━━━━━━━\u001b[0m\u001b[37m\u001b[0m \u001b[1m0s\u001b[0m 4ms/step - accuracy: 0.4717 - loss: 1.2707 - val_accuracy: 0.5588 - val_loss: 1.1068\n",
      "Epoch 15/100\n",
      "\u001b[1m30/30\u001b[0m \u001b[32m━━━━━━━━━━━━━━━━━━━━\u001b[0m\u001b[37m\u001b[0m \u001b[1m0s\u001b[0m 6ms/step - accuracy: 0.4992 - loss: 1.2599 - val_accuracy: 0.5662 - val_loss: 1.0910\n",
      "Epoch 16/100\n",
      "\u001b[1m30/30\u001b[0m \u001b[32m━━━━━━━━━━━━━━━━━━━━\u001b[0m\u001b[37m\u001b[0m \u001b[1m0s\u001b[0m 6ms/step - accuracy: 0.4632 - loss: 1.2605 - val_accuracy: 0.5637 - val_loss: 1.0763\n",
      "Epoch 17/100\n",
      "\u001b[1m30/30\u001b[0m \u001b[32m━━━━━━━━━━━━━━━━━━━━\u001b[0m\u001b[37m\u001b[0m \u001b[1m0s\u001b[0m 4ms/step - accuracy: 0.4937 - loss: 1.2343 - val_accuracy: 0.5686 - val_loss: 1.0641\n",
      "Epoch 18/100\n",
      "\u001b[1m30/30\u001b[0m \u001b[32m━━━━━━━━━━━━━━━━━━━━\u001b[0m\u001b[37m\u001b[0m \u001b[1m0s\u001b[0m 4ms/step - accuracy: 0.4849 - loss: 1.2587 - val_accuracy: 0.5809 - val_loss: 1.0580\n",
      "Epoch 19/100\n",
      "\u001b[1m30/30\u001b[0m \u001b[32m━━━━━━━━━━━━━━━━━━━━\u001b[0m\u001b[37m\u001b[0m \u001b[1m0s\u001b[0m 4ms/step - accuracy: 0.4816 - loss: 1.2198 - val_accuracy: 0.5833 - val_loss: 1.0540\n",
      "Epoch 20/100\n",
      "\u001b[1m30/30\u001b[0m \u001b[32m━━━━━━━━━━━━━━━━━━━━\u001b[0m\u001b[37m\u001b[0m \u001b[1m0s\u001b[0m 8ms/step - accuracy: 0.5024 - loss: 1.1770 - val_accuracy: 0.5784 - val_loss: 1.0479\n",
      "Epoch 21/100\n",
      "\u001b[1m30/30\u001b[0m \u001b[32m━━━━━━━━━━━━━━━━━━━━\u001b[0m\u001b[37m\u001b[0m \u001b[1m0s\u001b[0m 4ms/step - accuracy: 0.4857 - loss: 1.1985 - val_accuracy: 0.5858 - val_loss: 1.0427\n",
      "Epoch 22/100\n",
      "\u001b[1m30/30\u001b[0m \u001b[32m━━━━━━━━━━━━━━━━━━━━\u001b[0m\u001b[37m\u001b[0m \u001b[1m0s\u001b[0m 4ms/step - accuracy: 0.5256 - loss: 1.1796 - val_accuracy: 0.5931 - val_loss: 1.0406\n",
      "Epoch 23/100\n",
      "\u001b[1m30/30\u001b[0m \u001b[32m━━━━━━━━━━━━━━━━━━━━\u001b[0m\u001b[37m\u001b[0m \u001b[1m0s\u001b[0m 4ms/step - accuracy: 0.5126 - loss: 1.1446 - val_accuracy: 0.5882 - val_loss: 1.0383\n",
      "Epoch 24/100\n",
      "\u001b[1m30/30\u001b[0m \u001b[32m━━━━━━━━━━━━━━━━━━━━\u001b[0m\u001b[37m\u001b[0m \u001b[1m0s\u001b[0m 4ms/step - accuracy: 0.5336 - loss: 1.1869 - val_accuracy: 0.5858 - val_loss: 1.0359\n",
      "Epoch 25/100\n",
      "\u001b[1m30/30\u001b[0m \u001b[32m━━━━━━━━━━━━━━━━━━━━\u001b[0m\u001b[37m\u001b[0m \u001b[1m0s\u001b[0m 4ms/step - accuracy: 0.5345 - loss: 1.2186 - val_accuracy: 0.5907 - val_loss: 1.0337\n",
      "Epoch 26/100\n",
      "\u001b[1m30/30\u001b[0m \u001b[32m━━━━━━━━━━━━━━━━━━━━\u001b[0m\u001b[37m\u001b[0m \u001b[1m0s\u001b[0m 4ms/step - accuracy: 0.5357 - loss: 1.1461 - val_accuracy: 0.5956 - val_loss: 1.0310\n",
      "Epoch 27/100\n",
      "\u001b[1m30/30\u001b[0m \u001b[32m━━━━━━━━━━━━━━━━━━━━\u001b[0m\u001b[37m\u001b[0m \u001b[1m0s\u001b[0m 4ms/step - accuracy: 0.5549 - loss: 1.1212 - val_accuracy: 0.5882 - val_loss: 1.0302\n",
      "Epoch 28/100\n",
      "\u001b[1m30/30\u001b[0m \u001b[32m━━━━━━━━━━━━━━━━━━━━\u001b[0m\u001b[37m\u001b[0m \u001b[1m0s\u001b[0m 3ms/step - accuracy: 0.5780 - loss: 1.1009 - val_accuracy: 0.5980 - val_loss: 1.0268\n",
      "Epoch 29/100\n",
      "\u001b[1m30/30\u001b[0m \u001b[32m━━━━━━━━━━━━━━━━━━━━\u001b[0m\u001b[37m\u001b[0m \u001b[1m0s\u001b[0m 4ms/step - accuracy: 0.5659 - loss: 1.1011 - val_accuracy: 0.5931 - val_loss: 1.0231\n",
      "Epoch 30/100\n",
      "\u001b[1m30/30\u001b[0m \u001b[32m━━━━━━━━━━━━━━━━━━━━\u001b[0m\u001b[37m\u001b[0m \u001b[1m0s\u001b[0m 4ms/step - accuracy: 0.5223 - loss: 1.1402 - val_accuracy: 0.5980 - val_loss: 1.0227\n",
      "Epoch 31/100\n",
      "\u001b[1m30/30\u001b[0m \u001b[32m━━━━━━━━━━━━━━━━━━━━\u001b[0m\u001b[37m\u001b[0m \u001b[1m0s\u001b[0m 4ms/step - accuracy: 0.5569 - loss: 1.1308 - val_accuracy: 0.5931 - val_loss: 1.0184\n",
      "Epoch 32/100\n",
      "\u001b[1m30/30\u001b[0m \u001b[32m━━━━━━━━━━━━━━━━━━━━\u001b[0m\u001b[37m\u001b[0m \u001b[1m0s\u001b[0m 5ms/step - accuracy: 0.5571 - loss: 1.1309 - val_accuracy: 0.5980 - val_loss: 1.0168\n",
      "Epoch 33/100\n",
      "\u001b[1m30/30\u001b[0m \u001b[32m━━━━━━━━━━━━━━━━━━━━\u001b[0m\u001b[37m\u001b[0m \u001b[1m0s\u001b[0m 4ms/step - accuracy: 0.5291 - loss: 1.1872 - val_accuracy: 0.6029 - val_loss: 1.0153\n",
      "Epoch 34/100\n",
      "\u001b[1m30/30\u001b[0m \u001b[32m━━━━━━━━━━━━━━━━━━━━\u001b[0m\u001b[37m\u001b[0m \u001b[1m0s\u001b[0m 4ms/step - accuracy: 0.5206 - loss: 1.1959 - val_accuracy: 0.5931 - val_loss: 1.0147\n",
      "Epoch 35/100\n",
      "\u001b[1m30/30\u001b[0m \u001b[32m━━━━━━━━━━━━━━━━━━━━\u001b[0m\u001b[37m\u001b[0m \u001b[1m0s\u001b[0m 4ms/step - accuracy: 0.5767 - loss: 1.0728 - val_accuracy: 0.5907 - val_loss: 1.0128\n",
      "Epoch 36/100\n",
      "\u001b[1m30/30\u001b[0m \u001b[32m━━━━━━━━━━━━━━━━━━━━\u001b[0m\u001b[37m\u001b[0m \u001b[1m0s\u001b[0m 4ms/step - accuracy: 0.5424 - loss: 1.1551 - val_accuracy: 0.5956 - val_loss: 1.0118\n",
      "Epoch 37/100\n",
      "\u001b[1m30/30\u001b[0m \u001b[32m━━━━━━━━━━━━━━━━━━━━\u001b[0m\u001b[37m\u001b[0m \u001b[1m0s\u001b[0m 4ms/step - accuracy: 0.5643 - loss: 1.1121 - val_accuracy: 0.5980 - val_loss: 1.0116\n",
      "Epoch 38/100\n",
      "\u001b[1m30/30\u001b[0m \u001b[32m━━━━━━━━━━━━━━━━━━━━\u001b[0m\u001b[37m\u001b[0m \u001b[1m0s\u001b[0m 4ms/step - accuracy: 0.5161 - loss: 1.1209 - val_accuracy: 0.5931 - val_loss: 1.0104\n",
      "Epoch 39/100\n",
      "\u001b[1m30/30\u001b[0m \u001b[32m━━━━━━━━━━━━━━━━━━━━\u001b[0m\u001b[37m\u001b[0m \u001b[1m0s\u001b[0m 4ms/step - accuracy: 0.5712 - loss: 1.0796 - val_accuracy: 0.5858 - val_loss: 1.0077\n",
      "Epoch 40/100\n",
      "\u001b[1m30/30\u001b[0m \u001b[32m━━━━━━━━━━━━━━━━━━━━\u001b[0m\u001b[37m\u001b[0m \u001b[1m0s\u001b[0m 4ms/step - accuracy: 0.5347 - loss: 1.1536 - val_accuracy: 0.5907 - val_loss: 1.0042\n",
      "Epoch 41/100\n",
      "\u001b[1m30/30\u001b[0m \u001b[32m━━━━━━━━━━━━━━━━━━━━\u001b[0m\u001b[37m\u001b[0m \u001b[1m0s\u001b[0m 4ms/step - accuracy: 0.5309 - loss: 1.1275 - val_accuracy: 0.5882 - val_loss: 1.0017\n",
      "Epoch 42/100\n",
      "\u001b[1m30/30\u001b[0m \u001b[32m━━━━━━━━━━━━━━━━━━━━\u001b[0m\u001b[37m\u001b[0m \u001b[1m0s\u001b[0m 4ms/step - accuracy: 0.5397 - loss: 1.1292 - val_accuracy: 0.5931 - val_loss: 1.0023\n",
      "Epoch 43/100\n",
      "\u001b[1m30/30\u001b[0m \u001b[32m━━━━━━━━━━━━━━━━━━━━\u001b[0m\u001b[37m\u001b[0m \u001b[1m0s\u001b[0m 5ms/step - accuracy: 0.5390 - loss: 1.1542 - val_accuracy: 0.5931 - val_loss: 1.0017\n",
      "Epoch 44/100\n",
      "\u001b[1m30/30\u001b[0m \u001b[32m━━━━━━━━━━━━━━━━━━━━\u001b[0m\u001b[37m\u001b[0m \u001b[1m0s\u001b[0m 4ms/step - accuracy: 0.5662 - loss: 1.0811 - val_accuracy: 0.5980 - val_loss: 1.0017\n",
      "Epoch 45/100\n",
      "\u001b[1m30/30\u001b[0m \u001b[32m━━━━━━━━━━━━━━━━━━━━\u001b[0m\u001b[37m\u001b[0m \u001b[1m0s\u001b[0m 4ms/step - accuracy: 0.5316 - loss: 1.0942 - val_accuracy: 0.6029 - val_loss: 1.0018\n",
      "Epoch 46/100\n",
      "\u001b[1m30/30\u001b[0m \u001b[32m━━━━━━━━━━━━━━━━━━━━\u001b[0m\u001b[37m\u001b[0m \u001b[1m0s\u001b[0m 4ms/step - accuracy: 0.5507 - loss: 1.0776 - val_accuracy: 0.6005 - val_loss: 0.9994\n",
      "Epoch 47/100\n",
      "\u001b[1m30/30\u001b[0m \u001b[32m━━━━━━━━━━━━━━━━━━━━\u001b[0m\u001b[37m\u001b[0m \u001b[1m0s\u001b[0m 4ms/step - accuracy: 0.5478 - loss: 1.1306 - val_accuracy: 0.6054 - val_loss: 0.9988\n",
      "Epoch 48/100\n",
      "\u001b[1m30/30\u001b[0m \u001b[32m━━━━━━━━━━━━━━━━━━━━\u001b[0m\u001b[37m\u001b[0m \u001b[1m0s\u001b[0m 4ms/step - accuracy: 0.5570 - loss: 1.0430 - val_accuracy: 0.5882 - val_loss: 0.9970\n",
      "Epoch 49/100\n",
      "\u001b[1m30/30\u001b[0m \u001b[32m━━━━━━━━━━━━━━━━━━━━\u001b[0m\u001b[37m\u001b[0m \u001b[1m0s\u001b[0m 5ms/step - accuracy: 0.5517 - loss: 1.1060 - val_accuracy: 0.6029 - val_loss: 0.9954\n",
      "Epoch 50/100\n",
      "\u001b[1m30/30\u001b[0m \u001b[32m━━━━━━━━━━━━━━━━━━━━\u001b[0m\u001b[37m\u001b[0m \u001b[1m0s\u001b[0m 6ms/step - accuracy: 0.5622 - loss: 1.0561 - val_accuracy: 0.6054 - val_loss: 0.9952\n",
      "Epoch 51/100\n",
      "\u001b[1m30/30\u001b[0m \u001b[32m━━━━━━━━━━━━━━━━━━━━\u001b[0m\u001b[37m\u001b[0m \u001b[1m0s\u001b[0m 7ms/step - accuracy: 0.5748 - loss: 1.0681 - val_accuracy: 0.6054 - val_loss: 0.9932\n",
      "Epoch 52/100\n",
      "\u001b[1m30/30\u001b[0m \u001b[32m━━━━━━━━━━━━━━━━━━━━\u001b[0m\u001b[37m\u001b[0m \u001b[1m0s\u001b[0m 8ms/step - accuracy: 0.5274 - loss: 1.1316 - val_accuracy: 0.6005 - val_loss: 0.9931\n",
      "Epoch 53/100\n",
      "\u001b[1m30/30\u001b[0m \u001b[32m━━━━━━━━━━━━━━━━━━━━\u001b[0m\u001b[37m\u001b[0m \u001b[1m0s\u001b[0m 6ms/step - accuracy: 0.5383 - loss: 1.1052 - val_accuracy: 0.6029 - val_loss: 0.9929\n",
      "Epoch 54/100\n",
      "\u001b[1m30/30\u001b[0m \u001b[32m━━━━━━━━━━━━━━━━━━━━\u001b[0m\u001b[37m\u001b[0m \u001b[1m0s\u001b[0m 8ms/step - accuracy: 0.5945 - loss: 1.0253 - val_accuracy: 0.6054 - val_loss: 0.9898\n",
      "Epoch 55/100\n",
      "\u001b[1m30/30\u001b[0m \u001b[32m━━━━━━━━━━━━━━━━━━━━\u001b[0m\u001b[37m\u001b[0m \u001b[1m0s\u001b[0m 8ms/step - accuracy: 0.5592 - loss: 1.0834 - val_accuracy: 0.6029 - val_loss: 0.9897\n",
      "Epoch 56/100\n",
      "\u001b[1m30/30\u001b[0m \u001b[32m━━━━━━━━━━━━━━━━━━━━\u001b[0m\u001b[37m\u001b[0m \u001b[1m0s\u001b[0m 7ms/step - accuracy: 0.5758 - loss: 1.0256 - val_accuracy: 0.6054 - val_loss: 0.9870\n",
      "Epoch 57/100\n",
      "\u001b[1m30/30\u001b[0m \u001b[32m━━━━━━━━━━━━━━━━━━━━\u001b[0m\u001b[37m\u001b[0m \u001b[1m0s\u001b[0m 6ms/step - accuracy: 0.5802 - loss: 1.0596 - val_accuracy: 0.6103 - val_loss: 0.9863\n",
      "Epoch 58/100\n",
      "\u001b[1m30/30\u001b[0m \u001b[32m━━━━━━━━━━━━━━━━━━━━\u001b[0m\u001b[37m\u001b[0m \u001b[1m0s\u001b[0m 8ms/step - accuracy: 0.5736 - loss: 1.0589 - val_accuracy: 0.6029 - val_loss: 0.9854\n",
      "Epoch 59/100\n",
      "\u001b[1m30/30\u001b[0m \u001b[32m━━━━━━━━━━━━━━━━━━━━\u001b[0m\u001b[37m\u001b[0m \u001b[1m0s\u001b[0m 7ms/step - accuracy: 0.5784 - loss: 1.0702 - val_accuracy: 0.6078 - val_loss: 0.9859\n",
      "Epoch 60/100\n",
      "\u001b[1m30/30\u001b[0m \u001b[32m━━━━━━━━━━━━━━━━━━━━\u001b[0m\u001b[37m\u001b[0m \u001b[1m0s\u001b[0m 8ms/step - accuracy: 0.5464 - loss: 1.1173 - val_accuracy: 0.6078 - val_loss: 0.9867\n",
      "Epoch 61/100\n",
      "\u001b[1m30/30\u001b[0m \u001b[32m━━━━━━━━━━━━━━━━━━━━\u001b[0m\u001b[37m\u001b[0m \u001b[1m0s\u001b[0m 8ms/step - accuracy: 0.5598 - loss: 1.0466 - val_accuracy: 0.6054 - val_loss: 0.9839\n",
      "Epoch 62/100\n",
      "\u001b[1m30/30\u001b[0m \u001b[32m━━━━━━━━━━━━━━━━━━━━\u001b[0m\u001b[37m\u001b[0m \u001b[1m0s\u001b[0m 4ms/step - accuracy: 0.5703 - loss: 1.0947 - val_accuracy: 0.6078 - val_loss: 0.9827\n",
      "Epoch 63/100\n",
      "\u001b[1m30/30\u001b[0m \u001b[32m━━━━━━━━━━━━━━━━━━━━\u001b[0m\u001b[37m\u001b[0m \u001b[1m0s\u001b[0m 4ms/step - accuracy: 0.5249 - loss: 1.1014 - val_accuracy: 0.6103 - val_loss: 0.9847\n",
      "Epoch 64/100\n",
      "\u001b[1m30/30\u001b[0m \u001b[32m━━━━━━━━━━━━━━━━━━━━\u001b[0m\u001b[37m\u001b[0m \u001b[1m0s\u001b[0m 4ms/step - accuracy: 0.5623 - loss: 1.1059 - val_accuracy: 0.6078 - val_loss: 0.9820\n",
      "Epoch 65/100\n",
      "\u001b[1m30/30\u001b[0m \u001b[32m━━━━━━━━━━━━━━━━━━━━\u001b[0m\u001b[37m\u001b[0m \u001b[1m0s\u001b[0m 5ms/step - accuracy: 0.5645 - loss: 1.0857 - val_accuracy: 0.6127 - val_loss: 0.9801\n",
      "Epoch 66/100\n",
      "\u001b[1m30/30\u001b[0m \u001b[32m━━━━━━━━━━━━━━━━━━━━\u001b[0m\u001b[37m\u001b[0m \u001b[1m0s\u001b[0m 4ms/step - accuracy: 0.5812 - loss: 1.0598 - val_accuracy: 0.6103 - val_loss: 0.9780\n",
      "Epoch 67/100\n",
      "\u001b[1m30/30\u001b[0m \u001b[32m━━━━━━━━━━━━━━━━━━━━\u001b[0m\u001b[37m\u001b[0m \u001b[1m0s\u001b[0m 4ms/step - accuracy: 0.5497 - loss: 1.1102 - val_accuracy: 0.6103 - val_loss: 0.9777\n",
      "Epoch 68/100\n",
      "\u001b[1m30/30\u001b[0m \u001b[32m━━━━━━━━━━━━━━━━━━━━\u001b[0m\u001b[37m\u001b[0m \u001b[1m0s\u001b[0m 4ms/step - accuracy: 0.5534 - loss: 1.0729 - val_accuracy: 0.6054 - val_loss: 0.9763\n",
      "Epoch 69/100\n",
      "\u001b[1m30/30\u001b[0m \u001b[32m━━━━━━━━━━━━━━━━━━━━\u001b[0m\u001b[37m\u001b[0m \u001b[1m0s\u001b[0m 4ms/step - accuracy: 0.5651 - loss: 1.0319 - val_accuracy: 0.6078 - val_loss: 0.9746\n",
      "Epoch 70/100\n",
      "\u001b[1m30/30\u001b[0m \u001b[32m━━━━━━━━━━━━━━━━━━━━\u001b[0m\u001b[37m\u001b[0m \u001b[1m0s\u001b[0m 6ms/step - accuracy: 0.5766 - loss: 1.0148 - val_accuracy: 0.6103 - val_loss: 0.9744\n",
      "Epoch 71/100\n",
      "\u001b[1m30/30\u001b[0m \u001b[32m━━━━━━━━━━━━━━━━━━━━\u001b[0m\u001b[37m\u001b[0m \u001b[1m0s\u001b[0m 4ms/step - accuracy: 0.5542 - loss: 1.0656 - val_accuracy: 0.6054 - val_loss: 0.9746\n",
      "Epoch 72/100\n",
      "\u001b[1m30/30\u001b[0m \u001b[32m━━━━━━━━━━━━━━━━━━━━\u001b[0m\u001b[37m\u001b[0m \u001b[1m0s\u001b[0m 4ms/step - accuracy: 0.5756 - loss: 1.0619 - val_accuracy: 0.6054 - val_loss: 0.9739\n",
      "Epoch 73/100\n",
      "\u001b[1m30/30\u001b[0m \u001b[32m━━━━━━━━━━━━━━━━━━━━\u001b[0m\u001b[37m\u001b[0m \u001b[1m0s\u001b[0m 4ms/step - accuracy: 0.5769 - loss: 1.0311 - val_accuracy: 0.6127 - val_loss: 0.9739\n",
      "Epoch 74/100\n",
      "\u001b[1m30/30\u001b[0m \u001b[32m━━━━━━━━━━━━━━━━━━━━\u001b[0m\u001b[37m\u001b[0m \u001b[1m0s\u001b[0m 4ms/step - accuracy: 0.5750 - loss: 1.0433 - val_accuracy: 0.6078 - val_loss: 0.9755\n",
      "Epoch 75/100\n",
      "\u001b[1m30/30\u001b[0m \u001b[32m━━━━━━━━━━━━━━━━━━━━\u001b[0m\u001b[37m\u001b[0m \u001b[1m0s\u001b[0m 4ms/step - accuracy: 0.5855 - loss: 1.0448 - val_accuracy: 0.6005 - val_loss: 0.9767\n",
      "Epoch 76/100\n",
      "\u001b[1m30/30\u001b[0m \u001b[32m━━━━━━━━━━━━━━━━━━━━\u001b[0m\u001b[37m\u001b[0m \u001b[1m0s\u001b[0m 4ms/step - accuracy: 0.5380 - loss: 1.0607 - val_accuracy: 0.6127 - val_loss: 0.9786\n",
      "Epoch 77/100\n",
      "\u001b[1m30/30\u001b[0m \u001b[32m━━━━━━━━━━━━━━━━━━━━\u001b[0m\u001b[37m\u001b[0m \u001b[1m0s\u001b[0m 4ms/step - accuracy: 0.5964 - loss: 1.0204 - val_accuracy: 0.6103 - val_loss: 0.9778\n",
      "Epoch 78/100\n",
      "\u001b[1m30/30\u001b[0m \u001b[32m━━━━━━━━━━━━━━━━━━━━\u001b[0m\u001b[37m\u001b[0m \u001b[1m0s\u001b[0m 4ms/step - accuracy: 0.5472 - loss: 1.0651 - val_accuracy: 0.6103 - val_loss: 0.9761\n",
      "Epoch 79/100\n",
      "\u001b[1m30/30\u001b[0m \u001b[32m━━━━━━━━━━━━━━━━━━━━\u001b[0m\u001b[37m\u001b[0m \u001b[1m0s\u001b[0m 4ms/step - accuracy: 0.5653 - loss: 1.0695 - val_accuracy: 0.6078 - val_loss: 0.9759\n",
      "Epoch 80/100\n",
      "\u001b[1m30/30\u001b[0m \u001b[32m━━━━━━━━━━━━━━━━━━━━\u001b[0m\u001b[37m\u001b[0m \u001b[1m0s\u001b[0m 4ms/step - accuracy: 0.5613 - loss: 1.0981 - val_accuracy: 0.6078 - val_loss: 0.9755\n",
      "Epoch 81/100\n",
      "\u001b[1m30/30\u001b[0m \u001b[32m━━━━━━━━━━━━━━━━━━━━\u001b[0m\u001b[37m\u001b[0m \u001b[1m0s\u001b[0m 5ms/step - accuracy: 0.5797 - loss: 1.0460 - val_accuracy: 0.6103 - val_loss: 0.9746\n",
      "Epoch 82/100\n",
      "\u001b[1m30/30\u001b[0m \u001b[32m━━━━━━━━━━━━━━━━━━━━\u001b[0m\u001b[37m\u001b[0m \u001b[1m0s\u001b[0m 4ms/step - accuracy: 0.5629 - loss: 1.0527 - val_accuracy: 0.6078 - val_loss: 0.9745\n",
      "Epoch 83/100\n",
      "\u001b[1m30/30\u001b[0m \u001b[32m━━━━━━━━━━━━━━━━━━━━\u001b[0m\u001b[37m\u001b[0m \u001b[1m0s\u001b[0m 4ms/step - accuracy: 0.5553 - loss: 1.0476 - val_accuracy: 0.6078 - val_loss: 0.9730\n",
      "Epoch 84/100\n",
      "\u001b[1m30/30\u001b[0m \u001b[32m━━━━━━━━━━━━━━━━━━━━\u001b[0m\u001b[37m\u001b[0m \u001b[1m0s\u001b[0m 4ms/step - accuracy: 0.5701 - loss: 1.0465 - val_accuracy: 0.6103 - val_loss: 0.9734\n",
      "Epoch 85/100\n",
      "\u001b[1m30/30\u001b[0m \u001b[32m━━━━━━━━━━━━━━━━━━━━\u001b[0m\u001b[37m\u001b[0m \u001b[1m0s\u001b[0m 4ms/step - accuracy: 0.5830 - loss: 1.0522 - val_accuracy: 0.6176 - val_loss: 0.9726\n",
      "Epoch 86/100\n",
      "\u001b[1m30/30\u001b[0m \u001b[32m━━━━━━━━━━━━━━━━━━━━\u001b[0m\u001b[37m\u001b[0m \u001b[1m0s\u001b[0m 4ms/step - accuracy: 0.5714 - loss: 1.0910 - val_accuracy: 0.6127 - val_loss: 0.9717\n",
      "Epoch 87/100\n",
      "\u001b[1m30/30\u001b[0m \u001b[32m━━━━━━━━━━━━━━━━━━━━\u001b[0m\u001b[37m\u001b[0m \u001b[1m0s\u001b[0m 4ms/step - accuracy: 0.5603 - loss: 1.0300 - val_accuracy: 0.6103 - val_loss: 0.9706\n",
      "Epoch 88/100\n",
      "\u001b[1m30/30\u001b[0m \u001b[32m━━━━━━━━━━━━━━━━━━━━\u001b[0m\u001b[37m\u001b[0m \u001b[1m0s\u001b[0m 4ms/step - accuracy: 0.5797 - loss: 1.0311 - val_accuracy: 0.6103 - val_loss: 0.9688\n",
      "Epoch 89/100\n",
      "\u001b[1m30/30\u001b[0m \u001b[32m━━━━━━━━━━━━━━━━━━━━\u001b[0m\u001b[37m\u001b[0m \u001b[1m0s\u001b[0m 4ms/step - accuracy: 0.5685 - loss: 1.0583 - val_accuracy: 0.6127 - val_loss: 0.9686\n",
      "Epoch 90/100\n",
      "\u001b[1m30/30\u001b[0m \u001b[32m━━━━━━━━━━━━━━━━━━━━\u001b[0m\u001b[37m\u001b[0m \u001b[1m0s\u001b[0m 4ms/step - accuracy: 0.5770 - loss: 1.0543 - val_accuracy: 0.6152 - val_loss: 0.9682\n",
      "Epoch 91/100\n",
      "\u001b[1m30/30\u001b[0m \u001b[32m━━━━━━━━━━━━━━━━━━━━\u001b[0m\u001b[37m\u001b[0m \u001b[1m0s\u001b[0m 4ms/step - accuracy: 0.5691 - loss: 1.0408 - val_accuracy: 0.6127 - val_loss: 0.9660\n",
      "Epoch 92/100\n",
      "\u001b[1m30/30\u001b[0m \u001b[32m━━━━━━━━━━━━━━━━━━━━\u001b[0m\u001b[37m\u001b[0m \u001b[1m0s\u001b[0m 5ms/step - accuracy: 0.5855 - loss: 1.0421 - val_accuracy: 0.6152 - val_loss: 0.9639\n",
      "Epoch 93/100\n",
      "\u001b[1m30/30\u001b[0m \u001b[32m━━━━━━━━━━━━━━━━━━━━\u001b[0m\u001b[37m\u001b[0m \u001b[1m0s\u001b[0m 4ms/step - accuracy: 0.5380 - loss: 1.0771 - val_accuracy: 0.6152 - val_loss: 0.9648\n",
      "Epoch 94/100\n",
      "\u001b[1m30/30\u001b[0m \u001b[32m━━━━━━━━━━━━━━━━━━━━\u001b[0m\u001b[37m\u001b[0m \u001b[1m0s\u001b[0m 4ms/step - accuracy: 0.5821 - loss: 1.0363 - val_accuracy: 0.6127 - val_loss: 0.9649\n",
      "Epoch 95/100\n",
      "\u001b[1m30/30\u001b[0m \u001b[32m━━━━━━━━━━━━━━━━━━━━\u001b[0m\u001b[37m\u001b[0m \u001b[1m0s\u001b[0m 4ms/step - accuracy: 0.5817 - loss: 1.0199 - val_accuracy: 0.6176 - val_loss: 0.9663\n",
      "Epoch 96/100\n",
      "\u001b[1m30/30\u001b[0m \u001b[32m━━━━━━━━━━━━━━━━━━━━\u001b[0m\u001b[37m\u001b[0m \u001b[1m0s\u001b[0m 4ms/step - accuracy: 0.5761 - loss: 1.0412 - val_accuracy: 0.6152 - val_loss: 0.9678\n",
      "Epoch 97/100\n",
      "\u001b[1m30/30\u001b[0m \u001b[32m━━━━━━━━━━━━━━━━━━━━\u001b[0m\u001b[37m\u001b[0m \u001b[1m0s\u001b[0m 5ms/step - accuracy: 0.5983 - loss: 1.0040 - val_accuracy: 0.6103 - val_loss: 0.9695\n",
      "Epoch 98/100\n",
      "\u001b[1m30/30\u001b[0m \u001b[32m━━━━━━━━━━━━━━━━━━━━\u001b[0m\u001b[37m\u001b[0m \u001b[1m0s\u001b[0m 4ms/step - accuracy: 0.5835 - loss: 1.0225 - val_accuracy: 0.6029 - val_loss: 0.9689\n",
      "Epoch 99/100\n",
      "\u001b[1m30/30\u001b[0m \u001b[32m━━━━━━━━━━━━━━━━━━━━\u001b[0m\u001b[37m\u001b[0m \u001b[1m0s\u001b[0m 4ms/step - accuracy: 0.5817 - loss: 1.0002 - val_accuracy: 0.6103 - val_loss: 0.9690\n",
      "Epoch 100/100\n",
      "\u001b[1m30/30\u001b[0m \u001b[32m━━━━━━━━━━━━━━━━━━━━\u001b[0m\u001b[37m\u001b[0m \u001b[1m0s\u001b[0m 4ms/step - accuracy: 0.5485 - loss: 1.0636 - val_accuracy: 0.6127 - val_loss: 0.9690\n",
      "\u001b[1m13/13\u001b[0m \u001b[32m━━━━━━━━━━━━━━━━━━━━\u001b[0m\u001b[37m\u001b[0m \u001b[1m0s\u001b[0m 2ms/step - accuracy: 0.6431 - loss: 0.9235 \n",
      "Test Accuracy: 0.6127451062202454\n"
     ]
    }
   ],
   "source": [
    "model_try_2 = models.Sequential()\n",
    "\n",
    "model_try_2.add(layers.Dense(32, activation='relu', input_shape=(X_train_scaled.shape[1],),\n",
    "                       kernel_regularizer=regularizers.l2(0.001)))\n",
    "model_try_2.add(layers.Dropout(0.5))\n",
    "model_try_2.add(layers.BatchNormalization())\n",
    "\n",
    "model_try_2.add(layers.Dense(16, activation='relu', kernel_regularizer=regularizers.l2(0.001)))\n",
    "model_try_2.add(layers.Dropout(0.5))\n",
    "model_try_2.add(layers.BatchNormalization())\n",
    "\n",
    "model_try_2.add(layers.Dense(6, activation='softmax'))\n",
    "\n",
    "optimizer = tf.keras.optimizers.Adam(learning_rate=0.001)\n",
    "\n",
    "# Compile the model with categorical cross-entropy\n",
    "model_try_2.compile(\n",
    "    loss=\"categorical_crossentropy\",  # Use categorical cross-entropy\n",
    "    metrics=[\"accuracy\"],\n",
    "    optimizer=optimizer\n",
    ")\n",
    "\n",
    "early_stopping = EarlyStopping(monitor='val_loss', patience=10)\n",
    "\n",
    "# Fit the model\n",
    "history_try_2 = model_try_2.fit(\n",
    "    x=X_train_scaled,\n",
    "    y=Y_train_encoded,\n",
    "    batch_size=32,\n",
    "    epochs=100,\n",
    "    validation_data=(X_test_scaled, Y_test_encoded),\n",
    "    callbacks=[early_stopping]\n",
    ")\n",
    "\n",
    "results_try_2 = model_try_2.evaluate(X_test_scaled, Y_test_encoded)\n",
    "print(f\"Test Accuracy: {results_try_2[1]}\")"
   ]
  },
  {
   "cell_type": "code",
   "execution_count": 26,
   "metadata": {
    "colab": {
     "base_uri": "https://localhost:8080/"
    },
    "executionInfo": {
     "elapsed": 27960,
     "status": "ok",
     "timestamp": 1725774318146,
     "user": {
      "displayName": "Jannet Akanksha Ekka",
      "userId": "04295694532301703575"
     },
     "user_tz": -330
    },
    "id": "2qggXeaQl2CR",
    "outputId": "00acf1e4-bcf5-41d3-dc79-5df98db4abe1",
    "scrolled": true
   },
   "outputs": [
    {
     "name": "stdout",
     "output_type": "stream",
     "text": [
      "Epoch 1/100\n",
      "\u001b[1m30/30\u001b[0m \u001b[32m━━━━━━━━━━━━━━━━━━━━\u001b[0m\u001b[37m\u001b[0m \u001b[1m4s\u001b[0m 22ms/step - accuracy: 0.1757 - loss: 2.3015 - val_accuracy: 0.3431 - val_loss: 1.8027\n",
      "Epoch 2/100\n",
      "\u001b[1m30/30\u001b[0m \u001b[32m━━━━━━━━━━━━━━━━━━━━\u001b[0m\u001b[37m\u001b[0m \u001b[1m1s\u001b[0m 7ms/step - accuracy: 0.2027 - loss: 2.1628 - val_accuracy: 0.4265 - val_loss: 1.7526\n",
      "Epoch 3/100\n",
      "\u001b[1m30/30\u001b[0m \u001b[32m━━━━━━━━━━━━━━━━━━━━\u001b[0m\u001b[37m\u001b[0m \u001b[1m0s\u001b[0m 10ms/step - accuracy: 0.2328 - loss: 2.0508 - val_accuracy: 0.4926 - val_loss: 1.6899\n",
      "Epoch 4/100\n",
      "\u001b[1m30/30\u001b[0m \u001b[32m━━━━━━━━━━━━━━━━━━━━\u001b[0m\u001b[37m\u001b[0m \u001b[1m1s\u001b[0m 7ms/step - accuracy: 0.3356 - loss: 1.8383 - val_accuracy: 0.5196 - val_loss: 1.6252\n",
      "Epoch 5/100\n",
      "\u001b[1m30/30\u001b[0m \u001b[32m━━━━━━━━━━━━━━━━━━━━\u001b[0m\u001b[37m\u001b[0m \u001b[1m0s\u001b[0m 4ms/step - accuracy: 0.3441 - loss: 1.8190 - val_accuracy: 0.5417 - val_loss: 1.5644\n",
      "Epoch 6/100\n",
      "\u001b[1m30/30\u001b[0m \u001b[32m━━━━━━━━━━━━━━━━━━━━\u001b[0m\u001b[37m\u001b[0m \u001b[1m0s\u001b[0m 4ms/step - accuracy: 0.3882 - loss: 1.7477 - val_accuracy: 0.5515 - val_loss: 1.5033\n",
      "Epoch 7/100\n",
      "\u001b[1m30/30\u001b[0m \u001b[32m━━━━━━━━━━━━━━━━━━━━\u001b[0m\u001b[37m\u001b[0m \u001b[1m0s\u001b[0m 5ms/step - accuracy: 0.3992 - loss: 1.7440 - val_accuracy: 0.5735 - val_loss: 1.4493\n",
      "Epoch 8/100\n",
      "\u001b[1m30/30\u001b[0m \u001b[32m━━━━━━━━━━━━━━━━━━━━\u001b[0m\u001b[37m\u001b[0m \u001b[1m0s\u001b[0m 4ms/step - accuracy: 0.4737 - loss: 1.5449 - val_accuracy: 0.5735 - val_loss: 1.4034\n",
      "Epoch 9/100\n",
      "\u001b[1m30/30\u001b[0m \u001b[32m━━━━━━━━━━━━━━━━━━━━\u001b[0m\u001b[37m\u001b[0m \u001b[1m0s\u001b[0m 4ms/step - accuracy: 0.4165 - loss: 1.5520 - val_accuracy: 0.5784 - val_loss: 1.3616\n",
      "Epoch 10/100\n",
      "\u001b[1m30/30\u001b[0m \u001b[32m━━━━━━━━━━━━━━━━━━━━\u001b[0m\u001b[37m\u001b[0m \u001b[1m0s\u001b[0m 5ms/step - accuracy: 0.4449 - loss: 1.5216 - val_accuracy: 0.5809 - val_loss: 1.3205\n",
      "Epoch 11/100\n",
      "\u001b[1m30/30\u001b[0m \u001b[32m━━━━━━━━━━━━━━━━━━━━\u001b[0m\u001b[37m\u001b[0m \u001b[1m0s\u001b[0m 4ms/step - accuracy: 0.4728 - loss: 1.4920 - val_accuracy: 0.5809 - val_loss: 1.2834\n",
      "Epoch 12/100\n",
      "\u001b[1m30/30\u001b[0m \u001b[32m━━━━━━━━━━━━━━━━━━━━\u001b[0m\u001b[37m\u001b[0m \u001b[1m0s\u001b[0m 4ms/step - accuracy: 0.4405 - loss: 1.4741 - val_accuracy: 0.5882 - val_loss: 1.2491\n",
      "Epoch 13/100\n",
      "\u001b[1m30/30\u001b[0m \u001b[32m━━━━━━━━━━━━━━━━━━━━\u001b[0m\u001b[37m\u001b[0m \u001b[1m0s\u001b[0m 4ms/step - accuracy: 0.5026 - loss: 1.3854 - val_accuracy: 0.5931 - val_loss: 1.2229\n",
      "Epoch 14/100\n",
      "\u001b[1m30/30\u001b[0m \u001b[32m━━━━━━━━━━━━━━━━━━━━\u001b[0m\u001b[37m\u001b[0m \u001b[1m0s\u001b[0m 4ms/step - accuracy: 0.4865 - loss: 1.4214 - val_accuracy: 0.5833 - val_loss: 1.2028\n",
      "Epoch 15/100\n",
      "\u001b[1m30/30\u001b[0m \u001b[32m━━━━━━━━━━━━━━━━━━━━\u001b[0m\u001b[37m\u001b[0m \u001b[1m0s\u001b[0m 5ms/step - accuracy: 0.5151 - loss: 1.3088 - val_accuracy: 0.5858 - val_loss: 1.1798\n",
      "Epoch 16/100\n",
      "\u001b[1m30/30\u001b[0m \u001b[32m━━━━━━━━━━━━━━━━━━━━\u001b[0m\u001b[37m\u001b[0m \u001b[1m0s\u001b[0m 4ms/step - accuracy: 0.5093 - loss: 1.3772 - val_accuracy: 0.5882 - val_loss: 1.1618\n",
      "Epoch 17/100\n",
      "\u001b[1m30/30\u001b[0m \u001b[32m━━━━━━━━━━━━━━━━━━━━\u001b[0m\u001b[37m\u001b[0m \u001b[1m0s\u001b[0m 4ms/step - accuracy: 0.5288 - loss: 1.2611 - val_accuracy: 0.5931 - val_loss: 1.1467\n",
      "Epoch 18/100\n",
      "\u001b[1m30/30\u001b[0m \u001b[32m━━━━━━━━━━━━━━━━━━━━\u001b[0m\u001b[37m\u001b[0m \u001b[1m0s\u001b[0m 4ms/step - accuracy: 0.5223 - loss: 1.3181 - val_accuracy: 0.5980 - val_loss: 1.1309\n",
      "Epoch 19/100\n",
      "\u001b[1m30/30\u001b[0m \u001b[32m━━━━━━━━━━━━━━━━━━━━\u001b[0m\u001b[37m\u001b[0m \u001b[1m0s\u001b[0m 4ms/step - accuracy: 0.5303 - loss: 1.2813 - val_accuracy: 0.5931 - val_loss: 1.1161\n",
      "Epoch 20/100\n",
      "\u001b[1m30/30\u001b[0m \u001b[32m━━━━━━━━━━━━━━━━━━━━\u001b[0m\u001b[37m\u001b[0m \u001b[1m0s\u001b[0m 4ms/step - accuracy: 0.5219 - loss: 1.2667 - val_accuracy: 0.6005 - val_loss: 1.1072\n",
      "Epoch 21/100\n",
      "\u001b[1m30/30\u001b[0m \u001b[32m━━━━━━━━━━━━━━━━━━━━\u001b[0m\u001b[37m\u001b[0m \u001b[1m0s\u001b[0m 6ms/step - accuracy: 0.4881 - loss: 1.2576 - val_accuracy: 0.5980 - val_loss: 1.0982\n",
      "Epoch 22/100\n",
      "\u001b[1m30/30\u001b[0m \u001b[32m━━━━━━━━━━━━━━━━━━━━\u001b[0m\u001b[37m\u001b[0m \u001b[1m0s\u001b[0m 4ms/step - accuracy: 0.5004 - loss: 1.2714 - val_accuracy: 0.6103 - val_loss: 1.0904\n",
      "Epoch 23/100\n",
      "\u001b[1m30/30\u001b[0m \u001b[32m━━━━━━━━━━━━━━━━━━━━\u001b[0m\u001b[37m\u001b[0m \u001b[1m0s\u001b[0m 5ms/step - accuracy: 0.5237 - loss: 1.2305 - val_accuracy: 0.6078 - val_loss: 1.0859\n",
      "Epoch 24/100\n",
      "\u001b[1m30/30\u001b[0m \u001b[32m━━━━━━━━━━━━━━━━━━━━\u001b[0m\u001b[37m\u001b[0m \u001b[1m0s\u001b[0m 4ms/step - accuracy: 0.5016 - loss: 1.2010 - val_accuracy: 0.6201 - val_loss: 1.0785\n",
      "Epoch 25/100\n",
      "\u001b[1m30/30\u001b[0m \u001b[32m━━━━━━━━━━━━━━━━━━━━\u001b[0m\u001b[37m\u001b[0m \u001b[1m0s\u001b[0m 5ms/step - accuracy: 0.5565 - loss: 1.2224 - val_accuracy: 0.6127 - val_loss: 1.0711\n",
      "Epoch 26/100\n",
      "\u001b[1m30/30\u001b[0m \u001b[32m━━━━━━━━━━━━━━━━━━━━\u001b[0m\u001b[37m\u001b[0m \u001b[1m0s\u001b[0m 4ms/step - accuracy: 0.5004 - loss: 1.2371 - val_accuracy: 0.6054 - val_loss: 1.0694\n",
      "Epoch 27/100\n",
      "\u001b[1m30/30\u001b[0m \u001b[32m━━━━━━━━━━━━━━━━━━━━\u001b[0m\u001b[37m\u001b[0m \u001b[1m0s\u001b[0m 4ms/step - accuracy: 0.5788 - loss: 1.1962 - val_accuracy: 0.6078 - val_loss: 1.0639\n",
      "Epoch 28/100\n",
      "\u001b[1m30/30\u001b[0m \u001b[32m━━━━━━━━━━━━━━━━━━━━\u001b[0m\u001b[37m\u001b[0m \u001b[1m0s\u001b[0m 4ms/step - accuracy: 0.5174 - loss: 1.1847 - val_accuracy: 0.6054 - val_loss: 1.0621\n",
      "Epoch 29/100\n",
      "\u001b[1m30/30\u001b[0m \u001b[32m━━━━━━━━━━━━━━━━━━━━\u001b[0m\u001b[37m\u001b[0m \u001b[1m0s\u001b[0m 5ms/step - accuracy: 0.5421 - loss: 1.1829 - val_accuracy: 0.6127 - val_loss: 1.0586\n",
      "Epoch 30/100\n",
      "\u001b[1m30/30\u001b[0m \u001b[32m━━━━━━━━━━━━━━━━━━━━\u001b[0m\u001b[37m\u001b[0m \u001b[1m0s\u001b[0m 5ms/step - accuracy: 0.5207 - loss: 1.1669 - val_accuracy: 0.6005 - val_loss: 1.0562\n",
      "Epoch 31/100\n",
      "\u001b[1m30/30\u001b[0m \u001b[32m━━━━━━━━━━━━━━━━━━━━\u001b[0m\u001b[37m\u001b[0m \u001b[1m0s\u001b[0m 4ms/step - accuracy: 0.5220 - loss: 1.1889 - val_accuracy: 0.6005 - val_loss: 1.0522\n",
      "Epoch 32/100\n",
      "\u001b[1m30/30\u001b[0m \u001b[32m━━━━━━━━━━━━━━━━━━━━\u001b[0m\u001b[37m\u001b[0m \u001b[1m0s\u001b[0m 5ms/step - accuracy: 0.5236 - loss: 1.1812 - val_accuracy: 0.5956 - val_loss: 1.0528\n",
      "Epoch 33/100\n",
      "\u001b[1m30/30\u001b[0m \u001b[32m━━━━━━━━━━━━━━━━━━━━\u001b[0m\u001b[37m\u001b[0m \u001b[1m0s\u001b[0m 4ms/step - accuracy: 0.5392 - loss: 1.0909 - val_accuracy: 0.5907 - val_loss: 1.0506\n",
      "Epoch 34/100\n",
      "\u001b[1m30/30\u001b[0m \u001b[32m━━━━━━━━━━━━━━━━━━━━\u001b[0m\u001b[37m\u001b[0m \u001b[1m0s\u001b[0m 6ms/step - accuracy: 0.5605 - loss: 1.1438 - val_accuracy: 0.5980 - val_loss: 1.0472\n",
      "Epoch 35/100\n",
      "\u001b[1m30/30\u001b[0m \u001b[32m━━━━━━━━━━━━━━━━━━━━\u001b[0m\u001b[37m\u001b[0m \u001b[1m0s\u001b[0m 5ms/step - accuracy: 0.5100 - loss: 1.1649 - val_accuracy: 0.6029 - val_loss: 1.0426\n",
      "Epoch 36/100\n",
      "\u001b[1m30/30\u001b[0m \u001b[32m━━━━━━━━━━━━━━━━━━━━\u001b[0m\u001b[37m\u001b[0m \u001b[1m0s\u001b[0m 4ms/step - accuracy: 0.5901 - loss: 1.0936 - val_accuracy: 0.6078 - val_loss: 1.0377\n",
      "Epoch 37/100\n",
      "\u001b[1m30/30\u001b[0m \u001b[32m━━━━━━━━━━━━━━━━━━━━\u001b[0m\u001b[37m\u001b[0m \u001b[1m0s\u001b[0m 5ms/step - accuracy: 0.5300 - loss: 1.1699 - val_accuracy: 0.6078 - val_loss: 1.0338\n",
      "Epoch 38/100\n",
      "\u001b[1m30/30\u001b[0m \u001b[32m━━━━━━━━━━━━━━━━━━━━\u001b[0m\u001b[37m\u001b[0m \u001b[1m0s\u001b[0m 4ms/step - accuracy: 0.5560 - loss: 1.1472 - val_accuracy: 0.6103 - val_loss: 1.0313\n",
      "Epoch 39/100\n",
      "\u001b[1m30/30\u001b[0m \u001b[32m━━━━━━━━━━━━━━━━━━━━\u001b[0m\u001b[37m\u001b[0m \u001b[1m0s\u001b[0m 6ms/step - accuracy: 0.5522 - loss: 1.1157 - val_accuracy: 0.6054 - val_loss: 1.0306\n",
      "Epoch 40/100\n",
      "\u001b[1m30/30\u001b[0m \u001b[32m━━━━━━━━━━━━━━━━━━━━\u001b[0m\u001b[37m\u001b[0m \u001b[1m0s\u001b[0m 4ms/step - accuracy: 0.5752 - loss: 1.0842 - val_accuracy: 0.5956 - val_loss: 1.0274\n",
      "Epoch 41/100\n",
      "\u001b[1m30/30\u001b[0m \u001b[32m━━━━━━━━━━━━━━━━━━━━\u001b[0m\u001b[37m\u001b[0m \u001b[1m0s\u001b[0m 4ms/step - accuracy: 0.5622 - loss: 1.1777 - val_accuracy: 0.6029 - val_loss: 1.0275\n",
      "Epoch 42/100\n",
      "\u001b[1m30/30\u001b[0m \u001b[32m━━━━━━━━━━━━━━━━━━━━\u001b[0m\u001b[37m\u001b[0m \u001b[1m0s\u001b[0m 4ms/step - accuracy: 0.5724 - loss: 1.1199 - val_accuracy: 0.6127 - val_loss: 1.0264\n",
      "Epoch 43/100\n",
      "\u001b[1m30/30\u001b[0m \u001b[32m━━━━━━━━━━━━━━━━━━━━\u001b[0m\u001b[37m\u001b[0m \u001b[1m0s\u001b[0m 5ms/step - accuracy: 0.5441 - loss: 1.1248 - val_accuracy: 0.6054 - val_loss: 1.0266\n",
      "Epoch 44/100\n",
      "\u001b[1m30/30\u001b[0m \u001b[32m━━━━━━━━━━━━━━━━━━━━\u001b[0m\u001b[37m\u001b[0m \u001b[1m0s\u001b[0m 4ms/step - accuracy: 0.6164 - loss: 1.0489 - val_accuracy: 0.6103 - val_loss: 1.0226\n",
      "Epoch 45/100\n",
      "\u001b[1m30/30\u001b[0m \u001b[32m━━━━━━━━━━━━━━━━━━━━\u001b[0m\u001b[37m\u001b[0m \u001b[1m0s\u001b[0m 5ms/step - accuracy: 0.5737 - loss: 1.1029 - val_accuracy: 0.6005 - val_loss: 1.0201\n",
      "Epoch 46/100\n",
      "\u001b[1m30/30\u001b[0m \u001b[32m━━━━━━━━━━━━━━━━━━━━\u001b[0m\u001b[37m\u001b[0m \u001b[1m0s\u001b[0m 4ms/step - accuracy: 0.5794 - loss: 1.0630 - val_accuracy: 0.6054 - val_loss: 1.0206\n",
      "Epoch 47/100\n",
      "\u001b[1m30/30\u001b[0m \u001b[32m━━━━━━━━━━━━━━━━━━━━\u001b[0m\u001b[37m\u001b[0m \u001b[1m0s\u001b[0m 5ms/step - accuracy: 0.5623 - loss: 1.0909 - val_accuracy: 0.6078 - val_loss: 1.0182\n",
      "Epoch 48/100\n",
      "\u001b[1m30/30\u001b[0m \u001b[32m━━━━━━━━━━━━━━━━━━━━\u001b[0m\u001b[37m\u001b[0m \u001b[1m0s\u001b[0m 4ms/step - accuracy: 0.5516 - loss: 1.1303 - val_accuracy: 0.6127 - val_loss: 1.0155\n",
      "Epoch 49/100\n",
      "\u001b[1m30/30\u001b[0m \u001b[32m━━━━━━━━━━━━━━━━━━━━\u001b[0m\u001b[37m\u001b[0m \u001b[1m0s\u001b[0m 4ms/step - accuracy: 0.5520 - loss: 1.1118 - val_accuracy: 0.6152 - val_loss: 1.0130\n",
      "Epoch 50/100\n",
      "\u001b[1m30/30\u001b[0m \u001b[32m━━━━━━━━━━━━━━━━━━━━\u001b[0m\u001b[37m\u001b[0m \u001b[1m0s\u001b[0m 7ms/step - accuracy: 0.5407 - loss: 1.1648 - val_accuracy: 0.6152 - val_loss: 1.0110\n",
      "Epoch 51/100\n",
      "\u001b[1m30/30\u001b[0m \u001b[32m━━━━━━━━━━━━━━━━━━━━\u001b[0m\u001b[37m\u001b[0m \u001b[1m0s\u001b[0m 7ms/step - accuracy: 0.5466 - loss: 1.0951 - val_accuracy: 0.6152 - val_loss: 1.0087\n",
      "Epoch 52/100\n",
      "\u001b[1m30/30\u001b[0m \u001b[32m━━━━━━━━━━━━━━━━━━━━\u001b[0m\u001b[37m\u001b[0m \u001b[1m0s\u001b[0m 6ms/step - accuracy: 0.6008 - loss: 1.0881 - val_accuracy: 0.6127 - val_loss: 1.0071\n",
      "Epoch 53/100\n",
      "\u001b[1m30/30\u001b[0m \u001b[32m━━━━━━━━━━━━━━━━━━━━\u001b[0m\u001b[37m\u001b[0m \u001b[1m0s\u001b[0m 8ms/step - accuracy: 0.6005 - loss: 1.0644 - val_accuracy: 0.6176 - val_loss: 1.0071\n",
      "Epoch 54/100\n",
      "\u001b[1m30/30\u001b[0m \u001b[32m━━━━━━━━━━━━━━━━━━━━\u001b[0m\u001b[37m\u001b[0m \u001b[1m0s\u001b[0m 8ms/step - accuracy: 0.5554 - loss: 1.1084 - val_accuracy: 0.6225 - val_loss: 1.0051\n",
      "Epoch 55/100\n",
      "\u001b[1m30/30\u001b[0m \u001b[32m━━━━━━━━━━━━━━━━━━━━\u001b[0m\u001b[37m\u001b[0m \u001b[1m0s\u001b[0m 8ms/step - accuracy: 0.5859 - loss: 1.1044 - val_accuracy: 0.6250 - val_loss: 1.0046\n",
      "Epoch 56/100\n",
      "\u001b[1m30/30\u001b[0m \u001b[32m━━━━━━━━━━━━━━━━━━━━\u001b[0m\u001b[37m\u001b[0m \u001b[1m0s\u001b[0m 8ms/step - accuracy: 0.5798 - loss: 1.0500 - val_accuracy: 0.6225 - val_loss: 1.0043\n",
      "Epoch 57/100\n",
      "\u001b[1m30/30\u001b[0m \u001b[32m━━━━━━━━━━━━━━━━━━━━\u001b[0m\u001b[37m\u001b[0m \u001b[1m0s\u001b[0m 8ms/step - accuracy: 0.5284 - loss: 1.1214 - val_accuracy: 0.6152 - val_loss: 1.0022\n",
      "Epoch 58/100\n",
      "\u001b[1m30/30\u001b[0m \u001b[32m━━━━━━━━━━━━━━━━━━━━\u001b[0m\u001b[37m\u001b[0m \u001b[1m0s\u001b[0m 8ms/step - accuracy: 0.5649 - loss: 1.0650 - val_accuracy: 0.6225 - val_loss: 1.0013\n",
      "Epoch 59/100\n",
      "\u001b[1m30/30\u001b[0m \u001b[32m━━━━━━━━━━━━━━━━━━━━\u001b[0m\u001b[37m\u001b[0m \u001b[1m0s\u001b[0m 8ms/step - accuracy: 0.5619 - loss: 1.0981 - val_accuracy: 0.6225 - val_loss: 0.9987\n",
      "Epoch 60/100\n",
      "\u001b[1m30/30\u001b[0m \u001b[32m━━━━━━━━━━━━━━━━━━━━\u001b[0m\u001b[37m\u001b[0m \u001b[1m0s\u001b[0m 8ms/step - accuracy: 0.5640 - loss: 1.1159 - val_accuracy: 0.6225 - val_loss: 1.0005\n",
      "Epoch 61/100\n",
      "\u001b[1m30/30\u001b[0m \u001b[32m━━━━━━━━━━━━━━━━━━━━\u001b[0m\u001b[37m\u001b[0m \u001b[1m0s\u001b[0m 8ms/step - accuracy: 0.5774 - loss: 1.0752 - val_accuracy: 0.6201 - val_loss: 0.9977\n",
      "Epoch 62/100\n",
      "\u001b[1m30/30\u001b[0m \u001b[32m━━━━━━━━━━━━━━━━━━━━\u001b[0m\u001b[37m\u001b[0m \u001b[1m0s\u001b[0m 8ms/step - accuracy: 0.5954 - loss: 1.0521 - val_accuracy: 0.6176 - val_loss: 0.9958\n",
      "Epoch 63/100\n",
      "\u001b[1m30/30\u001b[0m \u001b[32m━━━━━━━━━━━━━━━━━━━━\u001b[0m\u001b[37m\u001b[0m \u001b[1m0s\u001b[0m 7ms/step - accuracy: 0.5802 - loss: 1.0593 - val_accuracy: 0.6152 - val_loss: 0.9943\n",
      "Epoch 64/100\n",
      "\u001b[1m30/30\u001b[0m \u001b[32m━━━━━━━━━━━━━━━━━━━━\u001b[0m\u001b[37m\u001b[0m \u001b[1m0s\u001b[0m 4ms/step - accuracy: 0.6009 - loss: 1.0230 - val_accuracy: 0.6152 - val_loss: 0.9923\n",
      "Epoch 65/100\n",
      "\u001b[1m30/30\u001b[0m \u001b[32m━━━━━━━━━━━━━━━━━━━━\u001b[0m\u001b[37m\u001b[0m \u001b[1m0s\u001b[0m 5ms/step - accuracy: 0.5711 - loss: 1.0976 - val_accuracy: 0.6225 - val_loss: 0.9914\n",
      "Epoch 66/100\n",
      "\u001b[1m30/30\u001b[0m \u001b[32m━━━━━━━━━━━━━━━━━━━━\u001b[0m\u001b[37m\u001b[0m \u001b[1m0s\u001b[0m 4ms/step - accuracy: 0.5875 - loss: 1.0582 - val_accuracy: 0.6250 - val_loss: 0.9912\n",
      "Epoch 67/100\n",
      "\u001b[1m30/30\u001b[0m \u001b[32m━━━━━━━━━━━━━━━━━━━━\u001b[0m\u001b[37m\u001b[0m \u001b[1m0s\u001b[0m 6ms/step - accuracy: 0.5725 - loss: 1.0537 - val_accuracy: 0.6225 - val_loss: 0.9898\n",
      "Epoch 68/100\n",
      "\u001b[1m30/30\u001b[0m \u001b[32m━━━━━━━━━━━━━━━━━━━━\u001b[0m\u001b[37m\u001b[0m \u001b[1m0s\u001b[0m 4ms/step - accuracy: 0.5693 - loss: 1.0826 - val_accuracy: 0.6152 - val_loss: 0.9867\n",
      "Epoch 69/100\n",
      "\u001b[1m30/30\u001b[0m \u001b[32m━━━━━━━━━━━━━━━━━━━━\u001b[0m\u001b[37m\u001b[0m \u001b[1m0s\u001b[0m 5ms/step - accuracy: 0.5863 - loss: 1.0388 - val_accuracy: 0.6250 - val_loss: 0.9846\n",
      "Epoch 70/100\n",
      "\u001b[1m30/30\u001b[0m \u001b[32m━━━━━━━━━━━━━━━━━━━━\u001b[0m\u001b[37m\u001b[0m \u001b[1m0s\u001b[0m 5ms/step - accuracy: 0.5892 - loss: 1.0404 - val_accuracy: 0.6176 - val_loss: 0.9863\n",
      "Epoch 71/100\n",
      "\u001b[1m30/30\u001b[0m \u001b[32m━━━━━━━━━━━━━━━━━━━━\u001b[0m\u001b[37m\u001b[0m \u001b[1m0s\u001b[0m 4ms/step - accuracy: 0.6208 - loss: 1.0296 - val_accuracy: 0.6176 - val_loss: 0.9843\n",
      "Epoch 72/100\n",
      "\u001b[1m30/30\u001b[0m \u001b[32m━━━━━━━━━━━━━━━━━━━━\u001b[0m\u001b[37m\u001b[0m \u001b[1m0s\u001b[0m 6ms/step - accuracy: 0.5569 - loss: 1.0540 - val_accuracy: 0.6152 - val_loss: 0.9822\n",
      "Epoch 73/100\n",
      "\u001b[1m30/30\u001b[0m \u001b[32m━━━━━━━━━━━━━━━━━━━━\u001b[0m\u001b[37m\u001b[0m \u001b[1m0s\u001b[0m 5ms/step - accuracy: 0.5712 - loss: 1.0638 - val_accuracy: 0.6176 - val_loss: 0.9829\n",
      "Epoch 74/100\n",
      "\u001b[1m30/30\u001b[0m \u001b[32m━━━━━━━━━━━━━━━━━━━━\u001b[0m\u001b[37m\u001b[0m \u001b[1m0s\u001b[0m 5ms/step - accuracy: 0.5458 - loss: 1.0765 - val_accuracy: 0.6201 - val_loss: 0.9827\n",
      "Epoch 75/100\n",
      "\u001b[1m30/30\u001b[0m \u001b[32m━━━━━━━━━━━━━━━━━━━━\u001b[0m\u001b[37m\u001b[0m \u001b[1m0s\u001b[0m 4ms/step - accuracy: 0.6040 - loss: 1.0438 - val_accuracy: 0.6103 - val_loss: 0.9834\n",
      "Epoch 76/100\n",
      "\u001b[1m30/30\u001b[0m \u001b[32m━━━━━━━━━━━━━━━━━━━━\u001b[0m\u001b[37m\u001b[0m \u001b[1m0s\u001b[0m 4ms/step - accuracy: 0.5695 - loss: 1.0589 - val_accuracy: 0.6054 - val_loss: 0.9818\n",
      "Epoch 77/100\n",
      "\u001b[1m30/30\u001b[0m \u001b[32m━━━━━━━━━━━━━━━━━━━━\u001b[0m\u001b[37m\u001b[0m \u001b[1m0s\u001b[0m 4ms/step - accuracy: 0.5839 - loss: 1.0626 - val_accuracy: 0.6176 - val_loss: 0.9791\n",
      "Epoch 78/100\n",
      "\u001b[1m30/30\u001b[0m \u001b[32m━━━━━━━━━━━━━━━━━━━━\u001b[0m\u001b[37m\u001b[0m \u001b[1m0s\u001b[0m 5ms/step - accuracy: 0.6214 - loss: 0.9707 - val_accuracy: 0.6176 - val_loss: 0.9750\n",
      "Epoch 79/100\n",
      "\u001b[1m30/30\u001b[0m \u001b[32m━━━━━━━━━━━━━━━━━━━━\u001b[0m\u001b[37m\u001b[0m \u001b[1m0s\u001b[0m 5ms/step - accuracy: 0.5999 - loss: 1.0375 - val_accuracy: 0.6103 - val_loss: 0.9730\n",
      "Epoch 80/100\n",
      "\u001b[1m30/30\u001b[0m \u001b[32m━━━━━━━━━━━━━━━━━━━━\u001b[0m\u001b[37m\u001b[0m \u001b[1m0s\u001b[0m 6ms/step - accuracy: 0.5959 - loss: 1.0087 - val_accuracy: 0.6103 - val_loss: 0.9708\n",
      "Epoch 81/100\n",
      "\u001b[1m30/30\u001b[0m \u001b[32m━━━━━━━━━━━━━━━━━━━━\u001b[0m\u001b[37m\u001b[0m \u001b[1m0s\u001b[0m 4ms/step - accuracy: 0.6288 - loss: 1.0288 - val_accuracy: 0.6176 - val_loss: 0.9721\n",
      "Epoch 82/100\n",
      "\u001b[1m30/30\u001b[0m \u001b[32m━━━━━━━━━━━━━━━━━━━━\u001b[0m\u001b[37m\u001b[0m \u001b[1m0s\u001b[0m 4ms/step - accuracy: 0.6034 - loss: 1.0275 - val_accuracy: 0.6103 - val_loss: 0.9729\n",
      "Epoch 83/100\n",
      "\u001b[1m30/30\u001b[0m \u001b[32m━━━━━━━━━━━━━━━━━━━━\u001b[0m\u001b[37m\u001b[0m \u001b[1m0s\u001b[0m 4ms/step - accuracy: 0.6170 - loss: 1.0162 - val_accuracy: 0.6176 - val_loss: 0.9735\n",
      "Epoch 84/100\n",
      "\u001b[1m30/30\u001b[0m \u001b[32m━━━━━━━━━━━━━━━━━━━━\u001b[0m\u001b[37m\u001b[0m \u001b[1m0s\u001b[0m 5ms/step - accuracy: 0.5886 - loss: 1.0181 - val_accuracy: 0.6054 - val_loss: 0.9702\n",
      "Epoch 85/100\n",
      "\u001b[1m30/30\u001b[0m \u001b[32m━━━━━━━━━━━━━━━━━━━━\u001b[0m\u001b[37m\u001b[0m \u001b[1m0s\u001b[0m 4ms/step - accuracy: 0.6020 - loss: 1.0048 - val_accuracy: 0.6103 - val_loss: 0.9698\n",
      "Epoch 86/100\n",
      "\u001b[1m30/30\u001b[0m \u001b[32m━━━━━━━━━━━━━━━━━━━━\u001b[0m\u001b[37m\u001b[0m \u001b[1m0s\u001b[0m 4ms/step - accuracy: 0.5927 - loss: 0.9966 - val_accuracy: 0.6152 - val_loss: 0.9703\n",
      "Epoch 87/100\n",
      "\u001b[1m30/30\u001b[0m \u001b[32m━━━━━━━━━━━━━━━━━━━━\u001b[0m\u001b[37m\u001b[0m \u001b[1m0s\u001b[0m 4ms/step - accuracy: 0.5934 - loss: 1.0269 - val_accuracy: 0.5956 - val_loss: 0.9699\n",
      "Epoch 88/100\n",
      "\u001b[1m30/30\u001b[0m \u001b[32m━━━━━━━━━━━━━━━━━━━━\u001b[0m\u001b[37m\u001b[0m \u001b[1m0s\u001b[0m 5ms/step - accuracy: 0.6005 - loss: 1.0442 - val_accuracy: 0.6029 - val_loss: 0.9693\n",
      "Epoch 89/100\n",
      "\u001b[1m30/30\u001b[0m \u001b[32m━━━━━━━━━━━━━━━━━━━━\u001b[0m\u001b[37m\u001b[0m \u001b[1m0s\u001b[0m 5ms/step - accuracy: 0.5848 - loss: 1.0312 - val_accuracy: 0.6054 - val_loss: 0.9744\n",
      "Epoch 90/100\n",
      "\u001b[1m30/30\u001b[0m \u001b[32m━━━━━━━━━━━━━━━━━━━━\u001b[0m\u001b[37m\u001b[0m \u001b[1m0s\u001b[0m 5ms/step - accuracy: 0.5995 - loss: 1.0150 - val_accuracy: 0.5980 - val_loss: 0.9736\n",
      "Epoch 91/100\n",
      "\u001b[1m30/30\u001b[0m \u001b[32m━━━━━━━━━━━━━━━━━━━━\u001b[0m\u001b[37m\u001b[0m \u001b[1m0s\u001b[0m 4ms/step - accuracy: 0.5587 - loss: 1.0329 - val_accuracy: 0.6029 - val_loss: 0.9710\n",
      "Epoch 92/100\n",
      "\u001b[1m30/30\u001b[0m \u001b[32m━━━━━━━━━━━━━━━━━━━━\u001b[0m\u001b[37m\u001b[0m \u001b[1m0s\u001b[0m 4ms/step - accuracy: 0.5873 - loss: 1.0426 - val_accuracy: 0.6054 - val_loss: 0.9735\n",
      "Epoch 93/100\n",
      "\u001b[1m30/30\u001b[0m \u001b[32m━━━━━━━━━━━━━━━━━━━━\u001b[0m\u001b[37m\u001b[0m \u001b[1m0s\u001b[0m 4ms/step - accuracy: 0.5939 - loss: 1.0117 - val_accuracy: 0.6054 - val_loss: 0.9721\n",
      "Epoch 94/100\n",
      "\u001b[1m30/30\u001b[0m \u001b[32m━━━━━━━━━━━━━━━━━━━━\u001b[0m\u001b[37m\u001b[0m \u001b[1m0s\u001b[0m 5ms/step - accuracy: 0.5900 - loss: 1.0060 - val_accuracy: 0.6054 - val_loss: 0.9715\n",
      "Epoch 95/100\n",
      "\u001b[1m30/30\u001b[0m \u001b[32m━━━━━━━━━━━━━━━━━━━━\u001b[0m\u001b[37m\u001b[0m \u001b[1m0s\u001b[0m 4ms/step - accuracy: 0.6138 - loss: 0.9694 - val_accuracy: 0.6078 - val_loss: 0.9670\n",
      "Epoch 96/100\n",
      "\u001b[1m30/30\u001b[0m \u001b[32m━━━━━━━━━━━━━━━━━━━━\u001b[0m\u001b[37m\u001b[0m \u001b[1m0s\u001b[0m 5ms/step - accuracy: 0.5910 - loss: 1.0049 - val_accuracy: 0.6152 - val_loss: 0.9671\n",
      "Epoch 97/100\n",
      "\u001b[1m30/30\u001b[0m \u001b[32m━━━━━━━━━━━━━━━━━━━━\u001b[0m\u001b[37m\u001b[0m \u001b[1m0s\u001b[0m 4ms/step - accuracy: 0.5938 - loss: 1.0194 - val_accuracy: 0.5980 - val_loss: 0.9688\n",
      "Epoch 98/100\n",
      "\u001b[1m30/30\u001b[0m \u001b[32m━━━━━━━━━━━━━━━━━━━━\u001b[0m\u001b[37m\u001b[0m \u001b[1m0s\u001b[0m 5ms/step - accuracy: 0.6018 - loss: 0.9957 - val_accuracy: 0.5980 - val_loss: 0.9718\n",
      "Epoch 99/100\n",
      "\u001b[1m30/30\u001b[0m \u001b[32m━━━━━━━━━━━━━━━━━━━━\u001b[0m\u001b[37m\u001b[0m \u001b[1m0s\u001b[0m 4ms/step - accuracy: 0.5890 - loss: 1.0420 - val_accuracy: 0.5956 - val_loss: 0.9687\n",
      "Epoch 100/100\n",
      "\u001b[1m30/30\u001b[0m \u001b[32m━━━━━━━━━━━━━━━━━━━━\u001b[0m\u001b[37m\u001b[0m \u001b[1m0s\u001b[0m 4ms/step - accuracy: 0.6104 - loss: 0.9759 - val_accuracy: 0.6054 - val_loss: 0.9648\n",
      "\u001b[1m13/13\u001b[0m \u001b[32m━━━━━━━━━━━━━━━━━━━━\u001b[0m\u001b[37m\u001b[0m \u001b[1m0s\u001b[0m 2ms/step - accuracy: 0.6410 - loss: 0.9202 \n",
      "Test Accuracy: 0.6053921580314636\n"
     ]
    }
   ],
   "source": [
    "# Define the model architecture\n",
    "model_try_3 = models.Sequential()\n",
    "\n",
    "# First hidden layer\n",
    "model_try_3.add(layers.Dense(64, activation='relu', input_shape=(X_train_scaled.shape[1],),\n",
    "                           kernel_regularizer=regularizers.l2(0.001)))\n",
    "model_try_3.add(layers.Dropout(0.4))\n",
    "model_try_3.add(layers.BatchNormalization())\n",
    "\n",
    "# Second hidden layer\n",
    "model_try_3.add(layers.Dense(32, activation='relu', kernel_regularizer=regularizers.l2(0.001)))\n",
    "model_try_3.add(layers.Dropout(0.4))\n",
    "model_try_3.add(layers.BatchNormalization())\n",
    "\n",
    "# Third hidden layer\n",
    "model_try_3.add(layers.Dense(16, activation='relu', kernel_regularizer=regularizers.l2(0.001)))\n",
    "model_try_3.add(layers.Dropout(0.4))\n",
    "model_try_3.add(layers.BatchNormalization())\n",
    "\n",
    "# Output layer\n",
    "model_try_3.add(layers.Dense(6, activation='softmax'))\n",
    "\n",
    "# Compile the model\n",
    "optimizer = optimizers.Adam(learning_rate=0.001)\n",
    "model_try_3.compile(loss=\"categorical_crossentropy\", metrics=[\"accuracy\"], optimizer=optimizer)\n",
    "\n",
    "# Define early stopping\n",
    "early_stopping = EarlyStopping(monitor='val_loss', patience=10)\n",
    "\n",
    "# Train the model\n",
    "history_try_3 = model_try_3.fit(x=X_train_scaled, y=Y_train_encoded,\n",
    "                            batch_size=32, epochs=100,\n",
    "                            validation_data=(X_test_scaled, Y_test_encoded),\n",
    "                            callbacks=[early_stopping])\n",
    "results_try_3 = model_try_3.evaluate(X_test_scaled, Y_test_encoded)\n",
    "print(f\"Test Accuracy: {results_try_3[1]}\")"
   ]
  },
  {
   "cell_type": "code",
   "execution_count": 27,
   "metadata": {
    "colab": {
     "base_uri": "https://localhost:8080/"
    },
    "executionInfo": {
     "elapsed": 21774,
     "status": "ok",
     "timestamp": 1725774339907,
     "user": {
      "displayName": "Jannet Akanksha Ekka",
      "userId": "04295694532301703575"
     },
     "user_tz": -330
    },
    "id": "CYBsl3Ef7j2x",
    "outputId": "4bb309c4-be7b-46fd-a1b3-b481123b1163"
   },
   "outputs": [
    {
     "name": "stdout",
     "output_type": "stream",
     "text": [
      "Epoch 1/100\n",
      "\u001b[1m30/30\u001b[0m \u001b[32m━━━━━━━━━━━━━━━━━━━━\u001b[0m\u001b[37m\u001b[0m \u001b[1m4s\u001b[0m 21ms/step - accuracy: 0.1695 - loss: 2.3818 - val_accuracy: 0.4853 - val_loss: 1.6852 - learning_rate: 0.0010\n",
      "Epoch 2/100\n",
      "\u001b[1m30/30\u001b[0m \u001b[32m━━━━━━━━━━━━━━━━━━━━\u001b[0m\u001b[37m\u001b[0m \u001b[1m0s\u001b[0m 8ms/step - accuracy: 0.2426 - loss: 2.0864 - val_accuracy: 0.5270 - val_loss: 1.5761 - learning_rate: 0.0010\n",
      "Epoch 3/100\n",
      "\u001b[1m30/30\u001b[0m \u001b[32m━━━━━━━━━━━━━━━━━━━━\u001b[0m\u001b[37m\u001b[0m \u001b[1m0s\u001b[0m 8ms/step - accuracy: 0.3330 - loss: 1.8518 - val_accuracy: 0.5466 - val_loss: 1.4925 - learning_rate: 0.0010\n",
      "Epoch 4/100\n",
      "\u001b[1m30/30\u001b[0m \u001b[32m━━━━━━━━━━━━━━━━━━━━\u001b[0m\u001b[37m\u001b[0m \u001b[1m0s\u001b[0m 8ms/step - accuracy: 0.3902 - loss: 1.7073 - val_accuracy: 0.5515 - val_loss: 1.4288 - learning_rate: 0.0010\n",
      "Epoch 5/100\n",
      "\u001b[1m30/30\u001b[0m \u001b[32m━━━━━━━━━━━━━━━━━━━━\u001b[0m\u001b[37m\u001b[0m \u001b[1m0s\u001b[0m 8ms/step - accuracy: 0.4055 - loss: 1.6490 - val_accuracy: 0.5588 - val_loss: 1.3764 - learning_rate: 0.0010\n",
      "Epoch 6/100\n",
      "\u001b[1m30/30\u001b[0m \u001b[32m━━━━━━━━━━━━━━━━━━━━\u001b[0m\u001b[37m\u001b[0m \u001b[1m0s\u001b[0m 7ms/step - accuracy: 0.4384 - loss: 1.5871 - val_accuracy: 0.5686 - val_loss: 1.3253 - learning_rate: 0.0010\n",
      "Epoch 7/100\n",
      "\u001b[1m30/30\u001b[0m \u001b[32m━━━━━━━━━━━━━━━━━━━━\u001b[0m\u001b[37m\u001b[0m \u001b[1m0s\u001b[0m 6ms/step - accuracy: 0.4843 - loss: 1.4982 - val_accuracy: 0.5882 - val_loss: 1.2865 - learning_rate: 0.0010\n",
      "Epoch 8/100\n",
      "\u001b[1m30/30\u001b[0m \u001b[32m━━━━━━━━━━━━━━━━━━━━\u001b[0m\u001b[37m\u001b[0m \u001b[1m0s\u001b[0m 4ms/step - accuracy: 0.4977 - loss: 1.4627 - val_accuracy: 0.5907 - val_loss: 1.2447 - learning_rate: 0.0010\n",
      "Epoch 9/100\n",
      "\u001b[1m30/30\u001b[0m \u001b[32m━━━━━━━━━━━━━━━━━━━━\u001b[0m\u001b[37m\u001b[0m \u001b[1m0s\u001b[0m 5ms/step - accuracy: 0.5282 - loss: 1.3812 - val_accuracy: 0.5907 - val_loss: 1.2124 - learning_rate: 0.0010\n",
      "Epoch 10/100\n",
      "\u001b[1m30/30\u001b[0m \u001b[32m━━━━━━━━━━━━━━━━━━━━\u001b[0m\u001b[37m\u001b[0m \u001b[1m0s\u001b[0m 4ms/step - accuracy: 0.5476 - loss: 1.3308 - val_accuracy: 0.5907 - val_loss: 1.1724 - learning_rate: 0.0010\n",
      "Epoch 11/100\n",
      "\u001b[1m30/30\u001b[0m \u001b[32m━━━━━━━━━━━━━━━━━━━━\u001b[0m\u001b[37m\u001b[0m \u001b[1m0s\u001b[0m 4ms/step - accuracy: 0.5471 - loss: 1.3326 - val_accuracy: 0.5956 - val_loss: 1.1444 - learning_rate: 0.0010\n",
      "Epoch 12/100\n",
      "\u001b[1m30/30\u001b[0m \u001b[32m━━━━━━━━━━━━━━━━━━━━\u001b[0m\u001b[37m\u001b[0m \u001b[1m0s\u001b[0m 4ms/step - accuracy: 0.5298 - loss: 1.3723 - val_accuracy: 0.5931 - val_loss: 1.1208 - learning_rate: 0.0010\n",
      "Epoch 13/100\n",
      "\u001b[1m30/30\u001b[0m \u001b[32m━━━━━━━━━━━━━━━━━━━━\u001b[0m\u001b[37m\u001b[0m \u001b[1m0s\u001b[0m 5ms/step - accuracy: 0.5336 - loss: 1.3171 - val_accuracy: 0.6029 - val_loss: 1.0995 - learning_rate: 0.0010\n",
      "Epoch 14/100\n",
      "\u001b[1m30/30\u001b[0m \u001b[32m━━━━━━━━━━━━━━━━━━━━\u001b[0m\u001b[37m\u001b[0m \u001b[1m0s\u001b[0m 6ms/step - accuracy: 0.5591 - loss: 1.2520 - val_accuracy: 0.6127 - val_loss: 1.0810 - learning_rate: 0.0010\n",
      "Epoch 15/100\n",
      "\u001b[1m30/30\u001b[0m \u001b[32m━━━━━━━━━━━━━━━━━━━━\u001b[0m\u001b[37m\u001b[0m \u001b[1m0s\u001b[0m 4ms/step - accuracy: 0.5613 - loss: 1.2196 - val_accuracy: 0.6127 - val_loss: 1.0654 - learning_rate: 0.0010\n",
      "Epoch 16/100\n",
      "\u001b[1m30/30\u001b[0m \u001b[32m━━━━━━━━━━━━━━━━━━━━\u001b[0m\u001b[37m\u001b[0m \u001b[1m0s\u001b[0m 4ms/step - accuracy: 0.5755 - loss: 1.1830 - val_accuracy: 0.6103 - val_loss: 1.0519 - learning_rate: 0.0010\n",
      "Epoch 17/100\n",
      "\u001b[1m30/30\u001b[0m \u001b[32m━━━━━━━━━━━━━━━━━━━━\u001b[0m\u001b[37m\u001b[0m \u001b[1m0s\u001b[0m 4ms/step - accuracy: 0.5365 - loss: 1.2430 - val_accuracy: 0.6152 - val_loss: 1.0436 - learning_rate: 0.0010\n",
      "Epoch 18/100\n",
      "\u001b[1m30/30\u001b[0m \u001b[32m━━━━━━━━━━━━━━━━━━━━\u001b[0m\u001b[37m\u001b[0m \u001b[1m0s\u001b[0m 5ms/step - accuracy: 0.5573 - loss: 1.2183 - val_accuracy: 0.6152 - val_loss: 1.0321 - learning_rate: 0.0010\n",
      "Epoch 19/100\n",
      "\u001b[1m30/30\u001b[0m \u001b[32m━━━━━━━━━━━━━━━━━━━━\u001b[0m\u001b[37m\u001b[0m \u001b[1m0s\u001b[0m 4ms/step - accuracy: 0.5639 - loss: 1.1595 - val_accuracy: 0.6176 - val_loss: 1.0263 - learning_rate: 0.0010\n",
      "Epoch 20/100\n",
      "\u001b[1m30/30\u001b[0m \u001b[32m━━━━━━━━━━━━━━━━━━━━\u001b[0m\u001b[37m\u001b[0m \u001b[1m0s\u001b[0m 4ms/step - accuracy: 0.5797 - loss: 1.1438 - val_accuracy: 0.6152 - val_loss: 1.0197 - learning_rate: 0.0010\n",
      "Epoch 21/100\n",
      "\u001b[1m30/30\u001b[0m \u001b[32m━━━━━━━━━━━━━━━━━━━━\u001b[0m\u001b[37m\u001b[0m \u001b[1m0s\u001b[0m 4ms/step - accuracy: 0.5591 - loss: 1.1291 - val_accuracy: 0.6176 - val_loss: 1.0133 - learning_rate: 0.0010\n",
      "Epoch 22/100\n",
      "\u001b[1m30/30\u001b[0m \u001b[32m━━━━━━━━━━━━━━━━━━━━\u001b[0m\u001b[37m\u001b[0m \u001b[1m0s\u001b[0m 7ms/step - accuracy: 0.5899 - loss: 1.1352 - val_accuracy: 0.6201 - val_loss: 1.0104 - learning_rate: 0.0010\n",
      "Epoch 23/100\n",
      "\u001b[1m30/30\u001b[0m \u001b[32m━━━━━━━━━━━━━━━━━━━━\u001b[0m\u001b[37m\u001b[0m \u001b[1m0s\u001b[0m 4ms/step - accuracy: 0.5589 - loss: 1.1554 - val_accuracy: 0.6225 - val_loss: 1.0065 - learning_rate: 0.0010\n",
      "Epoch 24/100\n",
      "\u001b[1m30/30\u001b[0m \u001b[32m━━━━━━━━━━━━━━━━━━━━\u001b[0m\u001b[37m\u001b[0m \u001b[1m0s\u001b[0m 4ms/step - accuracy: 0.5728 - loss: 1.1151 - val_accuracy: 0.6201 - val_loss: 1.0029 - learning_rate: 0.0010\n",
      "Epoch 25/100\n",
      "\u001b[1m30/30\u001b[0m \u001b[32m━━━━━━━━━━━━━━━━━━━━\u001b[0m\u001b[37m\u001b[0m \u001b[1m0s\u001b[0m 4ms/step - accuracy: 0.5897 - loss: 1.0894 - val_accuracy: 0.6225 - val_loss: 1.0005 - learning_rate: 0.0010\n",
      "Epoch 26/100\n",
      "\u001b[1m30/30\u001b[0m \u001b[32m━━━━━━━━━━━━━━━━━━━━\u001b[0m\u001b[37m\u001b[0m \u001b[1m0s\u001b[0m 5ms/step - accuracy: 0.5620 - loss: 1.1167 - val_accuracy: 0.6176 - val_loss: 1.0019 - learning_rate: 0.0010\n",
      "Epoch 27/100\n",
      "\u001b[1m30/30\u001b[0m \u001b[32m━━━━━━━━━━━━━━━━━━━━\u001b[0m\u001b[37m\u001b[0m \u001b[1m0s\u001b[0m 4ms/step - accuracy: 0.5400 - loss: 1.1370 - val_accuracy: 0.6176 - val_loss: 0.9976 - learning_rate: 0.0010\n",
      "Epoch 28/100\n",
      "\u001b[1m30/30\u001b[0m \u001b[32m━━━━━━━━━━━━━━━━━━━━\u001b[0m\u001b[37m\u001b[0m \u001b[1m0s\u001b[0m 4ms/step - accuracy: 0.5831 - loss: 1.1114 - val_accuracy: 0.6250 - val_loss: 0.9940 - learning_rate: 0.0010\n",
      "Epoch 29/100\n",
      "\u001b[1m30/30\u001b[0m \u001b[32m━━━━━━━━━━━━━━━━━━━━\u001b[0m\u001b[37m\u001b[0m \u001b[1m0s\u001b[0m 5ms/step - accuracy: 0.5697 - loss: 1.0766 - val_accuracy: 0.6250 - val_loss: 0.9916 - learning_rate: 0.0010\n",
      "Epoch 30/100\n",
      "\u001b[1m30/30\u001b[0m \u001b[32m━━━━━━━━━━━━━━━━━━━━\u001b[0m\u001b[37m\u001b[0m \u001b[1m0s\u001b[0m 4ms/step - accuracy: 0.5959 - loss: 1.0250 - val_accuracy: 0.6176 - val_loss: 0.9873 - learning_rate: 0.0010\n",
      "Epoch 31/100\n",
      "\u001b[1m30/30\u001b[0m \u001b[32m━━━━━━━━━━━━━━━━━━━━\u001b[0m\u001b[37m\u001b[0m \u001b[1m0s\u001b[0m 4ms/step - accuracy: 0.5643 - loss: 1.1261 - val_accuracy: 0.6225 - val_loss: 0.9886 - learning_rate: 0.0010\n",
      "Epoch 32/100\n",
      "\u001b[1m30/30\u001b[0m \u001b[32m━━━━━━━━━━━━━━━━━━━━\u001b[0m\u001b[37m\u001b[0m \u001b[1m0s\u001b[0m 4ms/step - accuracy: 0.5503 - loss: 1.1268 - val_accuracy: 0.6176 - val_loss: 0.9887 - learning_rate: 0.0010\n",
      "Epoch 33/100\n",
      "\u001b[1m30/30\u001b[0m \u001b[32m━━━━━━━━━━━━━━━━━━━━\u001b[0m\u001b[37m\u001b[0m \u001b[1m0s\u001b[0m 4ms/step - accuracy: 0.5793 - loss: 1.0874 - val_accuracy: 0.6201 - val_loss: 0.9864 - learning_rate: 0.0010\n",
      "Epoch 34/100\n",
      "\u001b[1m30/30\u001b[0m \u001b[32m━━━━━━━━━━━━━━━━━━━━\u001b[0m\u001b[37m\u001b[0m \u001b[1m0s\u001b[0m 5ms/step - accuracy: 0.5760 - loss: 1.0419 - val_accuracy: 0.6176 - val_loss: 0.9840 - learning_rate: 0.0010\n",
      "Epoch 35/100\n",
      "\u001b[1m30/30\u001b[0m \u001b[32m━━━━━━━━━━━━━━━━━━━━\u001b[0m\u001b[37m\u001b[0m \u001b[1m0s\u001b[0m 4ms/step - accuracy: 0.5378 - loss: 1.0859 - val_accuracy: 0.6225 - val_loss: 0.9838 - learning_rate: 0.0010\n",
      "Epoch 36/100\n",
      "\u001b[1m30/30\u001b[0m \u001b[32m━━━━━━━━━━━━━━━━━━━━\u001b[0m\u001b[37m\u001b[0m \u001b[1m0s\u001b[0m 4ms/step - accuracy: 0.5698 - loss: 1.0590 - val_accuracy: 0.6275 - val_loss: 0.9828 - learning_rate: 0.0010\n",
      "Epoch 37/100\n",
      "\u001b[1m30/30\u001b[0m \u001b[32m━━━━━━━━━━━━━━━━━━━━\u001b[0m\u001b[37m\u001b[0m \u001b[1m0s\u001b[0m 5ms/step - accuracy: 0.5639 - loss: 1.1097 - val_accuracy: 0.6275 - val_loss: 0.9845 - learning_rate: 0.0010\n",
      "Epoch 38/100\n",
      "\u001b[1m30/30\u001b[0m \u001b[32m━━━━━━━━━━━━━━━━━━━━\u001b[0m\u001b[37m\u001b[0m \u001b[1m0s\u001b[0m 4ms/step - accuracy: 0.5707 - loss: 1.1187 - val_accuracy: 0.6275 - val_loss: 0.9869 - learning_rate: 0.0010\n",
      "Epoch 39/100\n",
      "\u001b[1m30/30\u001b[0m \u001b[32m━━━━━━━━━━━━━━━━━━━━\u001b[0m\u001b[37m\u001b[0m \u001b[1m0s\u001b[0m 5ms/step - accuracy: 0.6187 - loss: 1.0439 - val_accuracy: 0.6250 - val_loss: 0.9838 - learning_rate: 0.0010\n",
      "Epoch 40/100\n",
      "\u001b[1m30/30\u001b[0m \u001b[32m━━━━━━━━━━━━━━━━━━━━\u001b[0m\u001b[37m\u001b[0m \u001b[1m0s\u001b[0m 4ms/step - accuracy: 0.5644 - loss: 1.0627 - val_accuracy: 0.6299 - val_loss: 0.9803 - learning_rate: 0.0010\n",
      "Epoch 41/100\n",
      "\u001b[1m30/30\u001b[0m \u001b[32m━━━━━━━━━━━━━━━━━━━━\u001b[0m\u001b[37m\u001b[0m \u001b[1m0s\u001b[0m 5ms/step - accuracy: 0.5915 - loss: 1.0487 - val_accuracy: 0.6324 - val_loss: 0.9802 - learning_rate: 0.0010\n",
      "Epoch 42/100\n",
      "\u001b[1m30/30\u001b[0m \u001b[32m━━━━━━━━━━━━━━━━━━━━\u001b[0m\u001b[37m\u001b[0m \u001b[1m0s\u001b[0m 4ms/step - accuracy: 0.5454 - loss: 1.1060 - val_accuracy: 0.6299 - val_loss: 0.9822 - learning_rate: 0.0010\n",
      "Epoch 43/100\n",
      "\u001b[1m30/30\u001b[0m \u001b[32m━━━━━━━━━━━━━━━━━━━━\u001b[0m\u001b[37m\u001b[0m \u001b[1m0s\u001b[0m 4ms/step - accuracy: 0.5824 - loss: 1.0485 - val_accuracy: 0.6324 - val_loss: 0.9803 - learning_rate: 0.0010\n",
      "Epoch 44/100\n",
      "\u001b[1m30/30\u001b[0m \u001b[32m━━━━━━━━━━━━━━━━━━━━\u001b[0m\u001b[37m\u001b[0m \u001b[1m0s\u001b[0m 4ms/step - accuracy: 0.5376 - loss: 1.0872 - val_accuracy: 0.6348 - val_loss: 0.9794 - learning_rate: 0.0010\n",
      "Epoch 45/100\n",
      "\u001b[1m30/30\u001b[0m \u001b[32m━━━━━━━━━━━━━━━━━━━━\u001b[0m\u001b[37m\u001b[0m \u001b[1m0s\u001b[0m 4ms/step - accuracy: 0.5920 - loss: 1.0526 - val_accuracy: 0.6250 - val_loss: 0.9778 - learning_rate: 0.0010\n",
      "Epoch 46/100\n",
      "\u001b[1m30/30\u001b[0m \u001b[32m━━━━━━━━━━━━━━━━━━━━\u001b[0m\u001b[37m\u001b[0m \u001b[1m0s\u001b[0m 5ms/step - accuracy: 0.5841 - loss: 1.0745 - val_accuracy: 0.6299 - val_loss: 0.9770 - learning_rate: 0.0010\n",
      "Epoch 47/100\n",
      "\u001b[1m30/30\u001b[0m \u001b[32m━━━━━━━━━━━━━━━━━━━━\u001b[0m\u001b[37m\u001b[0m \u001b[1m0s\u001b[0m 5ms/step - accuracy: 0.6132 - loss: 1.0135 - val_accuracy: 0.6275 - val_loss: 0.9733 - learning_rate: 0.0010\n",
      "Epoch 48/100\n",
      "\u001b[1m30/30\u001b[0m \u001b[32m━━━━━━━━━━━━━━━━━━━━\u001b[0m\u001b[37m\u001b[0m \u001b[1m0s\u001b[0m 4ms/step - accuracy: 0.5727 - loss: 1.0805 - val_accuracy: 0.6299 - val_loss: 0.9692 - learning_rate: 0.0010\n",
      "Epoch 49/100\n",
      "\u001b[1m30/30\u001b[0m \u001b[32m━━━━━━━━━━━━━━━━━━━━\u001b[0m\u001b[37m\u001b[0m \u001b[1m0s\u001b[0m 5ms/step - accuracy: 0.5723 - loss: 1.0528 - val_accuracy: 0.6373 - val_loss: 0.9712 - learning_rate: 0.0010\n",
      "Epoch 50/100\n",
      "\u001b[1m30/30\u001b[0m \u001b[32m━━━━━━━━━━━━━━━━━━━━\u001b[0m\u001b[37m\u001b[0m \u001b[1m0s\u001b[0m 4ms/step - accuracy: 0.5942 - loss: 1.0418 - val_accuracy: 0.6324 - val_loss: 0.9682 - learning_rate: 0.0010\n",
      "Epoch 51/100\n",
      "\u001b[1m30/30\u001b[0m \u001b[32m━━━━━━━━━━━━━━━━━━━━\u001b[0m\u001b[37m\u001b[0m \u001b[1m0s\u001b[0m 4ms/step - accuracy: 0.6051 - loss: 1.0233 - val_accuracy: 0.6275 - val_loss: 0.9675 - learning_rate: 0.0010\n",
      "Epoch 52/100\n",
      "\u001b[1m30/30\u001b[0m \u001b[32m━━━━━━━━━━━━━━━━━━━━\u001b[0m\u001b[37m\u001b[0m \u001b[1m0s\u001b[0m 4ms/step - accuracy: 0.5592 - loss: 1.0849 - val_accuracy: 0.6275 - val_loss: 0.9644 - learning_rate: 0.0010\n",
      "Epoch 53/100\n",
      "\u001b[1m30/30\u001b[0m \u001b[32m━━━━━━━━━━━━━━━━━━━━\u001b[0m\u001b[37m\u001b[0m \u001b[1m0s\u001b[0m 8ms/step - accuracy: 0.6057 - loss: 1.0446 - val_accuracy: 0.6225 - val_loss: 0.9649 - learning_rate: 0.0010\n",
      "Epoch 54/100\n",
      "\u001b[1m30/30\u001b[0m \u001b[32m━━━━━━━━━━━━━━━━━━━━\u001b[0m\u001b[37m\u001b[0m \u001b[1m0s\u001b[0m 7ms/step - accuracy: 0.6069 - loss: 1.0200 - val_accuracy: 0.6299 - val_loss: 0.9639 - learning_rate: 0.0010\n",
      "Epoch 55/100\n",
      "\u001b[1m30/30\u001b[0m \u001b[32m━━━━━━━━━━━━━━━━━━━━\u001b[0m\u001b[37m\u001b[0m \u001b[1m0s\u001b[0m 8ms/step - accuracy: 0.5631 - loss: 1.0352 - val_accuracy: 0.6373 - val_loss: 0.9626 - learning_rate: 0.0010\n",
      "Epoch 56/100\n",
      "\u001b[1m30/30\u001b[0m \u001b[32m━━━━━━━━━━━━━━━━━━━━\u001b[0m\u001b[37m\u001b[0m \u001b[1m0s\u001b[0m 7ms/step - accuracy: 0.6284 - loss: 1.0048 - val_accuracy: 0.6275 - val_loss: 0.9647 - learning_rate: 0.0010\n",
      "Epoch 57/100\n",
      "\u001b[1m30/30\u001b[0m \u001b[32m━━━━━━━━━━━━━━━━━━━━\u001b[0m\u001b[37m\u001b[0m \u001b[1m0s\u001b[0m 9ms/step - accuracy: 0.5907 - loss: 0.9791 - val_accuracy: 0.6225 - val_loss: 0.9644 - learning_rate: 0.0010\n",
      "Epoch 58/100\n",
      "\u001b[1m30/30\u001b[0m \u001b[32m━━━━━━━━━━━━━━━━━━━━\u001b[0m\u001b[37m\u001b[0m \u001b[1m0s\u001b[0m 8ms/step - accuracy: 0.5883 - loss: 1.0288 - val_accuracy: 0.6225 - val_loss: 0.9647 - learning_rate: 0.0010\n",
      "Epoch 59/100\n",
      "\u001b[1m30/30\u001b[0m \u001b[32m━━━━━━━━━━━━━━━━━━━━\u001b[0m\u001b[37m\u001b[0m \u001b[1m0s\u001b[0m 7ms/step - accuracy: 0.5888 - loss: 1.0218 - val_accuracy: 0.6324 - val_loss: 0.9649 - learning_rate: 0.0010\n",
      "Epoch 60/100\n",
      "\u001b[1m24/30\u001b[0m \u001b[32m━━━━━━━━━━━━━━━━\u001b[0m\u001b[37m━━━━\u001b[0m \u001b[1m0s\u001b[0m 5ms/step - accuracy: 0.5915 - loss: 1.0193\n",
      "Epoch 60: ReduceLROnPlateau reducing learning rate to 0.00020000000949949026.\n",
      "\u001b[1m30/30\u001b[0m \u001b[32m━━━━━━━━━━━━━━━━━━━━\u001b[0m\u001b[37m\u001b[0m \u001b[1m0s\u001b[0m 8ms/step - accuracy: 0.5922 - loss: 1.0247 - val_accuracy: 0.6348 - val_loss: 0.9660 - learning_rate: 0.0010\n",
      "Epoch 61/100\n",
      "\u001b[1m30/30\u001b[0m \u001b[32m━━━━━━━━━━━━━━━━━━━━\u001b[0m\u001b[37m\u001b[0m \u001b[1m0s\u001b[0m 7ms/step - accuracy: 0.6090 - loss: 1.0171 - val_accuracy: 0.6373 - val_loss: 0.9653 - learning_rate: 2.0000e-04\n",
      "Epoch 62/100\n",
      "\u001b[1m30/30\u001b[0m \u001b[32m━━━━━━━━━━━━━━━━━━━━\u001b[0m\u001b[37m\u001b[0m \u001b[1m0s\u001b[0m 8ms/step - accuracy: 0.5917 - loss: 0.9899 - val_accuracy: 0.6373 - val_loss: 0.9653 - learning_rate: 2.0000e-04\n",
      "Epoch 63/100\n",
      "\u001b[1m30/30\u001b[0m \u001b[32m━━━━━━━━━━━━━━━━━━━━\u001b[0m\u001b[37m\u001b[0m \u001b[1m0s\u001b[0m 8ms/step - accuracy: 0.5788 - loss: 1.0254 - val_accuracy: 0.6324 - val_loss: 0.9659 - learning_rate: 2.0000e-04\n",
      "Epoch 64/100\n",
      "\u001b[1m30/30\u001b[0m \u001b[32m━━━━━━━━━━━━━━━━━━━━\u001b[0m\u001b[37m\u001b[0m \u001b[1m0s\u001b[0m 8ms/step - accuracy: 0.5593 - loss: 1.0422 - val_accuracy: 0.6348 - val_loss: 0.9651 - learning_rate: 2.0000e-04\n",
      "Epoch 65/100\n",
      "\u001b[1m27/30\u001b[0m \u001b[32m━━━━━━━━━━━━━━━━━━\u001b[0m\u001b[37m━━\u001b[0m \u001b[1m0s\u001b[0m 6ms/step - accuracy: 0.6137 - loss: 0.9652\n",
      "Epoch 65: ReduceLROnPlateau reducing learning rate to 4.0000001899898055e-05.\n",
      "\u001b[1m30/30\u001b[0m \u001b[32m━━━━━━━━━━━━━━━━━━━━\u001b[0m\u001b[37m\u001b[0m \u001b[1m0s\u001b[0m 8ms/step - accuracy: 0.6101 - loss: 0.9720 - val_accuracy: 0.6373 - val_loss: 0.9648 - learning_rate: 2.0000e-04\n",
      "Epoch 66/100\n",
      "\u001b[1m30/30\u001b[0m \u001b[32m━━━━━━━━━━━━━━━━━━━━\u001b[0m\u001b[37m\u001b[0m \u001b[1m0s\u001b[0m 8ms/step - accuracy: 0.5504 - loss: 1.0253 - val_accuracy: 0.6348 - val_loss: 0.9645 - learning_rate: 4.0000e-05\n",
      "Epoch 67/100\n",
      "\u001b[1m30/30\u001b[0m \u001b[32m━━━━━━━━━━━━━━━━━━━━\u001b[0m\u001b[37m\u001b[0m \u001b[1m0s\u001b[0m 5ms/step - accuracy: 0.5810 - loss: 1.0651 - val_accuracy: 0.6373 - val_loss: 0.9641 - learning_rate: 4.0000e-05\n",
      "Epoch 68/100\n",
      "\u001b[1m30/30\u001b[0m \u001b[32m━━━━━━━━━━━━━━━━━━━━\u001b[0m\u001b[37m\u001b[0m \u001b[1m0s\u001b[0m 4ms/step - accuracy: 0.5770 - loss: 1.0148 - val_accuracy: 0.6348 - val_loss: 0.9638 - learning_rate: 4.0000e-05\n",
      "Epoch 69/100\n",
      "\u001b[1m30/30\u001b[0m \u001b[32m━━━━━━━━━━━━━━━━━━━━\u001b[0m\u001b[37m\u001b[0m \u001b[1m0s\u001b[0m 7ms/step - accuracy: 0.5831 - loss: 1.0497 - val_accuracy: 0.6373 - val_loss: 0.9640 - learning_rate: 4.0000e-05\n",
      "Epoch 70/100\n",
      "\u001b[1m29/30\u001b[0m \u001b[32m━━━━━━━━━━━━━━━━━━━\u001b[0m\u001b[37m━\u001b[0m \u001b[1m0s\u001b[0m 6ms/step - accuracy: 0.5927 - loss: 0.9695\n",
      "Epoch 70: ReduceLROnPlateau reducing learning rate to 8.000000525498762e-06.\n",
      "\u001b[1m30/30\u001b[0m \u001b[32m━━━━━━━━━━━━━━━━━━━━\u001b[0m\u001b[37m\u001b[0m \u001b[1m0s\u001b[0m 9ms/step - accuracy: 0.5928 - loss: 0.9719 - val_accuracy: 0.6324 - val_loss: 0.9640 - learning_rate: 4.0000e-05\n",
      "\u001b[1m13/13\u001b[0m \u001b[32m━━━━━━━━━━━━━━━━━━━━\u001b[0m\u001b[37m\u001b[0m \u001b[1m0s\u001b[0m 2ms/step - accuracy: 0.6633 - loss: 0.9254 \n",
      "Test Accuracy: 0.6323529481887817\n"
     ]
    }
   ],
   "source": [
    "# Define the model architecture\n",
    "model_try_4 = models.Sequential()\n",
    "\n",
    "# First hidden layer\n",
    "model_try_4.add(layers.Dense(64, activation='relu', input_shape=(X_train_scaled.shape[1],),\n",
    "                           kernel_regularizer=regularizers.l2(0.001)))\n",
    "model_try_4.add(layers.Dropout(0.4))\n",
    "model_try_4.add(layers.BatchNormalization())\n",
    "\n",
    "# Second hidden layer\n",
    "model_try_4.add(layers.Dense(32, activation='tanh', kernel_regularizer=regularizers.l2(0.001))) # Changed activation function\n",
    "model_try_4.add(layers.Dropout(0.3)) # Adjusted dropout rate\n",
    "model_try_4.add(layers.BatchNormalization())\n",
    "\n",
    "# Third hidden layer\n",
    "model_try_4.add(layers.Dense(16, activation='relu', kernel_regularizer=regularizers.l2(0.001)))\n",
    "model_try_4.add(layers.Dropout(0.2)) # Adjusted dropout rate\n",
    "model_try_4.add(layers.BatchNormalization())\n",
    "\n",
    "# Output layer\n",
    "model_try_4.add(layers.Dense(6, activation='softmax'))\n",
    "\n",
    "# Compile the model\n",
    "optimizer = optimizers.Adam(learning_rate=0.001)\n",
    "model_try_4.compile(loss=\"categorical_crossentropy\", metrics=[\"accuracy\"], optimizer=optimizer)\n",
    "\n",
    "# Define early stopping and learning rate scheduler\n",
    "early_stopping = EarlyStopping(monitor='val_loss', patience=15) # Increased patience\n",
    "lr_schedule = ReduceLROnPlateau(monitor='val_loss', factor=0.2, patience=5, verbose=1)\n",
    "\n",
    "# Train the model\n",
    "history_try_4 = model_try_4.fit(x=X_train_scaled, y=Y_train_encoded,\n",
    "                            batch_size=32, epochs=100,\n",
    "                            validation_data=(X_test_scaled, Y_test_encoded),\n",
    "                            callbacks=[early_stopping, lr_schedule])\n",
    "\n",
    "results_try_4 = model_try_4.evaluate(X_test_scaled, Y_test_encoded)\n",
    "print(f\"Test Accuracy: {results_try_4[1]}\")"
   ]
  },
  {
   "cell_type": "code",
   "execution_count": 28,
   "metadata": {
    "colab": {
     "base_uri": "https://localhost:8080/",
     "height": 564
    },
    "executionInfo": {
     "elapsed": 1789,
     "status": "ok",
     "timestamp": 1725774341692,
     "user": {
      "displayName": "Jannet Akanksha Ekka",
      "userId": "04295694532301703575"
     },
     "user_tz": -330
    },
    "id": "-6FIyzsqBtY7",
    "outputId": "9d37a126-4f1f-4d49-d9a6-39185bac551b"
   },
   "outputs": [
    {
     "data": {
      "image/png": "[encoded data removed]",
      "text/plain": [
       "<Figure size 1400x600 with 2 Axes>"
      ]
     },
     "metadata": {},
     "output_type": "display_data"
    }
   ],
   "source": [
    "# Plotting training and validation loss\n",
    "plt.figure(figsize=(14, 6))\n",
    "\n",
    "# Loss\n",
    "plt.subplot(1, 2, 1)\n",
    "plt.plot(history_try_4.history['loss'], label='Training Loss')\n",
    "plt.plot(history_try_4.history['val_loss'], label='Validation Loss')\n",
    "plt.title('Best New Model: Training and Validation Loss')\n",
    "plt.xlabel('Epochs')\n",
    "plt.ylabel('Loss')\n",
    "plt.legend()\n",
    "\n",
    "# Accuracy\n",
    "plt.subplot(1, 2, 2)\n",
    "plt.plot(history_try_4.history['accuracy'], label='Training Accuracy')\n",
    "plt.plot(history_try_4.history['val_accuracy'], label='Validation Accuracy')\n",
    "plt.title('Best New Model: Training and Validation Accuracy')\n",
    "plt.xlabel('Epochs')\n",
    "plt.ylabel('Accuracy')\n",
    "plt.legend()\n",
    "\n",
    "plt.show()"
   ]
  },
  {
   "cell_type": "code",
   "execution_count": 29,
   "metadata": {
    "colab": {
     "base_uri": "https://localhost:8080/"
    },
    "executionInfo": {
     "elapsed": 44805,
     "status": "ok",
     "timestamp": 1725774386492,
     "user": {
      "displayName": "Jannet Akanksha Ekka",
      "userId": "04295694532301703575"
     },
     "user_tz": -330
    },
    "id": "7IEMHQNY73I6",
    "outputId": "f6d95b0d-8319-4b51-ff46-d640f3d21122",
    "scrolled": true
   },
   "outputs": [
    {
     "name": "stdout",
     "output_type": "stream",
     "text": [
      "Epoch 1/100\n",
      "\u001b[1m30/30\u001b[0m \u001b[32m━━━━━━━━━━━━━━━━━━━━\u001b[0m\u001b[37m\u001b[0m \u001b[1m6s\u001b[0m 34ms/step - accuracy: 0.2274 - loss: 6.8161 - val_accuracy: 0.4289 - val_loss: 5.9789 - learning_rate: 0.0010\n",
      "Epoch 2/100\n",
      "\u001b[1m30/30\u001b[0m \u001b[32m━━━━━━━━━━━━━━━━━━━━\u001b[0m\u001b[37m\u001b[0m \u001b[1m0s\u001b[0m 4ms/step - accuracy: 0.2658 - loss: 6.2902 - val_accuracy: 0.5196 - val_loss: 5.6578 - learning_rate: 0.0010\n",
      "Epoch 3/100\n",
      "\u001b[1m30/30\u001b[0m \u001b[32m━━━━━━━━━━━━━━━━━━━━\u001b[0m\u001b[37m\u001b[0m \u001b[1m0s\u001b[0m 11ms/step - accuracy: 0.3195 - loss: 5.9221 - val_accuracy: 0.5539 - val_loss: 5.3263 - learning_rate: 0.0010\n",
      "Epoch 4/100\n",
      "\u001b[1m30/30\u001b[0m \u001b[32m━━━━━━━━━━━━━━━━━━━━\u001b[0m\u001b[37m\u001b[0m \u001b[1m1s\u001b[0m 14ms/step - accuracy: 0.3838 - loss: 5.4872 - val_accuracy: 0.5882 - val_loss: 5.0033 - learning_rate: 0.0010\n",
      "Epoch 5/100\n",
      "\u001b[1m30/30\u001b[0m \u001b[32m━━━━━━━━━━━━━━━━━━━━\u001b[0m\u001b[37m\u001b[0m \u001b[1m1s\u001b[0m 13ms/step - accuracy: 0.4199 - loss: 5.1565 - val_accuracy: 0.5956 - val_loss: 4.7036 - learning_rate: 0.0010\n",
      "Epoch 6/100\n",
      "\u001b[1m30/30\u001b[0m \u001b[32m━━━━━━━━━━━━━━━━━━━━\u001b[0m\u001b[37m\u001b[0m \u001b[1m0s\u001b[0m 9ms/step - accuracy: 0.4699 - loss: 4.8556 - val_accuracy: 0.6054 - val_loss: 4.4224 - learning_rate: 0.0010\n",
      "Epoch 7/100\n",
      "\u001b[1m30/30\u001b[0m \u001b[32m━━━━━━━━━━━━━━━━━━━━\u001b[0m\u001b[37m\u001b[0m \u001b[1m1s\u001b[0m 14ms/step - accuracy: 0.4773 - loss: 4.5721 - val_accuracy: 0.6176 - val_loss: 4.1622 - learning_rate: 0.0010\n",
      "Epoch 8/100\n",
      "\u001b[1m30/30\u001b[0m \u001b[32m━━━━━━━━━━━━━━━━━━━━\u001b[0m\u001b[37m\u001b[0m \u001b[1m1s\u001b[0m 14ms/step - accuracy: 0.4847 - loss: 4.3211 - val_accuracy: 0.6275 - val_loss: 3.9199 - learning_rate: 0.0010\n",
      "Epoch 9/100\n",
      "\u001b[1m30/30\u001b[0m \u001b[32m━━━━━━━━━━━━━━━━━━━━\u001b[0m\u001b[37m\u001b[0m \u001b[1m1s\u001b[0m 15ms/step - accuracy: 0.5400 - loss: 4.0144 - val_accuracy: 0.6029 - val_loss: 3.6841 - learning_rate: 0.0010\n",
      "Epoch 10/100\n",
      "\u001b[1m30/30\u001b[0m \u001b[32m━━━━━━━━━━━━━━━━━━━━\u001b[0m\u001b[37m\u001b[0m \u001b[1m1s\u001b[0m 16ms/step - accuracy: 0.5058 - loss: 3.8139 - val_accuracy: 0.6225 - val_loss: 3.4575 - learning_rate: 0.0010\n",
      "Epoch 11/100\n",
      "\u001b[1m30/30\u001b[0m \u001b[32m━━━━━━━━━━━━━━━━━━━━\u001b[0m\u001b[37m\u001b[0m \u001b[1m1s\u001b[0m 15ms/step - accuracy: 0.5412 - loss: 3.5899 - val_accuracy: 0.6152 - val_loss: 3.2455 - learning_rate: 0.0010\n",
      "Epoch 12/100\n",
      "\u001b[1m30/30\u001b[0m \u001b[32m━━━━━━━━━━━━━━━━━━━━\u001b[0m\u001b[37m\u001b[0m \u001b[1m1s\u001b[0m 16ms/step - accuracy: 0.5201 - loss: 3.4062 - val_accuracy: 0.6176 - val_loss: 3.0511 - learning_rate: 0.0010\n",
      "Epoch 13/100\n",
      "\u001b[1m30/30\u001b[0m \u001b[32m━━━━━━━━━━━━━━━━━━━━\u001b[0m\u001b[37m\u001b[0m \u001b[1m1s\u001b[0m 13ms/step - accuracy: 0.5507 - loss: 3.1196 - val_accuracy: 0.6127 - val_loss: 2.8654 - learning_rate: 0.0010\n",
      "Epoch 14/100\n",
      "\u001b[1m30/30\u001b[0m \u001b[32m━━━━━━━━━━━━━━━━━━━━\u001b[0m\u001b[37m\u001b[0m \u001b[1m1s\u001b[0m 13ms/step - accuracy: 0.5631 - loss: 2.9571 - val_accuracy: 0.5980 - val_loss: 2.7002 - learning_rate: 0.0010\n",
      "Epoch 15/100\n",
      "\u001b[1m30/30\u001b[0m \u001b[32m━━━━━━━━━━━━━━━━━━━━\u001b[0m\u001b[37m\u001b[0m \u001b[1m1s\u001b[0m 10ms/step - accuracy: 0.5451 - loss: 2.7766 - val_accuracy: 0.5980 - val_loss: 2.5433 - learning_rate: 0.0010\n",
      "Epoch 16/100\n",
      "\u001b[1m30/30\u001b[0m \u001b[32m━━━━━━━━━━━━━━━━━━━━\u001b[0m\u001b[37m\u001b[0m \u001b[1m1s\u001b[0m 19ms/step - accuracy: 0.5612 - loss: 2.6070 - val_accuracy: 0.6054 - val_loss: 2.4001 - learning_rate: 0.0010\n",
      "Epoch 17/100\n",
      "\u001b[1m30/30\u001b[0m \u001b[32m━━━━━━━━━━━━━━━━━━━━\u001b[0m\u001b[37m\u001b[0m \u001b[1m0s\u001b[0m 12ms/step - accuracy: 0.5635 - loss: 2.4981 - val_accuracy: 0.6029 - val_loss: 2.2779 - learning_rate: 0.0010\n",
      "Epoch 18/100\n",
      "\u001b[1m30/30\u001b[0m \u001b[32m━━━━━━━━━━━━━━━━━━━━\u001b[0m\u001b[37m\u001b[0m \u001b[1m1s\u001b[0m 13ms/step - accuracy: 0.5666 - loss: 2.3055 - val_accuracy: 0.6005 - val_loss: 2.1584 - learning_rate: 0.0010\n",
      "Epoch 19/100\n",
      "\u001b[1m30/30\u001b[0m \u001b[32m━━━━━━━━━━━━━━━━━━━━\u001b[0m\u001b[37m\u001b[0m \u001b[1m0s\u001b[0m 9ms/step - accuracy: 0.5501 - loss: 2.1844 - val_accuracy: 0.5931 - val_loss: 2.0628 - learning_rate: 0.0010\n",
      "Epoch 20/100\n",
      "\u001b[1m30/30\u001b[0m \u001b[32m━━━━━━━━━━━━━━━━━━━━\u001b[0m\u001b[37m\u001b[0m \u001b[1m1s\u001b[0m 8ms/step - accuracy: 0.6250 - loss: 2.0485 - val_accuracy: 0.5956 - val_loss: 1.9734 - learning_rate: 0.0010\n",
      "Epoch 21/100\n",
      "\u001b[1m30/30\u001b[0m \u001b[32m━━━━━━━━━━━━━━━━━━━━\u001b[0m\u001b[37m\u001b[0m \u001b[1m0s\u001b[0m 8ms/step - accuracy: 0.5905 - loss: 1.9560 - val_accuracy: 0.5980 - val_loss: 1.8952 - learning_rate: 0.0010\n",
      "Epoch 22/100\n",
      "\u001b[1m30/30\u001b[0m \u001b[32m━━━━━━━━━━━━━━━━━━━━\u001b[0m\u001b[37m\u001b[0m \u001b[1m0s\u001b[0m 9ms/step - accuracy: 0.5883 - loss: 1.8907 - val_accuracy: 0.6029 - val_loss: 1.8266 - learning_rate: 0.0010\n",
      "Epoch 23/100\n",
      "\u001b[1m30/30\u001b[0m \u001b[32m━━━━━━━━━━━━━━━━━━━━\u001b[0m\u001b[37m\u001b[0m \u001b[1m0s\u001b[0m 4ms/step - accuracy: 0.5752 - loss: 1.8461 - val_accuracy: 0.5907 - val_loss: 1.7501 - learning_rate: 0.0010\n",
      "Epoch 24/100\n",
      "\u001b[1m30/30\u001b[0m \u001b[32m━━━━━━━━━━━━━━━━━━━━\u001b[0m\u001b[37m\u001b[0m \u001b[1m0s\u001b[0m 4ms/step - accuracy: 0.5792 - loss: 1.7228 - val_accuracy: 0.6078 - val_loss: 1.6957 - learning_rate: 0.0010\n",
      "Epoch 25/100\n",
      "\u001b[1m30/30\u001b[0m \u001b[32m━━━━━━━━━━━━━━━━━━━━\u001b[0m\u001b[37m\u001b[0m \u001b[1m0s\u001b[0m 5ms/step - accuracy: 0.5531 - loss: 1.7404 - val_accuracy: 0.5980 - val_loss: 1.6379 - learning_rate: 0.0010\n",
      "Epoch 26/100\n",
      "\u001b[1m30/30\u001b[0m \u001b[32m━━━━━━━━━━━━━━━━━━━━\u001b[0m\u001b[37m\u001b[0m \u001b[1m0s\u001b[0m 4ms/step - accuracy: 0.5976 - loss: 1.6234 - val_accuracy: 0.5809 - val_loss: 1.5882 - learning_rate: 0.0010\n",
      "Epoch 27/100\n",
      "\u001b[1m30/30\u001b[0m \u001b[32m━━━━━━━━━━━━━━━━━━━━\u001b[0m\u001b[37m\u001b[0m \u001b[1m0s\u001b[0m 4ms/step - accuracy: 0.5915 - loss: 1.5758 - val_accuracy: 0.5784 - val_loss: 1.5591 - learning_rate: 0.0010\n",
      "Epoch 28/100\n",
      "\u001b[1m30/30\u001b[0m \u001b[32m━━━━━━━━━━━━━━━━━━━━\u001b[0m\u001b[37m\u001b[0m \u001b[1m0s\u001b[0m 4ms/step - accuracy: 0.5928 - loss: 1.4989 - val_accuracy: 0.6078 - val_loss: 1.5143 - learning_rate: 0.0010\n",
      "Epoch 29/100\n",
      "\u001b[1m30/30\u001b[0m \u001b[32m━━━━━━━━━━━━━━━━━━━━\u001b[0m\u001b[37m\u001b[0m \u001b[1m0s\u001b[0m 4ms/step - accuracy: 0.5796 - loss: 1.4976 - val_accuracy: 0.6005 - val_loss: 1.4750 - learning_rate: 0.0010\n",
      "Epoch 30/100\n",
      "\u001b[1m30/30\u001b[0m \u001b[32m━━━━━━━━━━━━━━━━━━━━\u001b[0m\u001b[37m\u001b[0m \u001b[1m0s\u001b[0m 5ms/step - accuracy: 0.5386 - loss: 1.5065 - val_accuracy: 0.6005 - val_loss: 1.4272 - learning_rate: 0.0010\n",
      "Epoch 31/100\n",
      "\u001b[1m30/30\u001b[0m \u001b[32m━━━━━━━━━━━━━━━━━━━━\u001b[0m\u001b[37m\u001b[0m \u001b[1m0s\u001b[0m 4ms/step - accuracy: 0.5867 - loss: 1.4135 - val_accuracy: 0.6152 - val_loss: 1.3861 - learning_rate: 0.0010\n",
      "Epoch 32/100\n",
      "\u001b[1m30/30\u001b[0m \u001b[32m━━━━━━━━━━━━━━━━━━━━\u001b[0m\u001b[37m\u001b[0m \u001b[1m0s\u001b[0m 4ms/step - accuracy: 0.5717 - loss: 1.4123 - val_accuracy: 0.6029 - val_loss: 1.3791 - learning_rate: 0.0010\n",
      "Epoch 33/100\n",
      "\u001b[1m30/30\u001b[0m \u001b[32m━━━━━━━━━━━━━━━━━━━━\u001b[0m\u001b[37m\u001b[0m \u001b[1m0s\u001b[0m 5ms/step - accuracy: 0.5767 - loss: 1.3853 - val_accuracy: 0.5956 - val_loss: 1.3459 - learning_rate: 0.0010\n",
      "Epoch 34/100\n",
      "\u001b[1m30/30\u001b[0m \u001b[32m━━━━━━━━━━━━━━━━━━━━\u001b[0m\u001b[37m\u001b[0m \u001b[1m0s\u001b[0m 4ms/step - accuracy: 0.5980 - loss: 1.3330 - val_accuracy: 0.6078 - val_loss: 1.3257 - learning_rate: 0.0010\n",
      "Epoch 35/100\n",
      "\u001b[1m30/30\u001b[0m \u001b[32m━━━━━━━━━━━━━━━━━━━━\u001b[0m\u001b[37m\u001b[0m \u001b[1m0s\u001b[0m 4ms/step - accuracy: 0.5999 - loss: 1.2820 - val_accuracy: 0.6005 - val_loss: 1.2888 - learning_rate: 0.0010\n",
      "Epoch 36/100\n",
      "\u001b[1m30/30\u001b[0m \u001b[32m━━━━━━━━━━━━━━━━━━━━\u001b[0m\u001b[37m\u001b[0m \u001b[1m0s\u001b[0m 4ms/step - accuracy: 0.5731 - loss: 1.3035 - val_accuracy: 0.6029 - val_loss: 1.2851 - learning_rate: 0.0010\n",
      "Epoch 37/100\n",
      "\u001b[1m30/30\u001b[0m \u001b[32m━━━━━━━━━━━━━━━━━━━━\u001b[0m\u001b[37m\u001b[0m \u001b[1m0s\u001b[0m 5ms/step - accuracy: 0.5952 - loss: 1.2870 - val_accuracy: 0.6201 - val_loss: 1.2550 - learning_rate: 0.0010\n",
      "Epoch 38/100\n",
      "\u001b[1m30/30\u001b[0m \u001b[32m━━━━━━━━━━━━━━━━━━━━\u001b[0m\u001b[37m\u001b[0m \u001b[1m0s\u001b[0m 4ms/step - accuracy: 0.5600 - loss: 1.2944 - val_accuracy: 0.6103 - val_loss: 1.2415 - learning_rate: 0.0010\n",
      "Epoch 39/100\n",
      "\u001b[1m30/30\u001b[0m \u001b[32m━━━━━━━━━━━━━━━━━━━━\u001b[0m\u001b[37m\u001b[0m \u001b[1m0s\u001b[0m 6ms/step - accuracy: 0.5711 - loss: 1.2623 - val_accuracy: 0.6152 - val_loss: 1.2350 - learning_rate: 0.0010\n",
      "Epoch 40/100\n",
      "\u001b[1m30/30\u001b[0m \u001b[32m━━━━━━━━━━━━━━━━━━━━\u001b[0m\u001b[37m\u001b[0m \u001b[1m0s\u001b[0m 6ms/step - accuracy: 0.5846 - loss: 1.2739 - val_accuracy: 0.6103 - val_loss: 1.2181 - learning_rate: 0.0010\n",
      "Epoch 41/100\n",
      "\u001b[1m30/30\u001b[0m \u001b[32m━━━━━━━━━━━━━━━━━━━━\u001b[0m\u001b[37m\u001b[0m \u001b[1m0s\u001b[0m 9ms/step - accuracy: 0.5906 - loss: 1.2187 - val_accuracy: 0.6054 - val_loss: 1.2341 - learning_rate: 0.0010\n",
      "Epoch 42/100\n",
      "\u001b[1m30/30\u001b[0m \u001b[32m━━━━━━━━━━━━━━━━━━━━\u001b[0m\u001b[37m\u001b[0m \u001b[1m1s\u001b[0m 10ms/step - accuracy: 0.5585 - loss: 1.2677 - val_accuracy: 0.6029 - val_loss: 1.1876 - learning_rate: 0.0010\n",
      "Epoch 43/100\n",
      "\u001b[1m30/30\u001b[0m \u001b[32m━━━━━━━━━━━━━━━━━━━━\u001b[0m\u001b[37m\u001b[0m \u001b[1m1s\u001b[0m 8ms/step - accuracy: 0.5710 - loss: 1.2412 - val_accuracy: 0.6005 - val_loss: 1.1691 - learning_rate: 0.0010\n",
      "Epoch 44/100\n",
      "\u001b[1m30/30\u001b[0m \u001b[32m━━━━━━━━━━━━━━━━━━━━\u001b[0m\u001b[37m\u001b[0m \u001b[1m0s\u001b[0m 10ms/step - accuracy: 0.5569 - loss: 1.1916 - val_accuracy: 0.6152 - val_loss: 1.1563 - learning_rate: 0.0010\n",
      "Epoch 45/100\n",
      "\u001b[1m30/30\u001b[0m \u001b[32m━━━━━━━━━━━━━━━━━━━━\u001b[0m\u001b[37m\u001b[0m \u001b[1m1s\u001b[0m 12ms/step - accuracy: 0.5581 - loss: 1.2371 - val_accuracy: 0.6201 - val_loss: 1.1361 - learning_rate: 0.0010\n",
      "Epoch 46/100\n",
      "\u001b[1m30/30\u001b[0m \u001b[32m━━━━━━━━━━━━━━━━━━━━\u001b[0m\u001b[37m\u001b[0m \u001b[1m1s\u001b[0m 10ms/step - accuracy: 0.5629 - loss: 1.2305 - val_accuracy: 0.6152 - val_loss: 1.1475 - learning_rate: 0.0010\n",
      "Epoch 47/100\n",
      "\u001b[1m30/30\u001b[0m \u001b[32m━━━━━━━━━━━━━━━━━━━━\u001b[0m\u001b[37m\u001b[0m \u001b[1m0s\u001b[0m 13ms/step - accuracy: 0.5715 - loss: 1.1969 - val_accuracy: 0.6005 - val_loss: 1.1201 - learning_rate: 0.0010\n",
      "Epoch 48/100\n",
      "\u001b[1m30/30\u001b[0m \u001b[32m━━━━━━━━━━━━━━━━━━━━\u001b[0m\u001b[37m\u001b[0m \u001b[1m1s\u001b[0m 11ms/step - accuracy: 0.5826 - loss: 1.1821 - val_accuracy: 0.6348 - val_loss: 1.1207 - learning_rate: 0.0010\n",
      "Epoch 49/100\n",
      "\u001b[1m30/30\u001b[0m \u001b[32m━━━━━━━━━━━━━━━━━━━━\u001b[0m\u001b[37m\u001b[0m \u001b[1m1s\u001b[0m 12ms/step - accuracy: 0.5778 - loss: 1.1526 - val_accuracy: 0.6373 - val_loss: 1.1190 - learning_rate: 0.0010\n",
      "Epoch 50/100\n",
      "\u001b[1m30/30\u001b[0m \u001b[32m━━━━━━━━━━━━━━━━━━━━\u001b[0m\u001b[37m\u001b[0m \u001b[1m1s\u001b[0m 12ms/step - accuracy: 0.5992 - loss: 1.1799 - val_accuracy: 0.6299 - val_loss: 1.0988 - learning_rate: 0.0010\n",
      "Epoch 51/100\n",
      "\u001b[1m30/30\u001b[0m \u001b[32m━━━━━━━━━━━━━━━━━━━━\u001b[0m\u001b[37m\u001b[0m \u001b[1m1s\u001b[0m 12ms/step - accuracy: 0.5798 - loss: 1.1923 - val_accuracy: 0.6152 - val_loss: 1.1154 - learning_rate: 0.0010\n",
      "Epoch 52/100\n",
      "\u001b[1m30/30\u001b[0m \u001b[32m━━━━━━━━━━━━━━━━━━━━\u001b[0m\u001b[37m\u001b[0m \u001b[1m1s\u001b[0m 10ms/step - accuracy: 0.5839 - loss: 1.1735 - val_accuracy: 0.6029 - val_loss: 1.0875 - learning_rate: 0.0010\n",
      "Epoch 53/100\n",
      "\u001b[1m30/30\u001b[0m \u001b[32m━━━━━━━━━━━━━━━━━━━━\u001b[0m\u001b[37m\u001b[0m \u001b[1m1s\u001b[0m 9ms/step - accuracy: 0.5850 - loss: 1.1681 - val_accuracy: 0.6225 - val_loss: 1.1047 - learning_rate: 0.0010\n",
      "Epoch 54/100\n",
      "\u001b[1m30/30\u001b[0m \u001b[32m━━━━━━━━━━━━━━━━━━━━\u001b[0m\u001b[37m\u001b[0m \u001b[1m1s\u001b[0m 7ms/step - accuracy: 0.5789 - loss: 1.1465 - val_accuracy: 0.6103 - val_loss: 1.1051 - learning_rate: 0.0010\n",
      "Epoch 55/100\n",
      "\u001b[1m30/30\u001b[0m \u001b[32m━━━━━━━━━━━━━━━━━━━━\u001b[0m\u001b[37m\u001b[0m \u001b[1m0s\u001b[0m 8ms/step - accuracy: 0.5960 - loss: 1.1034 - val_accuracy: 0.5956 - val_loss: 1.1088 - learning_rate: 0.0010\n",
      "Epoch 56/100\n",
      "\u001b[1m30/30\u001b[0m \u001b[32m━━━━━━━━━━━━━━━━━━━━\u001b[0m\u001b[37m\u001b[0m \u001b[1m0s\u001b[0m 9ms/step - accuracy: 0.5921 - loss: 1.1423 - val_accuracy: 0.6029 - val_loss: 1.1059 - learning_rate: 0.0010\n",
      "Epoch 57/100\n",
      "\u001b[1m30/30\u001b[0m \u001b[32m━━━━━━━━━━━━━━━━━━━━\u001b[0m\u001b[37m\u001b[0m \u001b[1m0s\u001b[0m 5ms/step - accuracy: 0.6078 - loss: 1.1275 - val_accuracy: 0.5907 - val_loss: 1.0852 - learning_rate: 0.0010\n",
      "Epoch 58/100\n",
      "\u001b[1m30/30\u001b[0m \u001b[32m━━━━━━━━━━━━━━━━━━━━\u001b[0m\u001b[37m\u001b[0m \u001b[1m0s\u001b[0m 5ms/step - accuracy: 0.5979 - loss: 1.1554 - val_accuracy: 0.6054 - val_loss: 1.0884 - learning_rate: 0.0010\n",
      "Epoch 59/100\n",
      "\u001b[1m30/30\u001b[0m \u001b[32m━━━━━━━━━━━━━━━━━━━━\u001b[0m\u001b[37m\u001b[0m \u001b[1m0s\u001b[0m 4ms/step - accuracy: 0.6233 - loss: 1.1197 - val_accuracy: 0.5907 - val_loss: 1.0805 - learning_rate: 0.0010\n",
      "Epoch 60/100\n",
      "\u001b[1m30/30\u001b[0m \u001b[32m━━━━━━━━━━━━━━━━━━━━\u001b[0m\u001b[37m\u001b[0m \u001b[1m0s\u001b[0m 4ms/step - accuracy: 0.5966 - loss: 1.1486 - val_accuracy: 0.6201 - val_loss: 1.0703 - learning_rate: 0.0010\n",
      "Epoch 61/100\n",
      "\u001b[1m30/30\u001b[0m \u001b[32m━━━━━━━━━━━━━━━━━━━━\u001b[0m\u001b[37m\u001b[0m \u001b[1m0s\u001b[0m 4ms/step - accuracy: 0.5824 - loss: 1.1301 - val_accuracy: 0.5980 - val_loss: 1.0839 - learning_rate: 0.0010\n",
      "Epoch 62/100\n",
      "\u001b[1m30/30\u001b[0m \u001b[32m━━━━━━━━━━━━━━━━━━━━\u001b[0m\u001b[37m\u001b[0m \u001b[1m0s\u001b[0m 4ms/step - accuracy: 0.5935 - loss: 1.0902 - val_accuracy: 0.6078 - val_loss: 1.0992 - learning_rate: 0.0010\n",
      "Epoch 63/100\n",
      "\u001b[1m30/30\u001b[0m \u001b[32m━━━━━━━━━━━━━━━━━━━━\u001b[0m\u001b[37m\u001b[0m \u001b[1m0s\u001b[0m 4ms/step - accuracy: 0.5466 - loss: 1.1692 - val_accuracy: 0.5931 - val_loss: 1.0889 - learning_rate: 0.0010\n",
      "Epoch 64/100\n",
      "\u001b[1m30/30\u001b[0m \u001b[32m━━━━━━━━━━━━━━━━━━━━\u001b[0m\u001b[37m\u001b[0m \u001b[1m0s\u001b[0m 4ms/step - accuracy: 0.6039 - loss: 1.1308 - val_accuracy: 0.6078 - val_loss: 1.1021 - learning_rate: 0.0010\n",
      "Epoch 65/100\n",
      "\u001b[1m15/30\u001b[0m \u001b[32m━━━━━━━━━━\u001b[0m\u001b[37m━━━━━━━━━━\u001b[0m \u001b[1m0s\u001b[0m 4ms/step - accuracy: 0.6026 - loss: 1.0638  \n",
      "Epoch 65: ReduceLROnPlateau reducing learning rate to 0.00020000000949949026.\n",
      "\u001b[1m30/30\u001b[0m \u001b[32m━━━━━━━━━━━━━━━━━━━━\u001b[0m\u001b[37m\u001b[0m \u001b[1m0s\u001b[0m 5ms/step - accuracy: 0.5843 - loss: 1.1001 - val_accuracy: 0.6029 - val_loss: 1.0811 - learning_rate: 0.0010\n",
      "Epoch 66/100\n",
      "\u001b[1m30/30\u001b[0m \u001b[32m━━━━━━━━━━━━━━━━━━━━\u001b[0m\u001b[37m\u001b[0m \u001b[1m0s\u001b[0m 4ms/step - accuracy: 0.5849 - loss: 1.1599 - val_accuracy: 0.5931 - val_loss: 1.0709 - learning_rate: 2.0000e-04\n",
      "Epoch 67/100\n",
      "\u001b[1m30/30\u001b[0m \u001b[32m━━━━━━━━━━━━━━━━━━━━\u001b[0m\u001b[37m\u001b[0m \u001b[1m0s\u001b[0m 5ms/step - accuracy: 0.6013 - loss: 1.0901 - val_accuracy: 0.5931 - val_loss: 1.0640 - learning_rate: 2.0000e-04\n",
      "Epoch 68/100\n",
      "\u001b[1m30/30\u001b[0m \u001b[32m━━━━━━━━━━━━━━━━━━━━\u001b[0m\u001b[37m\u001b[0m \u001b[1m0s\u001b[0m 4ms/step - accuracy: 0.5816 - loss: 1.0971 - val_accuracy: 0.6005 - val_loss: 1.0593 - learning_rate: 2.0000e-04\n",
      "Epoch 69/100\n",
      "\u001b[1m30/30\u001b[0m \u001b[32m━━━━━━━━━━━━━━━━━━━━\u001b[0m\u001b[37m\u001b[0m \u001b[1m0s\u001b[0m 5ms/step - accuracy: 0.5982 - loss: 1.0395 - val_accuracy: 0.5956 - val_loss: 1.0518 - learning_rate: 2.0000e-04\n",
      "Epoch 70/100\n",
      "\u001b[1m30/30\u001b[0m \u001b[32m━━━━━━━━━━━━━━━━━━━━\u001b[0m\u001b[37m\u001b[0m \u001b[1m0s\u001b[0m 4ms/step - accuracy: 0.5747 - loss: 1.1114 - val_accuracy: 0.6054 - val_loss: 1.0563 - learning_rate: 2.0000e-04\n",
      "Epoch 71/100\n",
      "\u001b[1m30/30\u001b[0m \u001b[32m━━━━━━━━━━━━━━━━━━━━\u001b[0m\u001b[37m\u001b[0m \u001b[1m0s\u001b[0m 4ms/step - accuracy: 0.5877 - loss: 1.0447 - val_accuracy: 0.6029 - val_loss: 1.0494 - learning_rate: 2.0000e-04\n",
      "Epoch 72/100\n",
      "\u001b[1m30/30\u001b[0m \u001b[32m━━━━━━━━━━━━━━━━━━━━\u001b[0m\u001b[37m\u001b[0m \u001b[1m0s\u001b[0m 4ms/step - accuracy: 0.6091 - loss: 1.0364 - val_accuracy: 0.6005 - val_loss: 1.0524 - learning_rate: 2.0000e-04\n",
      "Epoch 73/100\n",
      "\u001b[1m30/30\u001b[0m \u001b[32m━━━━━━━━━━━━━━━━━━━━\u001b[0m\u001b[37m\u001b[0m \u001b[1m0s\u001b[0m 5ms/step - accuracy: 0.6241 - loss: 1.0120 - val_accuracy: 0.6005 - val_loss: 1.0476 - learning_rate: 2.0000e-04\n",
      "Epoch 74/100\n",
      "\u001b[1m30/30\u001b[0m \u001b[32m━━━━━━━━━━━━━━━━━━━━\u001b[0m\u001b[37m\u001b[0m \u001b[1m0s\u001b[0m 4ms/step - accuracy: 0.5916 - loss: 1.1068 - val_accuracy: 0.5980 - val_loss: 1.0409 - learning_rate: 2.0000e-04\n",
      "Epoch 75/100\n",
      "\u001b[1m30/30\u001b[0m \u001b[32m━━━━━━━━━━━━━━━━━━━━\u001b[0m\u001b[37m\u001b[0m \u001b[1m0s\u001b[0m 4ms/step - accuracy: 0.6039 - loss: 1.0464 - val_accuracy: 0.6078 - val_loss: 1.0405 - learning_rate: 2.0000e-04\n",
      "Epoch 76/100\n",
      "\u001b[1m30/30\u001b[0m \u001b[32m━━━━━━━━━━━━━━━━━━━━\u001b[0m\u001b[37m\u001b[0m \u001b[1m0s\u001b[0m 5ms/step - accuracy: 0.5886 - loss: 1.0473 - val_accuracy: 0.5931 - val_loss: 1.0342 - learning_rate: 2.0000e-04\n",
      "Epoch 77/100\n",
      "\u001b[1m30/30\u001b[0m \u001b[32m━━━━━━━━━━━━━━━━━━━━\u001b[0m\u001b[37m\u001b[0m \u001b[1m0s\u001b[0m 4ms/step - accuracy: 0.6087 - loss: 1.0276 - val_accuracy: 0.6054 - val_loss: 1.0298 - learning_rate: 2.0000e-04\n",
      "Epoch 78/100\n",
      "\u001b[1m30/30\u001b[0m \u001b[32m━━━━━━━━━━━━━━━━━━━━\u001b[0m\u001b[37m\u001b[0m \u001b[1m0s\u001b[0m 4ms/step - accuracy: 0.5999 - loss: 1.0724 - val_accuracy: 0.6029 - val_loss: 1.0289 - learning_rate: 2.0000e-04\n",
      "Epoch 79/100\n",
      "\u001b[1m30/30\u001b[0m \u001b[32m━━━━━━━━━━━━━━━━━━━━\u001b[0m\u001b[37m\u001b[0m \u001b[1m0s\u001b[0m 4ms/step - accuracy: 0.5983 - loss: 1.0389 - val_accuracy: 0.6054 - val_loss: 1.0239 - learning_rate: 2.0000e-04\n",
      "Epoch 80/100\n",
      "\u001b[1m30/30\u001b[0m \u001b[32m━━━━━━━━━━━━━━━━━━━━\u001b[0m\u001b[37m\u001b[0m \u001b[1m0s\u001b[0m 5ms/step - accuracy: 0.6164 - loss: 1.0281 - val_accuracy: 0.6029 - val_loss: 1.0262 - learning_rate: 2.0000e-04\n",
      "Epoch 81/100\n",
      "\u001b[1m30/30\u001b[0m \u001b[32m━━━━━━━━━━━━━━━━━━━━\u001b[0m\u001b[37m\u001b[0m \u001b[1m0s\u001b[0m 6ms/step - accuracy: 0.5677 - loss: 1.0489 - val_accuracy: 0.6054 - val_loss: 1.0151 - learning_rate: 2.0000e-04\n",
      "Epoch 82/100\n",
      "\u001b[1m30/30\u001b[0m \u001b[32m━━━━━━━━━━━━━━━━━━━━\u001b[0m\u001b[37m\u001b[0m \u001b[1m0s\u001b[0m 8ms/step - accuracy: 0.6326 - loss: 1.0171 - val_accuracy: 0.6127 - val_loss: 1.0156 - learning_rate: 2.0000e-04\n",
      "Epoch 83/100\n",
      "\u001b[1m30/30\u001b[0m \u001b[32m━━━━━━━━━━━━━━━━━━━━\u001b[0m\u001b[37m\u001b[0m \u001b[1m0s\u001b[0m 8ms/step - accuracy: 0.6168 - loss: 1.0160 - val_accuracy: 0.6054 - val_loss: 1.0121 - learning_rate: 2.0000e-04\n",
      "Epoch 84/100\n",
      "\u001b[1m30/30\u001b[0m \u001b[32m━━━━━━━━━━━━━━━━━━━━\u001b[0m\u001b[37m\u001b[0m \u001b[1m0s\u001b[0m 9ms/step - accuracy: 0.6156 - loss: 1.0332 - val_accuracy: 0.6127 - val_loss: 1.0136 - learning_rate: 2.0000e-04\n",
      "Epoch 85/100\n",
      "\u001b[1m30/30\u001b[0m \u001b[32m━━━━━━━━━━━━━━━━━━━━\u001b[0m\u001b[37m\u001b[0m \u001b[1m1s\u001b[0m 8ms/step - accuracy: 0.6607 - loss: 0.9601 - val_accuracy: 0.6078 - val_loss: 1.0278 - learning_rate: 2.0000e-04\n",
      "Epoch 86/100\n",
      "\u001b[1m30/30\u001b[0m \u001b[32m━━━━━━━━━━━━━━━━━━━━\u001b[0m\u001b[37m\u001b[0m \u001b[1m0s\u001b[0m 11ms/step - accuracy: 0.6183 - loss: 1.0112 - val_accuracy: 0.6152 - val_loss: 1.0133 - learning_rate: 2.0000e-04\n",
      "Epoch 87/100\n",
      "\u001b[1m30/30\u001b[0m \u001b[32m━━━━━━━━━━━━━━━━━━━━\u001b[0m\u001b[37m\u001b[0m \u001b[1m1s\u001b[0m 11ms/step - accuracy: 0.5751 - loss: 1.0460 - val_accuracy: 0.6152 - val_loss: 1.0067 - learning_rate: 2.0000e-04\n",
      "Epoch 88/100\n",
      "\u001b[1m30/30\u001b[0m \u001b[32m━━━━━━━━━━━━━━━━━━━━\u001b[0m\u001b[37m\u001b[0m \u001b[1m1s\u001b[0m 12ms/step - accuracy: 0.6143 - loss: 1.0249 - val_accuracy: 0.6152 - val_loss: 1.0164 - learning_rate: 2.0000e-04\n",
      "Epoch 89/100\n",
      "\u001b[1m30/30\u001b[0m \u001b[32m━━━━━━━━━━━━━━━━━━━━\u001b[0m\u001b[37m\u001b[0m \u001b[1m0s\u001b[0m 11ms/step - accuracy: 0.6260 - loss: 0.9842 - val_accuracy: 0.6029 - val_loss: 1.0177 - learning_rate: 2.0000e-04\n",
      "Epoch 90/100\n",
      "\u001b[1m30/30\u001b[0m \u001b[32m━━━━━━━━━━━━━━━━━━━━\u001b[0m\u001b[37m\u001b[0m \u001b[1m1s\u001b[0m 11ms/step - accuracy: 0.6217 - loss: 1.0159 - val_accuracy: 0.5931 - val_loss: 1.0169 - learning_rate: 2.0000e-04\n",
      "Epoch 91/100\n",
      "\u001b[1m30/30\u001b[0m \u001b[32m━━━━━━━━━━━━━━━━━━━━\u001b[0m\u001b[37m\u001b[0m \u001b[1m1s\u001b[0m 9ms/step - accuracy: 0.6085 - loss: 1.0014 - val_accuracy: 0.6103 - val_loss: 1.0121 - learning_rate: 2.0000e-04\n",
      "Epoch 92/100\n",
      "\u001b[1m30/30\u001b[0m \u001b[32m━━━━━━━━━━━━━━━━━━━━\u001b[0m\u001b[37m\u001b[0m \u001b[1m1s\u001b[0m 9ms/step - accuracy: 0.5746 - loss: 1.0418 - val_accuracy: 0.6103 - val_loss: 1.0053 - learning_rate: 2.0000e-04\n",
      "Epoch 93/100\n",
      "\u001b[1m30/30\u001b[0m \u001b[32m━━━━━━━━━━━━━━━━━━━━\u001b[0m\u001b[37m\u001b[0m \u001b[1m1s\u001b[0m 8ms/step - accuracy: 0.5938 - loss: 1.0487 - val_accuracy: 0.6054 - val_loss: 1.0217 - learning_rate: 2.0000e-04\n",
      "Epoch 94/100\n",
      "\u001b[1m30/30\u001b[0m \u001b[32m━━━━━━━━━━━━━━━━━━━━\u001b[0m\u001b[37m\u001b[0m \u001b[1m0s\u001b[0m 4ms/step - accuracy: 0.6155 - loss: 1.0328 - val_accuracy: 0.6029 - val_loss: 1.0215 - learning_rate: 2.0000e-04\n",
      "Epoch 95/100\n",
      "\u001b[1m30/30\u001b[0m \u001b[32m━━━━━━━━━━━━━━━━━━━━\u001b[0m\u001b[37m\u001b[0m \u001b[1m0s\u001b[0m 4ms/step - accuracy: 0.6088 - loss: 1.0174 - val_accuracy: 0.6029 - val_loss: 1.0139 - learning_rate: 2.0000e-04\n",
      "Epoch 96/100\n",
      "\u001b[1m30/30\u001b[0m \u001b[32m━━━━━━━━━━━━━━━━━━━━\u001b[0m\u001b[37m\u001b[0m \u001b[1m0s\u001b[0m 4ms/step - accuracy: 0.6370 - loss: 0.9945 - val_accuracy: 0.6054 - val_loss: 1.0118 - learning_rate: 2.0000e-04\n",
      "Epoch 97/100\n",
      "\u001b[1m17/30\u001b[0m \u001b[32m━━━━━━━━━━━\u001b[0m\u001b[37m━━━━━━━━━\u001b[0m \u001b[1m0s\u001b[0m 3ms/step - accuracy: 0.5714 - loss: 1.1316  \n",
      "Epoch 97: ReduceLROnPlateau reducing learning rate to 4.0000001899898055e-05.\n",
      "\u001b[1m30/30\u001b[0m \u001b[32m━━━━━━━━━━━━━━━━━━━━\u001b[0m\u001b[37m\u001b[0m \u001b[1m0s\u001b[0m 6ms/step - accuracy: 0.5795 - loss: 1.0972 - val_accuracy: 0.6078 - val_loss: 1.0147 - learning_rate: 2.0000e-04\n",
      "Epoch 98/100\n",
      "\u001b[1m30/30\u001b[0m \u001b[32m━━━━━━━━━━━━━━━━━━━━\u001b[0m\u001b[37m\u001b[0m \u001b[1m0s\u001b[0m 4ms/step - accuracy: 0.5931 - loss: 1.0594 - val_accuracy: 0.6127 - val_loss: 1.0123 - learning_rate: 4.0000e-05\n",
      "Epoch 99/100\n",
      "\u001b[1m30/30\u001b[0m \u001b[32m━━━━━━━━━━━━━━━━━━━━\u001b[0m\u001b[37m\u001b[0m \u001b[1m0s\u001b[0m 4ms/step - accuracy: 0.6232 - loss: 0.9827 - val_accuracy: 0.6152 - val_loss: 1.0124 - learning_rate: 4.0000e-05\n",
      "Epoch 100/100\n",
      "\u001b[1m30/30\u001b[0m \u001b[32m━━━━━━━━━━━━━━━━━━━━\u001b[0m\u001b[37m\u001b[0m \u001b[1m0s\u001b[0m 4ms/step - accuracy: 0.5814 - loss: 1.0377 - val_accuracy: 0.6201 - val_loss: 1.0132 - learning_rate: 4.0000e-05\n",
      "\u001b[1m13/13\u001b[0m \u001b[32m━━━━━━━━━━━━━━━━━━━━\u001b[0m\u001b[37m\u001b[0m \u001b[1m0s\u001b[0m 2ms/step - accuracy: 0.6547 - loss: 0.9755 \n",
      "Test Accuracy: 0.6200980544090271\n"
     ]
    }
   ],
   "source": [
    "# Define the model architecture\n",
    "model_try_5 = models.Sequential()\n",
    "\n",
    "# First hidden layer\n",
    "model_try_5.add(layers.Dense(64, activation='relu', input_shape=(X_train_scaled.shape[1],),\n",
    "                           kernel_regularizer=regularizers.l1_l2(l1=0.01, l2=0.001)))\n",
    "model_try_5.add(layers.Dropout(0.4))\n",
    "model_try_5.add(layers.BatchNormalization())\n",
    "\n",
    "# Second hidden layer\n",
    "model_try_5.add(layers.Dense(32, activation='tanh',\n",
    "                             kernel_regularizer=regularizers.l1_l2(l1=0.01, l2=0.001))) # Changed activation function\n",
    "model_try_5.add(layers.Dropout(0.3)) # Adjusted dropout rate\n",
    "model_try_5.add(layers.BatchNormalization())\n",
    "\n",
    "# Third hidden layer\n",
    "model_try_5.add(layers.Dense(16, activation='relu',\n",
    "                             kernel_regularizer=regularizers.l1_l2(l1=0.01, l2=0.001)))\n",
    "model_try_5.add(layers.Dropout(0.2)) # Adjusted dropout rate\n",
    "model_try_5.add(layers.BatchNormalization())\n",
    "\n",
    "# Output layer\n",
    "model_try_5.add(layers.Dense(6, activation='softmax'))\n",
    "\n",
    "# Compile the model\n",
    "optimizer = optimizers.Adam(learning_rate=0.001)\n",
    "model_try_5.compile(loss=\"categorical_crossentropy\", metrics=[\"accuracy\"], optimizer=optimizer)\n",
    "\n",
    "# Define early stopping and learning rate scheduler\n",
    "early_stopping = EarlyStopping(monitor='val_loss', patience=15) # Increased patience\n",
    "lr_schedule = ReduceLROnPlateau(monitor='val_loss', factor=0.2, patience=5, verbose=1)\n",
    "\n",
    "# Train the model\n",
    "history_try_5 = model_try_5.fit(x=X_train_scaled, y=Y_train_encoded,\n",
    "                            batch_size=32, epochs=100,\n",
    "                            validation_data=(X_test_scaled, Y_test_encoded),\n",
    "                            callbacks=[early_stopping, lr_schedule])\n",
    "\n",
    "results_try_5 = model_try_5.evaluate(X_test_scaled, Y_test_encoded)\n",
    "print(f\"Test Accuracy: {results_try_5[1]}\")"
   ]
  },
  {
   "cell_type": "code",
   "execution_count": 30,
   "metadata": {
    "colab": {
     "base_uri": "https://localhost:8080/"
    },
    "executionInfo": {
     "elapsed": 22759,
     "status": "ok",
     "timestamp": 1725774409233,
     "user": {
      "displayName": "Jannet Akanksha Ekka",
      "userId": "04295694532301703575"
     },
     "user_tz": -330
    },
    "id": "uSx1MLS_9Ewt",
    "outputId": "ac1d21bb-7006-4fcd-f923-f95a31635414"
   },
   "outputs": [
    {
     "name": "stdout",
     "output_type": "stream",
     "text": [
      "Epoch 1/100\n",
      "\u001b[1m30/30\u001b[0m \u001b[32m━━━━━━━━━━━━━━━━━━━━\u001b[0m\u001b[37m\u001b[0m \u001b[1m4s\u001b[0m 16ms/step - accuracy: 0.1575 - loss: 2.3950 - val_accuracy: 0.3603 - val_loss: 1.8476 - learning_rate: 0.0010\n",
      "Epoch 2/100\n",
      "\u001b[1m30/30\u001b[0m \u001b[32m━━━━━━━━━━━━━━━━━━━━\u001b[0m\u001b[37m\u001b[0m \u001b[1m0s\u001b[0m 5ms/step - accuracy: 0.2178 - loss: 2.1477 - val_accuracy: 0.4926 - val_loss: 1.7093 - learning_rate: 0.0010\n",
      "Epoch 3/100\n",
      "\u001b[1m30/30\u001b[0m \u001b[32m━━━━━━━━━━━━━━━━━━━━\u001b[0m\u001b[37m\u001b[0m \u001b[1m0s\u001b[0m 5ms/step - accuracy: 0.3031 - loss: 1.9416 - val_accuracy: 0.5221 - val_loss: 1.5989 - learning_rate: 0.0010\n",
      "Epoch 4/100\n",
      "\u001b[1m30/30\u001b[0m \u001b[32m━━━━━━━━━━━━━━━━━━━━\u001b[0m\u001b[37m\u001b[0m \u001b[1m0s\u001b[0m 5ms/step - accuracy: 0.3371 - loss: 1.8424 - val_accuracy: 0.5417 - val_loss: 1.5089 - learning_rate: 0.0010\n",
      "Epoch 5/100\n",
      "\u001b[1m30/30\u001b[0m \u001b[32m━━━━━━━━━━━━━━━━━━━━\u001b[0m\u001b[37m\u001b[0m \u001b[1m0s\u001b[0m 5ms/step - accuracy: 0.4393 - loss: 1.6782 - val_accuracy: 0.5245 - val_loss: 1.4447 - learning_rate: 0.0010\n",
      "Epoch 6/100\n",
      "\u001b[1m30/30\u001b[0m \u001b[32m━━━━━━━━━━━━━━━━━━━━\u001b[0m\u001b[37m\u001b[0m \u001b[1m0s\u001b[0m 7ms/step - accuracy: 0.4218 - loss: 1.6770 - val_accuracy: 0.5319 - val_loss: 1.4035 - learning_rate: 0.0010\n",
      "Epoch 7/100\n",
      "\u001b[1m30/30\u001b[0m \u001b[32m━━━━━━━━━━━━━━━━━━━━\u001b[0m\u001b[37m\u001b[0m \u001b[1m0s\u001b[0m 5ms/step - accuracy: 0.4383 - loss: 1.5992 - val_accuracy: 0.5613 - val_loss: 1.3589 - learning_rate: 0.0010\n",
      "Epoch 8/100\n",
      "\u001b[1m30/30\u001b[0m \u001b[32m━━━━━━━━━━━━━━━━━━━━\u001b[0m\u001b[37m\u001b[0m \u001b[1m0s\u001b[0m 5ms/step - accuracy: 0.4874 - loss: 1.5151 - val_accuracy: 0.5760 - val_loss: 1.3217 - learning_rate: 0.0010\n",
      "Epoch 9/100\n",
      "\u001b[1m30/30\u001b[0m \u001b[32m━━━━━━━━━━━━━━━━━━━━\u001b[0m\u001b[37m\u001b[0m \u001b[1m0s\u001b[0m 5ms/step - accuracy: 0.5083 - loss: 1.4767 - val_accuracy: 0.5760 - val_loss: 1.2815 - learning_rate: 0.0010\n",
      "Epoch 10/100\n",
      "\u001b[1m30/30\u001b[0m \u001b[32m━━━━━━━━━━━━━━━━━━━━\u001b[0m\u001b[37m\u001b[0m \u001b[1m0s\u001b[0m 5ms/step - accuracy: 0.5164 - loss: 1.4550 - val_accuracy: 0.5931 - val_loss: 1.2431 - learning_rate: 0.0010\n",
      "Epoch 11/100\n",
      "\u001b[1m30/30\u001b[0m \u001b[32m━━━━━━━━━━━━━━━━━━━━\u001b[0m\u001b[37m\u001b[0m \u001b[1m0s\u001b[0m 5ms/step - accuracy: 0.5030 - loss: 1.4036 - val_accuracy: 0.6005 - val_loss: 1.2152 - learning_rate: 0.0010\n",
      "Epoch 12/100\n",
      "\u001b[1m30/30\u001b[0m \u001b[32m━━━━━━━━━━━━━━━━━━━━\u001b[0m\u001b[37m\u001b[0m \u001b[1m0s\u001b[0m 5ms/step - accuracy: 0.4803 - loss: 1.4017 - val_accuracy: 0.5956 - val_loss: 1.1886 - learning_rate: 0.0010\n",
      "Epoch 13/100\n",
      "\u001b[1m30/30\u001b[0m \u001b[32m━━━━━━━━━━━━━━━━━━━━\u001b[0m\u001b[37m\u001b[0m \u001b[1m0s\u001b[0m 5ms/step - accuracy: 0.5257 - loss: 1.3514 - val_accuracy: 0.6005 - val_loss: 1.1781 - learning_rate: 0.0010\n",
      "Epoch 14/100\n",
      "\u001b[1m30/30\u001b[0m \u001b[32m━━━━━━━━━━━━━━━━━━━━\u001b[0m\u001b[37m\u001b[0m \u001b[1m0s\u001b[0m 4ms/step - accuracy: 0.5677 - loss: 1.2844 - val_accuracy: 0.6005 - val_loss: 1.1658 - learning_rate: 0.0010\n",
      "Epoch 15/100\n",
      "\u001b[1m30/30\u001b[0m \u001b[32m━━━━━━━━━━━━━━━━━━━━\u001b[0m\u001b[37m\u001b[0m \u001b[1m0s\u001b[0m 7ms/step - accuracy: 0.5295 - loss: 1.3140 - val_accuracy: 0.6005 - val_loss: 1.1488 - learning_rate: 0.0010\n",
      "Epoch 16/100\n",
      "\u001b[1m30/30\u001b[0m \u001b[32m━━━━━━━━━━━━━━━━━━━━\u001b[0m\u001b[37m\u001b[0m \u001b[1m0s\u001b[0m 9ms/step - accuracy: 0.5310 - loss: 1.3185 - val_accuracy: 0.5931 - val_loss: 1.1417 - learning_rate: 0.0010\n",
      "Epoch 17/100\n",
      "\u001b[1m30/30\u001b[0m \u001b[32m━━━━━━━━━━━━━━━━━━━━\u001b[0m\u001b[37m\u001b[0m \u001b[1m0s\u001b[0m 9ms/step - accuracy: 0.5620 - loss: 1.2365 - val_accuracy: 0.6029 - val_loss: 1.1311 - learning_rate: 0.0010\n",
      "Epoch 18/100\n",
      "\u001b[1m30/30\u001b[0m \u001b[32m━━━━━━━━━━━━━━━━━━━━\u001b[0m\u001b[37m\u001b[0m \u001b[1m0s\u001b[0m 7ms/step - accuracy: 0.5620 - loss: 1.2676 - val_accuracy: 0.5956 - val_loss: 1.1275 - learning_rate: 0.0010\n",
      "Epoch 19/100\n",
      "\u001b[1m30/30\u001b[0m \u001b[32m━━━━━━━━━━━━━━━━━━━━\u001b[0m\u001b[37m\u001b[0m \u001b[1m0s\u001b[0m 8ms/step - accuracy: 0.5651 - loss: 1.2563 - val_accuracy: 0.6005 - val_loss: 1.1220 - learning_rate: 0.0010\n",
      "Epoch 20/100\n",
      "\u001b[1m30/30\u001b[0m \u001b[32m━━━━━━━━━━━━━━━━━━━━\u001b[0m\u001b[37m\u001b[0m \u001b[1m0s\u001b[0m 9ms/step - accuracy: 0.5599 - loss: 1.2504 - val_accuracy: 0.5956 - val_loss: 1.1178 - learning_rate: 0.0010\n",
      "Epoch 21/100\n",
      "\u001b[1m30/30\u001b[0m \u001b[32m━━━━━━━━━━━━━━━━━━━━\u001b[0m\u001b[37m\u001b[0m \u001b[1m0s\u001b[0m 7ms/step - accuracy: 0.5466 - loss: 1.2279 - val_accuracy: 0.5931 - val_loss: 1.1103 - learning_rate: 0.0010\n",
      "Epoch 22/100\n",
      "\u001b[1m30/30\u001b[0m \u001b[32m━━━━━━━━━━━━━━━━━━━━\u001b[0m\u001b[37m\u001b[0m \u001b[1m0s\u001b[0m 8ms/step - accuracy: 0.5569 - loss: 1.2325 - val_accuracy: 0.5907 - val_loss: 1.1020 - learning_rate: 0.0010\n",
      "Epoch 23/100\n",
      "\u001b[1m30/30\u001b[0m \u001b[32m━━━━━━━━━━━━━━━━━━━━\u001b[0m\u001b[37m\u001b[0m \u001b[1m0s\u001b[0m 7ms/step - accuracy: 0.5740 - loss: 1.2498 - val_accuracy: 0.5907 - val_loss: 1.0961 - learning_rate: 0.0010\n",
      "Epoch 24/100\n",
      "\u001b[1m30/30\u001b[0m \u001b[32m━━━━━━━━━━━━━━━━━━━━\u001b[0m\u001b[37m\u001b[0m \u001b[1m0s\u001b[0m 9ms/step - accuracy: 0.5294 - loss: 1.2123 - val_accuracy: 0.5980 - val_loss: 1.0893 - learning_rate: 0.0010\n",
      "Epoch 25/100\n",
      "\u001b[1m30/30\u001b[0m \u001b[32m━━━━━━━━━━━━━━━━━━━━\u001b[0m\u001b[37m\u001b[0m \u001b[1m0s\u001b[0m 9ms/step - accuracy: 0.5494 - loss: 1.2484 - val_accuracy: 0.5907 - val_loss: 1.0876 - learning_rate: 0.0010\n",
      "Epoch 26/100\n",
      "\u001b[1m30/30\u001b[0m \u001b[32m━━━━━━━━━━━━━━━━━━━━\u001b[0m\u001b[37m\u001b[0m \u001b[1m1s\u001b[0m 10ms/step - accuracy: 0.5504 - loss: 1.1710 - val_accuracy: 0.5980 - val_loss: 1.0831 - learning_rate: 0.0010\n",
      "Epoch 27/100\n",
      "\u001b[1m30/30\u001b[0m \u001b[32m━━━━━━━━━━━━━━━━━━━━\u001b[0m\u001b[37m\u001b[0m \u001b[1m0s\u001b[0m 5ms/step - accuracy: 0.5494 - loss: 1.1524 - val_accuracy: 0.6029 - val_loss: 1.0780 - learning_rate: 0.0010\n",
      "Epoch 28/100\n",
      "\u001b[1m30/30\u001b[0m \u001b[32m━━━━━━━━━━━━━━━━━━━━\u001b[0m\u001b[37m\u001b[0m \u001b[1m0s\u001b[0m 5ms/step - accuracy: 0.5605 - loss: 1.1732 - val_accuracy: 0.6029 - val_loss: 1.0725 - learning_rate: 0.0010\n",
      "Epoch 29/100\n",
      "\u001b[1m30/30\u001b[0m \u001b[32m━━━━━━━━━━━━━━━━━━━━\u001b[0m\u001b[37m\u001b[0m \u001b[1m0s\u001b[0m 5ms/step - accuracy: 0.5908 - loss: 1.1659 - val_accuracy: 0.6054 - val_loss: 1.0684 - learning_rate: 0.0010\n",
      "Epoch 30/100\n",
      "\u001b[1m30/30\u001b[0m \u001b[32m━━━━━━━━━━━━━━━━━━━━\u001b[0m\u001b[37m\u001b[0m \u001b[1m0s\u001b[0m 5ms/step - accuracy: 0.5337 - loss: 1.1751 - val_accuracy: 0.6054 - val_loss: 1.0668 - learning_rate: 0.0010\n",
      "Epoch 31/100\n",
      "\u001b[1m30/30\u001b[0m \u001b[32m━━━━━━━━━━━━━━━━━━━━\u001b[0m\u001b[37m\u001b[0m \u001b[1m0s\u001b[0m 5ms/step - accuracy: 0.5712 - loss: 1.1638 - val_accuracy: 0.6078 - val_loss: 1.0647 - learning_rate: 0.0010\n",
      "Epoch 32/100\n",
      "\u001b[1m30/30\u001b[0m \u001b[32m━━━━━━━━━━━━━━━━━━━━\u001b[0m\u001b[37m\u001b[0m \u001b[1m0s\u001b[0m 5ms/step - accuracy: 0.5503 - loss: 1.1790 - val_accuracy: 0.6078 - val_loss: 1.0632 - learning_rate: 0.0010\n",
      "Epoch 33/100\n",
      "\u001b[1m30/30\u001b[0m \u001b[32m━━━━━━━━━━━━━━━━━━━━\u001b[0m\u001b[37m\u001b[0m \u001b[1m0s\u001b[0m 6ms/step - accuracy: 0.5575 - loss: 1.1868 - val_accuracy: 0.6078 - val_loss: 1.0632 - learning_rate: 0.0010\n",
      "Epoch 34/100\n",
      "\u001b[1m30/30\u001b[0m \u001b[32m━━━━━━━━━━━━━━━━━━━━\u001b[0m\u001b[37m\u001b[0m \u001b[1m0s\u001b[0m 7ms/step - accuracy: 0.5739 - loss: 1.1298 - val_accuracy: 0.6103 - val_loss: 1.0578 - learning_rate: 0.0010\n",
      "Epoch 35/100\n",
      "\u001b[1m30/30\u001b[0m \u001b[32m━━━━━━━━━━━━━━━━━━━━\u001b[0m\u001b[37m\u001b[0m \u001b[1m0s\u001b[0m 5ms/step - accuracy: 0.5552 - loss: 1.1442 - val_accuracy: 0.6078 - val_loss: 1.0529 - learning_rate: 0.0010\n",
      "Epoch 36/100\n",
      "\u001b[1m30/30\u001b[0m \u001b[32m━━━━━━━━━━━━━━━━━━━━\u001b[0m\u001b[37m\u001b[0m \u001b[1m0s\u001b[0m 5ms/step - accuracy: 0.5647 - loss: 1.1849 - val_accuracy: 0.6250 - val_loss: 1.0532 - learning_rate: 0.0010\n",
      "Epoch 37/100\n",
      "\u001b[1m30/30\u001b[0m \u001b[32m━━━━━━━━━━━━━━━━━━━━\u001b[0m\u001b[37m\u001b[0m \u001b[1m0s\u001b[0m 6ms/step - accuracy: 0.5804 - loss: 1.1341 - val_accuracy: 0.6176 - val_loss: 1.0491 - learning_rate: 0.0010\n",
      "Epoch 38/100\n",
      "\u001b[1m30/30\u001b[0m \u001b[32m━━━━━━━━━━━━━━━━━━━━\u001b[0m\u001b[37m\u001b[0m \u001b[1m0s\u001b[0m 5ms/step - accuracy: 0.5903 - loss: 1.0972 - val_accuracy: 0.6324 - val_loss: 1.0471 - learning_rate: 0.0010\n",
      "Epoch 39/100\n",
      "\u001b[1m30/30\u001b[0m \u001b[32m━━━━━━━━━━━━━━━━━━━━\u001b[0m\u001b[37m\u001b[0m \u001b[1m0s\u001b[0m 6ms/step - accuracy: 0.6045 - loss: 1.1041 - val_accuracy: 0.6152 - val_loss: 1.0444 - learning_rate: 0.0010\n",
      "Epoch 40/100\n",
      "\u001b[1m30/30\u001b[0m \u001b[32m━━━━━━━━━━━━━━━━━━━━\u001b[0m\u001b[37m\u001b[0m \u001b[1m0s\u001b[0m 5ms/step - accuracy: 0.5564 - loss: 1.1665 - val_accuracy: 0.6152 - val_loss: 1.0395 - learning_rate: 0.0010\n",
      "Epoch 41/100\n",
      "\u001b[1m30/30\u001b[0m \u001b[32m━━━━━━━━━━━━━━━━━━━━\u001b[0m\u001b[37m\u001b[0m \u001b[1m0s\u001b[0m 6ms/step - accuracy: 0.5919 - loss: 1.1326 - val_accuracy: 0.6250 - val_loss: 1.0348 - learning_rate: 0.0010\n",
      "Epoch 42/100\n",
      "\u001b[1m30/30\u001b[0m \u001b[32m━━━━━━━━━━━━━━━━━━━━\u001b[0m\u001b[37m\u001b[0m \u001b[1m0s\u001b[0m 5ms/step - accuracy: 0.5661 - loss: 1.1211 - val_accuracy: 0.6152 - val_loss: 1.0341 - learning_rate: 0.0010\n",
      "Epoch 43/100\n",
      "\u001b[1m30/30\u001b[0m \u001b[32m━━━━━━━━━━━━━━━━━━━━\u001b[0m\u001b[37m\u001b[0m \u001b[1m0s\u001b[0m 6ms/step - accuracy: 0.5637 - loss: 1.1309 - val_accuracy: 0.6176 - val_loss: 1.0351 - learning_rate: 0.0010\n",
      "Epoch 44/100\n",
      "\u001b[1m30/30\u001b[0m \u001b[32m━━━━━━━━━━━━━━━━━━━━\u001b[0m\u001b[37m\u001b[0m \u001b[1m0s\u001b[0m 5ms/step - accuracy: 0.5682 - loss: 1.1605 - val_accuracy: 0.6176 - val_loss: 1.0336 - learning_rate: 0.0010\n",
      "Epoch 45/100\n",
      "\u001b[1m30/30\u001b[0m \u001b[32m━━━━━━━━━━━━━━━━━━━━\u001b[0m\u001b[37m\u001b[0m \u001b[1m0s\u001b[0m 7ms/step - accuracy: 0.5825 - loss: 1.1413 - val_accuracy: 0.6201 - val_loss: 1.0319 - learning_rate: 0.0010\n",
      "Epoch 46/100\n",
      "\u001b[1m30/30\u001b[0m \u001b[32m━━━━━━━━━━━━━━━━━━━━\u001b[0m\u001b[37m\u001b[0m \u001b[1m0s\u001b[0m 6ms/step - accuracy: 0.5635 - loss: 1.1480 - val_accuracy: 0.6176 - val_loss: 1.0283 - learning_rate: 0.0010\n",
      "Epoch 47/100\n",
      "\u001b[1m30/30\u001b[0m \u001b[32m━━━━━━━━━━━━━━━━━━━━\u001b[0m\u001b[37m\u001b[0m \u001b[1m0s\u001b[0m 6ms/step - accuracy: 0.5469 - loss: 1.1227 - val_accuracy: 0.6225 - val_loss: 1.0281 - learning_rate: 0.0010\n",
      "Epoch 48/100\n",
      "\u001b[1m30/30\u001b[0m \u001b[32m━━━━━━━━━━━━━━━━━━━━\u001b[0m\u001b[37m\u001b[0m \u001b[1m0s\u001b[0m 5ms/step - accuracy: 0.5821 - loss: 1.0962 - val_accuracy: 0.6103 - val_loss: 1.0210 - learning_rate: 0.0010\n",
      "Epoch 49/100\n",
      "\u001b[1m30/30\u001b[0m \u001b[32m━━━━━━━━━━━━━━━━━━━━\u001b[0m\u001b[37m\u001b[0m \u001b[1m0s\u001b[0m 5ms/step - accuracy: 0.5433 - loss: 1.1457 - val_accuracy: 0.6127 - val_loss: 1.0145 - learning_rate: 0.0010\n",
      "Epoch 50/100\n",
      "\u001b[1m30/30\u001b[0m \u001b[32m━━━━━━━━━━━━━━━━━━━━\u001b[0m\u001b[37m\u001b[0m \u001b[1m0s\u001b[0m 5ms/step - accuracy: 0.5514 - loss: 1.1305 - val_accuracy: 0.6275 - val_loss: 1.0141 - learning_rate: 0.0010\n",
      "Epoch 51/100\n",
      "\u001b[1m30/30\u001b[0m \u001b[32m━━━━━━━━━━━━━━━━━━━━\u001b[0m\u001b[37m\u001b[0m \u001b[1m0s\u001b[0m 5ms/step - accuracy: 0.5874 - loss: 1.0859 - val_accuracy: 0.6348 - val_loss: 1.0098 - learning_rate: 0.0010\n",
      "Epoch 52/100\n",
      "\u001b[1m30/30\u001b[0m \u001b[32m━━━━━━━━━━━━━━━━━━━━\u001b[0m\u001b[37m\u001b[0m \u001b[1m0s\u001b[0m 5ms/step - accuracy: 0.5859 - loss: 1.0847 - val_accuracy: 0.6250 - val_loss: 1.0103 - learning_rate: 0.0010\n",
      "Epoch 53/100\n",
      "\u001b[1m30/30\u001b[0m \u001b[32m━━━━━━━━━━━━━━━━━━━━\u001b[0m\u001b[37m\u001b[0m \u001b[1m0s\u001b[0m 5ms/step - accuracy: 0.5885 - loss: 1.0711 - val_accuracy: 0.6176 - val_loss: 1.0072 - learning_rate: 0.0010\n",
      "Epoch 54/100\n",
      "\u001b[1m30/30\u001b[0m \u001b[32m━━━━━━━━━━━━━━━━━━━━\u001b[0m\u001b[37m\u001b[0m \u001b[1m0s\u001b[0m 5ms/step - accuracy: 0.5697 - loss: 1.0866 - val_accuracy: 0.6397 - val_loss: 1.0107 - learning_rate: 0.0010\n",
      "Epoch 55/100\n",
      "\u001b[1m30/30\u001b[0m \u001b[32m━━━━━━━━━━━━━━━━━━━━\u001b[0m\u001b[37m\u001b[0m \u001b[1m0s\u001b[0m 5ms/step - accuracy: 0.5783 - loss: 1.1284 - val_accuracy: 0.6422 - val_loss: 1.0136 - learning_rate: 0.0010\n",
      "Epoch 56/100\n",
      "\u001b[1m30/30\u001b[0m \u001b[32m━━━━━━━━━━━━━━━━━━━━\u001b[0m\u001b[37m\u001b[0m \u001b[1m0s\u001b[0m 5ms/step - accuracy: 0.5936 - loss: 1.0590 - val_accuracy: 0.6495 - val_loss: 1.0149 - learning_rate: 0.0010\n",
      "Epoch 57/100\n",
      "\u001b[1m30/30\u001b[0m \u001b[32m━━━━━━━━━━━━━━━━━━━━\u001b[0m\u001b[37m\u001b[0m \u001b[1m0s\u001b[0m 5ms/step - accuracy: 0.5514 - loss: 1.0970 - val_accuracy: 0.6422 - val_loss: 1.0141 - learning_rate: 0.0010\n",
      "Epoch 58/100\n",
      "\u001b[1m26/30\u001b[0m \u001b[32m━━━━━━━━━━━━━━━━━\u001b[0m\u001b[37m━━━\u001b[0m \u001b[1m0s\u001b[0m 4ms/step - accuracy: 0.5625 - loss: 1.1120\n",
      "Epoch 58: ReduceLROnPlateau reducing learning rate to 0.00020000000949949026.\n",
      "\u001b[1m30/30\u001b[0m \u001b[32m━━━━━━━━━━━━━━━━━━━━\u001b[0m\u001b[37m\u001b[0m \u001b[1m0s\u001b[0m 6ms/step - accuracy: 0.5647 - loss: 1.1098 - val_accuracy: 0.6324 - val_loss: 1.0144 - learning_rate: 0.0010\n",
      "Epoch 59/100\n",
      "\u001b[1m30/30\u001b[0m \u001b[32m━━━━━━━━━━━━━━━━━━━━\u001b[0m\u001b[37m\u001b[0m \u001b[1m0s\u001b[0m 7ms/step - accuracy: 0.5786 - loss: 1.1204 - val_accuracy: 0.6373 - val_loss: 1.0134 - learning_rate: 2.0000e-04\n",
      "Epoch 60/100\n",
      "\u001b[1m30/30\u001b[0m \u001b[32m━━━━━━━━━━━━━━━━━━━━\u001b[0m\u001b[37m\u001b[0m \u001b[1m0s\u001b[0m 5ms/step - accuracy: 0.6029 - loss: 1.0782 - val_accuracy: 0.6397 - val_loss: 1.0122 - learning_rate: 2.0000e-04\n",
      "Epoch 61/100\n",
      "\u001b[1m30/30\u001b[0m \u001b[32m━━━━━━━━━━━━━━━━━━━━\u001b[0m\u001b[37m\u001b[0m \u001b[1m0s\u001b[0m 5ms/step - accuracy: 0.6026 - loss: 1.0634 - val_accuracy: 0.6446 - val_loss: 1.0117 - learning_rate: 2.0000e-04\n",
      "Epoch 62/100\n",
      "\u001b[1m30/30\u001b[0m \u001b[32m━━━━━━━━━━━━━━━━━━━━\u001b[0m\u001b[37m\u001b[0m \u001b[1m0s\u001b[0m 5ms/step - accuracy: 0.6041 - loss: 1.0192 - val_accuracy: 0.6397 - val_loss: 1.0115 - learning_rate: 2.0000e-04\n",
      "Epoch 63/100\n",
      "\u001b[1m30/30\u001b[0m \u001b[32m━━━━━━━━━━━━━━━━━━━━\u001b[0m\u001b[37m\u001b[0m \u001b[1m0s\u001b[0m 4ms/step - accuracy: 0.5684 - loss: 1.0835\n",
      "Epoch 63: ReduceLROnPlateau reducing learning rate to 4.0000001899898055e-05.\n",
      "\u001b[1m30/30\u001b[0m \u001b[32m━━━━━━━━━━━━━━━━━━━━\u001b[0m\u001b[37m\u001b[0m \u001b[1m0s\u001b[0m 5ms/step - accuracy: 0.5686 - loss: 1.0831 - val_accuracy: 0.6495 - val_loss: 1.0105 - learning_rate: 2.0000e-04\n",
      "Epoch 64/100\n",
      "\u001b[1m30/30\u001b[0m \u001b[32m━━━━━━━━━━━━━━━━━━━━\u001b[0m\u001b[37m\u001b[0m \u001b[1m0s\u001b[0m 5ms/step - accuracy: 0.5921 - loss: 1.0489 - val_accuracy: 0.6446 - val_loss: 1.0106 - learning_rate: 4.0000e-05\n",
      "Epoch 65/100\n",
      "\u001b[1m30/30\u001b[0m \u001b[32m━━━━━━━━━━━━━━━━━━━━\u001b[0m\u001b[37m\u001b[0m \u001b[1m0s\u001b[0m 5ms/step - accuracy: 0.6011 - loss: 1.0567 - val_accuracy: 0.6471 - val_loss: 1.0100 - learning_rate: 4.0000e-05\n",
      "Epoch 66/100\n",
      "\u001b[1m30/30\u001b[0m \u001b[32m━━━━━━━━━━━━━━━━━━━━\u001b[0m\u001b[37m\u001b[0m \u001b[1m0s\u001b[0m 7ms/step - accuracy: 0.6037 - loss: 1.0600 - val_accuracy: 0.6422 - val_loss: 1.0099 - learning_rate: 4.0000e-05\n",
      "Epoch 67/100\n",
      "\u001b[1m30/30\u001b[0m \u001b[32m━━━━━━━━━━━━━━━━━━━━\u001b[0m\u001b[37m\u001b[0m \u001b[1m0s\u001b[0m 8ms/step - accuracy: 0.6065 - loss: 1.0471 - val_accuracy: 0.6422 - val_loss: 1.0097 - learning_rate: 4.0000e-05\n",
      "Epoch 68/100\n",
      "\u001b[1m27/30\u001b[0m \u001b[32m━━━━━━━━━━━━━━━━━━\u001b[0m\u001b[37m━━\u001b[0m \u001b[1m0s\u001b[0m 6ms/step - accuracy: 0.5743 - loss: 1.0903\n",
      "Epoch 68: ReduceLROnPlateau reducing learning rate to 8.000000525498762e-06.\n",
      "\u001b[1m30/30\u001b[0m \u001b[32m━━━━━━━━━━━━━━━━━━━━\u001b[0m\u001b[37m\u001b[0m \u001b[1m0s\u001b[0m 8ms/step - accuracy: 0.5774 - loss: 1.0885 - val_accuracy: 0.6495 - val_loss: 1.0091 - learning_rate: 4.0000e-05\n",
      "\u001b[1m13/13\u001b[0m \u001b[32m━━━━━━━━━━━━━━━━━━━━\u001b[0m\u001b[37m\u001b[0m \u001b[1m0s\u001b[0m 3ms/step - accuracy: 0.6771 - loss: 0.9702 \n",
      "Test Accuracy: 0.6495097875595093\n"
     ]
    }
   ],
   "source": [
    "# Define the model architecture\n",
    "model_try_6 = models.Sequential()\n",
    "\n",
    "# First hidden layer\n",
    "model_try_6.add(layers.Dense(128, activation='relu', input_shape=(X_train_scaled.shape[1],),\n",
    "                           kernel_regularizer=regularizers.l2(0.001)))\n",
    "model_try_6.add(layers.Dropout(0.5))\n",
    "model_try_6.add(layers.BatchNormalization())\n",
    "\n",
    "# Second hidden layer\n",
    "model_try_6.add(layers.Dense(64, activation='tanh', kernel_regularizer=regularizers.l2(0.001))) # Changed activation function\n",
    "model_try_6.add(layers.Dropout(0.4)) # Adjusted dropout rate\n",
    "model_try_6.add(layers.BatchNormalization())\n",
    "\n",
    "# Third hidden layer\n",
    "model_try_6.add(layers.Dense(32, activation='tanh', kernel_regularizer=regularizers.l2(0.001)))\n",
    "model_try_6.add(layers.Dropout(0.3)) # Adjusted dropout rate\n",
    "model_try_6.add(layers.BatchNormalization())\n",
    "\n",
    "# Fourth hidden layer\n",
    "model_try_6.add(layers.Dense(16, activation='relu', kernel_regularizer=regularizers.l2(0.001)))\n",
    "model_try_6.add(layers.Dropout(0.2)) # Adjusted dropout rate\n",
    "model_try_6.add(layers.BatchNormalization())\n",
    "\n",
    "# Output layer\n",
    "model_try_6.add(layers.Dense(6, activation='softmax'))\n",
    "\n",
    "# Compile the model\n",
    "optimizer = optimizers.Adam(learning_rate=0.001)\n",
    "model_try_6.compile(loss=\"categorical_crossentropy\", metrics=[\"accuracy\"], optimizer=optimizer)\n",
    "\n",
    "# Define early stopping and learning rate scheduler\n",
    "early_stopping = EarlyStopping(monitor='val_loss', patience=15) # Increased patience\n",
    "lr_schedule = ReduceLROnPlateau(monitor='val_loss', factor=0.2, patience=5, verbose=1)\n",
    "\n",
    "# Train the model\n",
    "history_try_6 = model_try_6.fit(x=X_train_scaled, y=Y_train_encoded,\n",
    "                            batch_size=32, epochs=100,\n",
    "                            validation_data=(X_test_scaled, Y_test_encoded),\n",
    "                            callbacks=[early_stopping, lr_schedule])\n",
    "\n",
    "results_try_6 = model_try_6.evaluate(X_test_scaled, Y_test_encoded)\n",
    "print(f\"Test Accuracy: {results_try_6[1]}\")"
   ]
  },
  {
   "cell_type": "markdown",
   "metadata": {
    "id": "XD1CU2p9B0lp"
   },
   "source": [
    "E. Plot visuals as in Q3.C and share insights about difference observed in both the models."
   ]
  },
  {
   "cell_type": "code",
   "execution_count": 31,
   "metadata": {
    "colab": {
     "base_uri": "https://localhost:8080/",
     "height": 564
    },
    "executionInfo": {
     "elapsed": 1626,
     "status": "ok",
     "timestamp": 1725774410840,
     "user": {
      "displayName": "Jannet Akanksha Ekka",
      "userId": "04295694532301703575"
     },
     "user_tz": -330
    },
    "id": "n55spnoyVvLC",
    "outputId": "d18a9d85-6aa2-41e2-fb13-9323fb4bf1ce"
   },
   "outputs": [
    {
     "data": {
      "image/png": "[encoded data removed]",
      "text/plain": [
       "<Figure size 1400x600 with 2 Axes>"
      ]
     },
     "metadata": {},
     "output_type": "display_data"
    }
   ],
   "source": [
    "# Plotting training and validation loss\n",
    "plt.figure(figsize=(14, 6))\n",
    "\n",
    "# Loss\n",
    "plt.subplot(1, 2, 1)\n",
    "plt.plot(history_try_6.history['loss'], label='Training Loss')\n",
    "plt.plot(history_try_6.history['val_loss'], label='Validation Loss')\n",
    "plt.title('Best New Model: Training and Validation Loss')\n",
    "plt.xlabel('Epochs')\n",
    "plt.ylabel('Loss')\n",
    "plt.legend()\n",
    "\n",
    "# Accuracy\n",
    "plt.subplot(1, 2, 2)\n",
    "plt.plot(history_try_6.history['accuracy'], label='Training Accuracy')\n",
    "plt.plot(history_try_6.history['val_accuracy'], label='Validation Accuracy')\n",
    "plt.title('Best New Model: Training and Validation Accuracy')\n",
    "plt.xlabel('Epochs')\n",
    "plt.ylabel('Accuracy')\n",
    "plt.legend()\n",
    "\n",
    "plt.show()"
   ]
  },
  {
   "cell_type": "markdown",
   "metadata": {
    "id": "63WPKt2mBEMP"
   },
   "source": [
    "**Insights:**\n",
    "\n",
    "*Better Convergence*: The overall training process looks smoother, and the accuracy of the model has improved. The loss is decreasing at a steady rate and both training and validation metrics are more aligned.\n",
    "\n",
    "*No Overfitting*: The model continues to generalize well, with validation accuracy outperforming training, but the gap is not too wide, so it suggests the model has a good balance between training and validation.\n",
    "\n",
    "*Improved Stability*: The model exhibits less fluctuation in both accuracy and loss over time, indicating that it has stabilized, and further training might not lead to significant improvements."
   ]
  },
  {
   "cell_type": "markdown",
   "metadata": {
    "id": "XN5PUMgQB7Q9"
   },
   "source": [
    "# Part B\n",
    "\n",
    "*   **DOMAIN**: Autonomous Vehicles\n",
    "*   **CONTEXT**: A Recognising multi-digit numbers in photographs captured at street level is an important component of modern-day map\n",
    "making. A classic example of a corpus of such street-level photographs is Google’s Street View imagery composed of hundreds of millions\n",
    "of geo-located 360-degree panoramic images.\n",
    "The ability to automatically transcribe an address number from a geo-located patch of pixels and associate the transcribed number with a\n",
    "known street address helps pinpoint, with a high degree of accuracy, the location of the building it represents. More broadly, recognising\n",
    "numbers in photographs is a problem of interest to the optical character recognition community.\n",
    "While OCR on constrained domains like document processing is well studied, arbitrary multi-character text recognition in photographs is\n",
    "still highly challenging. This difficulty arises due to the wide variability in the visual appearance of text in the wild on account of a large\n",
    "range of fonts, colours, styles, orientations, and character arrangements.\n",
    "The recognition problem is further complicated by environmental factors such as lighting, shadows, specularity, and occlusions as well as\n",
    "by image acquisition factors such as resolution, motion, and focus blurs. In this project, we will use the dataset with images centred around\n",
    "a single digit (many of the images do contain some distractors at the sides). Although we are taking a sample of the data which is simpler,\n",
    "it is more complex than MNIST because of the distractors.\n",
    "*   **DATA DESCRIPTION:** The SVHN is a real-world image dataset for developing machine learning and object recognition algorithms with the\n",
    "minimal requirement on data formatting but comes from a significantly harder, unsolved, real-world problem (recognising digits and\n",
    "numbers in natural scene images). SVHN is obtained from house numbers in Google Street View images.\n",
    "Where the labels for each of this image are the prominent number in that image i.e. 2,6,7 and 4 respectively.\n",
    "The dataset has been provided in the form of h5py files. You can read about this file format here: https://docs.h5py.org/en/stable/\n",
    "Acknowledgement: Yuval Netzer, Tao Wang, Adam Coates, Alessandro Bissacco, Bo Wu, Andrew Y. Ng Reading Digits in Natural Images with Unsupervised\n",
    "Feature Learning NIPS Workshop on Deep Learning and Unsupervised Feature Learning 2011. PDF\n",
    "http://ufldl.stanford.edu/housenumbers as the URL for this site.\n",
    "*   **PROJECT OBJECTIVE**: To build a digit classifier on the SVHN (Street View Housing Number) dataset."
   ]
  },
  {
   "cell_type": "markdown",
   "metadata": {
    "id": "CjcMUwxCCewg"
   },
   "source": [
    "## Steps and tasks:"
   ]
  },
  {
   "cell_type": "markdown",
   "metadata": {
    "id": "B2YtHdszCpR4"
   },
   "source": [
    "1. Data Import and Exploration\n",
    "\n",
    "A. Read the .h5 file and assign to a variable."
   ]
  },
  {
   "cell_type": "code",
   "execution_count": 72,
   "metadata": {
    "executionInfo": {
     "elapsed": 503,
     "status": "ok",
     "timestamp": 1725779800084,
     "user": {
      "displayName": "Jannet Akanksha Ekka",
      "userId": "04295694532301703575"
     },
     "user_tz": -330
    },
    "id": "MQHJaKzTB5yK"
   },
   "outputs": [],
   "source": [
    "import h5py\n",
    "\n",
    "file_path = \"/content/drive/MyDrive/Colab Notebooks/INN Project/Autonomous_Vehicles_SVHN_single_grey1 (1).h5\"\n",
    "\n",
    "h5_file = h5py.File(file_path, 'r')"
   ]
  },
  {
   "cell_type": "markdown",
   "metadata": {
    "id": "UaN0aDR6KxBE"
   },
   "source": [
    "B. Print all the keys from the .h5 file."
   ]
  },
  {
   "cell_type": "code",
   "execution_count": 73,
   "metadata": {
    "colab": {
     "base_uri": "https://localhost:8080/"
    },
    "executionInfo": {
     "elapsed": 5,
     "status": "ok",
     "timestamp": 1725779800743,
     "user": {
      "displayName": "Jannet Akanksha Ekka",
      "userId": "04295694532301703575"
     },
     "user_tz": -330
    },
    "id": "EQq4LX73KwE4",
    "outputId": "de1eaa74-7841-4615-f3bf-28af9b884ac8"
   },
   "outputs": [
    {
     "name": "stdout",
     "output_type": "stream",
     "text": [
      "['X_test', 'X_train', 'X_val', 'y_test', 'y_train', 'y_val']\n"
     ]
    }
   ],
   "source": [
    "keys = list(h5_file.keys())\n",
    "print(keys)"
   ]
  },
  {
   "cell_type": "markdown",
   "metadata": {
    "id": "hEuuhOWiLRKz"
   },
   "source": [
    "C. Split the data into X_train, X_test, Y_train, Y_test"
   ]
  },
  {
   "cell_type": "code",
   "execution_count": 74,
   "metadata": {
    "executionInfo": {
     "elapsed": 1672,
     "status": "ok",
     "timestamp": 1725779803854,
     "user": {
      "displayName": "Jannet Akanksha Ekka",
      "userId": "04295694532301703575"
     },
     "user_tz": -330
    },
    "id": "QhhbflG7LDpR"
   },
   "outputs": [],
   "source": [
    "X_train = h5_file['X_train'][:]\n",
    "X_test = h5_file['X_test'][:]\n",
    "Y_train = h5_file['y_train'][:]\n",
    "Y_test = h5_file['y_test'][:]\n",
    "\n",
    "h5_file.close()"
   ]
  },
  {
   "cell_type": "markdown",
   "metadata": {
    "id": "9wcxu11HMFnu"
   },
   "source": [
    "## 2. Data Visualisation and preprocessing\n",
    "A. Print shape of all the 4 data split into x, y, train, test to verify if x & y is in sync."
   ]
  },
  {
   "cell_type": "code",
   "execution_count": 75,
   "metadata": {
    "colab": {
     "base_uri": "https://localhost:8080/"
    },
    "executionInfo": {
     "elapsed": 678,
     "status": "ok",
     "timestamp": 1725779804527,
     "user": {
      "displayName": "Jannet Akanksha Ekka",
      "userId": "04295694532301703575"
     },
     "user_tz": -330
    },
    "id": "WPFkKyPRLWqw",
    "outputId": "c5e90e77-571b-4aed-8b87-4601bab79b66"
   },
   "outputs": [
    {
     "name": "stdout",
     "output_type": "stream",
     "text": [
      "X_train shape: (42000, 32, 32)\n",
      "X_test shape: (18000, 32, 32)\n",
      "Y_train shape: (42000,)\n",
      "Y_test shape: (18000,)\n"
     ]
    }
   ],
   "source": [
    "# Print shapes of X_train, X_test, Y_train, and Y_test\n",
    "print(\"X_train shape:\", X_train.shape)\n",
    "print(\"X_test shape:\", X_test.shape)\n",
    "print(\"Y_train shape:\", Y_train.shape)\n",
    "print(\"Y_test shape:\", Y_test.shape)"
   ]
  },
  {
   "cell_type": "markdown",
   "metadata": {
    "id": "HC7ZoG0fMxL1"
   },
   "source": [
    "B. Visualise first 10 images in train data and print its corresponding labels."
   ]
  },
  {
   "cell_type": "code",
   "execution_count": 76,
   "metadata": {
    "colab": {
     "base_uri": "https://localhost:8080/",
     "height": 106
    },
    "executionInfo": {
     "elapsed": 772,
     "status": "ok",
     "timestamp": 1725779807275,
     "user": {
      "displayName": "Jannet Akanksha Ekka",
      "userId": "04295694532301703575"
     },
     "user_tz": -330
    },
    "id": "1Ik-J5A9MRo4",
    "outputId": "2f4c64a7-7b5e-4d72-dac3-170edf80d792"
   },
   "outputs": [
    {
     "data": {
      "image/png": "[encoded data removed]",
      "text/plain": [
       "<Figure size 1000x100 with 10 Axes>"
      ]
     },
     "metadata": {},
     "output_type": "display_data"
    }
   ],
   "source": [
    "import matplotlib.pyplot as plt\n",
    "plt.figure(figsize=(10, 1))\n",
    "for i in range(10):\n",
    "    plt.subplot(1, 10, i + 1)\n",
    "    plt.imshow(X_train[i], cmap='gray')  # Display in grayscale\n",
    "    plt.axis('off')\n",
    "\n",
    "plt.tight_layout()  # Adjust layout to avoid overlap\n",
    "plt.show()\n"
   ]
  },
  {
   "cell_type": "markdown",
   "metadata": {
    "id": "EBTTMi9XNh_l"
   },
   "source": [
    "C. Reshape all the images with appropriate shape update the data in same variable."
   ]
  },
  {
   "cell_type": "code",
   "execution_count": 77,
   "metadata": {
    "colab": {
     "base_uri": "https://localhost:8080/"
    },
    "executionInfo": {
     "elapsed": 4,
     "status": "ok",
     "timestamp": 1725779808663,
     "user": {
      "displayName": "Jannet Akanksha Ekka",
      "userId": "04295694532301703575"
     },
     "user_tz": -330
    },
    "id": "gJj74__YNAIV",
    "outputId": "5278f714-47cc-4ce6-fcaf-af3fd9c15c6e"
   },
   "outputs": [
    {
     "name": "stdout",
     "output_type": "stream",
     "text": [
      "X_train reshaped: (42000, 32, 32, 1)\n",
      "X_test reshaped: (18000, 32, 32, 1)\n"
     ]
    }
   ],
   "source": [
    "X_train = X_train.reshape(X_train.shape[0], 32, 32, 1)\n",
    "X_test = X_test.reshape(X_test.shape[0], 32, 32, 1)\n",
    "\n",
    "print(\"X_train reshaped:\", X_train.shape)\n",
    "print(\"X_test reshaped:\", X_test.shape)\n"
   ]
  },
  {
   "cell_type": "markdown",
   "metadata": {
    "id": "iDMFVa-0OFFy"
   },
   "source": [
    "D. Normalise the images i.e. Normalise the pixel values."
   ]
  },
  {
   "cell_type": "code",
   "execution_count": 78,
   "metadata": {
    "colab": {
     "base_uri": "https://localhost:8080/"
    },
    "executionInfo": {
     "elapsed": 402,
     "status": "ok",
     "timestamp": 1725779811520,
     "user": {
      "displayName": "Jannet Akanksha Ekka",
      "userId": "04295694532301703575"
     },
     "user_tz": -330
    },
    "id": "l4B61weJNrbK",
    "outputId": "f7621714-eebd-4b7e-ed0d-ac2ae3fefbce"
   },
   "outputs": [
    {
     "name": "stdout",
     "output_type": "stream",
     "text": [
      "X_train normalized: (42000, 32, 32, 1)\n",
      "X_test normalized: (18000, 32, 32, 1)\n"
     ]
    }
   ],
   "source": [
    "# Normalize pixel values to the range [0, 1]\n",
    "X_train_norm = X_train.astype('float32') / 255.0\n",
    "X_test_norm = X_test.astype('float32') / 255.0\n",
    "\n",
    "print(\"X_train normalized:\", X_train_norm.shape)\n",
    "print(\"X_test normalized:\", X_test_norm.shape)"
   ]
  },
  {
   "cell_type": "markdown",
   "metadata": {
    "id": "L8XcKvdgOHhQ"
   },
   "source": [
    "E. Transform Labels into format acceptable by Neural Network"
   ]
  },
  {
   "cell_type": "code",
   "execution_count": 79,
   "metadata": {
    "colab": {
     "base_uri": "https://localhost:8080/"
    },
    "executionInfo": {
     "elapsed": 401,
     "status": "ok",
     "timestamp": 1725779816738,
     "user": {
      "displayName": "Jannet Akanksha Ekka",
      "userId": "04295694532301703575"
     },
     "user_tz": -330
    },
    "id": "YcNdPinfNx27",
    "outputId": "02c20d57-bb0c-4bdc-d4ca-b23b5aa4c30d"
   },
   "outputs": [
    {
     "name": "stdout",
     "output_type": "stream",
     "text": [
      "Y_train transformed: (42000, 10)\n",
      "Y_test transformed: (18000, 10)\n",
      "First 5 training lables as one-hot encoded vectors:\n",
      " [[0. 0. 1. 0. 0. 0. 0. 0. 0. 0.]\n",
      " [0. 0. 0. 0. 0. 0. 1. 0. 0. 0.]\n",
      " [0. 0. 0. 0. 0. 0. 0. 1. 0. 0.]\n",
      " [0. 0. 0. 0. 1. 0. 0. 0. 0. 0.]\n",
      " [0. 0. 0. 0. 1. 0. 0. 0. 0. 0.]]\n"
     ]
    }
   ],
   "source": [
    "from tensorflow.keras.utils import to_categorical\n",
    "\n",
    "Y_train_oh = to_categorical(Y_train, num_classes=10)\n",
    "Y_test_oh = to_categorical(Y_test, num_classes=10)\n",
    "\n",
    "print(\"Y_train transformed:\", Y_train_oh.shape)\n",
    "print(\"Y_test transformed:\", Y_test_oh.shape)\n",
    "\n",
    "print(\"First 5 training lables as one-hot encoded vectors:\\n\", Y_train_oh[:5])"
   ]
  },
  {
   "cell_type": "markdown",
   "metadata": {
    "id": "jTq1LaqjOLcZ"
   },
   "source": [
    "F. Print total Number of classes in the Dataset."
   ]
  },
  {
   "cell_type": "code",
   "execution_count": 80,
   "metadata": {
    "colab": {
     "base_uri": "https://localhost:8080/"
    },
    "executionInfo": {
     "elapsed": 427,
     "status": "ok",
     "timestamp": 1725779819210,
     "user": {
      "displayName": "Jannet Akanksha Ekka",
      "userId": "04295694532301703575"
     },
     "user_tz": -330
    },
    "id": "Nz3UzflBN2zB",
    "outputId": "1e78c404-cf04-41ed-8682-52b266231520"
   },
   "outputs": [
    {
     "name": "stdout",
     "output_type": "stream",
     "text": [
      "Total number of classes: 10\n"
     ]
    }
   ],
   "source": [
    "num_classes = len(np.unique(Y_train))\n",
    "print(\"Total number of classes:\", num_classes)\n"
   ]
  },
  {
   "cell_type": "markdown",
   "metadata": {
    "id": "D5DRk15rOXjG"
   },
   "source": [
    "## 3. Model Training & Evaluation using Neural Network\n",
    "\n",
    "A. Design a Neural Network to train a classifier."
   ]
  },
  {
   "cell_type": "code",
   "execution_count": 68,
   "metadata": {
    "colab": {
     "base_uri": "https://localhost:8080/",
     "height": 321
    },
    "executionInfo": {
     "elapsed": 412,
     "status": "ok",
     "timestamp": 1725778059144,
     "user": {
      "displayName": "Jannet Akanksha Ekka",
      "userId": "04295694532301703575"
     },
     "user_tz": -330
    },
    "id": "6a5mxYXUN8UK",
    "outputId": "4e5ec416-9ed4-4652-b4ac-237524c0156f"
   },
   "outputs": [
    {
     "data": {
      "text/html": [
       "<pre style=\"white-space:pre;overflow-x:auto;line-height:normal;font-family:Menlo,'DejaVu Sans Mono',consolas,'Courier New',monospace\"><span style=\"font-weight: bold\">Model: \"sequential_13\"</span>\n",
       "</pre>\n"
      ],
      "text/plain": [
       "\u001b[1mModel: \"sequential_13\"\u001b[0m\n"
      ]
     },
     "metadata": {},
     "output_type": "display_data"
    },
    {
     "data": {
      "text/html": [
       "<pre style=\"white-space:pre;overflow-x:auto;line-height:normal;font-family:Menlo,'DejaVu Sans Mono',consolas,'Courier New',monospace\">┏━━━━━━━━━━━━━━━━━━━━━━━━━━━━━━━━━━━━━━┳━━━━━━━━━━━━━━━━━━━━━━━━━━━━━┳━━━━━━━━━━━━━━━━━┓\n",
       "┃<span style=\"font-weight: bold\"> Layer (type)                         </span>┃<span style=\"font-weight: bold\"> Output Shape                </span>┃<span style=\"font-weight: bold\">         Param # </span>┃\n",
       "┡━━━━━━━━━━━━━━━━━━━━━━━━━━━━━━━━━━━━━━╇━━━━━━━━━━━━━━━━━━━━━━━━━━━━━╇━━━━━━━━━━━━━━━━━┩\n",
       "│ reshape_5 (<span style=\"color: #0087ff; text-decoration-color: #0087ff\">Reshape</span>)                  │ (<span style=\"color: #00d7ff; text-decoration-color: #00d7ff\">None</span>, <span style=\"color: #00af00; text-decoration-color: #00af00\">1024</span>)                │               <span style=\"color: #00af00; text-decoration-color: #00af00\">0</span> │\n",
       "├──────────────────────────────────────┼─────────────────────────────┼─────────────────┤\n",
       "│ dense_52 (<span style=\"color: #0087ff; text-decoration-color: #0087ff\">Dense</span>)                     │ (<span style=\"color: #00d7ff; text-decoration-color: #00d7ff\">None</span>, <span style=\"color: #00af00; text-decoration-color: #00af00\">256</span>)                 │         <span style=\"color: #00af00; text-decoration-color: #00af00\">262,400</span> │\n",
       "├──────────────────────────────────────┼─────────────────────────────┼─────────────────┤\n",
       "│ dense_53 (<span style=\"color: #0087ff; text-decoration-color: #0087ff\">Dense</span>)                     │ (<span style=\"color: #00d7ff; text-decoration-color: #00d7ff\">None</span>, <span style=\"color: #00af00; text-decoration-color: #00af00\">64</span>)                  │          <span style=\"color: #00af00; text-decoration-color: #00af00\">16,448</span> │\n",
       "├──────────────────────────────────────┼─────────────────────────────┼─────────────────┤\n",
       "│ dense_54 (<span style=\"color: #0087ff; text-decoration-color: #0087ff\">Dense</span>)                     │ (<span style=\"color: #00d7ff; text-decoration-color: #00d7ff\">None</span>, <span style=\"color: #00af00; text-decoration-color: #00af00\">64</span>)                  │           <span style=\"color: #00af00; text-decoration-color: #00af00\">4,160</span> │\n",
       "├──────────────────────────────────────┼─────────────────────────────┼─────────────────┤\n",
       "│ dense_55 (<span style=\"color: #0087ff; text-decoration-color: #0087ff\">Dense</span>)                     │ (<span style=\"color: #00d7ff; text-decoration-color: #00d7ff\">None</span>, <span style=\"color: #00af00; text-decoration-color: #00af00\">32</span>)                  │           <span style=\"color: #00af00; text-decoration-color: #00af00\">2,080</span> │\n",
       "├──────────────────────────────────────┼─────────────────────────────┼─────────────────┤\n",
       "│ dense_56 (<span style=\"color: #0087ff; text-decoration-color: #0087ff\">Dense</span>)                     │ (<span style=\"color: #00d7ff; text-decoration-color: #00d7ff\">None</span>, <span style=\"color: #00af00; text-decoration-color: #00af00\">10</span>)                  │             <span style=\"color: #00af00; text-decoration-color: #00af00\">330</span> │\n",
       "└──────────────────────────────────────┴─────────────────────────────┴─────────────────┘\n",
       "</pre>\n"
      ],
      "text/plain": [
       "┏━━━━━━━━━━━━━━━━━━━━━━━━━━━━━━━━━━━━━━┳━━━━━━━━━━━━━━━━━━━━━━━━━━━━━┳━━━━━━━━━━━━━━━━━┓\n",
       "┃\u001b[1m \u001b[0m\u001b[1mLayer (type)                        \u001b[0m\u001b[1m \u001b[0m┃\u001b[1m \u001b[0m\u001b[1mOutput Shape               \u001b[0m\u001b[1m \u001b[0m┃\u001b[1m \u001b[0m\u001b[1m        Param #\u001b[0m\u001b[1m \u001b[0m┃\n",
       "┡━━━━━━━━━━━━━━━━━━━━━━━━━━━━━━━━━━━━━━╇━━━━━━━━━━━━━━━━━━━━━━━━━━━━━╇━━━━━━━━━━━━━━━━━┩\n",
       "│ reshape_5 (\u001b[38;5;33mReshape\u001b[0m)                  │ (\u001b[38;5;45mNone\u001b[0m, \u001b[38;5;34m1024\u001b[0m)                │               \u001b[38;5;34m0\u001b[0m │\n",
       "├──────────────────────────────────────┼─────────────────────────────┼─────────────────┤\n",
       "│ dense_52 (\u001b[38;5;33mDense\u001b[0m)                     │ (\u001b[38;5;45mNone\u001b[0m, \u001b[38;5;34m256\u001b[0m)                 │         \u001b[38;5;34m262,400\u001b[0m │\n",
       "├──────────────────────────────────────┼─────────────────────────────┼─────────────────┤\n",
       "│ dense_53 (\u001b[38;5;33mDense\u001b[0m)                     │ (\u001b[38;5;45mNone\u001b[0m, \u001b[38;5;34m64\u001b[0m)                  │          \u001b[38;5;34m16,448\u001b[0m │\n",
       "├──────────────────────────────────────┼─────────────────────────────┼─────────────────┤\n",
       "│ dense_54 (\u001b[38;5;33mDense\u001b[0m)                     │ (\u001b[38;5;45mNone\u001b[0m, \u001b[38;5;34m64\u001b[0m)                  │           \u001b[38;5;34m4,160\u001b[0m │\n",
       "├──────────────────────────────────────┼─────────────────────────────┼─────────────────┤\n",
       "│ dense_55 (\u001b[38;5;33mDense\u001b[0m)                     │ (\u001b[38;5;45mNone\u001b[0m, \u001b[38;5;34m32\u001b[0m)                  │           \u001b[38;5;34m2,080\u001b[0m │\n",
       "├──────────────────────────────────────┼─────────────────────────────┼─────────────────┤\n",
       "│ dense_56 (\u001b[38;5;33mDense\u001b[0m)                     │ (\u001b[38;5;45mNone\u001b[0m, \u001b[38;5;34m10\u001b[0m)                  │             \u001b[38;5;34m330\u001b[0m │\n",
       "└──────────────────────────────────────┴─────────────────────────────┴─────────────────┘\n"
      ]
     },
     "metadata": {},
     "output_type": "display_data"
    },
    {
     "data": {
      "text/html": [
       "<pre style=\"white-space:pre;overflow-x:auto;line-height:normal;font-family:Menlo,'DejaVu Sans Mono',consolas,'Courier New',monospace\"><span style=\"font-weight: bold\"> Total params: </span><span style=\"color: #00af00; text-decoration-color: #00af00\">285,418</span> (1.09 MB)\n",
       "</pre>\n"
      ],
      "text/plain": [
       "\u001b[1m Total params: \u001b[0m\u001b[38;5;34m285,418\u001b[0m (1.09 MB)\n"
      ]
     },
     "metadata": {},
     "output_type": "display_data"
    },
    {
     "data": {
      "text/html": [
       "<pre style=\"white-space:pre;overflow-x:auto;line-height:normal;font-family:Menlo,'DejaVu Sans Mono',consolas,'Courier New',monospace\"><span style=\"font-weight: bold\"> Trainable params: </span><span style=\"color: #00af00; text-decoration-color: #00af00\">285,418</span> (1.09 MB)\n",
       "</pre>\n"
      ],
      "text/plain": [
       "\u001b[1m Trainable params: \u001b[0m\u001b[38;5;34m285,418\u001b[0m (1.09 MB)\n"
      ]
     },
     "metadata": {},
     "output_type": "display_data"
    },
    {
     "data": {
      "text/html": [
       "<pre style=\"white-space:pre;overflow-x:auto;line-height:normal;font-family:Menlo,'DejaVu Sans Mono',consolas,'Courier New',monospace\"><span style=\"font-weight: bold\"> Non-trainable params: </span><span style=\"color: #00af00; text-decoration-color: #00af00\">0</span> (0.00 B)\n",
       "</pre>\n"
      ],
      "text/plain": [
       "\u001b[1m Non-trainable params: \u001b[0m\u001b[38;5;34m0\u001b[0m (0.00 B)\n"
      ]
     },
     "metadata": {},
     "output_type": "display_data"
    }
   ],
   "source": [
    "from tensorflow.keras import Sequential\n",
    "from tensorflow.keras.layers import Dense, Reshape\n",
    "from tensorflow.keras import losses, optimizers\n",
    "\n",
    "image_size = 32 * 32  # Flattened image size\n",
    "\n",
    "num_classes = 10\n",
    "\n",
    "# Create the model\n",
    "b_model = Sequential()\n",
    "\n",
    "# Reshape the input images to (1024,) because out data is in grey-scale\n",
    "b_model.add(Reshape((image_size,), input_shape=(32, 32, 1)))\n",
    "\n",
    "# Add multiple Dense layers with ReLU activation\n",
    "b_model.add(Dense(256, activation='relu', kernel_initializer='he_uniform'))\n",
    "b_model.add(Dense(64, activation='relu', kernel_initializer='he_uniform'))\n",
    "b_model.add(Dense(64, activation='relu', kernel_initializer='he_uniform'))\n",
    "b_model.add(Dense(32, activation='relu', kernel_initializer='he_uniform'))\n",
    "\n",
    "# Output layer with 'softmax' for multiclass classification\n",
    "b_model.add(Dense(num_classes, activation='softmax'))\n",
    "\n",
    "# Compile the model\n",
    "b_model.compile(optimizer=optimizers.Adam(),\n",
    "              loss=losses.categorical_crossentropy,\n",
    "              metrics=['accuracy'])\n",
    "\n",
    "# Print the model summary\n",
    "b_model.summary()\n"
   ]
  },
  {
   "cell_type": "markdown",
   "metadata": {
    "id": "2pOqxYHrOezV"
   },
   "source": [
    "B. Train the classifier using previously designed Architecture (Use best suitable parameters)."
   ]
  },
  {
   "cell_type": "code",
   "execution_count": 81,
   "metadata": {
    "colab": {
     "base_uri": "https://localhost:8080/"
    },
    "executionInfo": {
     "elapsed": 107052,
     "status": "ok",
     "timestamp": 1725779940747,
     "user": {
      "displayName": "Jannet Akanksha Ekka",
      "userId": "04295694532301703575"
     },
     "user_tz": -330
    },
    "id": "c0WJQObhOfyx",
    "outputId": "344be4bf-c316-4074-aa5d-65b471773b71"
   },
   "outputs": [
    {
     "name": "stdout",
     "output_type": "stream",
     "text": [
      "Epoch 1/10\n",
      "\u001b[1m1050/1050\u001b[0m \u001b[32m━━━━━━━━━━━━━━━━━━━━\u001b[0m\u001b[37m\u001b[0m \u001b[1m9s\u001b[0m 7ms/step - accuracy: 0.1078 - loss: 19.0584 - val_accuracy: 0.1140 - val_loss: 2.7068\n",
      "Epoch 2/10\n",
      "\u001b[1m1050/1050\u001b[0m \u001b[32m━━━━━━━━━━━━━━━━━━━━\u001b[0m\u001b[37m\u001b[0m \u001b[1m8s\u001b[0m 7ms/step - accuracy: 0.1323 - loss: 2.6097 - val_accuracy: 0.1700 - val_loss: 2.3207\n",
      "Epoch 3/10\n",
      "\u001b[1m1050/1050\u001b[0m \u001b[32m━━━━━━━━━━━━━━━━━━━━\u001b[0m\u001b[37m\u001b[0m \u001b[1m7s\u001b[0m 7ms/step - accuracy: 0.1666 - loss: 2.3950 - val_accuracy: 0.2656 - val_loss: 2.0396\n",
      "Epoch 4/10\n",
      "\u001b[1m1050/1050\u001b[0m \u001b[32m━━━━━━━━━━━━━━━━━━━━\u001b[0m\u001b[37m\u001b[0m \u001b[1m8s\u001b[0m 7ms/step - accuracy: 0.2451 - loss: 2.1052 - val_accuracy: 0.3393 - val_loss: 2.0262\n",
      "Epoch 5/10\n",
      "\u001b[1m1050/1050\u001b[0m \u001b[32m━━━━━━━━━━━━━━━━━━━━\u001b[0m\u001b[37m\u001b[0m \u001b[1m7s\u001b[0m 7ms/step - accuracy: 0.3341 - loss: 1.9037 - val_accuracy: 0.4554 - val_loss: 1.6404\n",
      "Epoch 6/10\n",
      "\u001b[1m1050/1050\u001b[0m \u001b[32m━━━━━━━━━━━━━━━━━━━━\u001b[0m\u001b[37m\u001b[0m \u001b[1m14s\u001b[0m 11ms/step - accuracy: 0.4331 - loss: 1.6502 - val_accuracy: 0.3935 - val_loss: 1.7641\n",
      "Epoch 7/10\n",
      "\u001b[1m1050/1050\u001b[0m \u001b[32m━━━━━━━━━━━━━━━━━━━━\u001b[0m\u001b[37m\u001b[0m \u001b[1m17s\u001b[0m 16ms/step - accuracy: 0.4731 - loss: 1.5601 - val_accuracy: 0.5102 - val_loss: 1.4904\n",
      "Epoch 8/10\n",
      "\u001b[1m1050/1050\u001b[0m \u001b[32m━━━━━━━━━━━━━━━━━━━━\u001b[0m\u001b[37m\u001b[0m \u001b[1m14s\u001b[0m 13ms/step - accuracy: 0.5003 - loss: 1.4860 - val_accuracy: 0.5270 - val_loss: 1.4520\n",
      "Epoch 9/10\n",
      "\u001b[1m1050/1050\u001b[0m \u001b[32m━━━━━━━━━━━━━━━━━━━━\u001b[0m\u001b[37m\u001b[0m \u001b[1m10s\u001b[0m 10ms/step - accuracy: 0.5276 - loss: 1.4349 - val_accuracy: 0.5333 - val_loss: 1.3770\n",
      "Epoch 10/10\n",
      "\u001b[1m1050/1050\u001b[0m \u001b[32m━━━━━━━━━━━━━━━━━━━━\u001b[0m\u001b[37m\u001b[0m \u001b[1m8s\u001b[0m 8ms/step - accuracy: 0.5496 - loss: 1.3681 - val_accuracy: 0.5402 - val_loss: 1.3621\n",
      "563/563 - 1s - 2ms/step - accuracy: 0.5429 - loss: 1.3648\n",
      "Test accuracy: 0.5429\n"
     ]
    }
   ],
   "source": [
    "# Train the model\n",
    "b_history = b_model.fit(X_train, Y_train_oh, epochs=10, batch_size=32, validation_split=0.2)\n",
    "\n",
    "# Evaluate the model\n",
    "test_loss, test_acc = b_model.evaluate(X_test, Y_test_oh, verbose=2)\n",
    "\n",
    "print(f'Test accuracy: {test_acc:.4f}')"
   ]
  },
  {
   "cell_type": "code",
   "execution_count": 82,
   "metadata": {
    "colab": {
     "base_uri": "https://localhost:8080/"
    },
    "executionInfo": {
     "elapsed": 192361,
     "status": "ok",
     "timestamp": 1725780133092,
     "user": {
      "displayName": "Jannet Akanksha Ekka",
      "userId": "04295694532301703575"
     },
     "user_tz": -330
    },
    "id": "R3qFy9ViXi6i",
    "outputId": "deb0e84e-ad7f-45ff-cb91-0da757f08226",
    "scrolled": true
   },
   "outputs": [
    {
     "name": "stderr",
     "output_type": "stream",
     "text": [
      "/usr/local/lib/python3.10/dist-packages/keras/src/layers/reshaping/reshape.py:39: UserWarning: Do not pass an `input_shape`/`input_dim` argument to a layer. When using Sequential models, prefer using an `Input(shape)` object as the first layer in the model instead.\n",
      "  super().__init__(**kwargs)\n"
     ]
    },
    {
     "name": "stdout",
     "output_type": "stream",
     "text": [
      "Epoch 1/20\n",
      "\u001b[1m1050/1050\u001b[0m \u001b[32m━━━━━━━━━━━━━━━━━━━━\u001b[0m\u001b[37m\u001b[0m \u001b[1m13s\u001b[0m 9ms/step - accuracy: 0.1043 - loss: 2.4725 - val_accuracy: 0.1481 - val_loss: 2.2538\n",
      "Epoch 2/20\n",
      "\u001b[1m1050/1050\u001b[0m \u001b[32m━━━━━━━━━━━━━━━━━━━━\u001b[0m\u001b[37m\u001b[0m \u001b[1m9s\u001b[0m 8ms/step - accuracy: 0.1622 - loss: 2.2204 - val_accuracy: 0.1988 - val_loss: 2.2182\n",
      "Epoch 3/20\n",
      "\u001b[1m1050/1050\u001b[0m \u001b[32m━━━━━━━━━━━━━━━━━━━━\u001b[0m\u001b[37m\u001b[0m \u001b[1m9s\u001b[0m 7ms/step - accuracy: 0.2311 - loss: 2.0718 - val_accuracy: 0.3511 - val_loss: 1.8932\n",
      "Epoch 4/20\n",
      "\u001b[1m1050/1050\u001b[0m \u001b[32m━━━━━━━━━━━━━━━━━━━━\u001b[0m\u001b[37m\u001b[0m \u001b[1m11s\u001b[0m 8ms/step - accuracy: 0.2665 - loss: 1.9601 - val_accuracy: 0.2950 - val_loss: 1.9436\n",
      "Epoch 5/20\n",
      "\u001b[1m1050/1050\u001b[0m \u001b[32m━━━━━━━━━━━━━━━━━━━━\u001b[0m\u001b[37m\u001b[0m \u001b[1m11s\u001b[0m 9ms/step - accuracy: 0.2625 - loss: 1.9760 - val_accuracy: 0.3664 - val_loss: 1.8073\n",
      "Epoch 6/20\n",
      "\u001b[1m1050/1050\u001b[0m \u001b[32m━━━━━━━━━━━━━━━━━━━━\u001b[0m\u001b[37m\u001b[0m \u001b[1m8s\u001b[0m 7ms/step - accuracy: 0.2900 - loss: 1.9072 - val_accuracy: 0.4225 - val_loss: 1.7275\n",
      "Epoch 7/20\n",
      "\u001b[1m1050/1050\u001b[0m \u001b[32m━━━━━━━━━━━━━━━━━━━━\u001b[0m\u001b[37m\u001b[0m \u001b[1m10s\u001b[0m 7ms/step - accuracy: 0.3032 - loss: 1.8836 - val_accuracy: 0.4374 - val_loss: 1.6698\n",
      "Epoch 8/20\n",
      "\u001b[1m1050/1050\u001b[0m \u001b[32m━━━━━━━━━━━━━━━━━━━━\u001b[0m\u001b[37m\u001b[0m \u001b[1m9s\u001b[0m 9ms/step - accuracy: 0.3141 - loss: 1.8518 - val_accuracy: 0.4251 - val_loss: 1.6673\n",
      "Epoch 9/20\n",
      "\u001b[1m1050/1050\u001b[0m \u001b[32m━━━━━━━━━━━━━━━━━━━━\u001b[0m\u001b[37m\u001b[0m \u001b[1m8s\u001b[0m 7ms/step - accuracy: 0.3025 - loss: 1.8815 - val_accuracy: 0.3976 - val_loss: 1.7125\n",
      "Epoch 10/20\n",
      "\u001b[1m1050/1050\u001b[0m \u001b[32m━━━━━━━━━━━━━━━━━━━━\u001b[0m\u001b[37m\u001b[0m \u001b[1m12s\u001b[0m 11ms/step - accuracy: 0.3123 - loss: 1.8501 - val_accuracy: 0.4655 - val_loss: 1.6516\n",
      "Epoch 11/20\n",
      "\u001b[1m1050/1050\u001b[0m \u001b[32m━━━━━━━━━━━━━━━━━━━━\u001b[0m\u001b[37m\u001b[0m \u001b[1m9s\u001b[0m 8ms/step - accuracy: 0.3228 - loss: 1.8182 - val_accuracy: 0.4196 - val_loss: 1.7088\n",
      "Epoch 12/20\n",
      "\u001b[1m1050/1050\u001b[0m \u001b[32m━━━━━━━━━━━━━━━━━━━━\u001b[0m\u001b[37m\u001b[0m \u001b[1m8s\u001b[0m 7ms/step - accuracy: 0.3347 - loss: 1.8003 - val_accuracy: 0.5135 - val_loss: 1.5670\n",
      "Epoch 13/20\n",
      "\u001b[1m1050/1050\u001b[0m \u001b[32m━━━━━━━━━━━━━━━━━━━━\u001b[0m\u001b[37m\u001b[0m \u001b[1m9s\u001b[0m 9ms/step - accuracy: 0.3410 - loss: 1.7821 - val_accuracy: 0.4886 - val_loss: 1.5337\n",
      "Epoch 14/20\n",
      "\u001b[1m1050/1050\u001b[0m \u001b[32m━━━━━━━━━━━━━━━━━━━━\u001b[0m\u001b[37m\u001b[0m \u001b[1m8s\u001b[0m 7ms/step - accuracy: 0.3473 - loss: 1.7785 - val_accuracy: 0.5263 - val_loss: 1.4719\n",
      "Epoch 15/20\n",
      "\u001b[1m1050/1050\u001b[0m \u001b[32m━━━━━━━━━━━━━━━━━━━━\u001b[0m\u001b[37m\u001b[0m \u001b[1m9s\u001b[0m 9ms/step - accuracy: 0.3391 - loss: 1.7941 - val_accuracy: 0.2229 - val_loss: 2.2600\n",
      "Epoch 16/20\n",
      "\u001b[1m1050/1050\u001b[0m \u001b[32m━━━━━━━━━━━━━━━━━━━━\u001b[0m\u001b[37m\u001b[0m \u001b[1m9s\u001b[0m 8ms/step - accuracy: 0.3432 - loss: 1.7880 - val_accuracy: 0.5210 - val_loss: 1.4915\n",
      "Epoch 17/20\n",
      "\u001b[1m1050/1050\u001b[0m \u001b[32m━━━━━━━━━━━━━━━━━━━━\u001b[0m\u001b[37m\u001b[0m \u001b[1m8s\u001b[0m 8ms/step - accuracy: 0.3528 - loss: 1.7728 - val_accuracy: 0.4876 - val_loss: 1.6016\n",
      "Epoch 18/20\n",
      "\u001b[1m1050/1050\u001b[0m \u001b[32m━━━━━━━━━━━━━━━━━━━━\u001b[0m\u001b[37m\u001b[0m \u001b[1m10s\u001b[0m 9ms/step - accuracy: 0.3572 - loss: 1.7539 - val_accuracy: 0.5273 - val_loss: 1.5038\n",
      "Epoch 19/20\n",
      "\u001b[1m1050/1050\u001b[0m \u001b[32m━━━━━━━━━━━━━━━━━━━━\u001b[0m\u001b[37m\u001b[0m \u001b[1m8s\u001b[0m 8ms/step - accuracy: 0.3701 - loss: 1.7324 - val_accuracy: 0.5360 - val_loss: 1.4520\n",
      "Epoch 20/20\n",
      "\u001b[1m1050/1050\u001b[0m \u001b[32m━━━━━━━━━━━━━━━━━━━━\u001b[0m\u001b[37m\u001b[0m \u001b[1m11s\u001b[0m 8ms/step - accuracy: 0.3599 - loss: 1.7553 - val_accuracy: 0.5202 - val_loss: 1.4930\n",
      "\u001b[1m563/563\u001b[0m \u001b[32m━━━━━━━━━━━━━━━━━━━━\u001b[0m\u001b[37m\u001b[0m \u001b[1m1s\u001b[0m 2ms/step - accuracy: 0.5281 - loss: 1.4537\n",
      "Test accuracy: 0.5258\n"
     ]
    }
   ],
   "source": [
    "from tensorflow.keras.models import Sequential\n",
    "from tensorflow.keras.layers import Dense, Dropout, BatchNormalization\n",
    "from tensorflow.keras.optimizers import Adam\n",
    "\n",
    "# Model definition\n",
    "b1_model = Sequential()\n",
    "\n",
    "# Reshaping the input\n",
    "b1_model.add(Reshape((image_size,), input_shape=(32, 32, 1)))\n",
    "\n",
    "# Add Dense layers with Dropout and BatchNormalization\n",
    "b1_model.add(Dense(256, activation='relu', kernel_initializer='he_uniform'))\n",
    "b1_model.add(BatchNormalization())\n",
    "b1_model.add(Dropout(0.5))\n",
    "\n",
    "b1_model.add(Dense(64, activation='relu', kernel_initializer='he_uniform'))\n",
    "b1_model.add(BatchNormalization())\n",
    "b1_model.add(Dropout(0.5))\n",
    "\n",
    "b1_model.add(Dense(64, activation='relu', kernel_initializer='he_uniform'))\n",
    "\n",
    "b1_model.add(Dense(32, activation='relu', kernel_initializer='he_uniform'))\n",
    "\n",
    "# Output layer\n",
    "b1_model.add(Dense(num_classes, activation='softmax'))\n",
    "\n",
    "# Compile the model with a different learning rate\n",
    "b1_model.compile(optimizer=Adam(learning_rate=0.001), loss='categorical_crossentropy', metrics=['accuracy'])\n",
    "\n",
    "# Train the model\n",
    "b1_history = b1_model.fit(X_train, Y_train_oh, epochs=20, batch_size=32, validation_split=0.2)\n",
    "\n",
    "# Evaluate the model\n",
    "test_loss, test_acc = b1_model.evaluate(X_test, Y_test_oh)\n",
    "print(f'Test accuracy: {test_acc:.4f}')\n"
   ]
  },
  {
   "cell_type": "code",
   "execution_count": 88,
   "metadata": {
    "colab": {
     "base_uri": "https://localhost:8080/"
    },
    "executionInfo": {
     "elapsed": 138056,
     "status": "ok",
     "timestamp": 1725781413113,
     "user": {
      "displayName": "Jannet Akanksha Ekka",
      "userId": "04295694532301703575"
     },
     "user_tz": -330
    },
    "id": "rT6msOdzZAr9",
    "outputId": "d9cb5f9b-cad3-432a-bfd5-f0ef759a77a0",
    "scrolled": true
   },
   "outputs": [
    {
     "name": "stdout",
     "output_type": "stream",
     "text": [
      "Epoch 1/50\n",
      "\u001b[1m525/525\u001b[0m \u001b[32m━━━━━━━━━━━━━━━━━━━━\u001b[0m\u001b[37m\u001b[0m \u001b[1m9s\u001b[0m 13ms/step - accuracy: 0.1080 - loss: 2.4841 - val_accuracy: 0.1331 - val_loss: 2.2865 - learning_rate: 0.0010\n",
      "Epoch 2/50\n",
      "\u001b[1m525/525\u001b[0m \u001b[32m━━━━━━━━━━━━━━━━━━━━\u001b[0m\u001b[37m\u001b[0m \u001b[1m8s\u001b[0m 8ms/step - accuracy: 0.1408 - loss: 2.2690 - val_accuracy: 0.1405 - val_loss: 2.1953 - learning_rate: 0.0010\n",
      "Epoch 3/50\n",
      "\u001b[1m525/525\u001b[0m \u001b[32m━━━━━━━━━━━━━━━━━━━━\u001b[0m\u001b[37m\u001b[0m \u001b[1m6s\u001b[0m 12ms/step - accuracy: 0.2667 - loss: 1.9935 - val_accuracy: 0.4051 - val_loss: 1.7007 - learning_rate: 0.0010\n",
      "Epoch 4/50\n",
      "\u001b[1m525/525\u001b[0m \u001b[32m━━━━━━━━━━━━━━━━━━━━\u001b[0m\u001b[37m\u001b[0m \u001b[1m8s\u001b[0m 8ms/step - accuracy: 0.3324 - loss: 1.8471 - val_accuracy: 0.2650 - val_loss: 2.1079 - learning_rate: 0.0010\n",
      "Epoch 5/50\n",
      "\u001b[1m525/525\u001b[0m \u001b[32m━━━━━━━━━━━━━━━━━━━━\u001b[0m\u001b[37m\u001b[0m \u001b[1m7s\u001b[0m 12ms/step - accuracy: 0.3688 - loss: 1.7553 - val_accuracy: 0.4504 - val_loss: 1.5681 - learning_rate: 0.0010\n",
      "Epoch 6/50\n",
      "\u001b[1m525/525\u001b[0m \u001b[32m━━━━━━━━━━━━━━━━━━━━\u001b[0m\u001b[37m\u001b[0m \u001b[1m5s\u001b[0m 10ms/step - accuracy: 0.3778 - loss: 1.7227 - val_accuracy: 0.4704 - val_loss: 1.5180 - learning_rate: 0.0010\n",
      "Epoch 7/50\n",
      "\u001b[1m525/525\u001b[0m \u001b[32m━━━━━━━━━━━━━━━━━━━━\u001b[0m\u001b[37m\u001b[0m \u001b[1m6s\u001b[0m 11ms/step - accuracy: 0.3919 - loss: 1.6781 - val_accuracy: 0.4976 - val_loss: 1.4952 - learning_rate: 0.0010\n",
      "Epoch 8/50\n",
      "\u001b[1m525/525\u001b[0m \u001b[32m━━━━━━━━━━━━━━━━━━━━\u001b[0m\u001b[37m\u001b[0m \u001b[1m6s\u001b[0m 11ms/step - accuracy: 0.4022 - loss: 1.6531 - val_accuracy: 0.4265 - val_loss: 1.6860 - learning_rate: 0.0010\n",
      "Epoch 9/50\n",
      "\u001b[1m525/525\u001b[0m \u001b[32m━━━━━━━━━━━━━━━━━━━━\u001b[0m\u001b[37m\u001b[0m \u001b[1m10s\u001b[0m 10ms/step - accuracy: 0.4068 - loss: 1.6494 - val_accuracy: 0.5208 - val_loss: 1.4191 - learning_rate: 0.0010\n",
      "Epoch 10/50\n",
      "\u001b[1m525/525\u001b[0m \u001b[32m━━━━━━━━━━━━━━━━━━━━\u001b[0m\u001b[37m\u001b[0m \u001b[1m9s\u001b[0m 9ms/step - accuracy: 0.4135 - loss: 1.6338 - val_accuracy: 0.5242 - val_loss: 1.3760 - learning_rate: 0.0010\n",
      "Epoch 11/50\n",
      "\u001b[1m525/525\u001b[0m \u001b[32m━━━━━━━━━━━━━━━━━━━━\u001b[0m\u001b[37m\u001b[0m \u001b[1m6s\u001b[0m 11ms/step - accuracy: 0.4192 - loss: 1.6153 - val_accuracy: 0.4944 - val_loss: 1.4375 - learning_rate: 0.0010\n",
      "Epoch 12/50\n",
      "\u001b[1m525/525\u001b[0m \u001b[32m━━━━━━━━━━━━━━━━━━━━\u001b[0m\u001b[37m\u001b[0m \u001b[1m9s\u001b[0m 9ms/step - accuracy: 0.4226 - loss: 1.6077 - val_accuracy: 0.5214 - val_loss: 1.3834 - learning_rate: 0.0010\n",
      "Epoch 13/50\n",
      "\u001b[1m525/525\u001b[0m \u001b[32m━━━━━━━━━━━━━━━━━━━━\u001b[0m\u001b[37m\u001b[0m \u001b[1m6s\u001b[0m 12ms/step - accuracy: 0.4197 - loss: 1.6171 - val_accuracy: 0.5281 - val_loss: 1.4086 - learning_rate: 0.0010\n",
      "Epoch 14/50\n",
      "\u001b[1m525/525\u001b[0m \u001b[32m━━━━━━━━━━━━━━━━━━━━\u001b[0m\u001b[37m\u001b[0m \u001b[1m8s\u001b[0m 8ms/step - accuracy: 0.4286 - loss: 1.5942 - val_accuracy: 0.5490 - val_loss: 1.3316 - learning_rate: 5.0000e-04\n",
      "Epoch 15/50\n",
      "\u001b[1m525/525\u001b[0m \u001b[32m━━━━━━━━━━━━━━━━━━━━\u001b[0m\u001b[37m\u001b[0m \u001b[1m6s\u001b[0m 11ms/step - accuracy: 0.4339 - loss: 1.5774 - val_accuracy: 0.5539 - val_loss: 1.3354 - learning_rate: 5.0000e-04\n",
      "Epoch 16/50\n",
      "\u001b[1m525/525\u001b[0m \u001b[32m━━━━━━━━━━━━━━━━━━━━\u001b[0m\u001b[37m\u001b[0m \u001b[1m9s\u001b[0m 9ms/step - accuracy: 0.4298 - loss: 1.5795 - val_accuracy: 0.5199 - val_loss: 1.3922 - learning_rate: 5.0000e-04\n",
      "Epoch 17/50\n",
      "\u001b[1m525/525\u001b[0m \u001b[32m━━━━━━━━━━━━━━━━━━━━\u001b[0m\u001b[37m\u001b[0m \u001b[1m6s\u001b[0m 12ms/step - accuracy: 0.4407 - loss: 1.5677 - val_accuracy: 0.5508 - val_loss: 1.3413 - learning_rate: 5.0000e-04\n",
      "Epoch 18/50\n",
      "\u001b[1m525/525\u001b[0m \u001b[32m━━━━━━━━━━━━━━━━━━━━\u001b[0m\u001b[37m\u001b[0m \u001b[1m4s\u001b[0m 8ms/step - accuracy: 0.4525 - loss: 1.5352 - val_accuracy: 0.5543 - val_loss: 1.3502 - learning_rate: 2.5000e-04\n",
      "Epoch 19/50\n",
      "\u001b[1m525/525\u001b[0m \u001b[32m━━━━━━━━━━━━━━━━━━━━\u001b[0m\u001b[37m\u001b[0m \u001b[1m5s\u001b[0m 9ms/step - accuracy: 0.4482 - loss: 1.5450 - val_accuracy: 0.5495 - val_loss: 1.3429 - learning_rate: 2.5000e-04\n",
      "\u001b[1m563/563\u001b[0m \u001b[32m━━━━━━━━━━━━━━━━━━━━\u001b[0m\u001b[37m\u001b[0m \u001b[1m2s\u001b[0m 4ms/step - accuracy: 0.5521 - loss: 1.3014\n",
      "Test accuracy: 0.5497\n"
     ]
    }
   ],
   "source": [
    "from tensorflow.keras.models import Sequential\n",
    "from tensorflow.keras.layers import Dense, Dropout, Flatten, LeakyReLU\n",
    "from tensorflow.keras.callbacks import EarlyStopping, ReduceLROnPlateau\n",
    "\n",
    "# Set the number of classes (adjust as per your dataset)\n",
    "num_classes = 10\n",
    "\n",
    "# Create the model\n",
    "b2_model = Sequential()\n",
    "\n",
    "# Flatten layer to convert 2D image to 1D vector\n",
    "b2_model.add(Reshape((image_size,), input_shape=(32, 32, 1)))\n",
    "\n",
    "# Add Dense layers with Dropout and BatchNormalization\n",
    "b2_model.add(Dense(256, activation='relu', kernel_initializer='he_uniform'))\n",
    "b2_model.add(BatchNormalization())\n",
    "b2_model.add(Dropout(0.5))\n",
    "\n",
    "b2_model.add(Dense(64, activation='relu', kernel_initializer='he_uniform'))\n",
    "b2_model.add(BatchNormalization())\n",
    "b2_model.add(Dropout(0.5))\n",
    "\n",
    "b2_model.add(Dense(64, activation='relu', kernel_initializer='he_uniform'))\n",
    "\n",
    "b2_model.add(Dense(32, activation='relu', kernel_initializer='he_uniform'))\n",
    "\n",
    "# Output Layer\n",
    "b2_model.add(Dense(num_classes, activation='softmax'))\n",
    "\n",
    "optimizer=Adam(learning_rate=0.001)\n",
    "\n",
    "# Compile the model\n",
    "b2_model.compile(optimizer=optimizer, loss='categorical_crossentropy', metrics=['accuracy'])\n",
    "\n",
    "# Callbacks: EarlyStopping and ReduceLROnPlateau\n",
    "early_stopping = EarlyStopping(monitor='val_loss', patience=5, restore_best_weights=True)\n",
    "reduce_lr = ReduceLROnPlateau(monitor='val_loss', factor=0.5, patience=3, min_lr=0.00001)\n",
    "\n",
    "# Train the model\n",
    "b2_history = b2_model.fit(\n",
    "    X_train, Y_train_oh,\n",
    "    epochs=50,\n",
    "    batch_size=64,\n",
    "    validation_split=0.2,\n",
    "    callbacks=[early_stopping, reduce_lr]\n",
    ")\n",
    "\n",
    "# Evaluate the model on test data\n",
    "test_loss, test_acc = b2_model.evaluate(X_test, Y_test_oh)\n",
    "print(f\"Test accuracy: {test_acc:.4f}\")"
   ]
  },
  {
   "cell_type": "code",
   "execution_count": 94,
   "metadata": {
    "colab": {
     "base_uri": "https://localhost:8080/"
    },
    "executionInfo": {
     "elapsed": 67692,
     "status": "ok",
     "timestamp": 1725783938190,
     "user": {
      "displayName": "Jannet Akanksha Ekka",
      "userId": "04295694532301703575"
     },
     "user_tz": -330
    },
    "id": "FkJIFA45cc60",
    "outputId": "694cf858-77d0-4e6e-e174-7c85f8b6b319",
    "scrolled": true
   },
   "outputs": [
    {
     "name": "stderr",
     "output_type": "stream",
     "text": [
      "/usr/local/lib/python3.10/dist-packages/keras/src/layers/reshaping/reshape.py:39: UserWarning: Do not pass an `input_shape`/`input_dim` argument to a layer. When using Sequential models, prefer using an `Input(shape)` object as the first layer in the model instead.\n",
      "  super().__init__(**kwargs)\n",
      "/usr/local/lib/python3.10/dist-packages/keras/src/layers/activations/leaky_relu.py:41: UserWarning: Argument `alpha` is deprecated. Use `negative_slope` instead.\n",
      "  warnings.warn(\n"
     ]
    },
    {
     "name": "stdout",
     "output_type": "stream",
     "text": [
      "Epoch 1/10\n",
      "\u001b[1m525/525\u001b[0m \u001b[32m━━━━━━━━━━━━━━━━━━━━\u001b[0m\u001b[37m\u001b[0m \u001b[1m9s\u001b[0m 12ms/step - accuracy: 0.1029 - loss: 3.1081 - val_accuracy: 0.1239 - val_loss: 2.3558 - learning_rate: 1.0000e-04\n",
      "Epoch 2/10\n",
      "\u001b[1m525/525\u001b[0m \u001b[32m━━━━━━━━━━━━━━━━━━━━\u001b[0m\u001b[37m\u001b[0m \u001b[1m4s\u001b[0m 8ms/step - accuracy: 0.1143 - loss: 2.4984 - val_accuracy: 0.1600 - val_loss: 2.2576 - learning_rate: 1.0000e-04\n",
      "Epoch 3/10\n",
      "\u001b[1m525/525\u001b[0m \u001b[32m━━━━━━━━━━━━━━━━━━━━\u001b[0m\u001b[37m\u001b[0m \u001b[1m4s\u001b[0m 8ms/step - accuracy: 0.1286 - loss: 2.3701 - val_accuracy: 0.1999 - val_loss: 2.1722 - learning_rate: 1.0000e-04\n",
      "Epoch 4/10\n",
      "\u001b[1m525/525\u001b[0m \u001b[32m━━━━━━━━━━━━━━━━━━━━\u001b[0m\u001b[37m\u001b[0m \u001b[1m6s\u001b[0m 11ms/step - accuracy: 0.1523 - loss: 2.2865 - val_accuracy: 0.2563 - val_loss: 2.0787 - learning_rate: 1.0000e-04\n",
      "Epoch 5/10\n",
      "\u001b[1m525/525\u001b[0m \u001b[32m━━━━━━━━━━━━━━━━━━━━\u001b[0m\u001b[37m\u001b[0m \u001b[1m5s\u001b[0m 9ms/step - accuracy: 0.1940 - loss: 2.1912 - val_accuracy: 0.3406 - val_loss: 1.9255 - learning_rate: 1.0000e-04\n",
      "Epoch 6/10\n",
      "\u001b[1m525/525\u001b[0m \u001b[32m━━━━━━━━━━━━━━━━━━━━\u001b[0m\u001b[37m\u001b[0m \u001b[1m5s\u001b[0m 10ms/step - accuracy: 0.2562 - loss: 2.0555 - val_accuracy: 0.3800 - val_loss: 1.8037 - learning_rate: 1.0000e-04\n",
      "Epoch 7/10\n",
      "\u001b[1m525/525\u001b[0m \u001b[32m━━━━━━━━━━━━━━━━━━━━\u001b[0m\u001b[37m\u001b[0m \u001b[1m9s\u001b[0m 8ms/step - accuracy: 0.3136 - loss: 1.9388 - val_accuracy: 0.4630 - val_loss: 1.6140 - learning_rate: 1.0000e-04\n",
      "Epoch 8/10\n",
      "\u001b[1m525/525\u001b[0m \u001b[32m━━━━━━━━━━━━━━━━━━━━\u001b[0m\u001b[37m\u001b[0m \u001b[1m7s\u001b[0m 12ms/step - accuracy: 0.3434 - loss: 1.8472 - val_accuracy: 0.4919 - val_loss: 1.5429 - learning_rate: 1.0000e-04\n",
      "Epoch 9/10\n",
      "\u001b[1m525/525\u001b[0m \u001b[32m━━━━━━━━━━━━━━━━━━━━\u001b[0m\u001b[37m\u001b[0m \u001b[1m5s\u001b[0m 9ms/step - accuracy: 0.3748 - loss: 1.7812 - val_accuracy: 0.5120 - val_loss: 1.4935 - learning_rate: 1.0000e-04\n",
      "Epoch 10/10\n",
      "\u001b[1m525/525\u001b[0m \u001b[32m━━━━━━━━━━━━━━━━━━━━\u001b[0m\u001b[37m\u001b[0m \u001b[1m6s\u001b[0m 12ms/step - accuracy: 0.3962 - loss: 1.7431 - val_accuracy: 0.5286 - val_loss: 1.4306 - learning_rate: 1.0000e-04\n",
      "\u001b[1m563/563\u001b[0m \u001b[32m━━━━━━━━━━━━━━━━━━━━\u001b[0m\u001b[37m\u001b[0m \u001b[1m1s\u001b[0m 2ms/step - accuracy: 0.5304 - loss: 1.4134\n",
      "Test accuracy: 0.5280\n"
     ]
    }
   ],
   "source": [
    "from tensorflow.keras.models import Sequential\n",
    "from tensorflow.keras.layers import Dense, Dropout, BatchNormalization\n",
    "from tensorflow.keras.optimizers import Adam\n",
    "\n",
    "# Model definition\n",
    "b3_model = Sequential()\n",
    "\n",
    "b3_model.add(Reshape((image_size,), input_shape=(32, 32, 1)))\n",
    "\n",
    "# Add Dense layers with Dropout and BatchNormalization\n",
    "b3_model.add(Dense(256, activation='relu', kernel_initializer='he_uniform'))\n",
    "b3_model.add(BatchNormalization())\n",
    "b3_model.add(Dropout(0.5))\n",
    "\n",
    "model.add(Dense(64))\n",
    "model.add(LeakyReLU(alpha=0.1))\n",
    "\n",
    "b3_model.add(Dense(64, activation='tanh', kernel_initializer='he_uniform'))\n",
    "b3_model.add(BatchNormalization())\n",
    "b3_model.add(Dropout(0.5))\n",
    "\n",
    "b3_model.add(Dense(64, activation='relu', kernel_initializer='he_uniform'))\n",
    "\n",
    "b3_model.add(Dense(32, activation='relu', kernel_initializer='he_uniform'))\n",
    "\n",
    "# Output layer\n",
    "b3_model.add(Dense(num_classes, activation='softmax'))\n",
    "\n",
    "# Compile the model with a different learning rate\n",
    "b3_model.compile(optimizer=Adam(learning_rate=0.0001), loss='categorical_crossentropy', metrics=['accuracy'])\n",
    "\n",
    "reduce_lr = ReduceLROnPlateau(monitor='val_loss',factor=0.1,patience=2,min_lr=0.00001,model='auto')\n",
    "\n",
    "# Train the model\n",
    "b3_history = b3_model.fit(X_train, Y_train_oh, epochs=10, batch_size=64, validation_split=0.2, callbacks=reduce_lr)\n",
    "\n",
    "# Evaluate the model\n",
    "test_loss, test_acc = b3_model.evaluate(X_test, Y_test_oh)\n",
    "print(f'Test accuracy: {test_acc:.4f}')"
   ]
  },
  {
   "cell_type": "code",
   "execution_count": 95,
   "metadata": {
    "colab": {
     "base_uri": "https://localhost:8080/"
    },
    "executionInfo": {
     "elapsed": 351907,
     "status": "ok",
     "timestamp": 1725784608289,
     "user": {
      "displayName": "Jannet Akanksha Ekka",
      "userId": "04295694532301703575"
     },
     "user_tz": -330
    },
    "id": "MBIEXK4smReJ",
    "outputId": "40457c7d-062d-49ca-9328-7b90e6524681",
    "scrolled": true
   },
   "outputs": [
    {
     "name": "stdout",
     "output_type": "stream",
     "text": [
      "Epoch 1/20\n",
      "\u001b[1m1050/1050\u001b[0m \u001b[32m━━━━━━━━━━━━━━━━━━━━\u001b[0m\u001b[37m\u001b[0m \u001b[1m22s\u001b[0m 13ms/step - accuracy: 0.1038 - loss: 2.4708 - val_accuracy: 0.1381 - val_loss: 2.2751\n",
      "Epoch 2/20\n",
      "\u001b[1m1050/1050\u001b[0m \u001b[32m━━━━━━━━━━━━━━━━━━━━\u001b[0m\u001b[37m\u001b[0m \u001b[1m14s\u001b[0m 13ms/step - accuracy: 0.1809 - loss: 2.1751 - val_accuracy: 0.3752 - val_loss: 1.7027\n",
      "Epoch 3/20\n",
      "\u001b[1m1050/1050\u001b[0m \u001b[32m━━━━━━━━━━━━━━━━━━━━\u001b[0m\u001b[37m\u001b[0m \u001b[1m21s\u001b[0m 13ms/step - accuracy: 0.3337 - loss: 1.8219 - val_accuracy: 0.4406 - val_loss: 1.5833\n",
      "Epoch 4/20\n",
      "\u001b[1m1050/1050\u001b[0m \u001b[32m━━━━━━━━━━━━━━━━━━━━\u001b[0m\u001b[37m\u001b[0m \u001b[1m13s\u001b[0m 13ms/step - accuracy: 0.4100 - loss: 1.6680 - val_accuracy: 0.4857 - val_loss: 1.4409\n",
      "Epoch 5/20\n",
      "\u001b[1m1050/1050\u001b[0m \u001b[32m━━━━━━━━━━━━━━━━━━━━\u001b[0m\u001b[37m\u001b[0m \u001b[1m21s\u001b[0m 14ms/step - accuracy: 0.4532 - loss: 1.5738 - val_accuracy: 0.3912 - val_loss: 1.7047\n",
      "Epoch 6/20\n",
      "\u001b[1m1050/1050\u001b[0m \u001b[32m━━━━━━━━━━━━━━━━━━━━\u001b[0m\u001b[37m\u001b[0m \u001b[1m14s\u001b[0m 13ms/step - accuracy: 0.4736 - loss: 1.5143 - val_accuracy: 0.5617 - val_loss: 1.3042\n",
      "Epoch 7/20\n",
      "\u001b[1m1050/1050\u001b[0m \u001b[32m━━━━━━━━━━━━━━━━━━━━\u001b[0m\u001b[37m\u001b[0m \u001b[1m15s\u001b[0m 14ms/step - accuracy: 0.4879 - loss: 1.4861 - val_accuracy: 0.5682 - val_loss: 1.2975\n",
      "Epoch 8/20\n",
      "\u001b[1m1050/1050\u001b[0m \u001b[32m━━━━━━━━━━━━━━━━━━━━\u001b[0m\u001b[37m\u001b[0m \u001b[1m20s\u001b[0m 14ms/step - accuracy: 0.5016 - loss: 1.4637 - val_accuracy: 0.6090 - val_loss: 1.1903\n",
      "Epoch 9/20\n",
      "\u001b[1m1050/1050\u001b[0m \u001b[32m━━━━━━━━━━━━━━━━━━━━\u001b[0m\u001b[37m\u001b[0m \u001b[1m14s\u001b[0m 13ms/step - accuracy: 0.5193 - loss: 1.4261 - val_accuracy: 0.5471 - val_loss: 1.3232\n",
      "Epoch 10/20\n",
      "\u001b[1m1050/1050\u001b[0m \u001b[32m━━━━━━━━━━━━━━━━━━━━\u001b[0m\u001b[37m\u001b[0m \u001b[1m22s\u001b[0m 14ms/step - accuracy: 0.5368 - loss: 1.3917 - val_accuracy: 0.6356 - val_loss: 1.1396\n",
      "Epoch 11/20\n",
      "\u001b[1m1050/1050\u001b[0m \u001b[32m━━━━━━━━━━━━━━━━━━━━\u001b[0m\u001b[37m\u001b[0m \u001b[1m15s\u001b[0m 14ms/step - accuracy: 0.5527 - loss: 1.3502 - val_accuracy: 0.6192 - val_loss: 1.1729\n",
      "Epoch 12/20\n",
      "\u001b[1m1050/1050\u001b[0m \u001b[32m━━━━━━━━━━━━━━━━━━━━\u001b[0m\u001b[37m\u001b[0m \u001b[1m14s\u001b[0m 14ms/step - accuracy: 0.5614 - loss: 1.3392 - val_accuracy: 0.6124 - val_loss: 1.1880\n",
      "Epoch 13/20\n",
      "\u001b[1m1050/1050\u001b[0m \u001b[32m━━━━━━━━━━━━━━━━━━━━\u001b[0m\u001b[37m\u001b[0m \u001b[1m13s\u001b[0m 13ms/step - accuracy: 0.5707 - loss: 1.3164 - val_accuracy: 0.6517 - val_loss: 1.0867\n",
      "Epoch 14/20\n",
      "\u001b[1m1050/1050\u001b[0m \u001b[32m━━━━━━━━━━━━━━━━━━━━\u001b[0m\u001b[37m\u001b[0m \u001b[1m13s\u001b[0m 12ms/step - accuracy: 0.5791 - loss: 1.3038 - val_accuracy: 0.6354 - val_loss: 1.1424\n",
      "Epoch 15/20\n",
      "\u001b[1m1050/1050\u001b[0m \u001b[32m━━━━━━━━━━━━━━━━━━━━\u001b[0m\u001b[37m\u001b[0m \u001b[1m24s\u001b[0m 16ms/step - accuracy: 0.5930 - loss: 1.2620 - val_accuracy: 0.6607 - val_loss: 1.0510\n",
      "Epoch 16/20\n",
      "\u001b[1m1050/1050\u001b[0m \u001b[32m━━━━━━━━━━━━━━━━━━━━\u001b[0m\u001b[37m\u001b[0m \u001b[1m17s\u001b[0m 12ms/step - accuracy: 0.5961 - loss: 1.2525 - val_accuracy: 0.6186 - val_loss: 1.1608\n",
      "Epoch 17/20\n",
      "\u001b[1m1050/1050\u001b[0m \u001b[32m━━━━━━━━━━━━━━━━━━━━\u001b[0m\u001b[37m\u001b[0m \u001b[1m21s\u001b[0m 13ms/step - accuracy: 0.5967 - loss: 1.2529 - val_accuracy: 0.6208 - val_loss: 1.1674\n",
      "Epoch 18/20\n",
      "\u001b[1m1050/1050\u001b[0m \u001b[32m━━━━━━━━━━━━━━━━━━━━\u001b[0m\u001b[37m\u001b[0m \u001b[1m21s\u001b[0m 14ms/step - accuracy: 0.6062 - loss: 1.2328 - val_accuracy: 0.6563 - val_loss: 1.0523\n",
      "Epoch 19/20\n",
      "\u001b[1m1050/1050\u001b[0m \u001b[32m━━━━━━━━━━━━━━━━━━━━\u001b[0m\u001b[37m\u001b[0m \u001b[1m14s\u001b[0m 14ms/step - accuracy: 0.6100 - loss: 1.2220 - val_accuracy: 0.6840 - val_loss: 1.0029\n",
      "Epoch 20/20\n",
      "\u001b[1m1050/1050\u001b[0m \u001b[32m━━━━━━━━━━━━━━━━━━━━\u001b[0m\u001b[37m\u001b[0m \u001b[1m13s\u001b[0m 13ms/step - accuracy: 0.6134 - loss: 1.2169 - val_accuracy: 0.6615 - val_loss: 1.0660\n",
      "\u001b[1m563/563\u001b[0m \u001b[32m━━━━━━━━━━━━━━━━━━━━\u001b[0m\u001b[37m\u001b[0m \u001b[1m2s\u001b[0m 3ms/step - accuracy: 0.6751 - loss: 1.0377\n",
      "Test accuracy: 0.6691\n"
     ]
    }
   ],
   "source": [
    "from tensorflow.keras.models import Sequential\n",
    "from tensorflow.keras.layers import Dense, Dropout, BatchNormalization, LeakyReLU\n",
    "from tensorflow.keras.optimizers import Adam\n",
    "\n",
    "b4_model = Sequential()\n",
    "\n",
    "b4_model.add(Reshape((image_size,), input_shape=(32, 32, 1)))\n",
    "\n",
    "# Increased neurons and LeakyReLU\n",
    "b4_model.add(Dense(512))\n",
    "b4_model.add(LeakyReLU(alpha=0.3))\n",
    "b4_model.add(BatchNormalization())\n",
    "b4_model.add(Dropout(0.5))\n",
    "\n",
    "# Added another layer\n",
    "b4_model.add(Dense(128))\n",
    "b4_model.add(LeakyReLU(alpha=0.3))\n",
    "b4_model.add(BatchNormalization())\n",
    "b4_model.add(Dropout(0.4))\n",
    "\n",
    "b4_model.add(Dense(64, activation='relu', kernel_initializer='he_uniform'))\n",
    "b4_model.add(BatchNormalization())\n",
    "b4_model.add(Dropout(0.5))\n",
    "\n",
    "b4_model.add(Dense(64, activation='relu', kernel_initializer='he_uniform'))\n",
    "b4_model.add(Dense(32, activation='relu', kernel_initializer='he_uniform'))\n",
    "\n",
    "b4_model.add(Dense(num_classes, activation='softmax'))\n",
    "\n",
    "# Increased learning rate\n",
    "b4_model.compile(optimizer=Adam(learning_rate=0.001), loss='categorical_crossentropy', metrics=['accuracy'])\n",
    "\n",
    "b4_history = b4_model.fit(X_train, Y_train_oh, epochs=20, batch_size=32, validation_split=0.2)\n",
    "\n",
    "test_loss, test_acc = b4_model.evaluate(X_test, Y_test_oh)\n",
    "print(f'Test accuracy: {test_acc:.4f}')"
   ]
  },
  {
   "cell_type": "code",
   "execution_count": 107,
   "metadata": {
    "colab": {
     "base_uri": "https://localhost:8080/"
    },
    "executionInfo": {
     "elapsed": 790173,
     "status": "ok",
     "timestamp": 1725790689308,
     "user": {
      "displayName": "Jannet Akanksha Ekka",
      "userId": "04295694532301703575"
     },
     "user_tz": -330
    },
    "id": "wGqR7L5k-z4d",
    "outputId": "ff158116-3ced-4de6-dba7-4548ef6361a9",
    "scrolled": true
   },
   "outputs": [
    {
     "name": "stderr",
     "output_type": "stream",
     "text": [
      "/usr/local/lib/python3.10/dist-packages/keras/src/layers/reshaping/reshape.py:39: UserWarning: Do not pass an `input_shape`/`input_dim` argument to a layer. When using Sequential models, prefer using an `Input(shape)` object as the first layer in the model instead.\n",
      "  super().__init__(**kwargs)\n",
      "/usr/local/lib/python3.10/dist-packages/keras/src/layers/activations/leaky_relu.py:41: UserWarning: Argument `alpha` is deprecated. Use `negative_slope` instead.\n",
      "  warnings.warn(\n"
     ]
    },
    {
     "name": "stdout",
     "output_type": "stream",
     "text": [
      "Epoch 1/20\n",
      "\u001b[1m1050/1050\u001b[0m \u001b[32m━━━━━━━━━━━━━━━━━━━━\u001b[0m\u001b[37m\u001b[0m \u001b[1m41s\u001b[0m 32ms/step - accuracy: 0.1979 - loss: 2.3030 - val_accuracy: 0.5713 - val_loss: 1.3759 - learning_rate: 0.0010\n",
      "Epoch 2/20\n",
      "\u001b[1m1050/1050\u001b[0m \u001b[32m━━━━━━━━━━━━━━━━━━━━\u001b[0m\u001b[37m\u001b[0m \u001b[1m41s\u001b[0m 32ms/step - accuracy: 0.4955 - loss: 1.5138 - val_accuracy: 0.6218 - val_loss: 1.2008 - learning_rate: 0.0010\n",
      "Epoch 3/20\n",
      "\u001b[1m1050/1050\u001b[0m \u001b[32m━━━━━━━━━━━━━━━━━━━━\u001b[0m\u001b[37m\u001b[0m \u001b[1m34s\u001b[0m 32ms/step - accuracy: 0.5668 - loss: 1.3380 - val_accuracy: 0.5446 - val_loss: 1.4199 - learning_rate: 0.0010\n",
      "Epoch 4/20\n",
      "\u001b[1m1050/1050\u001b[0m \u001b[32m━━━━━━━━━━━━━━━━━━━━\u001b[0m\u001b[37m\u001b[0m \u001b[1m41s\u001b[0m 32ms/step - accuracy: 0.6006 - loss: 1.2623 - val_accuracy: 0.7007 - val_loss: 1.0129 - learning_rate: 0.0010\n",
      "Epoch 5/20\n",
      "\u001b[1m1050/1050\u001b[0m \u001b[32m━━━━━━━━━━━━━━━━━━━━\u001b[0m\u001b[37m\u001b[0m \u001b[1m35s\u001b[0m 33ms/step - accuracy: 0.6108 - loss: 1.2193 - val_accuracy: 0.5993 - val_loss: 1.2419 - learning_rate: 0.0010\n",
      "Epoch 6/20\n",
      "\u001b[1m1050/1050\u001b[0m \u001b[32m━━━━━━━━━━━━━━━━━━━━\u001b[0m\u001b[37m\u001b[0m \u001b[1m35s\u001b[0m 33ms/step - accuracy: 0.6269 - loss: 1.1876 - val_accuracy: 0.6685 - val_loss: 1.0646 - learning_rate: 0.0010\n",
      "Epoch 7/20\n",
      "\u001b[1m1050/1050\u001b[0m \u001b[32m━━━━━━━━━━━━━━━━━━━━\u001b[0m\u001b[37m\u001b[0m \u001b[1m40s\u001b[0m 33ms/step - accuracy: 0.6416 - loss: 1.1430 - val_accuracy: 0.7181 - val_loss: 0.9396 - learning_rate: 0.0010\n",
      "Epoch 8/20\n",
      "\u001b[1m1050/1050\u001b[0m \u001b[32m━━━━━━━━━━━━━━━━━━━━\u001b[0m\u001b[37m\u001b[0m \u001b[1m39s\u001b[0m 32ms/step - accuracy: 0.6507 - loss: 1.1129 - val_accuracy: 0.7045 - val_loss: 0.9568 - learning_rate: 0.0010\n",
      "Epoch 9/20\n",
      "\u001b[1m1050/1050\u001b[0m \u001b[32m━━━━━━━━━━━━━━━━━━━━\u001b[0m\u001b[37m\u001b[0m \u001b[1m34s\u001b[0m 32ms/step - accuracy: 0.6606 - loss: 1.0677 - val_accuracy: 0.7317 - val_loss: 0.9035 - learning_rate: 0.0010\n",
      "Epoch 10/20\n",
      "\u001b[1m1050/1050\u001b[0m \u001b[32m━━━━━━━━━━━━━━━━━━━━\u001b[0m\u001b[37m\u001b[0m \u001b[1m40s\u001b[0m 32ms/step - accuracy: 0.6715 - loss: 1.0563 - val_accuracy: 0.6976 - val_loss: 0.9692 - learning_rate: 0.0010\n",
      "Epoch 11/20\n",
      "\u001b[1m1050/1050\u001b[0m \u001b[32m━━━━━━━━━━━━━━━━━━━━\u001b[0m\u001b[37m\u001b[0m \u001b[1m40s\u001b[0m 31ms/step - accuracy: 0.6798 - loss: 1.0344 - val_accuracy: 0.6768 - val_loss: 1.0011 - learning_rate: 0.0010\n",
      "Epoch 12/20\n",
      "\u001b[1m1050/1050\u001b[0m \u001b[32m━━━━━━━━━━━━━━━━━━━━\u001b[0m\u001b[37m\u001b[0m \u001b[1m42s\u001b[0m 32ms/step - accuracy: 0.6880 - loss: 0.9983 - val_accuracy: 0.7623 - val_loss: 0.8158 - learning_rate: 0.0010\n",
      "Epoch 13/20\n",
      "\u001b[1m1050/1050\u001b[0m \u001b[32m━━━━━━━━━━━━━━━━━━━━\u001b[0m\u001b[37m\u001b[0m \u001b[1m41s\u001b[0m 32ms/step - accuracy: 0.6904 - loss: 0.9891 - val_accuracy: 0.7342 - val_loss: 0.8944 - learning_rate: 0.0010\n",
      "Epoch 14/20\n",
      "\u001b[1m1050/1050\u001b[0m \u001b[32m━━━━━━━━━━━━━━━━━━━━\u001b[0m\u001b[37m\u001b[0m \u001b[1m42s\u001b[0m 34ms/step - accuracy: 0.7041 - loss: 0.9604 - val_accuracy: 0.7083 - val_loss: 0.9239 - learning_rate: 0.0010\n",
      "Epoch 15/20\n",
      "\u001b[1m1050/1050\u001b[0m \u001b[32m━━━━━━━━━━━━━━━━━━━━\u001b[0m\u001b[37m\u001b[0m \u001b[1m36s\u001b[0m 34ms/step - accuracy: 0.6974 - loss: 0.9701 - val_accuracy: 0.7729 - val_loss: 0.7898 - learning_rate: 0.0010\n",
      "Epoch 16/20\n",
      "\u001b[1m1050/1050\u001b[0m \u001b[32m━━━━━━━━━━━━━━━━━━━━\u001b[0m\u001b[37m\u001b[0m \u001b[1m40s\u001b[0m 33ms/step - accuracy: 0.7022 - loss: 0.9393 - val_accuracy: 0.7301 - val_loss: 0.8749 - learning_rate: 0.0010\n",
      "Epoch 17/20\n",
      "\u001b[1m1050/1050\u001b[0m \u001b[32m━━━━━━━━━━━━━━━━━━━━\u001b[0m\u001b[37m\u001b[0m \u001b[1m39s\u001b[0m 32ms/step - accuracy: 0.7051 - loss: 0.9303 - val_accuracy: 0.7754 - val_loss: 0.7821 - learning_rate: 0.0010\n",
      "Epoch 18/20\n",
      "\u001b[1m1050/1050\u001b[0m \u001b[32m━━━━━━━━━━━━━━━━━━━━\u001b[0m\u001b[37m\u001b[0m \u001b[1m34s\u001b[0m 33ms/step - accuracy: 0.7112 - loss: 0.9148 - val_accuracy: 0.7431 - val_loss: 0.8201 - learning_rate: 0.0010\n",
      "Epoch 19/20\n",
      "\u001b[1m1050/1050\u001b[0m \u001b[32m━━━━━━━━━━━━━━━━━━━━\u001b[0m\u001b[37m\u001b[0m \u001b[1m43s\u001b[0m 34ms/step - accuracy: 0.7223 - loss: 0.8923 - val_accuracy: 0.7700 - val_loss: 0.7893 - learning_rate: 0.0010\n",
      "Epoch 20/20\n",
      "\u001b[1m1050/1050\u001b[0m \u001b[32m━━━━━━━━━━━━━━━━━━━━\u001b[0m\u001b[37m\u001b[0m \u001b[1m39s\u001b[0m 32ms/step - accuracy: 0.7206 - loss: 0.8948 - val_accuracy: 0.7874 - val_loss: 0.7371 - learning_rate: 0.0010\n",
      "\u001b[1m563/563\u001b[0m \u001b[32m━━━━━━━━━━━━━━━━━━━━\u001b[0m\u001b[37m\u001b[0m \u001b[1m4s\u001b[0m 6ms/step - accuracy: 0.7834 - loss: 0.7387\n",
      "Test accuracy: 0.7822\n"
     ]
    }
   ],
   "source": [
    "from tensorflow.keras.models import Sequential\n",
    "from tensorflow.keras.layers import Dense, Dropout, BatchNormalization, LeakyReLU\n",
    "from tensorflow.keras.optimizers import Adam\n",
    "from tensorflow.keras.callbacks import EarlyStopping, ReduceLROnPlateau\n",
    "\n",
    "b5_model = Sequential()\n",
    "\n",
    "# Reshape the input (flatten the 32x32x1 image into a vector)\n",
    "b5_model.add(Reshape((32 * 32,), input_shape=(32, 32, 1)))\n",
    "\n",
    "# First Dense Layer\n",
    "b5_model.add(Dense(1024, kernel_initializer='he_uniform'))\n",
    "b5_model.add(BatchNormalization())\n",
    "b5_model.add(LeakyReLU(alpha=0.3))\n",
    "b5_model.add(Dropout(0.5))\n",
    "\n",
    "# Second Dense Layer\n",
    "b4_model.add(Dense(512, kernel_initializer='he_uniform'))\n",
    "b4_model.add(BatchNormalization())\n",
    "b4_model.add(LeakyReLU(alpha=0.3))\n",
    "b4_model.add(Dropout(0.4))\n",
    "\n",
    "# Third Dense Layer\n",
    "b5_model.add(Dense(256, kernel_initializer='he_uniform'))\n",
    "b5_model.add(BatchNormalization())\n",
    "b5_model.add(LeakyReLU(alpha=0.3))\n",
    "b5_model.add(Dropout(0.3))\n",
    "\n",
    "# Fourth Dense Layer\n",
    "b5_model.add(Dense(128, kernel_initializer='he_uniform'))\n",
    "b5_model.add(BatchNormalization())\n",
    "b5_model.add(LeakyReLU(alpha=0.3))\n",
    "b5_model.add(Dropout(0.3))\n",
    "\n",
    "# Final Output Layer\n",
    "b5_model.add(Dense(num_classes, activation='softmax'))\n",
    "\n",
    "# Compile the model\n",
    "b5_model.compile(optimizer=Adam(learning_rate=0.001), loss='categorical_crossentropy', metrics=['accuracy'])\n",
    "\n",
    "# Callbacks\n",
    "early_stopping = EarlyStopping(monitor='val_loss', patience=5, restore_best_weights=True)\n",
    "lr_scheduler = ReduceLROnPlateau(monitor='val_loss', factor=0.5, patience=3, min_lr=0.00001)\n",
    "\n",
    "# Train the model\n",
    "b5_history = b5_model.fit(X_train, Y_train_oh, epochs=20, batch_size=32, validation_split=0.2,\n",
    "                          callbacks=[early_stopping, lr_scheduler])\n",
    "\n",
    "# Evaluate the model\n",
    "test_loss, test_acc = b5_model.evaluate(X_test, Y_test_oh)\n",
    "print(f'Test accuracy: {test_acc:.4f}')\n"
   ]
  },
  {
   "cell_type": "code",
   "execution_count": 110,
   "metadata": {
    "colab": {
     "base_uri": "https://localhost:8080/"
    },
    "executionInfo": {
     "elapsed": 2022132,
     "status": "ok",
     "timestamp": 1725796046266,
     "user": {
      "displayName": "Jannet Akanksha Ekka",
      "userId": "04295694532301703575"
     },
     "user_tz": -330
    },
    "id": "23tzSNbxGAbC",
    "outputId": "a6d225e4-592b-4a71-b40b-97fb717f73ac"
   },
   "outputs": [
    {
     "name": "stdout",
     "output_type": "stream",
     "text": [
      "Epoch 1/50\n",
      "\u001b[1m1050/1050\u001b[0m \u001b[32m━━━━━━━━━━━━━━━━━━━━\u001b[0m\u001b[37m\u001b[0m \u001b[1m42s\u001b[0m 34ms/step - accuracy: 0.2202 - loss: 2.2148 - val_accuracy: 0.5625 - val_loss: 1.3655 - learning_rate: 5.0000e-04\n",
      "Epoch 2/50\n",
      "\u001b[1m1050/1050\u001b[0m \u001b[32m━━━━━━━━━━━━━━━━━━━━\u001b[0m\u001b[37m\u001b[0m \u001b[1m39s\u001b[0m 33ms/step - accuracy: 0.5512 - loss: 1.3702 - val_accuracy: 0.6340 - val_loss: 1.1580 - learning_rate: 5.0000e-04\n",
      "Epoch 3/50\n",
      "\u001b[1m1050/1050\u001b[0m \u001b[32m━━━━━━━━━━━━━━━━━━━━\u001b[0m\u001b[37m\u001b[0m \u001b[1m41s\u001b[0m 33ms/step - accuracy: 0.6163 - loss: 1.2034 - val_accuracy: 0.6685 - val_loss: 1.0559 - learning_rate: 5.0000e-04\n",
      "Epoch 4/50\n",
      "\u001b[1m1050/1050\u001b[0m \u001b[32m━━━━━━━━━━━━━━━━━━━━\u001b[0m\u001b[37m\u001b[0m \u001b[1m56s\u001b[0m 47ms/step - accuracy: 0.6458 - loss: 1.1098 - val_accuracy: 0.6243 - val_loss: 1.1468 - learning_rate: 5.0000e-04\n",
      "Epoch 5/50\n",
      "\u001b[1m1050/1050\u001b[0m \u001b[32m━━━━━━━━━━━━━━━━━━━━\u001b[0m\u001b[37m\u001b[0m \u001b[1m68s\u001b[0m 34ms/step - accuracy: 0.6634 - loss: 1.0635 - val_accuracy: 0.7288 - val_loss: 0.9070 - learning_rate: 5.0000e-04\n",
      "Epoch 6/50\n",
      "\u001b[1m1050/1050\u001b[0m \u001b[32m━━━━━━━━━━━━━━━━━━━━\u001b[0m\u001b[37m\u001b[0m \u001b[1m40s\u001b[0m 32ms/step - accuracy: 0.6876 - loss: 0.9859 - val_accuracy: 0.7242 - val_loss: 0.8765 - learning_rate: 5.0000e-04\n",
      "Epoch 7/50\n",
      "\u001b[1m1050/1050\u001b[0m \u001b[32m━━━━━━━━━━━━━━━━━━━━\u001b[0m\u001b[37m\u001b[0m \u001b[1m43s\u001b[0m 34ms/step - accuracy: 0.6978 - loss: 0.9536 - val_accuracy: 0.7524 - val_loss: 0.8248 - learning_rate: 5.0000e-04\n",
      "Epoch 8/50\n",
      "\u001b[1m1050/1050\u001b[0m \u001b[32m━━━━━━━━━━━━━━━━━━━━\u001b[0m\u001b[37m\u001b[0m \u001b[1m33s\u001b[0m 32ms/step - accuracy: 0.7088 - loss: 0.9188 - val_accuracy: 0.7160 - val_loss: 0.8925 - learning_rate: 5.0000e-04\n",
      "Epoch 9/50\n",
      "\u001b[1m1050/1050\u001b[0m \u001b[32m━━━━━━━━━━━━━━━━━━━━\u001b[0m\u001b[37m\u001b[0m \u001b[1m43s\u001b[0m 33ms/step - accuracy: 0.7283 - loss: 0.8680 - val_accuracy: 0.6490 - val_loss: 1.0587 - learning_rate: 5.0000e-04\n",
      "Epoch 10/50\n",
      "\u001b[1m1050/1050\u001b[0m \u001b[32m━━━━━━━━━━━━━━━━━━━━\u001b[0m\u001b[37m\u001b[0m \u001b[1m40s\u001b[0m 32ms/step - accuracy: 0.7334 - loss: 0.8420 - val_accuracy: 0.7644 - val_loss: 0.8057 - learning_rate: 5.0000e-04\n",
      "Epoch 11/50\n",
      "\u001b[1m1050/1050\u001b[0m \u001b[32m━━━━━━━━━━━━━━━━━━━━\u001b[0m\u001b[37m\u001b[0m \u001b[1m35s\u001b[0m 33ms/step - accuracy: 0.7428 - loss: 0.8234 - val_accuracy: 0.7244 - val_loss: 0.8835 - learning_rate: 5.0000e-04\n",
      "Epoch 12/50\n",
      "\u001b[1m1050/1050\u001b[0m \u001b[32m━━━━━━━━━━━━━━━━━━━━\u001b[0m\u001b[37m\u001b[0m \u001b[1m35s\u001b[0m 33ms/step - accuracy: 0.7490 - loss: 0.7950 - val_accuracy: 0.7494 - val_loss: 0.7867 - learning_rate: 5.0000e-04\n",
      "Epoch 13/50\n",
      "\u001b[1m1050/1050\u001b[0m \u001b[32m━━━━━━━━━━━━━━━━━━━━\u001b[0m\u001b[37m\u001b[0m \u001b[1m39s\u001b[0m 32ms/step - accuracy: 0.7432 - loss: 0.8048 - val_accuracy: 0.7457 - val_loss: 0.8062 - learning_rate: 5.0000e-04\n",
      "Epoch 14/50\n",
      "\u001b[1m1050/1050\u001b[0m \u001b[32m━━━━━━━━━━━━━━━━━━━━\u001b[0m\u001b[37m\u001b[0m \u001b[1m41s\u001b[0m 32ms/step - accuracy: 0.7483 - loss: 0.7746 - val_accuracy: 0.7390 - val_loss: 0.8326 - learning_rate: 5.0000e-04\n",
      "Epoch 15/50\n",
      "\u001b[1m1050/1050\u001b[0m \u001b[32m━━━━━━━━━━━━━━━━━━━━\u001b[0m\u001b[37m\u001b[0m \u001b[1m43s\u001b[0m 34ms/step - accuracy: 0.7614 - loss: 0.7503 - val_accuracy: 0.7586 - val_loss: 0.7778 - learning_rate: 5.0000e-04\n",
      "Epoch 16/50\n",
      "\u001b[1m1050/1050\u001b[0m \u001b[32m━━━━━━━━━━━━━━━━━━━━\u001b[0m\u001b[37m\u001b[0m \u001b[1m41s\u001b[0m 34ms/step - accuracy: 0.7631 - loss: 0.7491 - val_accuracy: 0.7730 - val_loss: 0.7014 - learning_rate: 5.0000e-04\n",
      "Epoch 17/50\n",
      "\u001b[1m1050/1050\u001b[0m \u001b[32m━━━━━━━━━━━━━━━━━━━━\u001b[0m\u001b[37m\u001b[0m \u001b[1m39s\u001b[0m 32ms/step - accuracy: 0.7742 - loss: 0.7137 - val_accuracy: 0.8114 - val_loss: 0.6325 - learning_rate: 5.0000e-04\n",
      "Epoch 18/50\n",
      "\u001b[1m1050/1050\u001b[0m \u001b[32m━━━━━━━━━━━━━━━━━━━━\u001b[0m\u001b[37m\u001b[0m \u001b[1m41s\u001b[0m 32ms/step - accuracy: 0.7684 - loss: 0.7311 - val_accuracy: 0.7713 - val_loss: 0.7375 - learning_rate: 5.0000e-04\n",
      "Epoch 19/50\n",
      "\u001b[1m1050/1050\u001b[0m \u001b[32m━━━━━━━━━━━━━━━━━━━━\u001b[0m\u001b[37m\u001b[0m \u001b[1m42s\u001b[0m 33ms/step - accuracy: 0.7785 - loss: 0.6957 - val_accuracy: 0.8040 - val_loss: 0.6574 - learning_rate: 5.0000e-04\n",
      "Epoch 20/50\n",
      "\u001b[1m1050/1050\u001b[0m \u001b[32m━━━━━━━━━━━━━━━━━━━━\u001b[0m\u001b[37m\u001b[0m \u001b[1m41s\u001b[0m 33ms/step - accuracy: 0.7789 - loss: 0.6884 - val_accuracy: 0.8021 - val_loss: 0.6612 - learning_rate: 5.0000e-04\n",
      "Epoch 21/50\n",
      "\u001b[1m1050/1050\u001b[0m \u001b[32m━━━━━━━━━━━━━━━━━━━━\u001b[0m\u001b[37m\u001b[0m \u001b[1m34s\u001b[0m 32ms/step - accuracy: 0.8033 - loss: 0.6250 - val_accuracy: 0.8112 - val_loss: 0.6085 - learning_rate: 2.5000e-04\n",
      "Epoch 22/50\n",
      "\u001b[1m1050/1050\u001b[0m \u001b[32m━━━━━━━━━━━━━━━━━━━━\u001b[0m\u001b[37m\u001b[0m \u001b[1m34s\u001b[0m 32ms/step - accuracy: 0.8032 - loss: 0.6177 - val_accuracy: 0.8243 - val_loss: 0.5751 - learning_rate: 2.5000e-04\n",
      "Epoch 23/50\n",
      "\u001b[1m1050/1050\u001b[0m \u001b[32m━━━━━━━━━━━━━━━━━━━━\u001b[0m\u001b[37m\u001b[0m \u001b[1m43s\u001b[0m 34ms/step - accuracy: 0.8038 - loss: 0.6183 - val_accuracy: 0.8356 - val_loss: 0.5423 - learning_rate: 2.5000e-04\n",
      "Epoch 24/50\n",
      "\u001b[1m1050/1050\u001b[0m \u001b[32m━━━━━━━━━━━━━━━━━━━━\u001b[0m\u001b[37m\u001b[0m \u001b[1m34s\u001b[0m 32ms/step - accuracy: 0.8030 - loss: 0.6091 - val_accuracy: 0.8287 - val_loss: 0.5661 - learning_rate: 2.5000e-04\n",
      "Epoch 25/50\n",
      "\u001b[1m1050/1050\u001b[0m \u001b[32m━━━━━━━━━━━━━━━━━━━━\u001b[0m\u001b[37m\u001b[0m \u001b[1m36s\u001b[0m 34ms/step - accuracy: 0.8097 - loss: 0.5854 - val_accuracy: 0.8179 - val_loss: 0.5933 - learning_rate: 2.5000e-04\n",
      "Epoch 26/50\n",
      "\u001b[1m1050/1050\u001b[0m \u001b[32m━━━━━━━━━━━━━━━━━━━━\u001b[0m\u001b[37m\u001b[0m \u001b[1m39s\u001b[0m 32ms/step - accuracy: 0.8139 - loss: 0.5895 - val_accuracy: 0.8264 - val_loss: 0.5567 - learning_rate: 2.5000e-04\n",
      "Epoch 27/50\n",
      "\u001b[1m1050/1050\u001b[0m \u001b[32m━━━━━━━━━━━━━━━━━━━━\u001b[0m\u001b[37m\u001b[0m \u001b[1m37s\u001b[0m 35ms/step - accuracy: 0.8197 - loss: 0.5707 - val_accuracy: 0.8467 - val_loss: 0.4967 - learning_rate: 1.2500e-04\n",
      "Epoch 28/50\n",
      "\u001b[1m1050/1050\u001b[0m \u001b[32m━━━━━━━━━━━━━━━━━━━━\u001b[0m\u001b[37m\u001b[0m \u001b[1m38s\u001b[0m 32ms/step - accuracy: 0.8209 - loss: 0.5582 - val_accuracy: 0.8502 - val_loss: 0.4934 - learning_rate: 1.2500e-04\n",
      "Epoch 29/50\n",
      "\u001b[1m1050/1050\u001b[0m \u001b[32m━━━━━━━━━━━━━━━━━━━━\u001b[0m\u001b[37m\u001b[0m \u001b[1m35s\u001b[0m 33ms/step - accuracy: 0.8255 - loss: 0.5473 - val_accuracy: 0.8548 - val_loss: 0.4792 - learning_rate: 1.2500e-04\n",
      "Epoch 30/50\n",
      "\u001b[1m1050/1050\u001b[0m \u001b[32m━━━━━━━━━━━━━━━━━━━━\u001b[0m\u001b[37m\u001b[0m \u001b[1m41s\u001b[0m 34ms/step - accuracy: 0.8224 - loss: 0.5507 - val_accuracy: 0.8550 - val_loss: 0.4764 - learning_rate: 1.2500e-04\n",
      "Epoch 31/50\n",
      "\u001b[1m1050/1050\u001b[0m \u001b[32m━━━━━━━━━━━━━━━━━━━━\u001b[0m\u001b[37m\u001b[0m \u001b[1m41s\u001b[0m 34ms/step - accuracy: 0.8316 - loss: 0.5306 - val_accuracy: 0.8587 - val_loss: 0.4710 - learning_rate: 1.2500e-04\n",
      "Epoch 32/50\n",
      "\u001b[1m1050/1050\u001b[0m \u001b[32m━━━━━━━━━━━━━━━━━━━━\u001b[0m\u001b[37m\u001b[0m \u001b[1m39s\u001b[0m 32ms/step - accuracy: 0.8275 - loss: 0.5422 - val_accuracy: 0.8556 - val_loss: 0.4806 - learning_rate: 1.2500e-04\n",
      "Epoch 33/50\n",
      "\u001b[1m1050/1050\u001b[0m \u001b[32m━━━━━━━━━━━━━━━━━━━━\u001b[0m\u001b[37m\u001b[0m \u001b[1m34s\u001b[0m 32ms/step - accuracy: 0.8325 - loss: 0.5308 - val_accuracy: 0.8552 - val_loss: 0.4721 - learning_rate: 1.2500e-04\n",
      "Epoch 34/50\n",
      "\u001b[1m1050/1050\u001b[0m \u001b[32m━━━━━━━━━━━━━━━━━━━━\u001b[0m\u001b[37m\u001b[0m \u001b[1m41s\u001b[0m 33ms/step - accuracy: 0.8351 - loss: 0.5241 - val_accuracy: 0.8536 - val_loss: 0.4718 - learning_rate: 1.2500e-04\n",
      "Epoch 35/50\n",
      "\u001b[1m1050/1050\u001b[0m \u001b[32m━━━━━━━━━━━━━━━━━━━━\u001b[0m\u001b[37m\u001b[0m \u001b[1m43s\u001b[0m 34ms/step - accuracy: 0.8312 - loss: 0.5219 - val_accuracy: 0.8639 - val_loss: 0.4515 - learning_rate: 6.2500e-05\n",
      "Epoch 36/50\n",
      "\u001b[1m1050/1050\u001b[0m \u001b[32m━━━━━━━━━━━━━━━━━━━━\u001b[0m\u001b[37m\u001b[0m \u001b[1m40s\u001b[0m 34ms/step - accuracy: 0.8365 - loss: 0.5110 - val_accuracy: 0.8604 - val_loss: 0.4615 - learning_rate: 6.2500e-05\n",
      "Epoch 37/50\n",
      "\u001b[1m1050/1050\u001b[0m \u001b[32m━━━━━━━━━━━━━━━━━━━━\u001b[0m\u001b[37m\u001b[0m \u001b[1m39s\u001b[0m 32ms/step - accuracy: 0.8364 - loss: 0.5137 - val_accuracy: 0.8621 - val_loss: 0.4537 - learning_rate: 6.2500e-05\n",
      "Epoch 38/50\n",
      "\u001b[1m1050/1050\u001b[0m \u001b[32m━━━━━━━━━━━━━━━━━━━━\u001b[0m\u001b[37m\u001b[0m \u001b[1m34s\u001b[0m 33ms/step - accuracy: 0.8417 - loss: 0.4980 - val_accuracy: 0.8646 - val_loss: 0.4554 - learning_rate: 6.2500e-05\n",
      "Epoch 39/50\n",
      "\u001b[1m1050/1050\u001b[0m \u001b[32m━━━━━━━━━━━━━━━━━━━━\u001b[0m\u001b[37m\u001b[0m \u001b[1m42s\u001b[0m 34ms/step - accuracy: 0.8424 - loss: 0.4928 - val_accuracy: 0.8649 - val_loss: 0.4439 - learning_rate: 3.1250e-05\n",
      "Epoch 40/50\n",
      "\u001b[1m1050/1050\u001b[0m \u001b[32m━━━━━━━━━━━━━━━━━━━━\u001b[0m\u001b[37m\u001b[0m \u001b[1m39s\u001b[0m 32ms/step - accuracy: 0.8431 - loss: 0.4976 - val_accuracy: 0.8667 - val_loss: 0.4395 - learning_rate: 3.1250e-05\n",
      "Epoch 41/50\n",
      "\u001b[1m1050/1050\u001b[0m \u001b[32m━━━━━━━━━━━━━━━━━━━━\u001b[0m\u001b[37m\u001b[0m \u001b[1m41s\u001b[0m 32ms/step - accuracy: 0.8446 - loss: 0.4856 - val_accuracy: 0.8667 - val_loss: 0.4434 - learning_rate: 3.1250e-05\n",
      "Epoch 42/50\n",
      "\u001b[1m1050/1050\u001b[0m \u001b[32m━━━━━━━━━━━━━━━━━━━━\u001b[0m\u001b[37m\u001b[0m \u001b[1m42s\u001b[0m 33ms/step - accuracy: 0.8405 - loss: 0.4942 - val_accuracy: 0.8648 - val_loss: 0.4453 - learning_rate: 3.1250e-05\n",
      "Epoch 43/50\n",
      "\u001b[1m1050/1050\u001b[0m \u001b[32m━━━━━━━━━━━━━━━━━━━━\u001b[0m\u001b[37m\u001b[0m \u001b[1m42s\u001b[0m 34ms/step - accuracy: 0.8412 - loss: 0.4993 - val_accuracy: 0.8664 - val_loss: 0.4399 - learning_rate: 3.1250e-05\n",
      "Epoch 44/50\n",
      "\u001b[1m1050/1050\u001b[0m \u001b[32m━━━━━━━━━━━━━━━━━━━━\u001b[0m\u001b[37m\u001b[0m \u001b[1m39s\u001b[0m 32ms/step - accuracy: 0.8415 - loss: 0.4951 - val_accuracy: 0.8683 - val_loss: 0.4396 - learning_rate: 1.5625e-05\n",
      "Epoch 45/50\n",
      "\u001b[1m1050/1050\u001b[0m \u001b[32m━━━━━━━━━━━━━━━━━━━━\u001b[0m\u001b[37m\u001b[0m \u001b[1m41s\u001b[0m 32ms/step - accuracy: 0.8448 - loss: 0.4889 - val_accuracy: 0.8701 - val_loss: 0.4401 - learning_rate: 1.5625e-05\n",
      "Epoch 46/50\n",
      "\u001b[1m1050/1050\u001b[0m \u001b[32m━━━━━━━━━━━━━━━━━━━━\u001b[0m\u001b[37m\u001b[0m \u001b[1m42s\u001b[0m 33ms/step - accuracy: 0.8442 - loss: 0.4836 - val_accuracy: 0.8689 - val_loss: 0.4377 - learning_rate: 1.5625e-05\n",
      "Epoch 47/50\n",
      "\u001b[1m1050/1050\u001b[0m \u001b[32m━━━━━━━━━━━━━━━━━━━━\u001b[0m\u001b[37m\u001b[0m \u001b[1m43s\u001b[0m 35ms/step - accuracy: 0.8356 - loss: 0.5007 - val_accuracy: 0.8704 - val_loss: 0.4370 - learning_rate: 1.5625e-05\n",
      "Epoch 48/50\n",
      "\u001b[1m1050/1050\u001b[0m \u001b[32m━━━━━━━━━━━━━━━━━━━━\u001b[0m\u001b[37m\u001b[0m \u001b[1m38s\u001b[0m 32ms/step - accuracy: 0.8428 - loss: 0.4916 - val_accuracy: 0.8695 - val_loss: 0.4358 - learning_rate: 1.5625e-05\n",
      "Epoch 49/50\n",
      "\u001b[1m1050/1050\u001b[0m \u001b[32m━━━━━━━━━━━━━━━━━━━━\u001b[0m\u001b[37m\u001b[0m \u001b[1m34s\u001b[0m 32ms/step - accuracy: 0.8435 - loss: 0.4868 - val_accuracy: 0.8714 - val_loss: 0.4351 - learning_rate: 1.5625e-05\n",
      "Epoch 50/50\n",
      "\u001b[1m1050/1050\u001b[0m \u001b[32m━━━━━━━━━━━━━━━━━━━━\u001b[0m\u001b[37m\u001b[0m \u001b[1m41s\u001b[0m 32ms/step - accuracy: 0.8430 - loss: 0.4913 - val_accuracy: 0.8701 - val_loss: 0.4374 - learning_rate: 1.5625e-05\n",
      "\u001b[1m563/563\u001b[0m \u001b[32m━━━━━━━━━━━━━━━━━━━━\u001b[0m\u001b[37m\u001b[0m \u001b[1m4s\u001b[0m 7ms/step - accuracy: 0.8756 - loss: 0.4237\n",
      "Test accuracy: 0.8709\n"
     ]
    }
   ],
   "source": [
    "from tensorflow.keras.models import Sequential\n",
    "from tensorflow.keras.layers import Dense, Dropout, BatchNormalization, LeakyReLU, Reshape\n",
    "from tensorflow.keras.optimizers import Adam\n",
    "from tensorflow.keras.callbacks import EarlyStopping, ReduceLROnPlateau, ModelCheckpoint\n",
    "\n",
    "b6_model = Sequential()\n",
    "\n",
    "# Reshape the input (flatten the 32x32x1 image into a vector)\n",
    "b6_model.add(Reshape((32 * 32,), input_shape=(32, 32, 1)))\n",
    "\n",
    "# First Dense Layer\n",
    "b6_model.add(Dense(1024, kernel_initializer='he_uniform', kernel_regularizer=l2(0.001)))\n",
    "b6_model.add(BatchNormalization())\n",
    "b6_model.add(LeakyReLU(alpha=0.1))  # Slightly reduced alpha for LeakyReLU\n",
    "b6_model.add(Dropout(0.4))  # Reduced dropout\n",
    "\n",
    "# Second Dense Layer\n",
    "b6_model.add(Dense(512, kernel_initializer='he_uniform', kernel_regularizer=l2(0.001)))\n",
    "b6_model.add(BatchNormalization())\n",
    "b6_model.add(LeakyReLU(alpha=0.1))\n",
    "b6_model.add(Dropout(0.3))  # Reduced dropout\n",
    "\n",
    "# Third Dense Layer\n",
    "b6_model.add(Dense(256, kernel_initializer='he_uniform', kernel_regularizer=l2(0.001)))\n",
    "b6_model.add(BatchNormalization())\n",
    "b6_model.add(LeakyReLU(alpha=0.1))\n",
    "b6_model.add(Dropout(0.2))  # Reduced dropout\n",
    "\n",
    "# Fourth Dense Layer (Optional)\n",
    "b6_model.add(Dense(128, kernel_initializer='he_uniform', kernel_regularizer=l2(0.001)))\n",
    "b6_model.add(BatchNormalization())\n",
    "b6_model.add(LeakyReLU(alpha=0.1))\n",
    "b6_model.add(Dropout(0.2))  # Reduced dropout\n",
    "\n",
    "# Final Output Layer\n",
    "b6_model.add(Dense(num_classes, activation='softmax'))\n",
    "\n",
    "# Compile the model with a lower learning rate\n",
    "b6_model.compile(optimizer=Adam(learning_rate=0.0005),  # Reduced initial learning rate\n",
    "                 loss='categorical_crossentropy',\n",
    "                 metrics=['accuracy'])\n",
    "\n",
    "# Callbacks\n",
    "early_stopping = EarlyStopping(monitor='val_loss', patience=7, restore_best_weights=True)\n",
    "lr_scheduler = ReduceLROnPlateau(monitor='val_loss', factor=0.5, patience=3, min_lr=0.00001)\n",
    "checkpoint = ModelCheckpoint('best_model.keras', monitor='val_loss', save_best_only=True)\n",
    "\n",
    "# Train the model for more epochs\n",
    "b6_history = b6_model.fit(X_train, Y_train_oh,\n",
    "                          epochs=50,  # Increased epochs for more training\n",
    "                          batch_size=32,\n",
    "                          validation_split=0.2,\n",
    "                          callbacks=[early_stopping, lr_scheduler, checkpoint])\n",
    "\n",
    "# Evaluate the model\n",
    "test_loss, test_acc = b6_model.evaluate(X_test, Y_test_oh)\n",
    "print(f'Test accuracy: {test_acc:.4f}')\n"
   ]
  },
  {
   "cell_type": "markdown",
   "metadata": {
    "id": "Z-rzm2U0kyT5"
   },
   "source": [
    "C. Evaluate performance of the model with appropriate metrics"
   ]
  },
  {
   "cell_type": "code",
   "execution_count": 126,
   "metadata": {
    "colab": {
     "base_uri": "https://localhost:8080/",
     "height": 1000
    },
    "executionInfo": {
     "elapsed": 9645,
     "status": "ok",
     "timestamp": 1725798803462,
     "user": {
      "displayName": "Jannet Akanksha Ekka",
      "userId": "04295694532301703575"
     },
     "user_tz": -330
    },
    "id": "13PHDlWuKB8B",
    "outputId": "c9f5b91d-aafd-442f-fa49-c431bab14475"
   },
   "outputs": [
    {
     "name": "stdout",
     "output_type": "stream",
     "text": [
      "\u001b[1m563/563\u001b[0m \u001b[32m━━━━━━━━━━━━━━━━━━━━\u001b[0m\u001b[37m\u001b[0m \u001b[1m7s\u001b[0m 12ms/step\n",
      "Classification Report:\n",
      "              precision    recall  f1-score   support\n",
      "\n",
      "           0       0.85      0.93      0.89      1814\n",
      "           1       0.83      0.90      0.86      1828\n",
      "           2       0.91      0.88      0.89      1803\n",
      "           3       0.86      0.81      0.84      1719\n",
      "           4       0.89      0.90      0.89      1812\n",
      "           5       0.84      0.87      0.86      1768\n",
      "           6       0.89      0.85      0.87      1832\n",
      "           7       0.89      0.90      0.90      1808\n",
      "           8       0.89      0.82      0.85      1812\n",
      "           9       0.86      0.85      0.86      1804\n",
      "\n",
      "    accuracy                           0.87     18000\n",
      "   macro avg       0.87      0.87      0.87     18000\n",
      "weighted avg       0.87      0.87      0.87     18000\n",
      "\n"
     ]
    },
    {
     "data": {
      "image/png": "[encoded data removed]",
      "text/plain": [
       "<Figure size 1000x800 with 1 Axes>"
      ]
     },
     "metadata": {},
     "output_type": "display_data"
    }
   ],
   "source": [
    "import numpy as np\n",
    "from sklearn.metrics import classification_report, confusion_matrix\n",
    "import matplotlib.pyplot as plt\n",
    "import seaborn as sns\n",
    "\n",
    "# Predict on test data\n",
    "y_pred_oh = b6_model.predict(X_test)\n",
    "\n",
    "# Convert one-hot encoded predictions and true labels back to class indices\n",
    "y_pred = np.argmax(y_pred_oh, axis=1)\n",
    "Y_test = np.argmax(Y_test_oh, axis=1)\n",
    "\n",
    "# Classification Report\n",
    "print(\"Classification Report:\")\n",
    "print(classification_report(Y_test, y_pred))\n",
    "\n",
    "# Confusion Matrix\n",
    "conf_matrix = confusion_matrix(Y_test, y_pred)\n",
    "\n",
    "# Plot Confusion Matrix\n",
    "plt.figure(figsize=(10, 8))\n",
    "sns.heatmap(conf_matrix, annot=True, fmt='d', cmap='Blues', cbar=False,\n",
    "            xticklabels=range(num_classes), yticklabels=range(num_classes))\n",
    "plt.xlabel('Predicted Label')\n",
    "plt.ylabel('True Label')\n",
    "plt.title('Confusion Matrix')\n",
    "plt.show()\n"
   ]
  },
  {
   "cell_type": "code",
   "execution_count": 128,
   "metadata": {
    "colab": {
     "base_uri": "https://localhost:8080/",
     "height": 507
    },
    "executionInfo": {
     "elapsed": 2407,
     "status": "ok",
     "timestamp": 1725798915183,
     "user": {
      "displayName": "Jannet Akanksha Ekka",
      "userId": "04295694532301703575"
     },
     "user_tz": -330
    },
    "id": "kC1uWmHUm8ja",
    "outputId": "b3af3da5-7730-4e82-a08a-6e00d93a016c"
   },
   "outputs": [
    {
     "data": {
      "image/png": "[encoded data removed]",
      "text/plain": [
       "<Figure size 1000x500 with 2 Axes>"
      ]
     },
     "metadata": {},
     "output_type": "display_data"
    }
   ],
   "source": [
    "import matplotlib.pyplot as plt\n",
    "\n",
    "# Extract metrics from history object\n",
    "history = b6_history.history\n",
    "\n",
    "# Plot training & validation loss\n",
    "plt.figure(figsize=(10, 5))\n",
    "\n",
    "plt.subplot(1, 2, 1)\n",
    "plt.plot(history['loss'], label='Training Loss')\n",
    "plt.plot(history['val_loss'], label='Validation Loss')\n",
    "plt.title('Training & Validation Loss')\n",
    "plt.xlabel('Epochs')\n",
    "plt.ylabel('Loss')\n",
    "plt.legend()\n",
    "\n",
    "# Plot training & validation accuracy\n",
    "plt.subplot(1, 2, 2)\n",
    "plt.plot(history['accuracy'], label='Training Accuracy')\n",
    "plt.plot(history['val_accuracy'], label='Validation Accuracy')\n",
    "plt.title('Training & Validation Accuracy')\n",
    "plt.xlabel('Epochs')\n",
    "plt.ylabel('Accuracy')\n",
    "plt.legend()\n",
    "\n",
    "plt.tight_layout()\n",
    "plt.show()\n"
   ]
  },
  {
   "cell_type": "markdown",
   "metadata": {
    "id": "9klvtjDNo9Fn"
   },
   "source": [
    "**Observations**:\n",
    "\n",
    "*   ***No overfitting***: The training and validation curves remain relatively close,indicating good generalization.\n",
    "*   ***Stabilization***: Both loss and accuracy metrics stabilize after 40 epochs, suggesting that the model has learned most of the useful information.\n",
    "*   ***Performance***: The model performs well with training accuracy around 85% and validation accuracy around 90%, which is promising for the project objective."
   ]
  },
  {
   "cell_type": "code",
   "execution_count": null,
   "metadata": {
    "id": "E3eKVap4oWFw"
   },
   "outputs": [],
   "source": []
  }
 ],
 "metadata": {
  "accelerator": "GPU",
  "colab": {
   "authorship_tag": "ABX9TyPFTgJBdC7NlNIkBSF5Qob7",
   "gpuType": "T4",
   "provenance": []
  },
  "kernelspec": {
   "display_name": "Python 3 (ipykernel)",
   "language": "python",
   "name": "python3"
  },
  "language_info": {
   "codemirror_mode": {
    "name": "ipython",
    "version": 3
   },
   "file_extension": ".py",
   "mimetype": "text/x-python",
   "name": "python",
   "nbconvert_exporter": "python",
   "pygments_lexer": "ipython3",
   "version": "3.11.5"
  }
 },
 "nbformat": 4,
 "nbformat_minor": 1
}
